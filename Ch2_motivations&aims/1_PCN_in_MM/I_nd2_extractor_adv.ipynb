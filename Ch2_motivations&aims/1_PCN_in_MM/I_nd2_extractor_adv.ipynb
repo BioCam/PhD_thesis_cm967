{
 "cells": [
  {
   "cell_type": "markdown",
   "id": "7c759b10-77e4-4e53-ad55-0e1e4b755aa4",
   "metadata": {},
   "source": [
    "# nd2 Extractor\n",
    "Author: Georgeos Hardo (gh464)\n",
    "\n",
    "[modified for Jupyter Notebook use by Camillo Moschner (cm967): 28.05.2021]\n",
    "\n",
    "*Current experiment: 221017_40X_1.5M_STMM_DE344-47-46-48*"
   ]
  },
  {
   "cell_type": "code",
   "execution_count": 1,
   "id": "f44b542d-7a92-4eaa-8fae-50c1444e4fca",
   "metadata": {},
   "outputs": [],
   "source": [
    "from image_analysis_helper import *"
   ]
  },
  {
   "cell_type": "markdown",
   "id": "95cc7c27-65d7-4e6b-aa0f-5cc27c97020f",
   "metadata": {},
   "source": [
    "Imports for interactive visualisations:"
   ]
  },
  {
   "cell_type": "code",
   "execution_count": 2,
   "id": "b9b4ff78-7405-492d-b692-04e81593db3a",
   "metadata": {},
   "outputs": [],
   "source": [
    "from matplotlib.colors import ListedColormap, LinearSegmentedColormap\n",
    "from matplotlib import cm\n",
    "import matplotlib.gridspec as gridspec\n",
    "%matplotlib inline\n",
    "\n",
    "import ipywidgets as widgets\n",
    "from ipywidgets import interact, interact_manual"
   ]
  },
  {
   "cell_type": "code",
   "execution_count": 3,
   "id": "95ae9c8b-e368-49bb-a6ff-f9112fc91841",
   "metadata": {},
   "outputs": [
    {
     "ename": "ModuleNotFoundError",
     "evalue": "No module named 'pims'",
     "output_type": "error",
     "traceback": [
      "\u001b[0;31m---------------------------------------------------------------------------\u001b[0m",
      "\u001b[0;31mModuleNotFoundError\u001b[0m                       Traceback (most recent call last)",
      "Cell \u001b[0;32mIn[3], line 1\u001b[0m\n\u001b[0;32m----> 1\u001b[0m \u001b[38;5;28;01mfrom\u001b[39;00m \u001b[38;5;21;01mnd2_extractor_helpers\u001b[39;00m \u001b[38;5;28;01mimport\u001b[39;00m \u001b[38;5;241m*\u001b[39m\n\u001b[1;32m      2\u001b[0m \u001b[38;5;28;01mfrom\u001b[39;00m \u001b[38;5;21;01mtkinter\u001b[39;00m \u001b[38;5;28;01mimport\u001b[39;00m filedialog\n\u001b[1;32m      3\u001b[0m greeting()\n",
      "File \u001b[0;32m~/Desktop/PhD_thesis/GitHub_repo/Ch2_motivations&aims/1_PCN_in_MM/nd2_extractor_helpers.py:6\u001b[0m\n\u001b[1;32m      4\u001b[0m \u001b[38;5;28;01mimport\u001b[39;00m \u001b[38;5;21;01mmatplotlib\u001b[39;00m\u001b[38;5;21;01m.\u001b[39;00m\u001b[38;5;21;01mpyplot\u001b[39;00m \u001b[38;5;28;01mas\u001b[39;00m \u001b[38;5;21;01mplt\u001b[39;00m\n\u001b[1;32m      5\u001b[0m \u001b[38;5;28;01mimport\u001b[39;00m \u001b[38;5;21;01mpprint\u001b[39;00m\n\u001b[0;32m----> 6\u001b[0m \u001b[38;5;28;01mfrom\u001b[39;00m \u001b[38;5;21;01mpims\u001b[39;00m \u001b[38;5;28;01mimport\u001b[39;00m ND2Reader_SDK\n\u001b[1;32m      7\u001b[0m pp \u001b[38;5;241m=\u001b[39m pprint\u001b[38;5;241m.\u001b[39mPrettyPrinter(indent\u001b[38;5;241m=\u001b[39m\u001b[38;5;241m0\u001b[39m)\n\u001b[1;32m      8\u001b[0m \u001b[38;5;28;01mfrom\u001b[39;00m \u001b[38;5;21;01mtabulate\u001b[39;00m \u001b[38;5;28;01mimport\u001b[39;00m tabulate\n",
      "\u001b[0;31mModuleNotFoundError\u001b[0m: No module named 'pims'"
     ]
    }
   ],
   "source": [
    "from nd2_extractor_helpers import *\n",
    "from tkinter import filedialog\n",
    "greeting()"
   ]
  },
  {
   "cell_type": "code",
   "execution_count": 4,
   "id": "bd1b74c0-11ee-44ae-ab5e-85091dab448e",
   "metadata": {},
   "outputs": [],
   "source": [
    "\n",
    "prompt = False\n",
    "if prompt:\n",
    "    print(\"Choose nd2 file to extract from:\")\n",
    "    nd2_directory = filedialog.askopenfilename()\n",
    "    print(\"\\nChoose folder to save extracted images to:\")\n",
    "    save_directory = filedialog.askdirectory()\n",
    "else:\n",
    "    nd2_directory = \"0_nd2/221123_40X_1.5M_UGeBItest0-3.nd2\"\n",
    "    save_directory = \"1_extracted_pngs/\""
   ]
  },
  {
   "cell_type": "code",
   "execution_count": null,
   "id": "3bfc4625-3657-472e-9e59-9bdf161932e6",
   "metadata": {},
   "outputs": [],
   "source": [
    "main_loop(nd2_directory,save_directory)"
   ]
  },
  {
   "cell_type": "markdown",
   "id": "1e92fd77-a256-447e-b16e-352c9f63fc22",
   "metadata": {},
   "source": [
    "---"
   ]
  }
 ],
 "metadata": {
  "kernelspec": {
   "display_name": "Python 3 (ipykernel)",
   "language": "python",
   "name": "python3"
  },
  "language_info": {
   "codemirror_mode": {
    "name": "ipython",
    "version": 3
   },
   "file_extension": ".py",
   "mimetype": "text/x-python",
   "name": "python",
   "nbconvert_exporter": "python",
   "pygments_lexer": "ipython3",
   "version": "3.10.11"
  }
 },
 "nbformat": 4,
 "nbformat_minor": 5
}
