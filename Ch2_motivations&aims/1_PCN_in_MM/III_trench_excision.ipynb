{
 "cells": [
  {
   "cell_type": "markdown",
   "metadata": {},
   "source": [
    "# III_Trench Exciser\n",
    "author: Camillo Moschner (cm967)\n",
    "\n",
    "start: 28.04.2021"
   ]
  },
  {
   "cell_type": "markdown",
   "metadata": {},
   "source": [
    "## Import Statements"
   ]
  },
  {
   "cell_type": "code",
   "execution_count": 1,
   "metadata": {},
   "outputs": [],
   "source": [
    "import numpy as np\n",
    "from matplotlib.pyplot import imshow\n",
    "import matplotlib.pyplot as plt\n",
    "\n",
    "import pandas as pd\n",
    "from pandas import DataFrame\n",
    "import os\n",
    "\n",
    "from os import listdir\n",
    "from glob import glob\n",
    "from tqdm.notebook import tqdm"
   ]
  },
  {
   "cell_type": "code",
   "execution_count": 2,
   "metadata": {
    "collapsed": true,
    "jupyter": {
     "outputs_hidden": true
    },
    "tags": []
   },
   "outputs": [
    {
     "name": "stderr",
     "output_type": "stream",
     "text": [
      "/var/folders/p_/d1kqy0fj5497sqkd5nkn_rf40000gn/T/ipykernel_5753/3672906265.py:8: DeprecationWarning: Please use `grey_opening` from the `scipy.ndimage` namespace, the `scipy.ndimage.morphology` namespace is deprecated.\n",
      "  from scipy.ndimage.morphology import grey_opening, grey_closing, grey_dilation, grey_erosion, binary_erosion, binary_opening, binary_closing, binary_dilation\n",
      "/var/folders/p_/d1kqy0fj5497sqkd5nkn_rf40000gn/T/ipykernel_5753/3672906265.py:8: DeprecationWarning: Please use `grey_closing` from the `scipy.ndimage` namespace, the `scipy.ndimage.morphology` namespace is deprecated.\n",
      "  from scipy.ndimage.morphology import grey_opening, grey_closing, grey_dilation, grey_erosion, binary_erosion, binary_opening, binary_closing, binary_dilation\n",
      "/var/folders/p_/d1kqy0fj5497sqkd5nkn_rf40000gn/T/ipykernel_5753/3672906265.py:8: DeprecationWarning: Please use `grey_dilation` from the `scipy.ndimage` namespace, the `scipy.ndimage.morphology` namespace is deprecated.\n",
      "  from scipy.ndimage.morphology import grey_opening, grey_closing, grey_dilation, grey_erosion, binary_erosion, binary_opening, binary_closing, binary_dilation\n",
      "/var/folders/p_/d1kqy0fj5497sqkd5nkn_rf40000gn/T/ipykernel_5753/3672906265.py:8: DeprecationWarning: Please use `grey_erosion` from the `scipy.ndimage` namespace, the `scipy.ndimage.morphology` namespace is deprecated.\n",
      "  from scipy.ndimage.morphology import grey_opening, grey_closing, grey_dilation, grey_erosion, binary_erosion, binary_opening, binary_closing, binary_dilation\n",
      "/var/folders/p_/d1kqy0fj5497sqkd5nkn_rf40000gn/T/ipykernel_5753/3672906265.py:8: DeprecationWarning: Please use `binary_erosion` from the `scipy.ndimage` namespace, the `scipy.ndimage.morphology` namespace is deprecated.\n",
      "  from scipy.ndimage.morphology import grey_opening, grey_closing, grey_dilation, grey_erosion, binary_erosion, binary_opening, binary_closing, binary_dilation\n",
      "/var/folders/p_/d1kqy0fj5497sqkd5nkn_rf40000gn/T/ipykernel_5753/3672906265.py:8: DeprecationWarning: Please use `binary_opening` from the `scipy.ndimage` namespace, the `scipy.ndimage.morphology` namespace is deprecated.\n",
      "  from scipy.ndimage.morphology import grey_opening, grey_closing, grey_dilation, grey_erosion, binary_erosion, binary_opening, binary_closing, binary_dilation\n",
      "/var/folders/p_/d1kqy0fj5497sqkd5nkn_rf40000gn/T/ipykernel_5753/3672906265.py:8: DeprecationWarning: Please use `binary_closing` from the `scipy.ndimage` namespace, the `scipy.ndimage.morphology` namespace is deprecated.\n",
      "  from scipy.ndimage.morphology import grey_opening, grey_closing, grey_dilation, grey_erosion, binary_erosion, binary_opening, binary_closing, binary_dilation\n",
      "/var/folders/p_/d1kqy0fj5497sqkd5nkn_rf40000gn/T/ipykernel_5753/3672906265.py:8: DeprecationWarning: Please use `binary_dilation` from the `scipy.ndimage` namespace, the `scipy.ndimage.morphology` namespace is deprecated.\n",
      "  from scipy.ndimage.morphology import grey_opening, grey_closing, grey_dilation, grey_erosion, binary_erosion, binary_opening, binary_closing, binary_dilation\n"
     ]
    }
   ],
   "source": [
    "from PIL import Image\n",
    "import napari\n",
    "import seaborn as sns\n",
    "from joblib import Parallel, delayed\n",
    "\n",
    "from scipy import ndimage as ndi\n",
    "from sklearn.cluster import DBSCAN\n",
    "from scipy.ndimage.morphology import grey_opening, grey_closing, grey_dilation, grey_erosion, binary_erosion, binary_opening, binary_closing, binary_dilation\n",
    "from skimage.filters import threshold_otsu, threshold_niblack,threshold_sauvola, gaussian\n",
    "from skimage.measure import label, regionprops, regionprops_table\n",
    "from skimage.transform import rescale, resize, downscale_local_mean, rotate\n",
    "\n",
    "from scipy.signal import find_peaks\n",
    "from tifffile import TiffFile, imread, memmap"
   ]
  },
  {
   "cell_type": "markdown",
   "metadata": {},
   "source": [
    "Imports for interactive visualisations:"
   ]
  },
  {
   "cell_type": "code",
   "execution_count": 3,
   "metadata": {},
   "outputs": [],
   "source": [
    "from matplotlib.colors import ListedColormap, LinearSegmentedColormap\n",
    "from matplotlib import cm\n",
    "import matplotlib.gridspec as gridspec\n",
    "%matplotlib inline\n",
    "\n",
    "import ipywidgets as widgets\n",
    "from ipywidgets import interact, interact_manual"
   ]
  },
  {
   "cell_type": "code",
   "execution_count": 4,
   "metadata": {},
   "outputs": [],
   "source": [
    "from image_analysis_helper import *"
   ]
  },
  {
   "cell_type": "markdown",
   "metadata": {},
   "source": [
    "## CM's custom cmaps"
   ]
  },
  {
   "cell_type": "code",
   "execution_count": 7,
   "metadata": {},
   "outputs": [],
   "source": [
    "# special colourmaps\n",
    "YFP_cmap = matplotlib.colors.LinearSegmentedColormap.from_list(\"\", [\"black\",\"yellow\"])\n",
    "CFP_cmap = matplotlib.colors.LinearSegmentedColormap.from_list(\"\", [\"black\",\"cyan\"])\n",
    "RFP_cmap = matplotlib.colors.LinearSegmentedColormap.from_list(\"\", [\"black\",\"red\"])\n",
    "GFP_cmap = matplotlib.colors.LinearSegmentedColormap.from_list(\"\", [\"black\",\"lime\"])\n",
    "BFP_cmap = matplotlib.colors.LinearSegmentedColormap.from_list(\"\", [\"black\",\"dodgerblue\"])"
   ]
  },
  {
   "cell_type": "markdown",
   "metadata": {},
   "source": [
    "## Function Definitions\n",
    "Import functions that you use in multiple scripts in the image_analysis_helper.py file while defining special functions that you only use in one script inside that script. "
   ]
  },
  {
   "cell_type": "code",
   "execution_count": 6,
   "metadata": {},
   "outputs": [],
   "source": [
    "def find_trench_boundaries(trench_np_array,defined_PC_treshold,plot=False):\n",
    "    \"\"\"\n",
    "    Takes an image np.array and finds when the vertical intensity profile first & last hits a \n",
    "    threshold value that defines the boundary between trench and background, and finally calculates \n",
    "    & returns a DataFrame that contains these 'top' & 'bottom' boundaries in y-axis pixel values.\n",
    "    \"\"\"\n",
    "    blurred_trench_nparray = gaussian(trench_np_array, sigma = 9, preserve_range=True)\n",
    "\n",
    "    test_line = int(blurred_trench_nparray.shape[1]/2)\n",
    "    test_line\n",
    "    PC_vert_intensity_profile = pd.DataFrame(data=blurred_trench_nparray[:,test_line])\n",
    "    \n",
    "    # define intensity threshold for trench\n",
    "    top_trench = PC_vert_intensity_profile[PC_vert_intensity_profile[0].gt(defined_PC_treshold)].index[0] - 10 # plus 10 pixels to give it a nice wrapper\n",
    "    bottom_trench = PC_vert_intensity_profile[PC_vert_intensity_profile[0].gt(defined_PC_treshold)].index[-1] - 10 \n",
    "\n",
    "    top_int = PC_vert_intensity_profile[PC_vert_intensity_profile.index==top_trench][0]\n",
    "    bottom_int = PC_vert_intensity_profile[PC_vert_intensity_profile.index==bottom_trench][0]\n",
    "\n",
    "    top_bottom_trench_boundaries = pd.concat([top_int,bottom_int],axis=0).reset_index()\n",
    "    top_bottom_trench_boundaries.rename(columns={'index': \"pixel_position\",0:'intensity'},inplace=True)\n",
    "    top_bottom_trench_boundaries\n",
    "    # check that you only identify one top and one bottom boundary:\n",
    "    if len(top_bottom_trench_boundaries['pixel_position']) > 2:\n",
    "        print('Too many boundaries detected!')\n",
    "    # show plot if desired:\n",
    "    if plot==True:\n",
    "        plt.figure(figsize=(6,10))\n",
    "        plt.plot(PC_vert_intensity_profile[0],PC_vert_intensity_profile.index);\n",
    "        plt.plot(top_bottom_trench_boundaries['intensity'],top_bottom_trench_boundaries['pixel_position'], \"x\")\n",
    "        plt.gca().invert_yaxis()\n",
    "        #plt.plot(peaks_intensities['position_micron'],peaks_intensities['intensity'], \"x\")\n",
    "        plt.title('Sliced Trench Phase Contrast Intensity Profile at Column {:}'.format(test_line))\n",
    "    return top_bottom_trench_boundaries"
   ]
  },
  {
   "cell_type": "markdown",
   "metadata": {},
   "source": [
    "-----\n",
    "# Define Data Information"
   ]
  },
  {
   "cell_type": "markdown",
   "metadata": {},
   "source": [
    "Template matched, rotated, rough-cropped image directory:"
   ]
  },
  {
   "cell_type": "code",
   "execution_count": 8,
   "metadata": {},
   "outputs": [],
   "source": [
    "ims_directory = '/2_registered_pngs/'\n",
    "\n",
    "#\"/Users/camillomoschner/Desktop/P_D_OptoSelect/system_OptoCreVvd/210517_OptoCreVvd2_exp3_2-20-60min_2%_testing_LOCAL/ii_main_run/_tmatched_meas/\"\n",
    "if ims_directory[-1] != \"/\":\n",
    "    ims_directory += \"/\""
   ]
  },
  {
   "cell_type": "markdown",
   "metadata": {},
   "source": [
    "Image format:"
   ]
  },
  {
   "cell_type": "code",
   "execution_count": 9,
   "metadata": {},
   "outputs": [],
   "source": [
    "ims_format = 'png' # either 'png' or 'tif'"
   ]
  },
  {
   "cell_type": "markdown",
   "metadata": {},
   "source": [
    "Save-to-folder:"
   ]
  },
  {
   "cell_type": "code",
   "execution_count": 10,
   "metadata": {},
   "outputs": [],
   "source": [
    "save_to_folder= \"/3_extracted_trenches/\"\n",
    "if save_to_folder[-1] != \"/\":\n",
    "    save_to_folder += \"/\""
   ]
  },
  {
   "cell_type": "markdown",
   "metadata": {},
   "source": [
    "Define colour channel names:"
   ]
  },
  {
   "cell_type": "code",
   "execution_count": 11,
   "metadata": {},
   "outputs": [],
   "source": [
    "PC_id = 'PC'\n",
    "segm_marker_id = 'mCherry'\n",
    "reporter_id = 'Green'\n",
    "\n",
    "channel_ids = {'phase_contrast_id':PC_id, \n",
    "               'segmentation_marker_id':segm_marker_id, \n",
    "               'reporter_id':reporter_id}"
   ]
  },
  {
   "cell_type": "code",
   "execution_count": 12,
   "metadata": {},
   "outputs": [
    {
     "name": "stdout",
     "output_type": "stream",
     "text": [
      "Dataframe with 537000 rows and 6 columns has been created.\n",
      "# FOVs: 128 # trenches: 15 \n",
      "# timepoints/FOV: 100 \n",
      "# colour channels/timepoint/FOV: 3\n"
     ]
    }
   ],
   "source": [
    "image_info = source_image_info(ims_directory,ims_format)"
   ]
  },
  {
   "cell_type": "code",
   "execution_count": 13,
   "metadata": {},
   "outputs": [
    {
     "data": {
      "text/html": [
       "<div>\n",
       "<style scoped>\n",
       "    .dataframe tbody tr th:only-of-type {\n",
       "        vertical-align: middle;\n",
       "    }\n",
       "\n",
       "    .dataframe tbody tr th {\n",
       "        vertical-align: top;\n",
       "    }\n",
       "\n",
       "    .dataframe thead th {\n",
       "        text-align: right;\n",
       "    }\n",
       "</style>\n",
       "<table border=\"1\" class=\"dataframe\">\n",
       "  <thead>\n",
       "    <tr style=\"text-align: right;\">\n",
       "      <th></th>\n",
       "      <th>directory</th>\n",
       "      <th>FOV</th>\n",
       "      <th>trench</th>\n",
       "      <th>colour_channel</th>\n",
       "      <th>timepoint</th>\n",
       "      <th>trench_cum</th>\n",
       "    </tr>\n",
       "  </thead>\n",
       "  <tbody>\n",
       "    <tr>\n",
       "      <th>0</th>\n",
       "      <td>/Users/camillomoschner/Desktop/221018_LVL2DVs_...</td>\n",
       "      <td>xy000</td>\n",
       "      <td>0</td>\n",
       "      <td>Green</td>\n",
       "      <td>0</td>\n",
       "      <td>0</td>\n",
       "    </tr>\n",
       "    <tr>\n",
       "      <th>1</th>\n",
       "      <td>/Users/camillomoschner/Desktop/221018_LVL2DVs_...</td>\n",
       "      <td>xy000</td>\n",
       "      <td>0</td>\n",
       "      <td>Green</td>\n",
       "      <td>1</td>\n",
       "      <td>0</td>\n",
       "    </tr>\n",
       "    <tr>\n",
       "      <th>2</th>\n",
       "      <td>/Users/camillomoschner/Desktop/221018_LVL2DVs_...</td>\n",
       "      <td>xy000</td>\n",
       "      <td>0</td>\n",
       "      <td>Green</td>\n",
       "      <td>2</td>\n",
       "      <td>0</td>\n",
       "    </tr>\n",
       "    <tr>\n",
       "      <th>3</th>\n",
       "      <td>/Users/camillomoschner/Desktop/221018_LVL2DVs_...</td>\n",
       "      <td>xy000</td>\n",
       "      <td>0</td>\n",
       "      <td>Green</td>\n",
       "      <td>3</td>\n",
       "      <td>0</td>\n",
       "    </tr>\n",
       "    <tr>\n",
       "      <th>4</th>\n",
       "      <td>/Users/camillomoschner/Desktop/221018_LVL2DVs_...</td>\n",
       "      <td>xy000</td>\n",
       "      <td>0</td>\n",
       "      <td>Green</td>\n",
       "      <td>4</td>\n",
       "      <td>0</td>\n",
       "    </tr>\n",
       "    <tr>\n",
       "      <th>...</th>\n",
       "      <td>...</td>\n",
       "      <td>...</td>\n",
       "      <td>...</td>\n",
       "      <td>...</td>\n",
       "      <td>...</td>\n",
       "      <td>...</td>\n",
       "    </tr>\n",
       "    <tr>\n",
       "      <th>536995</th>\n",
       "      <td>/Users/camillomoschner/Desktop/221018_LVL2DVs_...</td>\n",
       "      <td>xy127</td>\n",
       "      <td>4</td>\n",
       "      <td>mCherry</td>\n",
       "      <td>95</td>\n",
       "      <td>1789</td>\n",
       "    </tr>\n",
       "    <tr>\n",
       "      <th>536996</th>\n",
       "      <td>/Users/camillomoschner/Desktop/221018_LVL2DVs_...</td>\n",
       "      <td>xy127</td>\n",
       "      <td>4</td>\n",
       "      <td>mCherry</td>\n",
       "      <td>96</td>\n",
       "      <td>1789</td>\n",
       "    </tr>\n",
       "    <tr>\n",
       "      <th>536997</th>\n",
       "      <td>/Users/camillomoschner/Desktop/221018_LVL2DVs_...</td>\n",
       "      <td>xy127</td>\n",
       "      <td>4</td>\n",
       "      <td>mCherry</td>\n",
       "      <td>97</td>\n",
       "      <td>1789</td>\n",
       "    </tr>\n",
       "    <tr>\n",
       "      <th>536998</th>\n",
       "      <td>/Users/camillomoschner/Desktop/221018_LVL2DVs_...</td>\n",
       "      <td>xy127</td>\n",
       "      <td>4</td>\n",
       "      <td>mCherry</td>\n",
       "      <td>98</td>\n",
       "      <td>1789</td>\n",
       "    </tr>\n",
       "    <tr>\n",
       "      <th>536999</th>\n",
       "      <td>/Users/camillomoschner/Desktop/221018_LVL2DVs_...</td>\n",
       "      <td>xy127</td>\n",
       "      <td>4</td>\n",
       "      <td>mCherry</td>\n",
       "      <td>99</td>\n",
       "      <td>1789</td>\n",
       "    </tr>\n",
       "  </tbody>\n",
       "</table>\n",
       "<p>537000 rows × 6 columns</p>\n",
       "</div>"
      ],
      "text/plain": [
       "                                                directory    FOV  trench  \\\n",
       "0       /Users/camillomoschner/Desktop/221018_LVL2DVs_...  xy000       0   \n",
       "1       /Users/camillomoschner/Desktop/221018_LVL2DVs_...  xy000       0   \n",
       "2       /Users/camillomoschner/Desktop/221018_LVL2DVs_...  xy000       0   \n",
       "3       /Users/camillomoschner/Desktop/221018_LVL2DVs_...  xy000       0   \n",
       "4       /Users/camillomoschner/Desktop/221018_LVL2DVs_...  xy000       0   \n",
       "...                                                   ...    ...     ...   \n",
       "536995  /Users/camillomoschner/Desktop/221018_LVL2DVs_...  xy127       4   \n",
       "536996  /Users/camillomoschner/Desktop/221018_LVL2DVs_...  xy127       4   \n",
       "536997  /Users/camillomoschner/Desktop/221018_LVL2DVs_...  xy127       4   \n",
       "536998  /Users/camillomoschner/Desktop/221018_LVL2DVs_...  xy127       4   \n",
       "536999  /Users/camillomoschner/Desktop/221018_LVL2DVs_...  xy127       4   \n",
       "\n",
       "       colour_channel  timepoint  trench_cum  \n",
       "0               Green          0           0  \n",
       "1               Green          1           0  \n",
       "2               Green          2           0  \n",
       "3               Green          3           0  \n",
       "4               Green          4           0  \n",
       "...               ...        ...         ...  \n",
       "536995        mCherry         95        1789  \n",
       "536996        mCherry         96        1789  \n",
       "536997        mCherry         97        1789  \n",
       "536998        mCherry         98        1789  \n",
       "536999        mCherry         99        1789  \n",
       "\n",
       "[537000 rows x 6 columns]"
      ]
     },
     "execution_count": 13,
     "metadata": {},
     "output_type": "execute_result"
    }
   ],
   "source": [
    "image_info"
   ]
  },
  {
   "cell_type": "code",
   "execution_count": 14,
   "metadata": {},
   "outputs": [
    {
     "name": "stdout",
     "output_type": "stream",
     "text": [
      "Number of FOV in your dataset after manual deletion: 128 \n",
      "\n",
      "['xy000', 'xy001', 'xy002', 'xy003', 'xy004', 'xy005', 'xy006', 'xy007', 'xy008', 'xy009', 'xy010', 'xy011', 'xy012', 'xy013', 'xy014', 'xy015', 'xy016', 'xy017', 'xy018', 'xy019', 'xy020', 'xy021', 'xy022', 'xy023', 'xy024', 'xy025', 'xy026', 'xy027', 'xy028', 'xy029', 'xy030', 'xy031', 'xy032', 'xy033', 'xy034', 'xy035', 'xy036', 'xy037', 'xy038', 'xy039', 'xy040', 'xy041', 'xy042', 'xy043', 'xy044', 'xy045', 'xy046', 'xy047', 'xy048', 'xy049', 'xy050', 'xy051', 'xy052', 'xy053', 'xy054', 'xy055', 'xy056', 'xy057', 'xy058', 'xy059', 'xy060', 'xy061', 'xy062', 'xy063', 'xy064', 'xy065', 'xy066', 'xy067', 'xy068', 'xy069', 'xy070', 'xy071', 'xy072', 'xy073', 'xy074', 'xy075', 'xy076', 'xy077', 'xy078', 'xy079', 'xy080', 'xy081', 'xy082', 'xy083', 'xy084', 'xy085', 'xy086', 'xy087', 'xy088', 'xy089', 'xy090', 'xy091', 'xy092', 'xy093', 'xy094', 'xy095', 'xy096', 'xy097', 'xy098', 'xy099', 'xy100', 'xy101', 'xy102', 'xy103', 'xy104', 'xy105', 'xy106', 'xy107', 'xy108', 'xy109', 'xy110', 'xy111', 'xy112', 'xy113', 'xy114', 'xy115', 'xy116', 'xy117', 'xy118', 'xy119', 'xy120', 'xy121', 'xy122', 'xy123', 'xy124', 'xy125', 'xy126', 'xy127']\n"
     ]
    }
   ],
   "source": [
    "FOV_list = list(image_info['FOV'].unique())\n",
    "print(\"Number of FOV in your dataset after manual deletion:\",len(FOV_list),'\\n')\n",
    "print(FOV_list)"
   ]
  },
  {
   "cell_type": "markdown",
   "metadata": {},
   "source": [
    "Convert timepoint data from str to int for easier handling:"
   ]
  },
  {
   "cell_type": "code",
   "execution_count": 15,
   "metadata": {},
   "outputs": [],
   "source": [
    "PC_ims_info = image_info.loc[image_info['colour_channel']==channel_ids['phase_contrast_id']] # Phase Contrast\n",
    "sgm_marker_ims_info = image_info.loc[image_info['colour_channel']==channel_ids['segmentation_marker_id']] # Segmentation Marker\n",
    "reporter_ims_info = image_info.loc[image_info['colour_channel']==channel_ids['reporter_id']] # Reporter Gene"
   ]
  },
  {
   "cell_type": "markdown",
   "metadata": {},
   "source": [
    "Inspect ims:"
   ]
  },
  {
   "cell_type": "markdown",
   "metadata": {},
   "source": [
    "---\n",
    "# Identify Slicing Parameters:\n",
    "## Manually adjust y_window for every FOV"
   ]
  },
  {
   "cell_type": "code",
   "execution_count": 16,
   "metadata": {},
   "outputs": [],
   "source": [
    "top_l_global = {}"
   ]
  },
  {
   "cell_type": "code",
   "execution_count": 17,
   "metadata": {},
   "outputs": [
    {
     "data": {
      "application/vnd.jupyter.widget-view+json": {
       "model_id": "df641365dc0240bb9a483e4dbb857ff3",
       "version_major": 2,
       "version_minor": 0
      },
      "text/plain": [
       "interactive(children=(IntSlider(value=63, description='FOV', max=127), IntSlider(value=48, description='timepo…"
      ]
     },
     "metadata": {},
     "output_type": "display_data"
    }
   ],
   "source": [
    "@interact\n",
    "def show_images(FOV = (0,len(FOV_list)-1),\n",
    "                timepoints = (0,len(image_info['timepoint'].unique())-4),\n",
    "                top=(0,250)):\n",
    "    FOV_name = FOV_list\n",
    "    channel_name = ['Green','mCherry','PC']\n",
    "    timepoint = image_info['timepoint'].unique()[timepoints]\n",
    "    # metadata_df data:\n",
    "    FOV_data = image_info[image_info['FOV']==FOV_name[FOV]]\n",
    "    # GFP:\n",
    "    FOV_Green_data = FOV_data[FOV_data['colour_channel']=='Green']\n",
    "    FOV_Green_channel_timepoint_data = FOV_Green_data[FOV_Green_data['timepoint']==timepoint]\n",
    "    FOV_Green_timepoint_channel_im = convert_to_nparray(FOV_Green_channel_timepoint_data['directory'].iloc[0])\n",
    "    # mCherry:\n",
    "    FOV_mCherry_data = FOV_data[FOV_data['colour_channel']=='mCherry']\n",
    "    FOV_mCherry_timepoint_data = FOV_mCherry_data[FOV_mCherry_data['timepoint']==timepoint]\n",
    "    FOV_mCherry_timepoint_channel_im = convert_to_nparray(FOV_mCherry_timepoint_data['directory'].iloc[0])\n",
    "    # PC / cell corpse check & time\n",
    "    FOV_PC_data = FOV_data[FOV_data['colour_channel']=='PC']\n",
    "    FOV_PC_timepoint_data = FOV_PC_data[FOV_PC_data['timepoint']==timepoint]\n",
    "    FOV_PC_timepoint_channel_im = convert_to_nparray(FOV_PC_timepoint_data['directory'].iloc[0])\n",
    "    #corpse_check_timepoint = list(check_info['timepoint'].unique())[phase-1]\n",
    "    plt.style.use('default')\n",
    "    fig = plt.figure(figsize=(10,6),constrained_layout=True)\n",
    "    gs = gridspec.GridSpec(2, 2, figure=fig)\n",
    "    plt.suptitle(f\"FOV: {FOV_name[FOV]} | timepoint: {timepoint}\",size=14)\n",
    "    ax1 = fig.add_subplot(gs[0, 0])\n",
    "    ax1.imshow(FOV_Green_timepoint_channel_im,cmap=GFP_cmap);\n",
    "    ax1.set_xlabel(f\"{FOV_Green_timepoint_channel_im.min()}-{FOV_Green_timepoint_channel_im.max()}\")\n",
    "    ax1.set_title(f\" YFP\")\n",
    "    ax2 = fig.add_subplot(gs[1, 0])\n",
    "    ax2.imshow(FOV_mCherry_timepoint_channel_im,cmap=RFP_cmap );\n",
    "    ax2.set_xlabel(f\"{FOV_mCherry_timepoint_channel_im.min()}-{FOV_mCherry_timepoint_channel_im.max()}\")\n",
    "    ax2.set_title(f\"mCherry\")\n",
    "    ax3 = fig.add_subplot(gs[0, 1])\n",
    "    ax3.imshow(FOV_PC_timepoint_channel_im[top:700+top] );\n",
    "    ax3.set_xlabel(f\"{FOV_PC_timepoint_channel_im.min()}-{FOV_PC_timepoint_channel_im.max()}\")\n",
    "    ax3.set_title(f\"PC\")\n",
    "    plt.show()\n",
    "    plt.close()\n",
    "    top_l_global[FOV] = top    "
   ]
  },
  {
   "cell_type": "code",
   "execution_count": 18,
   "metadata": {},
   "outputs": [
    {
     "name": "stdout",
     "output_type": "stream",
     "text": [
      "{63: 125}\n"
     ]
    }
   ],
   "source": [
    "print(top_l_global)"
   ]
  },
  {
   "cell_type": "code",
   "execution_count": 19,
   "metadata": {},
   "outputs": [],
   "source": [
    "#imm_dict = top_l_global\n",
    "imm_dict = pd.read_csv('y_window_top_crop.csv')"
   ]
  },
  {
   "cell_type": "code",
   "execution_count": 20,
   "metadata": {},
   "outputs": [
    {
     "name": "stdout",
     "output_type": "stream",
     "text": [
      "     Unnamed: 0    0\n",
      "0            63   41\n",
      "1            61   48\n",
      "2             0    9\n",
      "3             1    6\n",
      "4             2    1\n",
      "..          ...  ...\n",
      "123         123  277\n",
      "124         124  281\n",
      "125         125  286\n",
      "126         126  291\n",
      "127         127  298\n",
      "\n",
      "[128 rows x 2 columns]\n"
     ]
    }
   ],
   "source": [
    "#imm_dict = imm_dict.to_dict()['0']#[127] = 298\n",
    "print(imm_dict)"
   ]
  },
  {
   "cell_type": "markdown",
   "metadata": {},
   "source": [
    "### Check y_window adjustment"
   ]
  },
  {
   "cell_type": "raw",
   "metadata": {},
   "source": [
    "@interact\n",
    "def show_images(FOV = (0,len(FOV_list)-1),\n",
    "                timepoints = (0,len(image_info['timepoint'].unique())-4)):\n",
    "    FOV_name = FOV_list\n",
    "    channel_name = ['Green','mCherry','PC']\n",
    "    timepoint = image_info['timepoint'].unique()[timepoints]\n",
    "    # metadata_df data:\n",
    "    FOV_data = image_info[image_info['FOV']==FOV_name[FOV]]\n",
    "    # GFP:\n",
    "    FOV_Green_data = FOV_data[FOV_data['colour_channel']=='Green']\n",
    "    FOV_Green_channel_timepoint_data = FOV_Green_data[FOV_Green_data['timepoint']==timepoint]\n",
    "    FOV_Green_timepoint_channel_im = convert_to_nparray(FOV_Green_channel_timepoint_data['directory'].iloc[0])\n",
    "    # mCherry:\n",
    "    FOV_mCherry_data = FOV_data[FOV_data['colour_channel']=='mCherry']\n",
    "    FOV_mCherry_timepoint_data = FOV_mCherry_data[FOV_mCherry_data['timepoint']==timepoint]\n",
    "    FOV_mCherry_timepoint_channel_im = convert_to_nparray(FOV_mCherry_timepoint_data['directory'].iloc[0])\n",
    "    # PC / cell corpse check & time\n",
    "    FOV_PC_data = FOV_data[FOV_data['colour_channel']=='PC']\n",
    "    FOV_PC_timepoint_data = FOV_PC_data[FOV_PC_data['timepoint']==timepoint]\n",
    "    FOV_PC_timepoint_channel_im = convert_to_nparray(FOV_PC_timepoint_data['directory'].iloc[0])\n",
    "    #corpse_check_timepoint = list(check_info['timepoint'].unique())[phase-1]\n",
    "    plt.style.use('default')\n",
    "    fig = plt.figure(figsize=(14,6),constrained_layout=True)\n",
    "    gs = gridspec.GridSpec(2, 2, figure=fig)\n",
    "    plt.suptitle(f\"FOV: {FOV_name[FOV]} | timepoint: {timepoint}\",size=14)\n",
    "    ax1 = fig.add_subplot(gs[0, 0])\n",
    "    ax1.imshow(FOV_Green_timepoint_channel_im[imm_dict[FOV]:750+imm_dict[FOV]],cmap=GFP_cmap);\n",
    "    ax1.set_xlabel(f\"{FOV_Green_timepoint_channel_im.min()}-{FOV_Green_timepoint_channel_im.max()}\")\n",
    "    ax1.set_title(f\" YFP\")\n",
    "    ax2 = fig.add_subplot(gs[1, 0])\n",
    "    ax2.imshow(FOV_mCherry_timepoint_channel_im[imm_dict[FOV]:750+imm_dict[FOV]],cmap=RFP_cmap );\n",
    "    ax2.set_xlabel(f\"{FOV_mCherry_timepoint_channel_im.min()}-{FOV_mCherry_timepoint_channel_im.max()}\")\n",
    "    ax2.set_title(f\"mCherry\")\n",
    "    ax3 = fig.add_subplot(gs[0, 1])\n",
    "    ax3.imshow(FOV_PC_timepoint_channel_im[imm_dict[FOV]:650+imm_dict[FOV]],cmap='gray');\n",
    "    ax3.set_xlabel(f\"{FOV_PC_timepoint_channel_im.min()}-{FOV_PC_timepoint_channel_im.max()}\")\n",
    "    ax3.set_title(f\"PC\")\n",
    "    plt.show()\n",
    "    plt.close()"
   ]
  },
  {
   "cell_type": "markdown",
   "metadata": {},
   "source": [
    "---\n"
   ]
  },
  {
   "cell_type": "code",
   "execution_count": 21,
   "metadata": {},
   "outputs": [],
   "source": [
    "def crop_directory(df_info,row_l):\n",
    "    y_window_length = 650\n",
    "    current_info_df = df_info.iloc[row_l,:]\n",
    "    top_y_crop = imm_dict[int(current_info_df.FOV[2:])]\n",
    "    current_img = convert_to_nparray(current_info_df.directory)\n",
    "    cropped_img = current_img[top_y_crop:top_y_crop+y_window_length]\n",
    "    # save to new folder\n",
    "    im = Image.fromarray(cropped_img.astype(np.uint16))\n",
    "    im.save('cm_registered_cropped'+os.path.sep+current_info_df['directory'].split('/')[-1])"
   ]
  },
  {
   "cell_type": "raw",
   "metadata": {},
   "source": [
    "if __name__ == \"__main__\":\n",
    "        processed_images = Parallel(n_jobs=8)( delayed (crop_directory) (image_info,iterator)\n",
    "                                                 for iterator in tqdm(range(0,len(image_info))) )"
   ]
  },
  {
   "cell_type": "markdown",
   "metadata": {},
   "source": [
    "- - - - - - "
   ]
  },
  {
   "cell_type": "markdown",
   "metadata": {},
   "source": [
    "## Create merged FP ims"
   ]
  },
  {
   "cell_type": "code",
   "execution_count": 22,
   "metadata": {
    "tags": []
   },
   "outputs": [
    {
     "data": {
      "application/vnd.jupyter.widget-view+json": {
       "model_id": "22c4e37585014761b905afdd619210c9",
       "version_major": 2,
       "version_minor": 0
      },
      "text/plain": [
       "  0%|          | 0/128 [00:00<?, ?it/s]"
      ]
     },
     "metadata": {},
     "output_type": "display_data"
    }
   ],
   "source": [
    "tmatched_merged_master = []\n",
    "y_top = 0\n",
    "y_bottom = 650 \n",
    "# def create_FOV_merged_segm_img(FOV_id_l, sgm_marker_ims_info_l, tmatched_merged_master_l):\n",
    "#     \"\"\"\n",
    "#     \"\"\"\n",
    "#     tmatched_merged_master_l = []\n",
    "#     # create a separate merged image of all timepoints of a given FOV:\n",
    "#     first_segm_marker_dir = sgm_marker_ims_info_l[sgm_marker_ims_info_l['FOV']==FOV_id_l]['directory']\n",
    "#     segm_merged_array = np.zeros(convert_to_nparray( first_segm_marker_dir.iloc[0] ).shape)[y_top:y_bottom,:]\n",
    "#     # loop through every timepoint and add all pixel values together:\n",
    "#     for segm_dir_index, segm_directory in enumerate( sgm_marker_ims_info_l[sgm_marker_ims_info_l['FOV']==FOV_id_l]['directory']):\n",
    "#         segm_merged_array = segm_merged_array+convert_to_nparray(segm_directory)[y_top:y_bottom,:]\n",
    "#     tmatched_merged_master_l.append(segm_merged_array)\n",
    "#     return tmatched_merged_master_l#f\"{FOV_id_l} - {segm_dir_index} timpoints have been mereged and added\"\n",
    "\n",
    "# if __name__ == \"__main__\":\n",
    "#         tmatched_merged_master = Parallel(n_jobs=8)( delayed (create_FOV_merged_segm_img) (FOV_id, sgm_marker_ims_info, tmatched_merged_master)\n",
    "#                                                  for FOV_id in tqdm(FOV_list) )\n",
    "for FOV_id in tqdm(FOV_list):\n",
    "    # create a separate merged image of all timepoints of a given FOV:\n",
    "    first_segm_marker_dir = sgm_marker_ims_info[sgm_marker_ims_info['FOV']==FOV_id]['directory']\n",
    "    segm_merged_array = np.zeros(convert_to_nparray( first_segm_marker_dir.iloc[0] ).shape)[y_top:y_bottom,:]\n",
    "    # loop through every timepoint and add all pixel values together:\n",
    "    for segm_dir_index, segm_directory in enumerate( sgm_marker_ims_info[sgm_marker_ims_info['FOV']==FOV_id]['directory']):\n",
    "        segm_merged_array = segm_merged_array+convert_to_nparray(segm_directory)[y_top:y_bottom,:]\n",
    "    tmatched_merged_master.append(segm_merged_array)"
   ]
  },
  {
   "cell_type": "markdown",
   "metadata": {},
   "source": [
    "## Find trench peaks/FOV"
   ]
  },
  {
   "cell_type": "code",
   "execution_count": 23,
   "metadata": {},
   "outputs": [],
   "source": [
    "import matplotlib.patches as patches\n",
    "def find_trench_centers(starting_trench_in_FOV_l,trench_to_trench_dist_l):\n",
    "    \"\"\"Takes a single float of the first trench's x value, and\n",
    "       calculates the trench x values for the rest of the FOV.\n",
    "    \"\"\"\n",
    "    new_trench = starting_trench_in_FOV_l\n",
    "    trench_indices_microns_l = [starting_trench_in_FOV_l]\n",
    "    while new_trench > 4:\n",
    "        new_trench = new_trench - trench_to_trench_dist_l\n",
    "        if new_trench > 8:\n",
    "            trench_indices_microns_l.append(new_trench)\n",
    "    new_trench = starting_trench_in_FOV_l\n",
    "    while new_trench < 248:\n",
    "        new_trench = new_trench + trench_to_trench_dist_l\n",
    "        if new_trench <248:\n",
    "            trench_indices_microns_l.append(new_trench)\n",
    "    trench_indices_microns_l.sort()\n",
    "    return trench_indices_microns_l"
   ]
  },
  {
   "cell_type": "code",
   "execution_count": 24,
   "metadata": {},
   "outputs": [
    {
     "data": {
      "text/plain": [
       "20"
      ]
     },
     "execution_count": 24,
     "metadata": {},
     "output_type": "execute_result"
    }
   ],
   "source": [
    "trench_to_trench_dist=17\n",
    "4/pixel_micron_conversion*2\n",
    "find_trench_centers(160,trench_to_trench_dist)\n",
    "trench_to_trench_dist*pixel_micron_conversion#*pixel_micron_conversion\n",
    "int(2.2/pixel_micron_conversion)"
   ]
  },
  {
   "cell_type": "code",
   "execution_count": 25,
   "metadata": {},
   "outputs": [],
   "source": [
    "segm_hor_intensity_profile,peaks_intensities = find_merged_segm_FOV_trench_peaks(tmatched_merged_master[0],pixel_micron_conversion,\n",
    "                                                                                     trench_distance,20,plot=False)"
   ]
  },
  {
   "cell_type": "code",
   "execution_count": 26,
   "metadata": {},
   "outputs": [
    {
     "data": {
      "text/plain": [
       "3.60393"
      ]
     },
     "execution_count": 26,
     "metadata": {},
     "output_type": "execute_result"
    }
   ],
   "source": [
    "peaks_intensities\n",
    "peaks_intensities.loc[peaks_intensities.intensity>20_000].iloc[0].position_micron"
   ]
  },
  {
   "cell_type": "code",
   "execution_count": 27,
   "metadata": {},
   "outputs": [
    {
     "data": {
      "application/vnd.jupyter.widget-view+json": {
       "model_id": "87fdfe4485e84e31a7be6fd80a5dfcfc",
       "version_major": 2,
       "version_minor": 0
      },
      "text/plain": [
       "interactive(children=(IntSlider(value=63, description='FOV', max=127), IntSlider(value=20, description='sigma'…"
      ]
     },
     "metadata": {},
     "output_type": "display_data"
    }
   ],
   "source": [
    "@interact\n",
    "def show_images(FOV = (0,len(FOV_list)-1),\n",
    "                sigma=(0,40),\n",
    "                ST_w = (0.4,5.0,0.2),\n",
    "                top_int1=(15_000,50_000),\n",
    "                top_int2=(10_000,30_000)):\n",
    "    # calculations\n",
    "    FOV_name = FOV_list\n",
    "    segm_hor_intensity_profile,peaks_intensities = find_merged_segm_FOV_trench_peaks(tmatched_merged_master[FOV],pixel_micron_conversion,\n",
    "                                                                                     trench_distance,sigma,plot=False)\n",
    "    try:\n",
    "        starting_trench_in_FOV_here = peaks_intensities.loc[peaks_intensities.intensity>top_int1].iloc[0].position_micron\n",
    "        if starting_trench_in_FOV_here < 3:\n",
    "            starting_trench_in_FOV_here = peaks_intensities.loc[peaks_intensities.intensity>top_int1].iloc[1].position_micron\n",
    "        print(f\"Option 1: {peaks_intensities.intensity.iloc[0]}\")\n",
    "    except:\n",
    "        starting_trench_in_FOV_here = peaks_intensities.loc[peaks_intensities.intensity>top_int2].iloc[0].position_micron\n",
    "        if starting_trench_in_FOV_here < 4:\n",
    "            starting_trench_in_FOV_here = peaks_intensities.loc[peaks_intensities.intensity>top_int2].iloc[1].position_micron\n",
    "        print(f\"Option 2 {peaks_intensities.intensity.iloc[0]}\")\n",
    "    trench_to_trench_dist = 17# ((peaks_intensities.position_micron.shift(-1) - peaks_intensities.position_micron ) ).median()\n",
    "    trenches_center_xvals = find_trench_centers(starting_trench_in_FOV_here,trench_to_trench_dist)\n",
    "    micron_wing = ST_w# 4 #int(ST_w/pixel_micron_conversion)\n",
    "    first_PC_img = convert_to_nparray(image_info.loc[ (image_info.FOV.apply(lambda x: int(x[2:])) == FOV) & (image_info.colour_channel=='PC')].directory.iloc[0])\n",
    "    # plotting\n",
    "    plt.style.use('default')\n",
    "    fig = plt.figure(figsize=(7,8),constrained_layout=True)\n",
    "    gs = gridspec.GridSpec(3, 1, figure=fig)\n",
    "    plt.suptitle(f\"FOV: {FOV_name[FOV]}\",size=14)\n",
    "    ax1 = fig.add_subplot(gs[0, 0])\n",
    "    plt.title(f\"Pixel Range: {int(tmatched_merged_master[FOV].min())}-{int(tmatched_merged_master[FOV].max())}\", fontsize=8, loc='left', #fontweight='bold', #style='italic',\n",
    "    family='monospace')\n",
    "    ax2 = fig.add_subplot(gs[1, 0])\n",
    "    ax3=ax2.twinx()\n",
    "    plt.title(f\"sigma (Gaussian blur): {sigma} → {len(peaks_intensities)} peaks → {len(trenches_center_xvals)} selected trenches\", \n",
    "              fontsize=8, loc='left', #fontweight='bold', #style='italic',\n",
    "              family='monospace')\n",
    "    ax4 = fig.add_subplot(gs[2, 0])\n",
    "    plt.title(f\"Pixel range: {first_PC_img.min()}-{first_PC_img.max()}; wing_width={ST_w}µm/{int(ST_w/pixel_micron_conversion)}px\", fontsize=8, loc='left', #fontweight='bold', #style='italic',\n",
    "    family='monospace')\n",
    "    \n",
    "    ax1.imshow(tmatched_merged_master[FOV]);#,cmap=YFP_cmap);\n",
    "    ax1.axhline(int(tmatched_merged_master[FOV].shape[0]*0.25),color='red',alpha=0.5)\n",
    "    ax1.axhline(int(tmatched_merged_master[FOV].shape[0]*0.5),color='red',alpha=0.5)\n",
    "    ax1.axhline(int(tmatched_merged_master[FOV].shape[0]*0.75),color='red',alpha=0.5)\n",
    "    \n",
    "    ax3.plot(segm_hor_intensity_profile['position_micron']/pixel_micron_conversion,segm_hor_intensity_profile['intensity']);\n",
    "    ax3.plot(peaks_intensities['position_micron']/pixel_micron_conversion,peaks_intensities['intensity'], \"x\")\n",
    "    #plt.grid(alpha=0.5)\n",
    "    ax2.imshow(tmatched_merged_master[FOV],alpha=0.8);\n",
    "    for trench_micron_idx in trenches_center_xvals:\n",
    "        x_start = int(trench_micron_idx/pixel_micron_conversion - micron_wing/pixel_micron_conversion)\n",
    "        x_end = x_start+int(micron_wing/pixel_micron_conversion*2)\n",
    "        rect = patches.Rectangle((x_start, 0), x_end-x_start, 650, linewidth=1, edgecolor='r', facecolor='none')\n",
    "        rect4 = patches.Rectangle((x_start, 0), x_end-x_start, 650, linewidth=1, edgecolor='r', facecolor='none')\n",
    "        ax2.add_patch(rect)\n",
    "        ax4.add_patch(rect4)\n",
    "    ax4.imshow(first_PC_img);#,cmap=YFP_cmap); tmatched_merged_master_PC[FOV] \n",
    "    ax1.set_title(f\"Time-Integrated mCherry\\n\")\n",
    "    ax3.set_title(f\"Overlayed Segmentation Intensity Profile\\n\") \n",
    "    ax4.set_title(f\"Phase Contrast\\n\")\n",
    "    ax1.set_ylabel(f\"length y (px)\")\n",
    "    ax2.set_ylabel(f\"length y (px)\")\n",
    "    ax3.set_ylabel(f\"FI (averaged lines; a.u.)\")\n",
    "    ax4.set_ylabel(f\"length y (px)\")\n",
    "    ax4.set_xlabel(f\"length x (px)\")\n",
    "    ax3.set_ylim(segm_hor_intensity_profile.intensity.min()-0.05*segm_hor_intensity_profile.intensity.min(),segm_hor_intensity_profile.intensity.max()+0.1*segm_hor_intensity_profile.intensity.max())\n",
    "    #plt.savefig(f\"{FOV}_sigma{sigma}_wingwdith{ST_w}.pdf\",dpi=150)\n",
    "    plt.show()\n",
    "    plt.close() # 113, 119, 120, 123, "
   ]
  },
  {
   "cell_type": "code",
   "execution_count": 28,
   "metadata": {},
   "outputs": [
    {
     "data": {
      "text/plain": [
       "array([], shape=(650, 0), dtype=int32)"
      ]
     },
     "execution_count": 28,
     "metadata": {},
     "output_type": "execute_result"
    }
   ],
   "source": [
    "convert_to_nparray(image_info.loc[ (image_info.FOV.apply(lambda x: int(x[2:])) == 1) & (image_info.colour_channel=='PC')].directory.iloc[0])[:,2300:2307]#.shape"
   ]
  },
  {
   "cell_type": "code",
   "execution_count": 29,
   "metadata": {},
   "outputs": [],
   "source": [
    "def FOV_trench_excision_and_save(FOV_idx,image_info_l,tmatched_merged_master_l, save_to_folder, sigma=20):\n",
    "    \"\"\"\n",
    "    \"\"\"\n",
    "    # 1- identify trench centers\n",
    "    segm_hor_intensity_profile,peaks_intensities = find_merged_segm_FOV_trench_peaks(tmatched_merged_master_l[FOV_idx],pixel_micron_conversion,\n",
    "                                                                                     trench_distance,sigma=sigma,plot=False)\n",
    "    # 2- select for starting trench based on highest FOV intensity\n",
    "    try:\n",
    "        starting_trench_in_FOV_here = peaks_intensities.loc[peaks_intensities.intensity>32_000].iloc[0].position_micron\n",
    "        if starting_trench_in_FOV_here < 4:\n",
    "            starting_trench_in_FOV_here = peaks_intensities.loc[peaks_intensities.intensity>32_000].iloc[1].position_micron\n",
    "    except:\n",
    "        starting_trench_in_FOV_here = peaks_intensities.loc[peaks_intensities.intensity>15_000].iloc[0].position_micron\n",
    "        if starting_trench_in_FOV_here < 4:\n",
    "            starting_trench_in_FOV_here = peaks_intensities.loc[peaks_intensities.intensity>15_000].iloc[1].position_micron\n",
    "    trench_to_trench_dist = 17 # ((peaks_intensities.position_micron.shift(-1) - peaks_intensities.position_micron ) ).median()\n",
    "    trenches_center_xvals = find_trench_centers(starting_trench_in_FOV_here,trench_to_trench_dist)\n",
    "    micron_wing = 4\n",
    "    # 3- identify (x_start,x_ends) for current FOV\n",
    "    trench_dims = []\n",
    "    for trench_micron_idx in trenches_center_xvals:\n",
    "        x_start = int(trench_micron_idx/pixel_micron_conversion - micron_wing/pixel_micron_conversion)\n",
    "        x_end = x_start+int(micron_wing/pixel_micron_conversion*2) # int(trench_micron_idx/pixel_micron_conversion + micron_wing/pixel_micron_conversion)\n",
    "        trench_dims.append((x_start,x_end))\n",
    "    # 4- identify all ims (timepoints & channels) to apply these x_vals to\n",
    "    ims_apply_list = image_info_l.loc[ image_info_l.FOV.apply(lambda x: int(x[2:])) == FOV_idx].directory.to_list()\n",
    "    def crop_and_save(img_directory_l, trench_dims_l):\n",
    "        \"\"\"Separate crop and save function for parallelisation\n",
    "        \"\"\"\n",
    "        FOV_img_name = img_directory_l.split('/')[-1]\n",
    "        img_FOV = FOV_img_name.split('_')[0]\n",
    "        img_timepoint = FOV_img_name.split('_')[1]\n",
    "        img_channel = FOV_img_name.split('_')[2].split('.')[0]\n",
    "        #  6- loop through all trenches of that FOV:\n",
    "        for idx, trench_bounds in enumerate(trench_dims_l):\n",
    "            im = convert_to_nparray(img_directory_l)[:, trench_bounds[0]:trench_bounds[1]]\n",
    "            im = Image.fromarray(im.astype(np.uint16))\n",
    "            im.save(save_to_folder+os.path.sep+img_FOV+f\"_tr{idx}_\"+f\"{img_channel}_\"+f\"{img_timepoint}.png\")\n",
    "    # 5- parallelise looping through all img of that FOV:\n",
    "    if __name__ == \"__main__\":\n",
    "        processed_images = Parallel(n_jobs=8)(delayed(crop_and_save)(img_directory, trench_dims) for img_directory in tqdm(ims_apply_list))\n",
    "    print(f\"Trenches for {image_info.loc[ image_info.FOV.apply(lambda x: int(x[2:])) == FOV_idx].directory.to_list()[0].split('/')[-1].split('_')[0]} extracted and saved.\")\n",
    "    return f\"All done.\""
   ]
  },
  {
   "cell_type": "markdown",
   "metadata": {},
   "source": [
    "# Single FOV's Trench Excision"
   ]
  },
  {
   "cell_type": "code",
   "execution_count": 30,
   "metadata": {},
   "outputs": [],
   "source": [
    "#FOV_trench_excision_and_save(127,image_info,tmatched_merged_master,save_to_folder='2_sliced_trenches/',sigma=20)"
   ]
  },
  {
   "cell_type": "markdown",
   "metadata": {},
   "source": [
    "# All FOVs' Trench Extraction"
   ]
  },
  {
   "cell_type": "raw",
   "metadata": {},
   "source": [
    "for FOV_idx in tqdm(range(113,len(FOV_list))):\n",
    "    FOV_trench_excision_and_save(FOV_idx,image_info,tmatched_merged_master,save_to_folder='2_sliced_trenches/',sigma=20)"
   ]
  },
  {
   "cell_type": "markdown",
   "metadata": {},
   "source": [
    "---\n",
    "# Add Metadata"
   ]
  },
  {
   "cell_type": "code",
   "execution_count": 31,
   "metadata": {},
   "outputs": [
    {
     "name": "stdout",
     "output_type": "stream",
     "text": [
      "Dataframe with 537000 rows and 6 columns has been created.\n",
      "# FOVs: 128 # trenches: 15 \n",
      "# timepoints/FOV: 100 \n",
      "# colour channels/timepoint/FOV: 3\n"
     ]
    },
    {
     "data": {
      "application/vnd.jupyter.widget-view+json": {
       "model_id": "246403fff7494a2e848508ac3f508fe4",
       "version_major": 2,
       "version_minor": 0
      },
      "text/plain": [
       "  0%|          | 0/128 [00:00<?, ?it/s]"
      ]
     },
     "metadata": {},
     "output_type": "display_data"
    }
   ],
   "source": [
    "interim_info_df = source_image_info('2_sliced_trenches/',ims_format)\n",
    "# add experiment specific info\n",
    "interim_info_df['trench_id'] = interim_info_df.FOV + interim_info_df.trench.apply(lambda x: f\"_tr{str(x).zfill(2)}\")\n",
    "trench_no_dict = {}\n",
    "for FOV_name in tqdm(interim_info_df.FOV.unique()):\n",
    "    trench_no_dict[FOV_name] = len(interim_info_df.loc[interim_info_df.FOV == FOV_name])\n",
    "interim_info_df['trench_no_per_FOV'] = interim_info_df.FOV.apply(lambda x: int(trench_no_dict[x]/(3*100)))\n",
    "def FOV_to_sample_decryption(FOV_name_l):\n",
    "    \"\"\"Experiment specific data decryption based on FOV belonging to different lanes\n",
    "    \"\"\"\n",
    "    FOV_idx = int(FOV_name_l[2:])\n",
    "    if FOV_idx < 32:\n",
    "        return 'NC'\n",
    "    elif FOV_idx < 64:\n",
    "        return 'pSC101'\n",
    "    elif FOV_idx < 96:\n",
    "        return 'p15A'\n",
    "    elif FOV_idx < 128:\n",
    "        return 'pUC'\n",
    "interim_info_df['sample_id'] = interim_info_df.FOV.apply(lambda x: FOV_to_sample_decryption(x))"
   ]
  },
  {
   "cell_type": "code",
   "execution_count": 32,
   "metadata": {},
   "outputs": [
    {
     "data": {
      "text/html": [
       "<div>\n",
       "<style scoped>\n",
       "    .dataframe tbody tr th:only-of-type {\n",
       "        vertical-align: middle;\n",
       "    }\n",
       "\n",
       "    .dataframe tbody tr th {\n",
       "        vertical-align: top;\n",
       "    }\n",
       "\n",
       "    .dataframe thead th {\n",
       "        text-align: right;\n",
       "    }\n",
       "</style>\n",
       "<table border=\"1\" class=\"dataframe\">\n",
       "  <thead>\n",
       "    <tr style=\"text-align: right;\">\n",
       "      <th></th>\n",
       "      <th>directory</th>\n",
       "      <th>FOV</th>\n",
       "      <th>trench</th>\n",
       "      <th>colour_channel</th>\n",
       "      <th>timepoint</th>\n",
       "      <th>trench_cum</th>\n",
       "      <th>trench_id</th>\n",
       "      <th>trench_no_per_FOV</th>\n",
       "      <th>sample_id</th>\n",
       "    </tr>\n",
       "  </thead>\n",
       "  <tbody>\n",
       "    <tr>\n",
       "      <th>0</th>\n",
       "      <td>2_sliced_trenches/xy000_tr0_Green_T0000.png</td>\n",
       "      <td>xy000</td>\n",
       "      <td>0</td>\n",
       "      <td>Green</td>\n",
       "      <td>0</td>\n",
       "      <td>0</td>\n",
       "      <td>xy000_tr00</td>\n",
       "      <td>15</td>\n",
       "      <td>NC</td>\n",
       "    </tr>\n",
       "    <tr>\n",
       "      <th>1</th>\n",
       "      <td>2_sliced_trenches/xy000_tr0_Green_T0001.png</td>\n",
       "      <td>xy000</td>\n",
       "      <td>0</td>\n",
       "      <td>Green</td>\n",
       "      <td>1</td>\n",
       "      <td>0</td>\n",
       "      <td>xy000_tr00</td>\n",
       "      <td>15</td>\n",
       "      <td>NC</td>\n",
       "    </tr>\n",
       "    <tr>\n",
       "      <th>2</th>\n",
       "      <td>2_sliced_trenches/xy000_tr0_Green_T0002.png</td>\n",
       "      <td>xy000</td>\n",
       "      <td>0</td>\n",
       "      <td>Green</td>\n",
       "      <td>2</td>\n",
       "      <td>0</td>\n",
       "      <td>xy000_tr00</td>\n",
       "      <td>15</td>\n",
       "      <td>NC</td>\n",
       "    </tr>\n",
       "    <tr>\n",
       "      <th>3</th>\n",
       "      <td>2_sliced_trenches/xy000_tr0_Green_T0003.png</td>\n",
       "      <td>xy000</td>\n",
       "      <td>0</td>\n",
       "      <td>Green</td>\n",
       "      <td>3</td>\n",
       "      <td>0</td>\n",
       "      <td>xy000_tr00</td>\n",
       "      <td>15</td>\n",
       "      <td>NC</td>\n",
       "    </tr>\n",
       "    <tr>\n",
       "      <th>4</th>\n",
       "      <td>2_sliced_trenches/xy000_tr0_Green_T0004.png</td>\n",
       "      <td>xy000</td>\n",
       "      <td>0</td>\n",
       "      <td>Green</td>\n",
       "      <td>4</td>\n",
       "      <td>0</td>\n",
       "      <td>xy000_tr00</td>\n",
       "      <td>15</td>\n",
       "      <td>NC</td>\n",
       "    </tr>\n",
       "    <tr>\n",
       "      <th>...</th>\n",
       "      <td>...</td>\n",
       "      <td>...</td>\n",
       "      <td>...</td>\n",
       "      <td>...</td>\n",
       "      <td>...</td>\n",
       "      <td>...</td>\n",
       "      <td>...</td>\n",
       "      <td>...</td>\n",
       "      <td>...</td>\n",
       "    </tr>\n",
       "    <tr>\n",
       "      <th>536995</th>\n",
       "      <td>2_sliced_trenches/xy127_tr4_mCherry_T0095.png</td>\n",
       "      <td>xy127</td>\n",
       "      <td>4</td>\n",
       "      <td>mCherry</td>\n",
       "      <td>95</td>\n",
       "      <td>1789</td>\n",
       "      <td>xy127_tr04</td>\n",
       "      <td>5</td>\n",
       "      <td>pUC</td>\n",
       "    </tr>\n",
       "    <tr>\n",
       "      <th>536996</th>\n",
       "      <td>2_sliced_trenches/xy127_tr4_mCherry_T0096.png</td>\n",
       "      <td>xy127</td>\n",
       "      <td>4</td>\n",
       "      <td>mCherry</td>\n",
       "      <td>96</td>\n",
       "      <td>1789</td>\n",
       "      <td>xy127_tr04</td>\n",
       "      <td>5</td>\n",
       "      <td>pUC</td>\n",
       "    </tr>\n",
       "    <tr>\n",
       "      <th>536997</th>\n",
       "      <td>2_sliced_trenches/xy127_tr4_mCherry_T0097.png</td>\n",
       "      <td>xy127</td>\n",
       "      <td>4</td>\n",
       "      <td>mCherry</td>\n",
       "      <td>97</td>\n",
       "      <td>1789</td>\n",
       "      <td>xy127_tr04</td>\n",
       "      <td>5</td>\n",
       "      <td>pUC</td>\n",
       "    </tr>\n",
       "    <tr>\n",
       "      <th>536998</th>\n",
       "      <td>2_sliced_trenches/xy127_tr4_mCherry_T0098.png</td>\n",
       "      <td>xy127</td>\n",
       "      <td>4</td>\n",
       "      <td>mCherry</td>\n",
       "      <td>98</td>\n",
       "      <td>1789</td>\n",
       "      <td>xy127_tr04</td>\n",
       "      <td>5</td>\n",
       "      <td>pUC</td>\n",
       "    </tr>\n",
       "    <tr>\n",
       "      <th>536999</th>\n",
       "      <td>2_sliced_trenches/xy127_tr4_mCherry_T0099.png</td>\n",
       "      <td>xy127</td>\n",
       "      <td>4</td>\n",
       "      <td>mCherry</td>\n",
       "      <td>99</td>\n",
       "      <td>1789</td>\n",
       "      <td>xy127_tr04</td>\n",
       "      <td>5</td>\n",
       "      <td>pUC</td>\n",
       "    </tr>\n",
       "  </tbody>\n",
       "</table>\n",
       "<p>537000 rows × 9 columns</p>\n",
       "</div>"
      ],
      "text/plain": [
       "                                            directory    FOV  trench  \\\n",
       "0         2_sliced_trenches/xy000_tr0_Green_T0000.png  xy000       0   \n",
       "1         2_sliced_trenches/xy000_tr0_Green_T0001.png  xy000       0   \n",
       "2         2_sliced_trenches/xy000_tr0_Green_T0002.png  xy000       0   \n",
       "3         2_sliced_trenches/xy000_tr0_Green_T0003.png  xy000       0   \n",
       "4         2_sliced_trenches/xy000_tr0_Green_T0004.png  xy000       0   \n",
       "...                                               ...    ...     ...   \n",
       "536995  2_sliced_trenches/xy127_tr4_mCherry_T0095.png  xy127       4   \n",
       "536996  2_sliced_trenches/xy127_tr4_mCherry_T0096.png  xy127       4   \n",
       "536997  2_sliced_trenches/xy127_tr4_mCherry_T0097.png  xy127       4   \n",
       "536998  2_sliced_trenches/xy127_tr4_mCherry_T0098.png  xy127       4   \n",
       "536999  2_sliced_trenches/xy127_tr4_mCherry_T0099.png  xy127       4   \n",
       "\n",
       "       colour_channel  timepoint  trench_cum   trench_id  trench_no_per_FOV  \\\n",
       "0               Green          0           0  xy000_tr00                 15   \n",
       "1               Green          1           0  xy000_tr00                 15   \n",
       "2               Green          2           0  xy000_tr00                 15   \n",
       "3               Green          3           0  xy000_tr00                 15   \n",
       "4               Green          4           0  xy000_tr00                 15   \n",
       "...               ...        ...         ...         ...                ...   \n",
       "536995        mCherry         95        1789  xy127_tr04                  5   \n",
       "536996        mCherry         96        1789  xy127_tr04                  5   \n",
       "536997        mCherry         97        1789  xy127_tr04                  5   \n",
       "536998        mCherry         98        1789  xy127_tr04                  5   \n",
       "536999        mCherry         99        1789  xy127_tr04                  5   \n",
       "\n",
       "       sample_id  \n",
       "0             NC  \n",
       "1             NC  \n",
       "2             NC  \n",
       "3             NC  \n",
       "4             NC  \n",
       "...          ...  \n",
       "536995       pUC  \n",
       "536996       pUC  \n",
       "536997       pUC  \n",
       "536998       pUC  \n",
       "536999       pUC  \n",
       "\n",
       "[537000 rows x 9 columns]"
      ]
     },
     "execution_count": 32,
     "metadata": {},
     "output_type": "execute_result"
    }
   ],
   "source": [
    "interim_info_df"
   ]
  },
  {
   "cell_type": "code",
   "execution_count": 33,
   "metadata": {},
   "outputs": [
    {
     "name": "stdout",
     "output_type": "stream",
     "text": [
      "NC : 450.0\n",
      "pSC101 : 447.0\n",
      "p15A : 446.0\n",
      "pUC : 447.0\n"
     ]
    }
   ],
   "source": [
    "for sample_id in interim_info_df.sample_id.unique():\n",
    "    print(f\"{sample_id} : {len(interim_info_df.loc[interim_info_df.sample_id == sample_id]) / (3*100)}\")"
   ]
  },
  {
   "cell_type": "code",
   "execution_count": 34,
   "metadata": {},
   "outputs": [
    {
     "data": {
      "text/plain": [
       "Green      179000\n",
       "PC         179000\n",
       "mCherry    179000\n",
       "Name: colour_channel, dtype: int64"
      ]
     },
     "execution_count": 34,
     "metadata": {},
     "output_type": "execute_result"
    }
   ],
   "source": [
    "interim_info_df.colour_channel.value_counts()#loc[interim_info_df]"
   ]
  },
  {
   "cell_type": "code",
   "execution_count": 35,
   "metadata": {},
   "outputs": [
    {
     "data": {
      "text/html": [
       "<div>\n",
       "<style scoped>\n",
       "    .dataframe tbody tr th:only-of-type {\n",
       "        vertical-align: middle;\n",
       "    }\n",
       "\n",
       "    .dataframe tbody tr th {\n",
       "        vertical-align: top;\n",
       "    }\n",
       "\n",
       "    .dataframe thead th {\n",
       "        text-align: right;\n",
       "    }\n",
       "</style>\n",
       "<table border=\"1\" class=\"dataframe\">\n",
       "  <thead>\n",
       "    <tr style=\"text-align: right;\">\n",
       "      <th></th>\n",
       "      <th>directory</th>\n",
       "      <th>FOV</th>\n",
       "      <th>trench</th>\n",
       "      <th>colour_channel</th>\n",
       "      <th>timepoint</th>\n",
       "      <th>trench_cum</th>\n",
       "      <th>trench_id</th>\n",
       "      <th>trench_no_per_FOV</th>\n",
       "      <th>sample_id</th>\n",
       "    </tr>\n",
       "  </thead>\n",
       "  <tbody>\n",
       "  </tbody>\n",
       "</table>\n",
       "</div>"
      ],
      "text/plain": [
       "Empty DataFrame\n",
       "Columns: [directory, FOV, trench, colour_channel, timepoint, trench_cum, trench_id, trench_no_per_FOV, sample_id]\n",
       "Index: []"
      ]
     },
     "execution_count": 35,
     "metadata": {},
     "output_type": "execute_result"
    }
   ],
   "source": [
    "#os.remove(interim_info_df.loc[(interim_info_df.FOV=='xy006') & (interim_info_df.trench==15)].directory.iloc[0]) #.drop(index=31200)\n",
    "interim_info_df.loc[(interim_info_df.FOV=='xy006') & (interim_info_df.trench==15)]"
   ]
  },
  {
   "cell_type": "markdown",
   "metadata": {},
   "source": [
    "## Extracted Trench Checkup"
   ]
  },
  {
   "cell_type": "code",
   "execution_count": 36,
   "metadata": {},
   "outputs": [
    {
     "data": {
      "application/vnd.jupyter.widget-view+json": {
       "model_id": "6b1f75844d3c40798d67ad201fb29abe",
       "version_major": 2,
       "version_minor": 0
      },
      "text/plain": [
       "interactive(children=(IntSlider(value=63, description='FOV', max=127), IntSlider(value=49, description='timepo…"
      ]
     },
     "metadata": {},
     "output_type": "display_data"
    }
   ],
   "source": [
    "@interact\n",
    "def show_images(FOV = (0,len(FOV_list)-1),\n",
    "                timepoint=(0,99)):\n",
    "    FOV_name = FOV_list[FOV]\n",
    "    FOV_trench_info_df = interim_info_df.loc[(interim_info_df.FOV==FOV_name) & (interim_info_df.colour_channel=='PC')] \n",
    "    trench_nos = FOV_trench_info_df.trench.unique()\n",
    "    plt.style.use('default')\n",
    "    fig = plt.figure(figsize=(20,7),constrained_layout=True)\n",
    "    gs = gridspec.GridSpec(1, len(trench_nos), figure=fig)\n",
    "    plt.suptitle(f\"FOV: {FOV_name} | {len(trench_nos)} trenches\",size=14)\n",
    "    for trench_idx in trench_nos:\n",
    "        ax1 = fig.add_subplot(gs[0, trench_idx])\n",
    "        img0 = convert_to_nparray(FOV_trench_info_df.loc[FOV_trench_info_df.trench==trench_idx].directory.iloc[timepoint])\n",
    "        ax1.imshow(img0);#,cmap=YFP_cmap);\n",
    "        ax1.set_xlabel(f\"{img0.min()}-{img0.max()}\")\n",
    "        ax1.set_title(f\" Tr_{trench_idx}\")\n",
    "    plt.show()\n",
    "    plt.close() # 113, 119, 120, 123, # xy122 - tr_14 _ tp9"
   ]
  },
  {
   "cell_type": "raw",
   "metadata": {},
   "source": [
    "for dir_x in interim_info_df.loc[(interim_info_df.FOV=='xy032') * (interim_info_df.trench>5)].directory.to_list():\n",
    "    os.remove(dir_x)\n",
    "    #print(dir_x)"
   ]
  },
  {
   "cell_type": "code",
   "execution_count": 37,
   "metadata": {},
   "outputs": [
    {
     "data": {
      "text/html": [
       "<div>\n",
       "<style scoped>\n",
       "    .dataframe tbody tr th:only-of-type {\n",
       "        vertical-align: middle;\n",
       "    }\n",
       "\n",
       "    .dataframe tbody tr th {\n",
       "        vertical-align: top;\n",
       "    }\n",
       "\n",
       "    .dataframe thead th {\n",
       "        text-align: right;\n",
       "    }\n",
       "</style>\n",
       "<table border=\"1\" class=\"dataframe\">\n",
       "  <thead>\n",
       "    <tr style=\"text-align: right;\">\n",
       "      <th></th>\n",
       "      <th>directory</th>\n",
       "      <th>FOV</th>\n",
       "      <th>trench</th>\n",
       "      <th>colour_channel</th>\n",
       "      <th>timepoint</th>\n",
       "      <th>trench_cum</th>\n",
       "      <th>trench_id</th>\n",
       "      <th>trench_no_per_FOV</th>\n",
       "      <th>sample_id</th>\n",
       "    </tr>\n",
       "  </thead>\n",
       "  <tbody>\n",
       "    <tr>\n",
       "      <th>0</th>\n",
       "      <td>2_sliced_trenches/xy000_tr0_Green_T0000.png</td>\n",
       "      <td>xy000</td>\n",
       "      <td>0</td>\n",
       "      <td>Green</td>\n",
       "      <td>0</td>\n",
       "      <td>0</td>\n",
       "      <td>xy000_tr00</td>\n",
       "      <td>15</td>\n",
       "      <td>NC</td>\n",
       "    </tr>\n",
       "    <tr>\n",
       "      <th>1</th>\n",
       "      <td>2_sliced_trenches/xy000_tr0_Green_T0001.png</td>\n",
       "      <td>xy000</td>\n",
       "      <td>0</td>\n",
       "      <td>Green</td>\n",
       "      <td>1</td>\n",
       "      <td>0</td>\n",
       "      <td>xy000_tr00</td>\n",
       "      <td>15</td>\n",
       "      <td>NC</td>\n",
       "    </tr>\n",
       "    <tr>\n",
       "      <th>2</th>\n",
       "      <td>2_sliced_trenches/xy000_tr0_Green_T0002.png</td>\n",
       "      <td>xy000</td>\n",
       "      <td>0</td>\n",
       "      <td>Green</td>\n",
       "      <td>2</td>\n",
       "      <td>0</td>\n",
       "      <td>xy000_tr00</td>\n",
       "      <td>15</td>\n",
       "      <td>NC</td>\n",
       "    </tr>\n",
       "    <tr>\n",
       "      <th>3</th>\n",
       "      <td>2_sliced_trenches/xy000_tr0_Green_T0003.png</td>\n",
       "      <td>xy000</td>\n",
       "      <td>0</td>\n",
       "      <td>Green</td>\n",
       "      <td>3</td>\n",
       "      <td>0</td>\n",
       "      <td>xy000_tr00</td>\n",
       "      <td>15</td>\n",
       "      <td>NC</td>\n",
       "    </tr>\n",
       "    <tr>\n",
       "      <th>4</th>\n",
       "      <td>2_sliced_trenches/xy000_tr0_Green_T0004.png</td>\n",
       "      <td>xy000</td>\n",
       "      <td>0</td>\n",
       "      <td>Green</td>\n",
       "      <td>4</td>\n",
       "      <td>0</td>\n",
       "      <td>xy000_tr00</td>\n",
       "      <td>15</td>\n",
       "      <td>NC</td>\n",
       "    </tr>\n",
       "    <tr>\n",
       "      <th>...</th>\n",
       "      <td>...</td>\n",
       "      <td>...</td>\n",
       "      <td>...</td>\n",
       "      <td>...</td>\n",
       "      <td>...</td>\n",
       "      <td>...</td>\n",
       "      <td>...</td>\n",
       "      <td>...</td>\n",
       "      <td>...</td>\n",
       "    </tr>\n",
       "    <tr>\n",
       "      <th>536995</th>\n",
       "      <td>2_sliced_trenches/xy127_tr4_mCherry_T0095.png</td>\n",
       "      <td>xy127</td>\n",
       "      <td>4</td>\n",
       "      <td>mCherry</td>\n",
       "      <td>95</td>\n",
       "      <td>1789</td>\n",
       "      <td>xy127_tr04</td>\n",
       "      <td>5</td>\n",
       "      <td>pUC</td>\n",
       "    </tr>\n",
       "    <tr>\n",
       "      <th>536996</th>\n",
       "      <td>2_sliced_trenches/xy127_tr4_mCherry_T0096.png</td>\n",
       "      <td>xy127</td>\n",
       "      <td>4</td>\n",
       "      <td>mCherry</td>\n",
       "      <td>96</td>\n",
       "      <td>1789</td>\n",
       "      <td>xy127_tr04</td>\n",
       "      <td>5</td>\n",
       "      <td>pUC</td>\n",
       "    </tr>\n",
       "    <tr>\n",
       "      <th>536997</th>\n",
       "      <td>2_sliced_trenches/xy127_tr4_mCherry_T0097.png</td>\n",
       "      <td>xy127</td>\n",
       "      <td>4</td>\n",
       "      <td>mCherry</td>\n",
       "      <td>97</td>\n",
       "      <td>1789</td>\n",
       "      <td>xy127_tr04</td>\n",
       "      <td>5</td>\n",
       "      <td>pUC</td>\n",
       "    </tr>\n",
       "    <tr>\n",
       "      <th>536998</th>\n",
       "      <td>2_sliced_trenches/xy127_tr4_mCherry_T0098.png</td>\n",
       "      <td>xy127</td>\n",
       "      <td>4</td>\n",
       "      <td>mCherry</td>\n",
       "      <td>98</td>\n",
       "      <td>1789</td>\n",
       "      <td>xy127_tr04</td>\n",
       "      <td>5</td>\n",
       "      <td>pUC</td>\n",
       "    </tr>\n",
       "    <tr>\n",
       "      <th>536999</th>\n",
       "      <td>2_sliced_trenches/xy127_tr4_mCherry_T0099.png</td>\n",
       "      <td>xy127</td>\n",
       "      <td>4</td>\n",
       "      <td>mCherry</td>\n",
       "      <td>99</td>\n",
       "      <td>1789</td>\n",
       "      <td>xy127_tr04</td>\n",
       "      <td>5</td>\n",
       "      <td>pUC</td>\n",
       "    </tr>\n",
       "  </tbody>\n",
       "</table>\n",
       "<p>537000 rows × 9 columns</p>\n",
       "</div>"
      ],
      "text/plain": [
       "                                            directory    FOV  trench  \\\n",
       "0         2_sliced_trenches/xy000_tr0_Green_T0000.png  xy000       0   \n",
       "1         2_sliced_trenches/xy000_tr0_Green_T0001.png  xy000       0   \n",
       "2         2_sliced_trenches/xy000_tr0_Green_T0002.png  xy000       0   \n",
       "3         2_sliced_trenches/xy000_tr0_Green_T0003.png  xy000       0   \n",
       "4         2_sliced_trenches/xy000_tr0_Green_T0004.png  xy000       0   \n",
       "...                                               ...    ...     ...   \n",
       "536995  2_sliced_trenches/xy127_tr4_mCherry_T0095.png  xy127       4   \n",
       "536996  2_sliced_trenches/xy127_tr4_mCherry_T0096.png  xy127       4   \n",
       "536997  2_sliced_trenches/xy127_tr4_mCherry_T0097.png  xy127       4   \n",
       "536998  2_sliced_trenches/xy127_tr4_mCherry_T0098.png  xy127       4   \n",
       "536999  2_sliced_trenches/xy127_tr4_mCherry_T0099.png  xy127       4   \n",
       "\n",
       "       colour_channel  timepoint  trench_cum   trench_id  trench_no_per_FOV  \\\n",
       "0               Green          0           0  xy000_tr00                 15   \n",
       "1               Green          1           0  xy000_tr00                 15   \n",
       "2               Green          2           0  xy000_tr00                 15   \n",
       "3               Green          3           0  xy000_tr00                 15   \n",
       "4               Green          4           0  xy000_tr00                 15   \n",
       "...               ...        ...         ...         ...                ...   \n",
       "536995        mCherry         95        1789  xy127_tr04                  5   \n",
       "536996        mCherry         96        1789  xy127_tr04                  5   \n",
       "536997        mCherry         97        1789  xy127_tr04                  5   \n",
       "536998        mCherry         98        1789  xy127_tr04                  5   \n",
       "536999        mCherry         99        1789  xy127_tr04                  5   \n",
       "\n",
       "       sample_id  \n",
       "0             NC  \n",
       "1             NC  \n",
       "2             NC  \n",
       "3             NC  \n",
       "4             NC  \n",
       "...          ...  \n",
       "536995       pUC  \n",
       "536996       pUC  \n",
       "536997       pUC  \n",
       "536998       pUC  \n",
       "536999       pUC  \n",
       "\n",
       "[537000 rows x 9 columns]"
      ]
     },
     "execution_count": 37,
     "metadata": {},
     "output_type": "execute_result"
    }
   ],
   "source": [
    "interim_info_df"
   ]
  },
  {
   "cell_type": "markdown",
   "metadata": {},
   "source": [
    "---\n",
    "# Trench Loading Identification"
   ]
  },
  {
   "cell_type": "markdown",
   "metadata": {},
   "source": [
    "Source image data information for newly sliced trench images (all trenches / channels / timepoints):"
   ]
  },
  {
   "cell_type": "code",
   "execution_count": 38,
   "metadata": {},
   "outputs": [],
   "source": [
    "trench_metadata = interim_info_df # source_image_info(save_to_folder,ims_format)"
   ]
  },
  {
   "cell_type": "code",
   "execution_count": 39,
   "metadata": {},
   "outputs": [
    {
     "data": {
      "text/html": [
       "<div>\n",
       "<style scoped>\n",
       "    .dataframe tbody tr th:only-of-type {\n",
       "        vertical-align: middle;\n",
       "    }\n",
       "\n",
       "    .dataframe tbody tr th {\n",
       "        vertical-align: top;\n",
       "    }\n",
       "\n",
       "    .dataframe thead th {\n",
       "        text-align: right;\n",
       "    }\n",
       "</style>\n",
       "<table border=\"1\" class=\"dataframe\">\n",
       "  <thead>\n",
       "    <tr style=\"text-align: right;\">\n",
       "      <th></th>\n",
       "      <th>directory</th>\n",
       "      <th>FOV</th>\n",
       "      <th>trench</th>\n",
       "      <th>colour_channel</th>\n",
       "      <th>timepoint</th>\n",
       "      <th>trench_cum</th>\n",
       "      <th>trench_id</th>\n",
       "      <th>trench_no_per_FOV</th>\n",
       "      <th>sample_id</th>\n",
       "    </tr>\n",
       "  </thead>\n",
       "  <tbody>\n",
       "    <tr>\n",
       "      <th>0</th>\n",
       "      <td>2_sliced_trenches/xy000_tr0_Green_T0000.png</td>\n",
       "      <td>xy000</td>\n",
       "      <td>0</td>\n",
       "      <td>Green</td>\n",
       "      <td>0</td>\n",
       "      <td>0</td>\n",
       "      <td>xy000_tr00</td>\n",
       "      <td>15</td>\n",
       "      <td>NC</td>\n",
       "    </tr>\n",
       "    <tr>\n",
       "      <th>1</th>\n",
       "      <td>2_sliced_trenches/xy000_tr0_Green_T0001.png</td>\n",
       "      <td>xy000</td>\n",
       "      <td>0</td>\n",
       "      <td>Green</td>\n",
       "      <td>1</td>\n",
       "      <td>0</td>\n",
       "      <td>xy000_tr00</td>\n",
       "      <td>15</td>\n",
       "      <td>NC</td>\n",
       "    </tr>\n",
       "    <tr>\n",
       "      <th>2</th>\n",
       "      <td>2_sliced_trenches/xy000_tr0_Green_T0002.png</td>\n",
       "      <td>xy000</td>\n",
       "      <td>0</td>\n",
       "      <td>Green</td>\n",
       "      <td>2</td>\n",
       "      <td>0</td>\n",
       "      <td>xy000_tr00</td>\n",
       "      <td>15</td>\n",
       "      <td>NC</td>\n",
       "    </tr>\n",
       "    <tr>\n",
       "      <th>3</th>\n",
       "      <td>2_sliced_trenches/xy000_tr0_Green_T0003.png</td>\n",
       "      <td>xy000</td>\n",
       "      <td>0</td>\n",
       "      <td>Green</td>\n",
       "      <td>3</td>\n",
       "      <td>0</td>\n",
       "      <td>xy000_tr00</td>\n",
       "      <td>15</td>\n",
       "      <td>NC</td>\n",
       "    </tr>\n",
       "    <tr>\n",
       "      <th>4</th>\n",
       "      <td>2_sliced_trenches/xy000_tr0_Green_T0004.png</td>\n",
       "      <td>xy000</td>\n",
       "      <td>0</td>\n",
       "      <td>Green</td>\n",
       "      <td>4</td>\n",
       "      <td>0</td>\n",
       "      <td>xy000_tr00</td>\n",
       "      <td>15</td>\n",
       "      <td>NC</td>\n",
       "    </tr>\n",
       "    <tr>\n",
       "      <th>...</th>\n",
       "      <td>...</td>\n",
       "      <td>...</td>\n",
       "      <td>...</td>\n",
       "      <td>...</td>\n",
       "      <td>...</td>\n",
       "      <td>...</td>\n",
       "      <td>...</td>\n",
       "      <td>...</td>\n",
       "      <td>...</td>\n",
       "    </tr>\n",
       "    <tr>\n",
       "      <th>536995</th>\n",
       "      <td>2_sliced_trenches/xy127_tr4_mCherry_T0095.png</td>\n",
       "      <td>xy127</td>\n",
       "      <td>4</td>\n",
       "      <td>mCherry</td>\n",
       "      <td>95</td>\n",
       "      <td>1789</td>\n",
       "      <td>xy127_tr04</td>\n",
       "      <td>5</td>\n",
       "      <td>pUC</td>\n",
       "    </tr>\n",
       "    <tr>\n",
       "      <th>536996</th>\n",
       "      <td>2_sliced_trenches/xy127_tr4_mCherry_T0096.png</td>\n",
       "      <td>xy127</td>\n",
       "      <td>4</td>\n",
       "      <td>mCherry</td>\n",
       "      <td>96</td>\n",
       "      <td>1789</td>\n",
       "      <td>xy127_tr04</td>\n",
       "      <td>5</td>\n",
       "      <td>pUC</td>\n",
       "    </tr>\n",
       "    <tr>\n",
       "      <th>536997</th>\n",
       "      <td>2_sliced_trenches/xy127_tr4_mCherry_T0097.png</td>\n",
       "      <td>xy127</td>\n",
       "      <td>4</td>\n",
       "      <td>mCherry</td>\n",
       "      <td>97</td>\n",
       "      <td>1789</td>\n",
       "      <td>xy127_tr04</td>\n",
       "      <td>5</td>\n",
       "      <td>pUC</td>\n",
       "    </tr>\n",
       "    <tr>\n",
       "      <th>536998</th>\n",
       "      <td>2_sliced_trenches/xy127_tr4_mCherry_T0098.png</td>\n",
       "      <td>xy127</td>\n",
       "      <td>4</td>\n",
       "      <td>mCherry</td>\n",
       "      <td>98</td>\n",
       "      <td>1789</td>\n",
       "      <td>xy127_tr04</td>\n",
       "      <td>5</td>\n",
       "      <td>pUC</td>\n",
       "    </tr>\n",
       "    <tr>\n",
       "      <th>536999</th>\n",
       "      <td>2_sliced_trenches/xy127_tr4_mCherry_T0099.png</td>\n",
       "      <td>xy127</td>\n",
       "      <td>4</td>\n",
       "      <td>mCherry</td>\n",
       "      <td>99</td>\n",
       "      <td>1789</td>\n",
       "      <td>xy127_tr04</td>\n",
       "      <td>5</td>\n",
       "      <td>pUC</td>\n",
       "    </tr>\n",
       "  </tbody>\n",
       "</table>\n",
       "<p>537000 rows × 9 columns</p>\n",
       "</div>"
      ],
      "text/plain": [
       "                                            directory    FOV  trench  \\\n",
       "0         2_sliced_trenches/xy000_tr0_Green_T0000.png  xy000       0   \n",
       "1         2_sliced_trenches/xy000_tr0_Green_T0001.png  xy000       0   \n",
       "2         2_sliced_trenches/xy000_tr0_Green_T0002.png  xy000       0   \n",
       "3         2_sliced_trenches/xy000_tr0_Green_T0003.png  xy000       0   \n",
       "4         2_sliced_trenches/xy000_tr0_Green_T0004.png  xy000       0   \n",
       "...                                               ...    ...     ...   \n",
       "536995  2_sliced_trenches/xy127_tr4_mCherry_T0095.png  xy127       4   \n",
       "536996  2_sliced_trenches/xy127_tr4_mCherry_T0096.png  xy127       4   \n",
       "536997  2_sliced_trenches/xy127_tr4_mCherry_T0097.png  xy127       4   \n",
       "536998  2_sliced_trenches/xy127_tr4_mCherry_T0098.png  xy127       4   \n",
       "536999  2_sliced_trenches/xy127_tr4_mCherry_T0099.png  xy127       4   \n",
       "\n",
       "       colour_channel  timepoint  trench_cum   trench_id  trench_no_per_FOV  \\\n",
       "0               Green          0           0  xy000_tr00                 15   \n",
       "1               Green          1           0  xy000_tr00                 15   \n",
       "2               Green          2           0  xy000_tr00                 15   \n",
       "3               Green          3           0  xy000_tr00                 15   \n",
       "4               Green          4           0  xy000_tr00                 15   \n",
       "...               ...        ...         ...         ...                ...   \n",
       "536995        mCherry         95        1789  xy127_tr04                  5   \n",
       "536996        mCherry         96        1789  xy127_tr04                  5   \n",
       "536997        mCherry         97        1789  xy127_tr04                  5   \n",
       "536998        mCherry         98        1789  xy127_tr04                  5   \n",
       "536999        mCherry         99        1789  xy127_tr04                  5   \n",
       "\n",
       "       sample_id  \n",
       "0             NC  \n",
       "1             NC  \n",
       "2             NC  \n",
       "3             NC  \n",
       "4             NC  \n",
       "...          ...  \n",
       "536995       pUC  \n",
       "536996       pUC  \n",
       "536997       pUC  \n",
       "536998       pUC  \n",
       "536999       pUC  \n",
       "\n",
       "[537000 rows x 9 columns]"
      ]
     },
     "execution_count": 39,
     "metadata": {},
     "output_type": "execute_result"
    }
   ],
   "source": [
    "trench_metadata#.to_csv('3_trench_master_tiff/trench_master_metadata.csv',index=False)"
   ]
  },
  {
   "cell_type": "markdown",
   "metadata": {},
   "source": [
    "## Create integrated trench ims"
   ]
  },
  {
   "cell_type": "code",
   "execution_count": 40,
   "metadata": {},
   "outputs": [
    {
     "data": {
      "application/vnd.jupyter.widget-view+json": {
       "model_id": "212a2e9ad9e1411099a18946beb0cc43",
       "version_major": 2,
       "version_minor": 0
      },
      "text/plain": [
       "  0%|          | 0/1790 [00:00<?, ?it/s]"
      ]
     },
     "metadata": {},
     "output_type": "display_data"
    }
   ],
   "source": [
    "integrated_segm_trench_list = []\n",
    "# loop through each trench\n",
    "for unique_trench_idx in tqdm(range(len(trench_metadata.trench_cum.unique()[:]))):\n",
    "    current_trench_info_df = trench_metadata.loc[(trench_metadata.trench_cum == unique_trench_idx) \n",
    "                                                 & (trench_metadata.colour_channel == channel_ids['segmentation_marker_id'])]\n",
    "    # generate empty ims of same dimensions\n",
    "    integrated_segm_array = np.zeros(convert_to_nparray( current_trench_info_df.directory.iloc[0]).shape)\n",
    "    # choose time frame to integrate (sometimes start/end of experiments can have \"trench intruders\")\n",
    "    time_start, time_end = 0, 80\n",
    "    for segm_dir_index, segm_directory in enumerate(current_trench_info_df.directory.to_list()[time_start:time_end]):\n",
    "        integrated_segm_array = integrated_segm_array+convert_to_nparray(segm_directory)\n",
    "    integrated_segm_trench_list.append(integrated_segm_array)\n",
    "    #display(current_trench_info_df.directory.iloc[0])"
   ]
  },
  {
   "cell_type": "code",
   "execution_count": 41,
   "metadata": {},
   "outputs": [
    {
     "data": {
      "application/vnd.jupyter.widget-view+json": {
       "model_id": "53d3ee75c6c349f4b540edd6b7fb4446",
       "version_major": 2,
       "version_minor": 0
      },
      "text/plain": [
       "  0%|          | 0/1790 [00:00<?, ?it/s]"
      ]
     },
     "metadata": {},
     "output_type": "display_data"
    }
   ],
   "source": [
    "shape_list=[]\n",
    "for shape in tqdm(integrated_segm_trench_list):\n",
    "    shape_list.append(shape.shape)"
   ]
  },
  {
   "cell_type": "code",
   "execution_count": 42,
   "metadata": {},
   "outputs": [
    {
     "data": {
      "text/plain": [
       "73    1790\n",
       "Name: 1, dtype: int64"
      ]
     },
     "execution_count": 42,
     "metadata": {},
     "output_type": "execute_result"
    }
   ],
   "source": [
    "# remove \n",
    "x_df = pd.DataFrame(shape_list)#[1].value_counts()\n",
    "#index_to_del = x_df.loc[x_df[1]<73].index.to_list()\n",
    "x_df[1].value_counts()"
   ]
  },
  {
   "cell_type": "raw",
   "metadata": {},
   "source": [
    "for index_r in tqdm(index_to_del):\n",
    "    print(index_r)\n",
    "    data_to_remove_list = trench_metadata.loc[trench_metadata.trench_cum==index_r].directory.to_list()\n",
    "    for dir_to_r in data_to_remove_list:\n",
    "        os.remove(dir_to_r)"
   ]
  },
  {
   "cell_type": "raw",
   "metadata": {},
   "source": [
    "from skimage import data, exposure, img_as_float\n",
    "from skimage.morphology import white_tophat, black_tophat, disk\n",
    "def subtract_background(image, radius=50, light_bg=False):\n",
    "    str_el = disk(radius) #you can also use 'ball' here to get a slightly smoother result at the cost of increased computing time\n",
    "    if light_bg:\n",
    "        return black_tophat(image, str_el)\n",
    "    else:\n",
    "        return white_tophat(image, str_el)"
   ]
  },
  {
   "cell_type": "code",
   "execution_count": 43,
   "metadata": {},
   "outputs": [],
   "source": [
    "def create_highest_intensity_mask(np_ims_array, percentile_number):\n",
    "    \"\"\"Create a binary mask of the highest nth percentile of pixels.\n",
    "    In1: numpy array\n",
    "    In2: int or float\n",
    "    Out: numpy array (binary image)\n",
    "    \"\"\"\n",
    "    threshold_value = np.percentile(np_ims_array,percentile_number)\n",
    "    percentage_indices = np.argwhere(np_ims_array>threshold_value)\n",
    "    binary_mask = np.zeros(np_ims_array.shape)\n",
    "    for value in percentage_indices:\n",
    "        binary_mask[value[0],value[1]] = 1\n",
    "    return binary_mask"
   ]
  },
  {
   "cell_type": "markdown",
   "metadata": {},
   "source": [
    "## Loading Threshold Value Identification"
   ]
  },
  {
   "cell_type": "code",
   "execution_count": 44,
   "metadata": {},
   "outputs": [
    {
     "data": {
      "application/vnd.jupyter.widget-view+json": {
       "model_id": "1a3b11c609274b299ffd76a5a8a18339",
       "version_major": 2,
       "version_minor": 0
      },
      "text/plain": [
       "interactive(children=(IntSlider(value=894, description='trench_idx', max=1789), IntSlider(value=49, descriptio…"
      ]
     },
     "metadata": {},
     "output_type": "display_data"
    }
   ],
   "source": [
    "@interact\n",
    "def show_trench(trench_idx=(0,len(integrated_segm_trench_list)-1),\n",
    "                time=(0,99),\n",
    "                percentile=(50,100),\n",
    "                ): #sigma=(0,80)\n",
    "    plt.close()\n",
    "    fig = plt.figure(figsize=(6,6),constrained_layout=True)\n",
    "    gs = gridspec.GridSpec(1, 4, figure=fig)\n",
    "    plt.suptitle(f\"Loading Threshold Value Identification\\ntrench {trench_idx} - timepoint {time}\",size=14)\n",
    "    ax1 = fig.add_subplot(gs[0, 0])\n",
    "    #ax1.set_xlabel(f\"{img0.min()}-{img0.max()}\")\n",
    "    current_im = integrated_segm_trench_list[trench_idx]# subtract_background(integrated_segm_trench_list[x])\n",
    "    ax1.set_title(f\"Segm. Integrated\")\n",
    "    ax1.imshow(current_im)\n",
    "    ax1.set_xlabel(f\"{int(integrated_segm_trench_list[trench_idx].min())} - {int(integrated_segm_trench_list[trench_idx].max())}\")\n",
    "\n",
    "    ax2 = fig.add_subplot(gs[0, 1])\n",
    "    ax2.set_title(f\"Percentile: {100-percentile}%\")\n",
    "    mask=create_highest_intensity_mask(integrated_segm_trench_list[trench_idx],percentile)\n",
    "    ax2.imshow(mask)\n",
    "    ax2.set_xlabel(f\"Median: {int(np.median(integrated_segm_trench_list[trench_idx][create_highest_intensity_mask(current_im,percentile)==1]))}\")\n",
    "#     segm_hor_intensity_profile,peaks_intensities = find_merged_segm_FOV_trench_peaks(integrated_segm_trench_list[trench_idx],pixel_micron_conversion,\n",
    "#                                                                                      trench_distance,sigma=40,plot=False)\n",
    "    ax3 = fig.add_subplot(gs[0, 2])\n",
    "    ax3.set_title(f\"PC\")\n",
    "    PC_im=convert_to_nparray(trench_metadata.loc[(trench_metadata.trench_cum==trench_idx) & (trench_metadata.colour_channel=='PC')].directory.iloc[time])\n",
    "    ax3.imshow(PC_im)\n",
    "    \n",
    "    ax4 = fig.add_subplot(gs[0, 3])\n",
    "    ax4.set_title(f\"Segm. Marker\")\n",
    "    segm_im=convert_to_nparray(trench_metadata.loc[(trench_metadata.trench_cum==trench_idx) & (trench_metadata.colour_channel=='mCherry')].directory.iloc[time])\n",
    "    ax4.imshow(segm_im,cmap=RFP_cmap)\n",
    "    ax4.set_xlabel(f\"{segm_im.min()} - {segm_im.max()}\")\n",
    "    # plt.savefig(f\"load_thr_{trench_idx}_{percentile}_{time}.pdf\",dpi=150)\n",
    "    plt.show()"
   ]
  },
  {
   "cell_type": "code",
   "execution_count": null,
   "metadata": {},
   "outputs": [],
   "source": []
  },
  {
   "cell_type": "markdown",
   "metadata": {},
   "source": [
    "### Cell Retention\n",
    "Find loading efficency at t(-1)"
   ]
  },
  {
   "cell_type": "code",
   "execution_count": 59,
   "metadata": {},
   "outputs": [
    {
     "data": {
      "text/html": [
       "<div>\n",
       "<style scoped>\n",
       "    .dataframe tbody tr th:only-of-type {\n",
       "        vertical-align: middle;\n",
       "    }\n",
       "\n",
       "    .dataframe tbody tr th {\n",
       "        vertical-align: top;\n",
       "    }\n",
       "\n",
       "    .dataframe thead th {\n",
       "        text-align: right;\n",
       "    }\n",
       "</style>\n",
       "<table border=\"1\" class=\"dataframe\">\n",
       "  <thead>\n",
       "    <tr style=\"text-align: right;\">\n",
       "      <th></th>\n",
       "      <th>directory</th>\n",
       "      <th>FOV</th>\n",
       "      <th>trench</th>\n",
       "      <th>colour_channel</th>\n",
       "      <th>timepoint</th>\n",
       "      <th>trench_cum</th>\n",
       "      <th>trench_id</th>\n",
       "      <th>trench_no_per_FOV</th>\n",
       "      <th>sample_id</th>\n",
       "      <th>loading_value_tzero</th>\n",
       "    </tr>\n",
       "  </thead>\n",
       "  <tbody>\n",
       "    <tr>\n",
       "      <th>299</th>\n",
       "      <td>2_sliced_trenches/xy000_tr0_mCherry_T0099.png</td>\n",
       "      <td>xy000</td>\n",
       "      <td>0</td>\n",
       "      <td>mCherry</td>\n",
       "      <td>99</td>\n",
       "      <td>0</td>\n",
       "      <td>xy000_tr00</td>\n",
       "      <td>15</td>\n",
       "      <td>NC</td>\n",
       "      <td>1</td>\n",
       "    </tr>\n",
       "    <tr>\n",
       "      <th>599</th>\n",
       "      <td>2_sliced_trenches/xy000_tr1_mCherry_T0099.png</td>\n",
       "      <td>xy000</td>\n",
       "      <td>1</td>\n",
       "      <td>mCherry</td>\n",
       "      <td>99</td>\n",
       "      <td>1</td>\n",
       "      <td>xy000_tr01</td>\n",
       "      <td>15</td>\n",
       "      <td>NC</td>\n",
       "      <td>1</td>\n",
       "    </tr>\n",
       "    <tr>\n",
       "      <th>899</th>\n",
       "      <td>2_sliced_trenches/xy000_tr2_mCherry_T0099.png</td>\n",
       "      <td>xy000</td>\n",
       "      <td>2</td>\n",
       "      <td>mCherry</td>\n",
       "      <td>99</td>\n",
       "      <td>2</td>\n",
       "      <td>xy000_tr02</td>\n",
       "      <td>15</td>\n",
       "      <td>NC</td>\n",
       "      <td>1</td>\n",
       "    </tr>\n",
       "    <tr>\n",
       "      <th>1199</th>\n",
       "      <td>2_sliced_trenches/xy000_tr3_mCherry_T0099.png</td>\n",
       "      <td>xy000</td>\n",
       "      <td>3</td>\n",
       "      <td>mCherry</td>\n",
       "      <td>99</td>\n",
       "      <td>3</td>\n",
       "      <td>xy000_tr03</td>\n",
       "      <td>15</td>\n",
       "      <td>NC</td>\n",
       "      <td>1</td>\n",
       "    </tr>\n",
       "    <tr>\n",
       "      <th>1499</th>\n",
       "      <td>2_sliced_trenches/xy000_tr4_mCherry_T0099.png</td>\n",
       "      <td>xy000</td>\n",
       "      <td>4</td>\n",
       "      <td>mCherry</td>\n",
       "      <td>99</td>\n",
       "      <td>4</td>\n",
       "      <td>xy000_tr04</td>\n",
       "      <td>15</td>\n",
       "      <td>NC</td>\n",
       "      <td>1</td>\n",
       "    </tr>\n",
       "    <tr>\n",
       "      <th>...</th>\n",
       "      <td>...</td>\n",
       "      <td>...</td>\n",
       "      <td>...</td>\n",
       "      <td>...</td>\n",
       "      <td>...</td>\n",
       "      <td>...</td>\n",
       "      <td>...</td>\n",
       "      <td>...</td>\n",
       "      <td>...</td>\n",
       "      <td>...</td>\n",
       "    </tr>\n",
       "    <tr>\n",
       "      <th>535799</th>\n",
       "      <td>2_sliced_trenches/xy127_tr0_mCherry_T0099.png</td>\n",
       "      <td>xy127</td>\n",
       "      <td>0</td>\n",
       "      <td>mCherry</td>\n",
       "      <td>99</td>\n",
       "      <td>1785</td>\n",
       "      <td>xy127_tr00</td>\n",
       "      <td>5</td>\n",
       "      <td>pUC</td>\n",
       "      <td>1</td>\n",
       "    </tr>\n",
       "    <tr>\n",
       "      <th>536099</th>\n",
       "      <td>2_sliced_trenches/xy127_tr1_mCherry_T0099.png</td>\n",
       "      <td>xy127</td>\n",
       "      <td>1</td>\n",
       "      <td>mCherry</td>\n",
       "      <td>99</td>\n",
       "      <td>1786</td>\n",
       "      <td>xy127_tr01</td>\n",
       "      <td>5</td>\n",
       "      <td>pUC</td>\n",
       "      <td>1</td>\n",
       "    </tr>\n",
       "    <tr>\n",
       "      <th>536399</th>\n",
       "      <td>2_sliced_trenches/xy127_tr2_mCherry_T0099.png</td>\n",
       "      <td>xy127</td>\n",
       "      <td>2</td>\n",
       "      <td>mCherry</td>\n",
       "      <td>99</td>\n",
       "      <td>1787</td>\n",
       "      <td>xy127_tr02</td>\n",
       "      <td>5</td>\n",
       "      <td>pUC</td>\n",
       "      <td>0</td>\n",
       "    </tr>\n",
       "    <tr>\n",
       "      <th>536699</th>\n",
       "      <td>2_sliced_trenches/xy127_tr3_mCherry_T0099.png</td>\n",
       "      <td>xy127</td>\n",
       "      <td>3</td>\n",
       "      <td>mCherry</td>\n",
       "      <td>99</td>\n",
       "      <td>1788</td>\n",
       "      <td>xy127_tr03</td>\n",
       "      <td>5</td>\n",
       "      <td>pUC</td>\n",
       "      <td>0</td>\n",
       "    </tr>\n",
       "    <tr>\n",
       "      <th>536999</th>\n",
       "      <td>2_sliced_trenches/xy127_tr4_mCherry_T0099.png</td>\n",
       "      <td>xy127</td>\n",
       "      <td>4</td>\n",
       "      <td>mCherry</td>\n",
       "      <td>99</td>\n",
       "      <td>1789</td>\n",
       "      <td>xy127_tr04</td>\n",
       "      <td>5</td>\n",
       "      <td>pUC</td>\n",
       "      <td>1</td>\n",
       "    </tr>\n",
       "  </tbody>\n",
       "</table>\n",
       "<p>1790 rows × 10 columns</p>\n",
       "</div>"
      ],
      "text/plain": [
       "                                            directory    FOV  trench  \\\n",
       "299     2_sliced_trenches/xy000_tr0_mCherry_T0099.png  xy000       0   \n",
       "599     2_sliced_trenches/xy000_tr1_mCherry_T0099.png  xy000       1   \n",
       "899     2_sliced_trenches/xy000_tr2_mCherry_T0099.png  xy000       2   \n",
       "1199    2_sliced_trenches/xy000_tr3_mCherry_T0099.png  xy000       3   \n",
       "1499    2_sliced_trenches/xy000_tr4_mCherry_T0099.png  xy000       4   \n",
       "...                                               ...    ...     ...   \n",
       "535799  2_sliced_trenches/xy127_tr0_mCherry_T0099.png  xy127       0   \n",
       "536099  2_sliced_trenches/xy127_tr1_mCherry_T0099.png  xy127       1   \n",
       "536399  2_sliced_trenches/xy127_tr2_mCherry_T0099.png  xy127       2   \n",
       "536699  2_sliced_trenches/xy127_tr3_mCherry_T0099.png  xy127       3   \n",
       "536999  2_sliced_trenches/xy127_tr4_mCherry_T0099.png  xy127       4   \n",
       "\n",
       "       colour_channel  timepoint  trench_cum   trench_id  trench_no_per_FOV  \\\n",
       "299           mCherry         99           0  xy000_tr00                 15   \n",
       "599           mCherry         99           1  xy000_tr01                 15   \n",
       "899           mCherry         99           2  xy000_tr02                 15   \n",
       "1199          mCherry         99           3  xy000_tr03                 15   \n",
       "1499          mCherry         99           4  xy000_tr04                 15   \n",
       "...               ...        ...         ...         ...                ...   \n",
       "535799        mCherry         99        1785  xy127_tr00                  5   \n",
       "536099        mCherry         99        1786  xy127_tr01                  5   \n",
       "536399        mCherry         99        1787  xy127_tr02                  5   \n",
       "536699        mCherry         99        1788  xy127_tr03                  5   \n",
       "536999        mCherry         99        1789  xy127_tr04                  5   \n",
       "\n",
       "       sample_id  loading_value_tzero  \n",
       "299           NC                    1  \n",
       "599           NC                    1  \n",
       "899           NC                    1  \n",
       "1199          NC                    1  \n",
       "1499          NC                    1  \n",
       "...          ...                  ...  \n",
       "535799       pUC                    1  \n",
       "536099       pUC                    1  \n",
       "536399       pUC                    0  \n",
       "536699       pUC                    0  \n",
       "536999       pUC                    1  \n",
       "\n",
       "[1790 rows x 10 columns]"
      ]
     },
     "execution_count": 59,
     "metadata": {},
     "output_type": "execute_result"
    }
   ],
   "source": []
  },
  {
   "cell_type": "code",
   "execution_count": 57,
   "metadata": {},
   "outputs": [
    {
     "data": {
      "application/vnd.jupyter.widget-view+json": {
       "model_id": "ced029a5a3444f268f7a4ecef458e7b9",
       "version_major": 2,
       "version_minor": 0
      },
      "text/plain": [
       "interactive(children=(IntSlider(value=894, description='trench_idx', max=1789), IntSlider(value=49, descriptio…"
      ]
     },
     "metadata": {},
     "output_type": "display_data"
    }
   ],
   "source": [
    "@interact\n",
    "def show_trench(trench_idx=(0,len(integrated_segm_trench_list)-1),\n",
    "                time=(0,99),\n",
    "                percentile=(50,100),\n",
    "                ): #sigma=(0,80)\n",
    "    plt.close()\n",
    "    fig = plt.figure(figsize=(6,6),constrained_layout=True)\n",
    "    gs = gridspec.GridSpec(1, 4, figure=fig)\n",
    "    plt.suptitle(f\"Loading Threshold Value Identification\\ntrench {trench_idx} - timepoint {time}\",size=14)\n",
    "    ax1 = fig.add_subplot(gs[0, 0])\n",
    "    #ax1.set_xlabel(f\"{img0.min()}-{img0.max()}\")\n",
    "    current_im =convert_to_nparray(trench_metadata.loc[(trench_metadata.trench_cum==trench_idx) & (trench_metadata.colour_channel=='mCherry')].directory.iloc[time])\n",
    "    ax1.set_title(f\"Segmentation\\nmCherry\")\n",
    "    ax1.imshow(current_im)\n",
    "    ax1.set_xlabel(f\"{int(current_im.min())} - {int(current_im.max())}\")\n",
    "\n",
    "    ax2 = fig.add_subplot(gs[0, 1])\n",
    "    ax2.set_title(f\"Percentile: {100-percentile}%\")\n",
    "    mask=create_highest_intensity_mask(current_im,percentile)\n",
    "    ax2.imshow(mask)\n",
    "    ax2.set_xlabel(f\"Median: {int(np.median(current_im[create_highest_intensity_mask(current_im,percentile)==1]))}\")\n",
    "#     segm_hor_intensity_profile,peaks_intensities = find_merged_segm_FOV_trench_peaks(integrated_segm_trench_list[trench_idx],pixel_micron_conversion,\n",
    "#                                                                                      trench_distance,sigma=40,plot=False)\n",
    "    ax3 = fig.add_subplot(gs[0, 2])\n",
    "    ax3.set_title(f\"PC\")\n",
    "    PC_im=convert_to_nparray(trench_metadata.loc[(trench_metadata.trench_cum==trench_idx) & (trench_metadata.colour_channel=='PC')].directory.iloc[time])\n",
    "    ax3.imshow(PC_im)\n",
    "    \n",
    "    ax4 = fig.add_subplot(gs[0, 3])\n",
    "    ax4.set_title(f\"Segm. Marker\")\n",
    "    segm_im=convert_to_nparray(trench_metadata.loc[(trench_metadata.trench_cum==trench_idx) & (trench_metadata.colour_channel=='mCherry')].directory.iloc[time])\n",
    "    ax4.imshow(segm_im,cmap=RFP_cmap)\n",
    "    ax4.set_xlabel(f\"{segm_im.min()} - {segm_im.max()}\")\n",
    "    # plt.savefig(f\"load_thr_{trench_idx}_{percentile}_{time}.pdf\",dpi=150)\n",
    "    plt.show()"
   ]
  },
  {
   "cell_type": "code",
   "execution_count": null,
   "metadata": {},
   "outputs": [],
   "source": [
    "# tr=1590 is an example of a cell \"invading\" an empty trench"
   ]
  },
  {
   "cell_type": "code",
   "execution_count": 91,
   "metadata": {},
   "outputs": [],
   "source": [
    "from collections import Counter"
   ]
  },
  {
   "cell_type": "code",
   "execution_count": 95,
   "metadata": {},
   "outputs": [
    {
     "data": {
      "application/vnd.jupyter.widget-view+json": {
       "model_id": "0aefe06ad6e94f7b948f011d53a5c7e5",
       "version_major": 2,
       "version_minor": 0
      },
      "text/plain": [
       "0it [00:00, ?it/s]"
      ]
     },
     "metadata": {},
     "output_type": "display_data"
    }
   ],
   "source": [
    "t_end_data_info = trench_metadata.loc[(trench_metadata.timepoint==88) & (trench_metadata.colour_channel=='mCherry')]\n",
    "loading_dict_tend={}\n",
    "for idx, int_trench_im in tqdm(enumerate(range(len(t_end_data_info)))):\n",
    "    current_directory = t_end_data_info.loc[(t_end_data_info.trench_cum==idx)].directory.iloc[0]\n",
    "    current_im = convert_to_nparray(current_directory)\n",
    "    # percentile median based\n",
    "    mask=create_highest_intensity_mask(current_im,95)\n",
    "    percentile_median = np.median(current_im[mask==1])\n",
    "    chosen_threshold = 300\n",
    "    if percentile_median > chosen_threshold:\n",
    "        loading_dict_tend[idx] = 1\n",
    "    else:\n",
    "        loading_dict_tend[idx] = 0"
   ]
  },
  {
   "cell_type": "code",
   "execution_count": 96,
   "metadata": {},
   "outputs": [
    {
     "name": "stdout",
     "output_type": "stream",
     "text": [
      "NC\n",
      "  - 0 - 449\n",
      "  - Counter({1: 430, 0: 19})\n",
      "  - 0.9907834101382489\n",
      "pSC101\n",
      "  - 450 - 896\n",
      "  - Counter({1: 415, 0: 31})\n",
      "  - 0.9904534606205251\n",
      "p15A\n",
      "  - 897 - 1342\n",
      "  - Counter({1: 319, 0: 126})\n",
      "  - 0.9876160990712074\n",
      "pUC\n",
      "  - 1343 - 1789\n",
      "  - Counter({0: 308, 1: 138})\n",
      "  - 0.8734177215189873\n"
     ]
    }
   ],
   "source": [
    "load_eff_t0 = [434, 419, 323, 158]\n",
    "for idx, trench_name in enumerate(trench_metadata.sample_id.unique()):\n",
    "    trenches_per_sample = trench_metadata.loc[(trench_metadata.timepoint==99) & (trench_metadata.colour_channel=='PC') & (trench_metadata.sample_id==trench_name)].trench_cum\n",
    "    print(f\"{trench_name}\\n  - {trenches_per_sample.iloc[0]} - {trenches_per_sample.iloc[-1]}\")\n",
    "    summary = Counter(list(loading_dict_tend.values())[trenches_per_sample.iloc[0]:trenches_per_sample.iloc[-1]])\n",
    "    print(f\"  - {summary}\")\n",
    "    print(f\"  - {summary[1] / load_eff_t0[idx]}\")"
   ]
  },
  {
   "cell_type": "code",
   "execution_count": 45,
   "metadata": {},
   "outputs": [
    {
     "data": {
      "application/vnd.jupyter.widget-view+json": {
       "model_id": "9fca7ce9dab24864a7f3262437f27f7a",
       "version_major": 2,
       "version_minor": 0
      },
      "text/plain": [
       "0it [00:00, ?it/s]"
      ]
     },
     "metadata": {},
     "output_type": "display_data"
    }
   ],
   "source": [
    "loading_dict={}\n",
    "for idx, int_trench_im in tqdm(enumerate(integrated_segm_trench_list)):\n",
    "#     # horizontal intensity profiles based\n",
    "#     segm_hor_intensity_profile,peaks_intensities = find_merged_segm_FOV_trench_peaks(integrated_segm_trench_list[idx],pixel_micron_conversion,\n",
    "#                                                                                      trench_distance,40,plot=False)\n",
    "#     if (len(peaks_intensities) == 1) and (peaks_intensities.intensity.iloc[0]>13_000):\n",
    "#         loading_dict[idx] = 1\n",
    "#     else:\n",
    "#         loading_dict[idx] = 0\n",
    "    # percentile median based\n",
    "    mask=create_highest_intensity_mask(integrated_segm_trench_list[idx],99)\n",
    "    percentile_median = np.median(integrated_segm_trench_list[idx][mask==1])\n",
    "    chosen_threshold = 21_000\n",
    "    if percentile_median > chosen_threshold:\n",
    "        loading_dict[idx] = 1\n",
    "    else:\n",
    "        loading_dict[idx] = 0"
   ]
  },
  {
   "cell_type": "code",
   "execution_count": 46,
   "metadata": {},
   "outputs": [
    {
     "data": {
      "text/plain": [
       "1    1334\n",
       "0     456\n",
       "Name: 0, dtype: int64"
      ]
     },
     "execution_count": 46,
     "metadata": {},
     "output_type": "execute_result"
    }
   ],
   "source": [
    "pd.DataFrame.from_dict(loading_dict,orient='index')[0].value_counts()"
   ]
  },
  {
   "cell_type": "code",
   "execution_count": 47,
   "metadata": {},
   "outputs": [],
   "source": [
    "interim_info_df['loading_value_tzero'] = interim_info_df.trench_cum.apply(lambda x: loading_dict[x])"
   ]
  },
  {
   "cell_type": "code",
   "execution_count": 48,
   "metadata": {},
   "outputs": [
    {
     "data": {
      "text/plain": [
       "NC        450\n",
       "pSC101    447\n",
       "pUC       447\n",
       "p15A      446\n",
       "Name: sample_id, dtype: int64"
      ]
     },
     "execution_count": 48,
     "metadata": {},
     "output_type": "execute_result"
    }
   ],
   "source": [
    "interim_info_df.loc[(interim_info_df.colour_channel=='PC') & (interim_info_df.timepoint==70)].sample_id.value_counts()"
   ]
  },
  {
   "cell_type": "code",
   "execution_count": 49,
   "metadata": {},
   "outputs": [
    {
     "data": {
      "text/plain": [
       "NC        434\n",
       "pSC101    419\n",
       "p15A      323\n",
       "pUC       158\n",
       "Name: sample_id, dtype: int64"
      ]
     },
     "execution_count": 49,
     "metadata": {},
     "output_type": "execute_result"
    }
   ],
   "source": [
    "interim_info_df.loc[(interim_info_df.colour_channel=='PC') & (interim_info_df.timepoint==70) & (interim_info_df.loading_value_tzero==1)].sample_id.value_counts()"
   ]
  },
  {
   "cell_type": "code",
   "execution_count": 50,
   "metadata": {},
   "outputs": [
    {
     "data": {
      "text/plain": [
       "pUC       289\n",
       "p15A      123\n",
       "pSC101     28\n",
       "NC         16\n",
       "Name: sample_id, dtype: int64"
      ]
     },
     "execution_count": 50,
     "metadata": {},
     "output_type": "execute_result"
    }
   ],
   "source": [
    "interim_info_df.loc[(interim_info_df.colour_channel=='PC') & (interim_info_df.timepoint==70) & (interim_info_df.loading_value_tzero==0)].sample_id.value_counts()"
   ]
  },
  {
   "cell_type": "markdown",
   "metadata": {},
   "source": [
    "### Figure: Loading Efficiency"
   ]
  },
  {
   "cell_type": "code",
   "execution_count": 95,
   "metadata": {},
   "outputs": [
    {
     "name": "stderr",
     "output_type": "stream",
     "text": [
      "/Users/camillomoschner/opt/anaconda3/envs/napari/lib/python3.9/site-packages/matplotlib_inline/backend_inline.py:27: UserWarning: The Figure parameters 'tight_layout' and 'constrained_layout' cannot be used together. Please use 'layout' parameter\n",
      "  return new_figure_manager_given_figure(num, FigureClass(*args, **kwargs))\n"
     ]
    },
    {
     "data": {
      "image/png": "[encoded data removed]",
      "text/plain": [
       "<Figure size 900x800 with 1 Axes>"
      ]
     },
     "metadata": {},
     "output_type": "display_data"
    }
   ],
   "source": [
    "font = {'family': 'serif', 'color':  'royalblue',\n",
    "        'weight': 'bold', 'size': 18,}\n",
    "fig = plt.figure(figsize=(9,8), constrained_layout=True, tight_layout=True)\n",
    "gs = gridspec.GridSpec(1,1, figure=fig)\n",
    "\n",
    "ax1= fig.add_subplot(gs[0,0])\n",
    "\n",
    "samples = ['NC','pSC101','p15A','pUC']\n",
    "n_trenches = interim_info_df.loc[(interim_info_df.colour_channel=='PC') \n",
    "                                 & (interim_info_df.timepoint==70)].sample_id.value_counts().loc[samples].to_list()\n",
    "empty_trenches = interim_info_df.loc[(interim_info_df.colour_channel=='PC') & (interim_info_df.timepoint==70) \n",
    "                                     & (interim_info_df.loading_value_tzero==0)].sample_id.value_counts().loc[samples].to_list()\n",
    "filled_trenches = interim_info_df.loc[(interim_info_df.colour_channel=='PC') & (interim_info_df.timepoint==70) \n",
    "                                      & (interim_info_df.loading_value_tzero==1)].sample_id.value_counts().loc[samples].to_list()\n",
    "width = 0.35       # the width of the bars: can also be len(x) sequence\n",
    "\n",
    "ax1.bar(samples, filled_trenches, width, label='filled', color='royalblue')\n",
    "ax1.bar(samples, empty_trenches, width, bottom=filled_trenches,\n",
    "       label='empty',color='firebrick')\n",
    "for i, (f,e) in enumerate(list(zip(filled_trenches, empty_trenches))):\n",
    "    ax1.text(i+0.2, f/2, str(f), fontweight='bold', color='royalblue',fontsize=18,)\n",
    "    ax1.text(i+0.2, f+e/2.5, str(e), fontweight='bold',color='darkred',fontsize=18,)\n",
    "    ax1.text(i-0.11, f+e+2.2, str(e+f), fontweight='bold',color='black',fontsize=18,)\n",
    "\n",
    "plt.yticks(fontsize=14)\n",
    "ax1.spines['right'].set_visible(False)\n",
    "ax1.spines['top'].set_visible(False)\n",
    "ax1.set_ylabel(\"# trenches\",fontsize=18, fontweight='bold')\n",
    "# ax1.set_xlabel(\"time \",fontsize=18, fontweight='bold')\n",
    "# ax1.set_xticks(x, samples)\n",
    "ax1.grid(True,alpha=0.2)\n",
    "plt.yticks(fontsize=18)\n",
    "plt.xticks(fontsize=18)\n",
    "# ax1.set_ylim(-700, 58_100)\n",
    "# ax1.set_xlim(-7, 500)\n",
    "plt.legend(prop={'size': 14,'weight':'bold'})\n",
    "lgd = ax1.legend(bbox_to_anchor=(1.03, 1.0), prop={'size': 14,'weight':'bold'})\n",
    "#plt.savefig(f\"reporter_confidence_intervals_STD.png\", dpi=300)\n",
    "# plt.savefig(f\"trench_loading_efficiency.png\",bbox_extra_artists=(lgd,), bbox_inches='tight')\n",
    "plt.show()"
   ]
  },
  {
   "cell_type": "markdown",
   "metadata": {},
   "source": [
    "### Loading Analysis Checkup"
   ]
  },
  {
   "cell_type": "code",
   "execution_count": 107,
   "metadata": {},
   "outputs": [],
   "source": [
    "here = interim_info_df.loc[(interim_info_df.colour_channel=='PC') & \n",
    "                               (interim_info_df.timepoint==70) & \n",
    "                               (interim_info_df.loading_value_tzero==1) & (interim_info_df.sample_id=='pUC')]"
   ]
  },
  {
   "cell_type": "code",
   "execution_count": 108,
   "metadata": {},
   "outputs": [
    {
     "data": {
      "application/vnd.jupyter.widget-view+json": {
       "model_id": "5d0b31e34d0b473f85c69e565cbd7d5b",
       "version_major": 2,
       "version_minor": 0
      },
      "text/plain": [
       "interactive(children=(IntSlider(value=78, description='x', max=157), IntSlider(value=49, description='time', m…"
      ]
     },
     "metadata": {},
     "output_type": "display_data"
    }
   ],
   "source": [
    "@interact\n",
    "def show_pUC(x=(0,len(here)-1),\n",
    "            time=(0,99)):\n",
    "    \n",
    "    new_im = interim_info_df.loc[(interim_info_df.colour_channel=='PC') & \n",
    "                                 (interim_info_df.timepoint==time) & \n",
    "                                 (interim_info_df.loading_value_tzero==1) & (interim_info_df.sample_id=='pUC')]\n",
    "    print(new_im.trench_cum.iloc[x])\n",
    "    plt.close()\n",
    "    imshow(convert_to_nparray(new_im.directory.iloc[x]))\n",
    "    plt.show()"
   ]
  },
  {
   "cell_type": "markdown",
   "metadata": {},
   "source": [
    "## Save updated metadata"
   ]
  },
  {
   "cell_type": "code",
   "execution_count": 109,
   "metadata": {},
   "outputs": [
    {
     "data": {
      "text/html": [
       "<div>\n",
       "<style scoped>\n",
       "    .dataframe tbody tr th:only-of-type {\n",
       "        vertical-align: middle;\n",
       "    }\n",
       "\n",
       "    .dataframe tbody tr th {\n",
       "        vertical-align: top;\n",
       "    }\n",
       "\n",
       "    .dataframe thead th {\n",
       "        text-align: right;\n",
       "    }\n",
       "</style>\n",
       "<table border=\"1\" class=\"dataframe\">\n",
       "  <thead>\n",
       "    <tr style=\"text-align: right;\">\n",
       "      <th></th>\n",
       "      <th>directory</th>\n",
       "      <th>FOV</th>\n",
       "      <th>trench</th>\n",
       "      <th>colour_channel</th>\n",
       "      <th>timepoint</th>\n",
       "      <th>trench_cum</th>\n",
       "      <th>trench_id</th>\n",
       "      <th>trench_no_per_FOV</th>\n",
       "      <th>sample_id</th>\n",
       "      <th>loading_value_tzero</th>\n",
       "    </tr>\n",
       "  </thead>\n",
       "  <tbody>\n",
       "    <tr>\n",
       "      <th>0</th>\n",
       "      <td>2_sliced_trenches/xy000_tr0_Green_T0000.png</td>\n",
       "      <td>xy000</td>\n",
       "      <td>0</td>\n",
       "      <td>Green</td>\n",
       "      <td>0</td>\n",
       "      <td>0</td>\n",
       "      <td>xy000_tr00</td>\n",
       "      <td>15</td>\n",
       "      <td>NC</td>\n",
       "      <td>1</td>\n",
       "    </tr>\n",
       "    <tr>\n",
       "      <th>1</th>\n",
       "      <td>2_sliced_trenches/xy000_tr0_Green_T0001.png</td>\n",
       "      <td>xy000</td>\n",
       "      <td>0</td>\n",
       "      <td>Green</td>\n",
       "      <td>1</td>\n",
       "      <td>0</td>\n",
       "      <td>xy000_tr00</td>\n",
       "      <td>15</td>\n",
       "      <td>NC</td>\n",
       "      <td>1</td>\n",
       "    </tr>\n",
       "    <tr>\n",
       "      <th>2</th>\n",
       "      <td>2_sliced_trenches/xy000_tr0_Green_T0002.png</td>\n",
       "      <td>xy000</td>\n",
       "      <td>0</td>\n",
       "      <td>Green</td>\n",
       "      <td>2</td>\n",
       "      <td>0</td>\n",
       "      <td>xy000_tr00</td>\n",
       "      <td>15</td>\n",
       "      <td>NC</td>\n",
       "      <td>1</td>\n",
       "    </tr>\n",
       "    <tr>\n",
       "      <th>3</th>\n",
       "      <td>2_sliced_trenches/xy000_tr0_Green_T0003.png</td>\n",
       "      <td>xy000</td>\n",
       "      <td>0</td>\n",
       "      <td>Green</td>\n",
       "      <td>3</td>\n",
       "      <td>0</td>\n",
       "      <td>xy000_tr00</td>\n",
       "      <td>15</td>\n",
       "      <td>NC</td>\n",
       "      <td>1</td>\n",
       "    </tr>\n",
       "    <tr>\n",
       "      <th>4</th>\n",
       "      <td>2_sliced_trenches/xy000_tr0_Green_T0004.png</td>\n",
       "      <td>xy000</td>\n",
       "      <td>0</td>\n",
       "      <td>Green</td>\n",
       "      <td>4</td>\n",
       "      <td>0</td>\n",
       "      <td>xy000_tr00</td>\n",
       "      <td>15</td>\n",
       "      <td>NC</td>\n",
       "      <td>1</td>\n",
       "    </tr>\n",
       "    <tr>\n",
       "      <th>...</th>\n",
       "      <td>...</td>\n",
       "      <td>...</td>\n",
       "      <td>...</td>\n",
       "      <td>...</td>\n",
       "      <td>...</td>\n",
       "      <td>...</td>\n",
       "      <td>...</td>\n",
       "      <td>...</td>\n",
       "      <td>...</td>\n",
       "      <td>...</td>\n",
       "    </tr>\n",
       "    <tr>\n",
       "      <th>536995</th>\n",
       "      <td>2_sliced_trenches/xy127_tr4_mCherry_T0095.png</td>\n",
       "      <td>xy127</td>\n",
       "      <td>4</td>\n",
       "      <td>mCherry</td>\n",
       "      <td>95</td>\n",
       "      <td>1789</td>\n",
       "      <td>xy127_tr04</td>\n",
       "      <td>5</td>\n",
       "      <td>pUC</td>\n",
       "      <td>1</td>\n",
       "    </tr>\n",
       "    <tr>\n",
       "      <th>536996</th>\n",
       "      <td>2_sliced_trenches/xy127_tr4_mCherry_T0096.png</td>\n",
       "      <td>xy127</td>\n",
       "      <td>4</td>\n",
       "      <td>mCherry</td>\n",
       "      <td>96</td>\n",
       "      <td>1789</td>\n",
       "      <td>xy127_tr04</td>\n",
       "      <td>5</td>\n",
       "      <td>pUC</td>\n",
       "      <td>1</td>\n",
       "    </tr>\n",
       "    <tr>\n",
       "      <th>536997</th>\n",
       "      <td>2_sliced_trenches/xy127_tr4_mCherry_T0097.png</td>\n",
       "      <td>xy127</td>\n",
       "      <td>4</td>\n",
       "      <td>mCherry</td>\n",
       "      <td>97</td>\n",
       "      <td>1789</td>\n",
       "      <td>xy127_tr04</td>\n",
       "      <td>5</td>\n",
       "      <td>pUC</td>\n",
       "      <td>1</td>\n",
       "    </tr>\n",
       "    <tr>\n",
       "      <th>536998</th>\n",
       "      <td>2_sliced_trenches/xy127_tr4_mCherry_T0098.png</td>\n",
       "      <td>xy127</td>\n",
       "      <td>4</td>\n",
       "      <td>mCherry</td>\n",
       "      <td>98</td>\n",
       "      <td>1789</td>\n",
       "      <td>xy127_tr04</td>\n",
       "      <td>5</td>\n",
       "      <td>pUC</td>\n",
       "      <td>1</td>\n",
       "    </tr>\n",
       "    <tr>\n",
       "      <th>536999</th>\n",
       "      <td>2_sliced_trenches/xy127_tr4_mCherry_T0099.png</td>\n",
       "      <td>xy127</td>\n",
       "      <td>4</td>\n",
       "      <td>mCherry</td>\n",
       "      <td>99</td>\n",
       "      <td>1789</td>\n",
       "      <td>xy127_tr04</td>\n",
       "      <td>5</td>\n",
       "      <td>pUC</td>\n",
       "      <td>1</td>\n",
       "    </tr>\n",
       "  </tbody>\n",
       "</table>\n",
       "<p>537000 rows × 10 columns</p>\n",
       "</div>"
      ],
      "text/plain": [
       "                                            directory    FOV  trench  \\\n",
       "0         2_sliced_trenches/xy000_tr0_Green_T0000.png  xy000       0   \n",
       "1         2_sliced_trenches/xy000_tr0_Green_T0001.png  xy000       0   \n",
       "2         2_sliced_trenches/xy000_tr0_Green_T0002.png  xy000       0   \n",
       "3         2_sliced_trenches/xy000_tr0_Green_T0003.png  xy000       0   \n",
       "4         2_sliced_trenches/xy000_tr0_Green_T0004.png  xy000       0   \n",
       "...                                               ...    ...     ...   \n",
       "536995  2_sliced_trenches/xy127_tr4_mCherry_T0095.png  xy127       4   \n",
       "536996  2_sliced_trenches/xy127_tr4_mCherry_T0096.png  xy127       4   \n",
       "536997  2_sliced_trenches/xy127_tr4_mCherry_T0097.png  xy127       4   \n",
       "536998  2_sliced_trenches/xy127_tr4_mCherry_T0098.png  xy127       4   \n",
       "536999  2_sliced_trenches/xy127_tr4_mCherry_T0099.png  xy127       4   \n",
       "\n",
       "       colour_channel  timepoint  trench_cum   trench_id  trench_no_per_FOV  \\\n",
       "0               Green          0           0  xy000_tr00                 15   \n",
       "1               Green          1           0  xy000_tr00                 15   \n",
       "2               Green          2           0  xy000_tr00                 15   \n",
       "3               Green          3           0  xy000_tr00                 15   \n",
       "4               Green          4           0  xy000_tr00                 15   \n",
       "...               ...        ...         ...         ...                ...   \n",
       "536995        mCherry         95        1789  xy127_tr04                  5   \n",
       "536996        mCherry         96        1789  xy127_tr04                  5   \n",
       "536997        mCherry         97        1789  xy127_tr04                  5   \n",
       "536998        mCherry         98        1789  xy127_tr04                  5   \n",
       "536999        mCherry         99        1789  xy127_tr04                  5   \n",
       "\n",
       "       sample_id  loading_value_tzero  \n",
       "0             NC                    1  \n",
       "1             NC                    1  \n",
       "2             NC                    1  \n",
       "3             NC                    1  \n",
       "4             NC                    1  \n",
       "...          ...                  ...  \n",
       "536995       pUC                    1  \n",
       "536996       pUC                    1  \n",
       "536997       pUC                    1  \n",
       "536998       pUC                    1  \n",
       "536999       pUC                    1  \n",
       "\n",
       "[537000 rows x 10 columns]"
      ]
     },
     "execution_count": 109,
     "metadata": {},
     "output_type": "execute_result"
    }
   ],
   "source": [
    "interim_info_df#.to_csv('3_trench_master_tiff/trench_master_metadata.csv',index=False)"
   ]
  },
  {
   "cell_type": "markdown",
   "metadata": {},
   "source": [
    "---\n",
    "OLD CODE\n"
   ]
  },
  {
   "cell_type": "markdown",
   "metadata": {},
   "source": [
    "# Save into Zarr folder\n",
    "-> only loaded trenches!"
   ]
  },
  {
   "cell_type": "code",
   "execution_count": 148,
   "metadata": {},
   "outputs": [],
   "source": [
    "len(interim_info_df.trench_cum.unique()), len(interim_info_df.loc[interim_info_df.loading_value_tzero==1].trench_cum.unique())\n",
    "empty_removed_trench_df = interim_info_df.loc[interim_info_df.loading_value_tzero==1]"
   ]
  },
  {
   "cell_type": "code",
   "execution_count": 149,
   "metadata": {},
   "outputs": [],
   "source": [
    "unique_original_trench_idx = interim_info_df.loc[interim_info_df.loading_value_tzero==1].trench_cum.unique()\n",
    "new_filled_trench_idx = list(range(len(unique_original_trench_idx)))\n",
    "conversion_dict = dict(zip(unique_original_trench_idx, new_filled_trench_idx))"
   ]
  },
  {
   "cell_type": "code",
   "execution_count": 150,
   "metadata": {},
   "outputs": [
    {
     "name": "stderr",
     "output_type": "stream",
     "text": [
      "/var/folders/p_/d1kqy0fj5497sqkd5nkn_rf40000gn/T/ipykernel_56602/680748958.py:1: SettingWithCopyWarning: \n",
      "A value is trying to be set on a copy of a slice from a DataFrame.\n",
      "Try using .loc[row_indexer,col_indexer] = value instead\n",
      "\n",
      "See the caveats in the documentation: https://pandas.pydata.org/pandas-docs/stable/user_guide/indexing.html#returning-a-view-versus-a-copy\n",
      "  empty_removed_trench_df['trench_filled_cum'] = empty_removed_trench_df.trench_cum.apply(lambda x: conversion_dict[x])\n"
     ]
    }
   ],
   "source": [
    "empty_removed_trench_df['trench_filled_cum'] = empty_removed_trench_df.trench_cum.apply(lambda x: conversion_dict[x])"
   ]
  },
  {
   "cell_type": "code",
   "execution_count": 152,
   "metadata": {},
   "outputs": [
    {
     "data": {
      "text/html": [
       "<div>\n",
       "<style scoped>\n",
       "    .dataframe tbody tr th:only-of-type {\n",
       "        vertical-align: middle;\n",
       "    }\n",
       "\n",
       "    .dataframe tbody tr th {\n",
       "        vertical-align: top;\n",
       "    }\n",
       "\n",
       "    .dataframe thead th {\n",
       "        text-align: right;\n",
       "    }\n",
       "</style>\n",
       "<table border=\"1\" class=\"dataframe\">\n",
       "  <thead>\n",
       "    <tr style=\"text-align: right;\">\n",
       "      <th></th>\n",
       "      <th>directory</th>\n",
       "      <th>FOV</th>\n",
       "      <th>trench</th>\n",
       "      <th>colour_channel</th>\n",
       "      <th>timepoint</th>\n",
       "      <th>trench_cum</th>\n",
       "      <th>trench_id</th>\n",
       "      <th>trench_no_per_FOV</th>\n",
       "      <th>sample_id</th>\n",
       "      <th>loading_value_tzero</th>\n",
       "      <th>trench_filled_cum</th>\n",
       "    </tr>\n",
       "  </thead>\n",
       "  <tbody>\n",
       "    <tr>\n",
       "      <th>0</th>\n",
       "      <td>2_sliced_trenches/xy000_tr0_Green_T0000.png</td>\n",
       "      <td>xy000</td>\n",
       "      <td>0</td>\n",
       "      <td>Green</td>\n",
       "      <td>0</td>\n",
       "      <td>0</td>\n",
       "      <td>xy000_tr00</td>\n",
       "      <td>15</td>\n",
       "      <td>NC</td>\n",
       "      <td>1</td>\n",
       "      <td>0</td>\n",
       "    </tr>\n",
       "    <tr>\n",
       "      <th>1</th>\n",
       "      <td>2_sliced_trenches/xy000_tr0_Green_T0001.png</td>\n",
       "      <td>xy000</td>\n",
       "      <td>0</td>\n",
       "      <td>Green</td>\n",
       "      <td>1</td>\n",
       "      <td>0</td>\n",
       "      <td>xy000_tr00</td>\n",
       "      <td>15</td>\n",
       "      <td>NC</td>\n",
       "      <td>1</td>\n",
       "      <td>0</td>\n",
       "    </tr>\n",
       "    <tr>\n",
       "      <th>2</th>\n",
       "      <td>2_sliced_trenches/xy000_tr0_Green_T0002.png</td>\n",
       "      <td>xy000</td>\n",
       "      <td>0</td>\n",
       "      <td>Green</td>\n",
       "      <td>2</td>\n",
       "      <td>0</td>\n",
       "      <td>xy000_tr00</td>\n",
       "      <td>15</td>\n",
       "      <td>NC</td>\n",
       "      <td>1</td>\n",
       "      <td>0</td>\n",
       "    </tr>\n",
       "    <tr>\n",
       "      <th>3</th>\n",
       "      <td>2_sliced_trenches/xy000_tr0_Green_T0003.png</td>\n",
       "      <td>xy000</td>\n",
       "      <td>0</td>\n",
       "      <td>Green</td>\n",
       "      <td>3</td>\n",
       "      <td>0</td>\n",
       "      <td>xy000_tr00</td>\n",
       "      <td>15</td>\n",
       "      <td>NC</td>\n",
       "      <td>1</td>\n",
       "      <td>0</td>\n",
       "    </tr>\n",
       "    <tr>\n",
       "      <th>4</th>\n",
       "      <td>2_sliced_trenches/xy000_tr0_Green_T0004.png</td>\n",
       "      <td>xy000</td>\n",
       "      <td>0</td>\n",
       "      <td>Green</td>\n",
       "      <td>4</td>\n",
       "      <td>0</td>\n",
       "      <td>xy000_tr00</td>\n",
       "      <td>15</td>\n",
       "      <td>NC</td>\n",
       "      <td>1</td>\n",
       "      <td>0</td>\n",
       "    </tr>\n",
       "    <tr>\n",
       "      <th>...</th>\n",
       "      <td>...</td>\n",
       "      <td>...</td>\n",
       "      <td>...</td>\n",
       "      <td>...</td>\n",
       "      <td>...</td>\n",
       "      <td>...</td>\n",
       "      <td>...</td>\n",
       "      <td>...</td>\n",
       "      <td>...</td>\n",
       "      <td>...</td>\n",
       "      <td>...</td>\n",
       "    </tr>\n",
       "    <tr>\n",
       "      <th>536995</th>\n",
       "      <td>2_sliced_trenches/xy127_tr4_mCherry_T0095.png</td>\n",
       "      <td>xy127</td>\n",
       "      <td>4</td>\n",
       "      <td>mCherry</td>\n",
       "      <td>95</td>\n",
       "      <td>1789</td>\n",
       "      <td>xy127_tr04</td>\n",
       "      <td>5</td>\n",
       "      <td>pUC</td>\n",
       "      <td>1</td>\n",
       "      <td>1333</td>\n",
       "    </tr>\n",
       "    <tr>\n",
       "      <th>536996</th>\n",
       "      <td>2_sliced_trenches/xy127_tr4_mCherry_T0096.png</td>\n",
       "      <td>xy127</td>\n",
       "      <td>4</td>\n",
       "      <td>mCherry</td>\n",
       "      <td>96</td>\n",
       "      <td>1789</td>\n",
       "      <td>xy127_tr04</td>\n",
       "      <td>5</td>\n",
       "      <td>pUC</td>\n",
       "      <td>1</td>\n",
       "      <td>1333</td>\n",
       "    </tr>\n",
       "    <tr>\n",
       "      <th>536997</th>\n",
       "      <td>2_sliced_trenches/xy127_tr4_mCherry_T0097.png</td>\n",
       "      <td>xy127</td>\n",
       "      <td>4</td>\n",
       "      <td>mCherry</td>\n",
       "      <td>97</td>\n",
       "      <td>1789</td>\n",
       "      <td>xy127_tr04</td>\n",
       "      <td>5</td>\n",
       "      <td>pUC</td>\n",
       "      <td>1</td>\n",
       "      <td>1333</td>\n",
       "    </tr>\n",
       "    <tr>\n",
       "      <th>536998</th>\n",
       "      <td>2_sliced_trenches/xy127_tr4_mCherry_T0098.png</td>\n",
       "      <td>xy127</td>\n",
       "      <td>4</td>\n",
       "      <td>mCherry</td>\n",
       "      <td>98</td>\n",
       "      <td>1789</td>\n",
       "      <td>xy127_tr04</td>\n",
       "      <td>5</td>\n",
       "      <td>pUC</td>\n",
       "      <td>1</td>\n",
       "      <td>1333</td>\n",
       "    </tr>\n",
       "    <tr>\n",
       "      <th>536999</th>\n",
       "      <td>2_sliced_trenches/xy127_tr4_mCherry_T0099.png</td>\n",
       "      <td>xy127</td>\n",
       "      <td>4</td>\n",
       "      <td>mCherry</td>\n",
       "      <td>99</td>\n",
       "      <td>1789</td>\n",
       "      <td>xy127_tr04</td>\n",
       "      <td>5</td>\n",
       "      <td>pUC</td>\n",
       "      <td>1</td>\n",
       "      <td>1333</td>\n",
       "    </tr>\n",
       "  </tbody>\n",
       "</table>\n",
       "<p>400200 rows × 11 columns</p>\n",
       "</div>"
      ],
      "text/plain": [
       "                                            directory    FOV  trench  \\\n",
       "0         2_sliced_trenches/xy000_tr0_Green_T0000.png  xy000       0   \n",
       "1         2_sliced_trenches/xy000_tr0_Green_T0001.png  xy000       0   \n",
       "2         2_sliced_trenches/xy000_tr0_Green_T0002.png  xy000       0   \n",
       "3         2_sliced_trenches/xy000_tr0_Green_T0003.png  xy000       0   \n",
       "4         2_sliced_trenches/xy000_tr0_Green_T0004.png  xy000       0   \n",
       "...                                               ...    ...     ...   \n",
       "536995  2_sliced_trenches/xy127_tr4_mCherry_T0095.png  xy127       4   \n",
       "536996  2_sliced_trenches/xy127_tr4_mCherry_T0096.png  xy127       4   \n",
       "536997  2_sliced_trenches/xy127_tr4_mCherry_T0097.png  xy127       4   \n",
       "536998  2_sliced_trenches/xy127_tr4_mCherry_T0098.png  xy127       4   \n",
       "536999  2_sliced_trenches/xy127_tr4_mCherry_T0099.png  xy127       4   \n",
       "\n",
       "       colour_channel  timepoint  trench_cum   trench_id  trench_no_per_FOV  \\\n",
       "0               Green          0           0  xy000_tr00                 15   \n",
       "1               Green          1           0  xy000_tr00                 15   \n",
       "2               Green          2           0  xy000_tr00                 15   \n",
       "3               Green          3           0  xy000_tr00                 15   \n",
       "4               Green          4           0  xy000_tr00                 15   \n",
       "...               ...        ...         ...         ...                ...   \n",
       "536995        mCherry         95        1789  xy127_tr04                  5   \n",
       "536996        mCherry         96        1789  xy127_tr04                  5   \n",
       "536997        mCherry         97        1789  xy127_tr04                  5   \n",
       "536998        mCherry         98        1789  xy127_tr04                  5   \n",
       "536999        mCherry         99        1789  xy127_tr04                  5   \n",
       "\n",
       "       sample_id  loading_value_tzero  trench_filled_cum  \n",
       "0             NC                    1                  0  \n",
       "1             NC                    1                  0  \n",
       "2             NC                    1                  0  \n",
       "3             NC                    1                  0  \n",
       "4             NC                    1                  0  \n",
       "...          ...                  ...                ...  \n",
       "536995       pUC                    1               1333  \n",
       "536996       pUC                    1               1333  \n",
       "536997       pUC                    1               1333  \n",
       "536998       pUC                    1               1333  \n",
       "536999       pUC                    1               1333  \n",
       "\n",
       "[400200 rows x 11 columns]"
      ]
     },
     "execution_count": 152,
     "metadata": {},
     "output_type": "execute_result"
    }
   ],
   "source": [
    "empty_removed_trench_df#.to_csv('3_trench_master_tiff/filled_trench_master_metadata.csv',index=False)"
   ]
  },
  {
   "cell_type": "code",
   "execution_count": 147,
   "metadata": {},
   "outputs": [],
   "source": [
    "import zarr\n",
    "from numcodecs import Blosc"
   ]
  },
  {
   "cell_type": "raw",
   "metadata": {},
   "source": [
    "data_df = empty_removed_trench_df\n",
    "test_im = convert_to_nparray(data_df.directory.iloc[0]).shape\n",
    "trench_y_size = test_im[0]\n",
    "trench_x_size = test_im[1]\n",
    "n_trenches = len(data_df.trench_filled_cum.unique())\n",
    "n_timepoints = len(data_df.timepoint.unique())\n",
    "n_channels = len(data_df.colour_channel.unique())\n",
    "# choose compressor and establish empty zarr\n",
    "compressor = Blosc(cname='zstd', clevel=1, shuffle=Blosc.BITSHUFFLE)\n",
    "z1 = zarr.open(f'3_trench_master_tiff/trenches_filled.zarr', mode='w', shape=(n_trenches, n_channels, n_timepoints, trench_y_size, trench_x_size),\n",
    "                chunks=(1,1,1,trench_y_size, trench_x_size), dtype='int32', compressor = compressor)"
   ]
  },
  {
   "cell_type": "code",
   "execution_count": 159,
   "metadata": {},
   "outputs": [
    {
     "data": {
      "application/vnd.jupyter.widget-view+json": {
       "model_id": "8fc79dd5b64a4c25af8ff319d4135a7d",
       "version_major": 2,
       "version_minor": 0
      },
      "text/plain": [
       "  0%|          | 0/1334 [00:00<?, ?it/s]"
      ]
     },
     "metadata": {},
     "output_type": "display_data"
    }
   ],
   "source": [
    "channel_dict = {0:'PC', 1:'mCherry', 2:'Green'}\n",
    "for trench_idx in tqdm(data_df.trench_filled_cum.unique()):\n",
    "    for channel in [0, 1, 2]:\n",
    "        for timepoint in data_df.timepoint.unique():\n",
    "            current_trench_im = convert_to_nparray(data_df.loc[(data_df.trench_filled_cum==trench_idx)\n",
    "                                                               & (data_df.colour_channel==channel_dict[channel])\n",
    "                                                               & (data_df.timepoint==timepoint)].directory.iloc[0])\n",
    "            z1[trench_idx,channel,timepoint] = current_trench_im"
   ]
  },
  {
   "cell_type": "raw",
   "metadata": {},
   "source": [
    "def write_trenches_to_zarr(trench_idx_l, zarr_l, df_l):\n",
    "    channel_dict = {0:'PC' , 1: 'mCherry', 2:'Green'}\n",
    "    for channel in [0, 1, 2]:\n",
    "        for timepoint in df_l.timepoint.unique():\n",
    "            current_trench_im = convert_to_nparray(df_l.loc[(df_l.trench_cum==trench_idx_l)\n",
    "                                                                       & (df_l.colour_channel==channel_dict[channel])\n",
    "                                                                       & (df_l.timepoint==timepoint)].directory.iloc[0])\n",
    "            zarr_l[trench_idx_l,channel,timepoint] = current_trench_im"
   ]
  },
  {
   "cell_type": "raw",
   "metadata": {},
   "source": [
    "if __name__ == \"__main__\":\n",
    "        processed_images = Parallel(n_jobs=8)( delayed (write_trenches_to_zarr) (trench_idx,z1,interim_info_df)\n",
    "                                                 for iterator in tqdm(interim_info_df.trench_cum.unique()) )"
   ]
  },
  {
   "cell_type": "raw",
   "metadata": {},
   "source": [
    "z_open = zarr.open(f'3_trench_master_tiff/trenches2.zarr', mode='r')"
   ]
  },
  {
   "cell_type": "code",
   "execution_count": 298,
   "metadata": {},
   "outputs": [
    {
     "data": {
      "text/plain": [
       "<zarr.core.Array (1790, 3, 100, 650, 73) int32>"
      ]
     },
     "execution_count": 298,
     "metadata": {},
     "output_type": "execute_result"
    }
   ],
   "source": [
    "z1"
   ]
  },
  {
   "cell_type": "code",
   "execution_count": 303,
   "metadata": {},
   "outputs": [
    {
     "data": {
      "text/plain": [
       "array([[0, 0, 0, ..., 0, 0, 0],\n",
       "       [0, 0, 0, ..., 0, 0, 0],\n",
       "       [0, 0, 0, ..., 0, 0, 0],\n",
       "       ...,\n",
       "       [0, 0, 0, ..., 0, 0, 0],\n",
       "       [0, 0, 0, ..., 0, 0, 0],\n",
       "       [0, 0, 0, ..., 0, 0, 0]], dtype=int32)"
      ]
     },
     "execution_count": 303,
     "metadata": {},
     "output_type": "execute_result"
    }
   ],
   "source": [
    "z1[1000,0,0]"
   ]
  },
  {
   "cell_type": "code",
   "execution_count": 163,
   "metadata": {},
   "outputs": [
    {
     "data": {
      "application/vnd.jupyter.widget-view+json": {
       "model_id": "d80b46fd1fca43f8adbb283ae4a425b9",
       "version_major": 2,
       "version_minor": 0
      },
      "text/plain": [
       "interactive(children=(IntSlider(value=666, description='x', max=1333), IntSlider(value=49, description='time',…"
      ]
     },
     "metadata": {},
     "output_type": "display_data"
    }
   ],
   "source": [
    "@interact\n",
    "def show(x=(0,len(z1)-1),\n",
    "         time=(0,99),\n",
    "         channel=(0,2)):\n",
    "    imshow(z1[x,channel,time])"
   ]
  },
  {
   "cell_type": "code",
   "execution_count": null,
   "metadata": {},
   "outputs": [],
   "source": []
  },
  {
   "cell_type": "code",
   "execution_count": null,
   "metadata": {},
   "outputs": [],
   "source": [
    "reporter_ims_master_array = memmaped_trench_master_tiff[:,0,:, :,:]\n",
    "PC_ims_master_array = memmaped_trench_master_tiff[:,1,:, :,:]\n",
    "segm_ims_master_array = memmaped_trench_master_tiff[:,2,:, :,:]\n",
    "mask_master_array = memmaped_trench_master_tiff[:,3,:, :,:]"
   ]
  },
  {
   "cell_type": "code",
   "execution_count": null,
   "metadata": {},
   "outputs": [],
   "source": [
    "segm_ims_master_array.shape"
   ]
  },
  {
   "cell_type": "markdown",
   "metadata": {},
   "source": [
    "Visually inspect pre-master TIFF:"
   ]
  },
  {
   "cell_type": "code",
   "execution_count": null,
   "metadata": {},
   "outputs": [],
   "source": [
    "viewer = napari.view_image(segm_ims_master_array, rgb=False,colormap='red')\n",
    "viewer.add_image(reporter_ims_master_array, rgb=False,colormap='yellow')\n",
    "viewer.add_image(PC_ims_master_array, rgb=False,colormap='gray')\n",
    "viewer.add_image(mask_master_array, rgb=False)"
   ]
  },
  {
   "cell_type": "code",
   "execution_count": null,
   "metadata": {},
   "outputs": [],
   "source": []
  },
  {
   "cell_type": "code",
   "execution_count": null,
   "metadata": {},
   "outputs": [],
   "source": []
  }
 ],
 "metadata": {
  "kernelspec": {
   "display_name": "Python 3 (ipykernel)",
   "language": "python",
   "name": "python3"
  },
  "language_info": {
   "codemirror_mode": {
    "name": "ipython",
    "version": 3
   },
   "file_extension": ".py",
   "mimetype": "text/x-python",
   "name": "python",
   "nbconvert_exporter": "python",
   "pygments_lexer": "ipython3",
   "version": "3.10.11"
  }
 },
 "nbformat": 4,
 "nbformat_minor": 4
}
