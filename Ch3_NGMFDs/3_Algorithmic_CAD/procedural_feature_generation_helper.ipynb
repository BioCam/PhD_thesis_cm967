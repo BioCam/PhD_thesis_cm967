{
 "cells": [
  {
   "cell_type": "markdown",
   "id": "0462b29a-5290-4453-b906-e3369913fd7d",
   "metadata": {},
   "source": [
    "# P:NGMM | Procedural Feature Generation Helper\n",
    "author: Camillo Moschner | date: 25.12.2022"
   ]
  },
  {
   "cell_type": "markdown",
   "id": "2e650784-7486-4500-a05f-84bd73251230",
   "metadata": {},
   "source": [
    "## Import Statements"
   ]
  },
  {
   "cell_type": "code",
   "execution_count": 2,
   "id": "5ef2c6ab-a6c4-4554-bc47-2dde71525b73",
   "metadata": {},
   "outputs": [],
   "source": [
    "from itertools import product\n",
    "import numpy as np\n",
    "import pandas as pd"
   ]
  },
  {
   "cell_type": "markdown",
   "id": "e13c3dab-cc94-4d09-9e58-fb4b920a08f6",
   "metadata": {},
   "source": [
    "# Factorial Design of Simple MM Fabrication"
   ]
  },
  {
   "cell_type": "markdown",
   "id": "2a057ba2-55f2-4f17-84ee-11adc6ff7a9a",
   "metadata": {
    "tags": []
   },
   "source": [
    "## Define factors"
   ]
  },
  {
   "cell_type": "code",
   "execution_count": 4,
   "id": "b2007b5d-dc5a-41b8-83c0-cdbc2a0afd11",
   "metadata": {},
   "outputs": [
    {
     "data": {
      "text/plain": [
       "(15, 1, 12)"
      ]
     },
     "execution_count": 4,
     "metadata": {},
     "output_type": "execute_result"
    }
   ],
   "source": [
    "tr_width_list = [round(x,1) for x in np.arange(1.0, 2.5, 0.1)]\n",
    "tr_length_list = [80] #[x for x in range(10,105,5)]\n",
    "tr_height_list =[round(x,1) for x in np.arange(1,3.3,0.2)]\n",
    "len(tr_width_list), len(tr_length_list), len(tr_height_list)"
   ]
  },
  {
   "cell_type": "code",
   "execution_count": 7,
   "id": "20c92a7d-41bd-4063-b5e4-2b68d2f2a03f",
   "metadata": {},
   "outputs": [
    {
     "data": {
      "text/plain": [
       "[1.0,\n",
       " 1.1,\n",
       " 1.2000000000000002,\n",
       " 1.3000000000000003,\n",
       " 1.4000000000000004,\n",
       " 1.5000000000000004,\n",
       " 1.6000000000000005,\n",
       " 1.7000000000000006,\n",
       " 1.8000000000000007,\n",
       " 1.9000000000000008,\n",
       " 2.000000000000001,\n",
       " 2.100000000000001,\n",
       " 2.200000000000001,\n",
       " 2.300000000000001,\n",
       " 2.4000000000000012]"
      ]
     },
     "execution_count": 7,
     "metadata": {},
     "output_type": "execute_result"
    }
   ],
   "source": [
    "list(np.arange(1.0, 2.5, 0.1))"
   ]
  },
  {
   "cell_type": "code",
   "execution_count": 5,
   "id": "325b89c4-b514-4bb1-aac4-58f17abb013d",
   "metadata": {},
   "outputs": [
    {
     "data": {
      "text/plain": [
       "[1.0, 1.1, 1.2, 1.3, 1.4, 1.5, 1.6, 1.7, 1.8, 1.9, 2.0, 2.1, 2.2, 2.3, 2.4]"
      ]
     },
     "execution_count": 5,
     "metadata": {},
     "output_type": "execute_result"
    }
   ],
   "source": [
    "tr_width_list"
   ]
  },
  {
   "cell_type": "code",
   "execution_count": 3,
   "id": "7c6585cd-1141-438c-b8e5-1f1388284f84",
   "metadata": {},
   "outputs": [
    {
     "data": {
      "text/plain": [
       "([1.0, 1.1, 1.2, 1.3, 1.4, 1.5, 1.6, 1.7, 1.8, 1.9, 2.0, 2.1, 2.2, 2.3, 2.4],\n",
       " [80],\n",
       " [1.0, 1.2, 1.4, 1.6, 1.8, 2.0, 2.2, 2.4, 2.6, 2.8, 3.0, 3.2])"
      ]
     },
     "execution_count": 3,
     "metadata": {},
     "output_type": "execute_result"
    }
   ],
   "source": [
    "tr_width_list, tr_length_list, tr_height_list"
   ]
  },
  {
   "cell_type": "markdown",
   "id": "23a0f516-d3a2-485f-9ef8-4bcb8aa48d19",
   "metadata": {},
   "source": [
    "## Calculate Factorial Runs"
   ]
  },
  {
   "cell_type": "code",
   "execution_count": 4,
   "id": "68c5a66c-2250-44ae-825d-cf9733afcf35",
   "metadata": {},
   "outputs": [],
   "source": [
    "tr_runs = pd.DataFrame(list(product(\n",
    "    tr_width_list,\n",
    "    tr_length_list,\n",
    "    tr_height_list\n",
    ")), columns=['tr_w', 'tr_l', 'tr_h'])\n",
    "tr_runs.to_csv('smm_runs.csv',index=False)"
   ]
  },
  {
   "cell_type": "code",
   "execution_count": 5,
   "id": "44283d77-dcd1-4a72-8412-d1dcf6046e4b",
   "metadata": {},
   "outputs": [
    {
     "data": {
      "text/html": [
       "<div>\n",
       "<style scoped>\n",
       "    .dataframe tbody tr th:only-of-type {\n",
       "        vertical-align: middle;\n",
       "    }\n",
       "\n",
       "    .dataframe tbody tr th {\n",
       "        vertical-align: top;\n",
       "    }\n",
       "\n",
       "    .dataframe thead th {\n",
       "        text-align: right;\n",
       "    }\n",
       "</style>\n",
       "<table border=\"1\" class=\"dataframe\">\n",
       "  <thead>\n",
       "    <tr style=\"text-align: right;\">\n",
       "      <th></th>\n",
       "      <th>tr_w</th>\n",
       "      <th>tr_l</th>\n",
       "      <th>tr_h</th>\n",
       "    </tr>\n",
       "  </thead>\n",
       "  <tbody>\n",
       "    <tr>\n",
       "      <th>0</th>\n",
       "      <td>1.0</td>\n",
       "      <td>80</td>\n",
       "      <td>1.0</td>\n",
       "    </tr>\n",
       "    <tr>\n",
       "      <th>1</th>\n",
       "      <td>1.0</td>\n",
       "      <td>80</td>\n",
       "      <td>1.2</td>\n",
       "    </tr>\n",
       "    <tr>\n",
       "      <th>2</th>\n",
       "      <td>1.0</td>\n",
       "      <td>80</td>\n",
       "      <td>1.4</td>\n",
       "    </tr>\n",
       "    <tr>\n",
       "      <th>3</th>\n",
       "      <td>1.0</td>\n",
       "      <td>80</td>\n",
       "      <td>1.6</td>\n",
       "    </tr>\n",
       "    <tr>\n",
       "      <th>4</th>\n",
       "      <td>1.0</td>\n",
       "      <td>80</td>\n",
       "      <td>1.8</td>\n",
       "    </tr>\n",
       "    <tr>\n",
       "      <th>...</th>\n",
       "      <td>...</td>\n",
       "      <td>...</td>\n",
       "      <td>...</td>\n",
       "    </tr>\n",
       "    <tr>\n",
       "      <th>175</th>\n",
       "      <td>2.4</td>\n",
       "      <td>80</td>\n",
       "      <td>2.4</td>\n",
       "    </tr>\n",
       "    <tr>\n",
       "      <th>176</th>\n",
       "      <td>2.4</td>\n",
       "      <td>80</td>\n",
       "      <td>2.6</td>\n",
       "    </tr>\n",
       "    <tr>\n",
       "      <th>177</th>\n",
       "      <td>2.4</td>\n",
       "      <td>80</td>\n",
       "      <td>2.8</td>\n",
       "    </tr>\n",
       "    <tr>\n",
       "      <th>178</th>\n",
       "      <td>2.4</td>\n",
       "      <td>80</td>\n",
       "      <td>3.0</td>\n",
       "    </tr>\n",
       "    <tr>\n",
       "      <th>179</th>\n",
       "      <td>2.4</td>\n",
       "      <td>80</td>\n",
       "      <td>3.2</td>\n",
       "    </tr>\n",
       "  </tbody>\n",
       "</table>\n",
       "<p>180 rows × 3 columns</p>\n",
       "</div>"
      ],
      "text/plain": [
       "     tr_w  tr_l  tr_h\n",
       "0     1.0    80   1.0\n",
       "1     1.0    80   1.2\n",
       "2     1.0    80   1.4\n",
       "3     1.0    80   1.6\n",
       "4     1.0    80   1.8\n",
       "..    ...   ...   ...\n",
       "175   2.4    80   2.4\n",
       "176   2.4    80   2.6\n",
       "177   2.4    80   2.8\n",
       "178   2.4    80   3.0\n",
       "179   2.4    80   3.2\n",
       "\n",
       "[180 rows x 3 columns]"
      ]
     },
     "execution_count": 5,
     "metadata": {},
     "output_type": "execute_result"
    }
   ],
   "source": [
    "tr_runs"
   ]
  },
  {
   "cell_type": "markdown",
   "id": "7e77e993-5a65-4e3f-ae70-0ebf56e9cdac",
   "metadata": {},
   "source": [
    "## Factorial Design of ST-MM Fabrication"
   ]
  },
  {
   "cell_type": "markdown",
   "id": "ab688639-b426-4ca6-8951-af5e3d945e02",
   "metadata": {
    "tags": []
   },
   "source": [
    "## Define factors"
   ]
  },
  {
   "cell_type": "code",
   "execution_count": 6,
   "id": "37c827a6-51e8-4bab-9d63-d421f3c20c42",
   "metadata": {},
   "outputs": [
    {
     "data": {
      "text/plain": [
       "(8, 1, 9)"
      ]
     },
     "execution_count": 6,
     "metadata": {},
     "output_type": "execute_result"
    }
   ],
   "source": [
    "mtr_width_list = [round(x,1) for x in np.arange(1.5, 2.3, 0.1)]\n",
    "mtr_length_list = [80] #[x for x in range(10,105,5)]\n",
    "mtr_height_list =[round(x,1) for x in np.arange(1.4,3.1,0.2)]\n",
    "len(mtr_width_list), len(mtr_length_list), len(mtr_height_list)"
   ]
  },
  {
   "cell_type": "code",
   "execution_count": 7,
   "id": "42661262-249c-4d5b-9c01-2196569486ff",
   "metadata": {},
   "outputs": [
    {
     "data": {
      "text/plain": [
       "([1.5, 1.6, 1.7, 1.8, 1.9, 2.0, 2.1, 2.2],\n",
       " [80],\n",
       " [1.4, 1.6, 1.8, 2.0, 2.2, 2.4, 2.6, 2.8, 3.0])"
      ]
     },
     "execution_count": 7,
     "metadata": {},
     "output_type": "execute_result"
    }
   ],
   "source": [
    "mtr_width_list, mtr_length_list, mtr_height_list"
   ]
  },
  {
   "cell_type": "code",
   "execution_count": 8,
   "id": "8ace494b-1412-48bf-ad6f-7277738792f3",
   "metadata": {},
   "outputs": [
    {
     "data": {
      "text/plain": [
       "(3, 1, 4)"
      ]
     },
     "execution_count": 8,
     "metadata": {},
     "output_type": "execute_result"
    }
   ],
   "source": [
    "st_width_list = [round(x,1) for x in np.arange(2.0, 5.0, 1.)]\n",
    "st_length_list = [84] #[x for x in range(10,105,5)]\n",
    "st_height_list =[round(x,1) for x in np.arange(0.2,1.0,0.2)]\n",
    "len(st_width_list), len(st_length_list), len(st_height_list)"
   ]
  },
  {
   "cell_type": "code",
   "execution_count": 9,
   "id": "2fab7459-fc96-4886-afda-fe8c3068c658",
   "metadata": {},
   "outputs": [
    {
     "data": {
      "text/plain": [
       "([2.0, 3.0, 4.0], [84], [0.2, 0.4, 0.6, 0.8])"
      ]
     },
     "execution_count": 9,
     "metadata": {},
     "output_type": "execute_result"
    }
   ],
   "source": [
    "st_width_list, st_length_list, st_height_list"
   ]
  },
  {
   "cell_type": "markdown",
   "id": "9ab1bf69-a7d9-4a37-8bcb-338e0ef26c76",
   "metadata": {},
   "source": [
    "## Calculate Factorial Runs"
   ]
  },
  {
   "cell_type": "code",
   "execution_count": 10,
   "id": "3ac1f471-30ec-459d-b563-519161435052",
   "metadata": {},
   "outputs": [],
   "source": [
    "stmm_runs = pd.DataFrame(list(product(\n",
    "    mtr_width_list,\n",
    "    mtr_length_list,\n",
    "    mtr_height_list,\n",
    "    st_width_list,\n",
    "    st_length_list,\n",
    "    st_height_list,\n",
    ")), columns=['tr_w', 'tr_l', 'tr_h', \n",
    "             'st_w', 'st_l', 'st_h'])\n",
    "stmm_runs.to_csv('stmm_runs.csv',index=False)"
   ]
  },
  {
   "cell_type": "code",
   "execution_count": 11,
   "id": "47488f66-1ce8-4761-8248-47291b95c486",
   "metadata": {},
   "outputs": [
    {
     "data": {
      "text/html": [
       "<div>\n",
       "<style scoped>\n",
       "    .dataframe tbody tr th:only-of-type {\n",
       "        vertical-align: middle;\n",
       "    }\n",
       "\n",
       "    .dataframe tbody tr th {\n",
       "        vertical-align: top;\n",
       "    }\n",
       "\n",
       "    .dataframe thead th {\n",
       "        text-align: right;\n",
       "    }\n",
       "</style>\n",
       "<table border=\"1\" class=\"dataframe\">\n",
       "  <thead>\n",
       "    <tr style=\"text-align: right;\">\n",
       "      <th></th>\n",
       "      <th>tr_w</th>\n",
       "      <th>tr_l</th>\n",
       "      <th>tr_h</th>\n",
       "      <th>st_w</th>\n",
       "      <th>st_l</th>\n",
       "      <th>st_h</th>\n",
       "    </tr>\n",
       "  </thead>\n",
       "  <tbody>\n",
       "    <tr>\n",
       "      <th>0</th>\n",
       "      <td>1.5</td>\n",
       "      <td>80</td>\n",
       "      <td>1.4</td>\n",
       "      <td>2.0</td>\n",
       "      <td>84</td>\n",
       "      <td>0.2</td>\n",
       "    </tr>\n",
       "    <tr>\n",
       "      <th>1</th>\n",
       "      <td>1.5</td>\n",
       "      <td>80</td>\n",
       "      <td>1.4</td>\n",
       "      <td>2.0</td>\n",
       "      <td>84</td>\n",
       "      <td>0.4</td>\n",
       "    </tr>\n",
       "    <tr>\n",
       "      <th>2</th>\n",
       "      <td>1.5</td>\n",
       "      <td>80</td>\n",
       "      <td>1.4</td>\n",
       "      <td>2.0</td>\n",
       "      <td>84</td>\n",
       "      <td>0.6</td>\n",
       "    </tr>\n",
       "    <tr>\n",
       "      <th>3</th>\n",
       "      <td>1.5</td>\n",
       "      <td>80</td>\n",
       "      <td>1.4</td>\n",
       "      <td>2.0</td>\n",
       "      <td>84</td>\n",
       "      <td>0.8</td>\n",
       "    </tr>\n",
       "    <tr>\n",
       "      <th>4</th>\n",
       "      <td>1.5</td>\n",
       "      <td>80</td>\n",
       "      <td>1.4</td>\n",
       "      <td>3.0</td>\n",
       "      <td>84</td>\n",
       "      <td>0.2</td>\n",
       "    </tr>\n",
       "    <tr>\n",
       "      <th>...</th>\n",
       "      <td>...</td>\n",
       "      <td>...</td>\n",
       "      <td>...</td>\n",
       "      <td>...</td>\n",
       "      <td>...</td>\n",
       "      <td>...</td>\n",
       "    </tr>\n",
       "    <tr>\n",
       "      <th>859</th>\n",
       "      <td>2.2</td>\n",
       "      <td>80</td>\n",
       "      <td>3.0</td>\n",
       "      <td>3.0</td>\n",
       "      <td>84</td>\n",
       "      <td>0.8</td>\n",
       "    </tr>\n",
       "    <tr>\n",
       "      <th>860</th>\n",
       "      <td>2.2</td>\n",
       "      <td>80</td>\n",
       "      <td>3.0</td>\n",
       "      <td>4.0</td>\n",
       "      <td>84</td>\n",
       "      <td>0.2</td>\n",
       "    </tr>\n",
       "    <tr>\n",
       "      <th>861</th>\n",
       "      <td>2.2</td>\n",
       "      <td>80</td>\n",
       "      <td>3.0</td>\n",
       "      <td>4.0</td>\n",
       "      <td>84</td>\n",
       "      <td>0.4</td>\n",
       "    </tr>\n",
       "    <tr>\n",
       "      <th>862</th>\n",
       "      <td>2.2</td>\n",
       "      <td>80</td>\n",
       "      <td>3.0</td>\n",
       "      <td>4.0</td>\n",
       "      <td>84</td>\n",
       "      <td>0.6</td>\n",
       "    </tr>\n",
       "    <tr>\n",
       "      <th>863</th>\n",
       "      <td>2.2</td>\n",
       "      <td>80</td>\n",
       "      <td>3.0</td>\n",
       "      <td>4.0</td>\n",
       "      <td>84</td>\n",
       "      <td>0.8</td>\n",
       "    </tr>\n",
       "  </tbody>\n",
       "</table>\n",
       "<p>864 rows × 6 columns</p>\n",
       "</div>"
      ],
      "text/plain": [
       "     tr_w  tr_l  tr_h  st_w  st_l  st_h\n",
       "0     1.5    80   1.4   2.0    84   0.2\n",
       "1     1.5    80   1.4   2.0    84   0.4\n",
       "2     1.5    80   1.4   2.0    84   0.6\n",
       "3     1.5    80   1.4   2.0    84   0.8\n",
       "4     1.5    80   1.4   3.0    84   0.2\n",
       "..    ...   ...   ...   ...   ...   ...\n",
       "859   2.2    80   3.0   3.0    84   0.8\n",
       "860   2.2    80   3.0   4.0    84   0.2\n",
       "861   2.2    80   3.0   4.0    84   0.4\n",
       "862   2.2    80   3.0   4.0    84   0.6\n",
       "863   2.2    80   3.0   4.0    84   0.8\n",
       "\n",
       "[864 rows x 6 columns]"
      ]
     },
     "execution_count": 11,
     "metadata": {},
     "output_type": "execute_result"
    }
   ],
   "source": [
    "stmm_runs"
   ]
  },
  {
   "cell_type": "code",
   "execution_count": 8,
   "id": "4662aa26-2030-42ac-972e-6301dde38271",
   "metadata": {},
   "outputs": [
    {
     "ename": "NameError",
     "evalue": "name 'stmm_runs' is not defined",
     "output_type": "error",
     "traceback": [
      "\u001b[0;31m---------------------------------------------------------------------------\u001b[0m",
      "\u001b[0;31mNameError\u001b[0m                                 Traceback (most recent call last)",
      "Cell \u001b[0;32mIn[8], line 1\u001b[0m\n\u001b[0;32m----> 1\u001b[0m \u001b[43mstmm_runs\u001b[49m\u001b[38;5;241m.\u001b[39mtr_w\u001b[38;5;241m.\u001b[39msum()\u001b[38;5;241m+\u001b[39m stmm_runs\u001b[38;5;241m.\u001b[39mst_w\u001b[38;5;241m.\u001b[39msum()\u001b[38;5;241m*\u001b[39m\u001b[38;5;241m2\u001b[39m \u001b[38;5;241m+\u001b[39m \u001b[38;5;241m1080\u001b[39m\u001b[38;5;241m*\u001b[39m\u001b[38;5;241m2\u001b[39m\n\u001b[1;32m      2\u001b[0m \u001b[38;5;241m180\u001b[39m\u001b[38;5;241m*\u001b[39m\u001b[38;5;241m3\u001b[39m\n",
      "\u001b[0;31mNameError\u001b[0m: name 'stmm_runs' is not defined"
     ]
    }
   ],
   "source": [
    "stmm_runs.tr_w.sum()+ stmm_runs.st_w.sum()*2 + 1080*2\n",
    "180*3"
   ]
  },
  {
   "cell_type": "code",
   "execution_count": 10,
   "id": "e1bc4018-5355-46a5-a50d-53dc74240c62",
   "metadata": {},
   "outputs": [
    {
     "data": {
      "text/plain": [
       "1620"
      ]
     },
     "execution_count": 10,
     "metadata": {},
     "output_type": "execute_result"
    }
   ],
   "source": [
    "540*3"
   ]
  },
  {
   "cell_type": "markdown",
   "id": "046a53ee-946b-4ea0-8dbb-31e6a9babb74",
   "metadata": {},
   "source": [
    "## Factorial Design of Suction-MM Fabrication"
   ]
  },
  {
   "cell_type": "markdown",
   "id": "c1772d73-631d-4d81-841e-3f3eeabe5db4",
   "metadata": {
    "tags": []
   },
   "source": [
    "## Define factors"
   ]
  },
  {
   "cell_type": "code",
   "execution_count": 13,
   "id": "553fbff1-3a6d-453f-ba08-5efb96e2c5ff",
   "metadata": {},
   "outputs": [
    {
     "data": {
      "text/plain": [
       "(4, 1, 9)"
      ]
     },
     "execution_count": 13,
     "metadata": {},
     "output_type": "execute_result"
    }
   ],
   "source": [
    "suc_mtr_width_list = [round(x,1) for x in np.arange(1.4, 2.1, 0.2)]\n",
    "suc_mtr_length_list = [60] #[x for x in range(10,105,5)]\n",
    "suc_mtr_height_list =[round(x,1) for x in np.arange(1.4,3.1,0.2)]\n",
    "len(suc_mtr_width_list), len(suc_mtr_length_list), len(suc_mtr_height_list)"
   ]
  },
  {
   "cell_type": "code",
   "execution_count": 14,
   "id": "6df38f2e-f578-402f-8b2a-87457efc30e2",
   "metadata": {},
   "outputs": [
    {
     "data": {
      "text/plain": [
       "([1.5, 1.6, 1.7, 1.8, 1.9, 2.0, 2.1, 2.2],\n",
       " [80],\n",
       " [1.4, 1.6, 1.8, 2.0, 2.2, 2.4, 2.6, 2.8, 3.0])"
      ]
     },
     "execution_count": 14,
     "metadata": {},
     "output_type": "execute_result"
    }
   ],
   "source": [
    "mtr_width_list, mtr_length_list, mtr_height_list"
   ]
  },
  {
   "cell_type": "code",
   "execution_count": 15,
   "id": "8463b710-59b7-406a-b9e7-ee0b4e6d1e67",
   "metadata": {},
   "outputs": [
    {
     "name": "stdout",
     "output_type": "stream",
     "text": [
      "4\n"
     ]
    },
    {
     "data": {
      "text/plain": [
       "[0.1, 0.15, 0.2, 0.25]"
      ]
     },
     "execution_count": 15,
     "metadata": {},
     "output_type": "execute_result"
    }
   ],
   "source": [
    "bkp_width_list = [round(x,2) for x in np.arange(0.1, 0.3, 0.05)]\n",
    "print( len(bkp_width_list) )\n",
    "bkp_width_list"
   ]
  },
  {
   "cell_type": "markdown",
   "id": "7213e228-4e8e-467e-896f-a5ad90e58e51",
   "metadata": {},
   "source": [
    "## Calculate Factorial Runs"
   ]
  },
  {
   "cell_type": "code",
   "execution_count": 16,
   "id": "1a915be9-3ba5-464f-bf1c-b0b447094d00",
   "metadata": {},
   "outputs": [],
   "source": [
    "suctionmm_runs = pd.DataFrame(list(product(\n",
    "    suc_mtr_length_list,\n",
    "    suc_mtr_height_list,suc_mtr_width_list,\n",
    "    bkp_width_list,\n",
    ")), columns=[ 'tr_l', 'tr_h', 'tr_w',\n",
    "             'bkp_w'])\n",
    "suctionmm_runs.to_csv('suctionmm_runs.csv',index=False)"
   ]
  },
  {
   "cell_type": "code",
   "execution_count": 23,
   "id": "5658129b-879b-40d5-960c-823581eb2148",
   "metadata": {},
   "outputs": [
    {
     "data": {
      "text/html": [
       "<div>\n",
       "<style scoped>\n",
       "    .dataframe tbody tr th:only-of-type {\n",
       "        vertical-align: middle;\n",
       "    }\n",
       "\n",
       "    .dataframe tbody tr th {\n",
       "        vertical-align: top;\n",
       "    }\n",
       "\n",
       "    .dataframe thead th {\n",
       "        text-align: right;\n",
       "    }\n",
       "</style>\n",
       "<table border=\"1\" class=\"dataframe\">\n",
       "  <thead>\n",
       "    <tr style=\"text-align: right;\">\n",
       "      <th></th>\n",
       "      <th>tr_l</th>\n",
       "      <th>tr_h</th>\n",
       "      <th>tr_w</th>\n",
       "      <th>bkp_w</th>\n",
       "    </tr>\n",
       "  </thead>\n",
       "  <tbody>\n",
       "    <tr>\n",
       "      <th>0</th>\n",
       "      <td>60</td>\n",
       "      <td>1.4</td>\n",
       "      <td>1.4</td>\n",
       "      <td>0.10</td>\n",
       "    </tr>\n",
       "    <tr>\n",
       "      <th>1</th>\n",
       "      <td>60</td>\n",
       "      <td>1.4</td>\n",
       "      <td>1.4</td>\n",
       "      <td>0.15</td>\n",
       "    </tr>\n",
       "    <tr>\n",
       "      <th>2</th>\n",
       "      <td>60</td>\n",
       "      <td>1.4</td>\n",
       "      <td>1.4</td>\n",
       "      <td>0.20</td>\n",
       "    </tr>\n",
       "    <tr>\n",
       "      <th>3</th>\n",
       "      <td>60</td>\n",
       "      <td>1.4</td>\n",
       "      <td>1.4</td>\n",
       "      <td>0.25</td>\n",
       "    </tr>\n",
       "    <tr>\n",
       "      <th>4</th>\n",
       "      <td>60</td>\n",
       "      <td>1.4</td>\n",
       "      <td>1.6</td>\n",
       "      <td>0.10</td>\n",
       "    </tr>\n",
       "    <tr>\n",
       "      <th>...</th>\n",
       "      <td>...</td>\n",
       "      <td>...</td>\n",
       "      <td>...</td>\n",
       "      <td>...</td>\n",
       "    </tr>\n",
       "    <tr>\n",
       "      <th>139</th>\n",
       "      <td>60</td>\n",
       "      <td>3.0</td>\n",
       "      <td>1.8</td>\n",
       "      <td>0.25</td>\n",
       "    </tr>\n",
       "    <tr>\n",
       "      <th>140</th>\n",
       "      <td>60</td>\n",
       "      <td>3.0</td>\n",
       "      <td>2.0</td>\n",
       "      <td>0.10</td>\n",
       "    </tr>\n",
       "    <tr>\n",
       "      <th>141</th>\n",
       "      <td>60</td>\n",
       "      <td>3.0</td>\n",
       "      <td>2.0</td>\n",
       "      <td>0.15</td>\n",
       "    </tr>\n",
       "    <tr>\n",
       "      <th>142</th>\n",
       "      <td>60</td>\n",
       "      <td>3.0</td>\n",
       "      <td>2.0</td>\n",
       "      <td>0.20</td>\n",
       "    </tr>\n",
       "    <tr>\n",
       "      <th>143</th>\n",
       "      <td>60</td>\n",
       "      <td>3.0</td>\n",
       "      <td>2.0</td>\n",
       "      <td>0.25</td>\n",
       "    </tr>\n",
       "  </tbody>\n",
       "</table>\n",
       "<p>144 rows × 4 columns</p>\n",
       "</div>"
      ],
      "text/plain": [
       "     tr_l  tr_h  tr_w  bkp_w\n",
       "0      60   1.4   1.4   0.10\n",
       "1      60   1.4   1.4   0.15\n",
       "2      60   1.4   1.4   0.20\n",
       "3      60   1.4   1.4   0.25\n",
       "4      60   1.4   1.6   0.10\n",
       "..    ...   ...   ...    ...\n",
       "139    60   3.0   1.8   0.25\n",
       "140    60   3.0   2.0   0.10\n",
       "141    60   3.0   2.0   0.15\n",
       "142    60   3.0   2.0   0.20\n",
       "143    60   3.0   2.0   0.25\n",
       "\n",
       "[144 rows x 4 columns]"
      ]
     },
     "execution_count": 23,
     "metadata": {},
     "output_type": "execute_result"
    }
   ],
   "source": [
    "suctionmm_runs#.head(16)"
   ]
  },
  {
   "cell_type": "code",
   "execution_count": 18,
   "id": "f62fe105-e729-4ce7-8697-76176038b1dc",
   "metadata": {},
   "outputs": [
    {
     "data": {
      "text/plain": [
       "57.2"
      ]
     },
     "execution_count": 18,
     "metadata": {},
     "output_type": "execute_result"
    }
   ],
   "source": [
    "suctionmm_runs.head(16).tr_w.sum()+15*2"
   ]
  },
  {
   "cell_type": "code",
   "execution_count": 19,
   "id": "f076facd-8647-4048-9e57-0f6a2172aa5a",
   "metadata": {},
   "outputs": [
    {
     "data": {
      "text/plain": [
       "818.8"
      ]
     },
     "execution_count": 19,
     "metadata": {},
     "output_type": "execute_result"
    }
   ],
   "source": [
    "suctionmm_runs.tr_w.sum()+287*2"
   ]
  },
  {
   "cell_type": "code",
   "execution_count": 20,
   "id": "ed4650dd-07e2-4b47-8d98-1e717ccbc055",
   "metadata": {},
   "outputs": [
    {
     "data": {
      "text/plain": [
       "59.0"
      ]
     },
     "execution_count": 20,
     "metadata": {},
     "output_type": "execute_result"
    }
   ],
   "source": [
    "118.0/2"
   ]
  },
  {
   "cell_type": "code",
   "execution_count": 21,
   "id": "563f0578-e615-47a9-875d-ae035aaa495e",
   "metadata": {},
   "outputs": [
    {
     "data": {
      "text/plain": [
       "18.271186440677965"
      ]
     },
     "execution_count": 21,
     "metadata": {},
     "output_type": "execute_result"
    }
   ],
   "source": [
    "1076.95/59\n",
    "1078.0 / 59"
   ]
  },
  {
   "cell_type": "code",
   "execution_count": 22,
   "id": "980b8f1d-a3b7-4b82-afbb-f56fa8d002f7",
   "metadata": {},
   "outputs": [
    {
     "data": {
      "text/html": [
       "<div>\n",
       "<style scoped>\n",
       "    .dataframe tbody tr th:only-of-type {\n",
       "        vertical-align: middle;\n",
       "    }\n",
       "\n",
       "    .dataframe tbody tr th {\n",
       "        vertical-align: top;\n",
       "    }\n",
       "\n",
       "    .dataframe thead th {\n",
       "        text-align: right;\n",
       "    }\n",
       "</style>\n",
       "<table border=\"1\" class=\"dataframe\">\n",
       "  <thead>\n",
       "    <tr style=\"text-align: right;\">\n",
       "      <th></th>\n",
       "      <th>tr_l</th>\n",
       "      <th>tr_h</th>\n",
       "      <th>tr_w</th>\n",
       "      <th>bkp_w</th>\n",
       "    </tr>\n",
       "  </thead>\n",
       "  <tbody>\n",
       "    <tr>\n",
       "      <th>0</th>\n",
       "      <td>60</td>\n",
       "      <td>1.4</td>\n",
       "      <td>1.4</td>\n",
       "      <td>0.10</td>\n",
       "    </tr>\n",
       "    <tr>\n",
       "      <th>1</th>\n",
       "      <td>60</td>\n",
       "      <td>1.4</td>\n",
       "      <td>1.4</td>\n",
       "      <td>0.15</td>\n",
       "    </tr>\n",
       "    <tr>\n",
       "      <th>2</th>\n",
       "      <td>60</td>\n",
       "      <td>1.4</td>\n",
       "      <td>1.4</td>\n",
       "      <td>0.20</td>\n",
       "    </tr>\n",
       "    <tr>\n",
       "      <th>3</th>\n",
       "      <td>60</td>\n",
       "      <td>1.4</td>\n",
       "      <td>1.4</td>\n",
       "      <td>0.25</td>\n",
       "    </tr>\n",
       "    <tr>\n",
       "      <th>16</th>\n",
       "      <td>60</td>\n",
       "      <td>1.6</td>\n",
       "      <td>1.4</td>\n",
       "      <td>0.10</td>\n",
       "    </tr>\n",
       "    <tr>\n",
       "      <th>17</th>\n",
       "      <td>60</td>\n",
       "      <td>1.6</td>\n",
       "      <td>1.4</td>\n",
       "      <td>0.15</td>\n",
       "    </tr>\n",
       "    <tr>\n",
       "      <th>18</th>\n",
       "      <td>60</td>\n",
       "      <td>1.6</td>\n",
       "      <td>1.4</td>\n",
       "      <td>0.20</td>\n",
       "    </tr>\n",
       "    <tr>\n",
       "      <th>19</th>\n",
       "      <td>60</td>\n",
       "      <td>1.6</td>\n",
       "      <td>1.4</td>\n",
       "      <td>0.25</td>\n",
       "    </tr>\n",
       "    <tr>\n",
       "      <th>32</th>\n",
       "      <td>60</td>\n",
       "      <td>1.8</td>\n",
       "      <td>1.4</td>\n",
       "      <td>0.10</td>\n",
       "    </tr>\n",
       "    <tr>\n",
       "      <th>33</th>\n",
       "      <td>60</td>\n",
       "      <td>1.8</td>\n",
       "      <td>1.4</td>\n",
       "      <td>0.15</td>\n",
       "    </tr>\n",
       "    <tr>\n",
       "      <th>34</th>\n",
       "      <td>60</td>\n",
       "      <td>1.8</td>\n",
       "      <td>1.4</td>\n",
       "      <td>0.20</td>\n",
       "    </tr>\n",
       "    <tr>\n",
       "      <th>35</th>\n",
       "      <td>60</td>\n",
       "      <td>1.8</td>\n",
       "      <td>1.4</td>\n",
       "      <td>0.25</td>\n",
       "    </tr>\n",
       "    <tr>\n",
       "      <th>48</th>\n",
       "      <td>60</td>\n",
       "      <td>2.0</td>\n",
       "      <td>1.4</td>\n",
       "      <td>0.10</td>\n",
       "    </tr>\n",
       "    <tr>\n",
       "      <th>49</th>\n",
       "      <td>60</td>\n",
       "      <td>2.0</td>\n",
       "      <td>1.4</td>\n",
       "      <td>0.15</td>\n",
       "    </tr>\n",
       "    <tr>\n",
       "      <th>50</th>\n",
       "      <td>60</td>\n",
       "      <td>2.0</td>\n",
       "      <td>1.4</td>\n",
       "      <td>0.20</td>\n",
       "    </tr>\n",
       "    <tr>\n",
       "      <th>51</th>\n",
       "      <td>60</td>\n",
       "      <td>2.0</td>\n",
       "      <td>1.4</td>\n",
       "      <td>0.25</td>\n",
       "    </tr>\n",
       "    <tr>\n",
       "      <th>64</th>\n",
       "      <td>60</td>\n",
       "      <td>2.2</td>\n",
       "      <td>1.4</td>\n",
       "      <td>0.10</td>\n",
       "    </tr>\n",
       "    <tr>\n",
       "      <th>65</th>\n",
       "      <td>60</td>\n",
       "      <td>2.2</td>\n",
       "      <td>1.4</td>\n",
       "      <td>0.15</td>\n",
       "    </tr>\n",
       "    <tr>\n",
       "      <th>66</th>\n",
       "      <td>60</td>\n",
       "      <td>2.2</td>\n",
       "      <td>1.4</td>\n",
       "      <td>0.20</td>\n",
       "    </tr>\n",
       "    <tr>\n",
       "      <th>67</th>\n",
       "      <td>60</td>\n",
       "      <td>2.2</td>\n",
       "      <td>1.4</td>\n",
       "      <td>0.25</td>\n",
       "    </tr>\n",
       "    <tr>\n",
       "      <th>80</th>\n",
       "      <td>60</td>\n",
       "      <td>2.4</td>\n",
       "      <td>1.4</td>\n",
       "      <td>0.10</td>\n",
       "    </tr>\n",
       "    <tr>\n",
       "      <th>81</th>\n",
       "      <td>60</td>\n",
       "      <td>2.4</td>\n",
       "      <td>1.4</td>\n",
       "      <td>0.15</td>\n",
       "    </tr>\n",
       "    <tr>\n",
       "      <th>82</th>\n",
       "      <td>60</td>\n",
       "      <td>2.4</td>\n",
       "      <td>1.4</td>\n",
       "      <td>0.20</td>\n",
       "    </tr>\n",
       "    <tr>\n",
       "      <th>83</th>\n",
       "      <td>60</td>\n",
       "      <td>2.4</td>\n",
       "      <td>1.4</td>\n",
       "      <td>0.25</td>\n",
       "    </tr>\n",
       "    <tr>\n",
       "      <th>96</th>\n",
       "      <td>60</td>\n",
       "      <td>2.6</td>\n",
       "      <td>1.4</td>\n",
       "      <td>0.10</td>\n",
       "    </tr>\n",
       "    <tr>\n",
       "      <th>97</th>\n",
       "      <td>60</td>\n",
       "      <td>2.6</td>\n",
       "      <td>1.4</td>\n",
       "      <td>0.15</td>\n",
       "    </tr>\n",
       "    <tr>\n",
       "      <th>98</th>\n",
       "      <td>60</td>\n",
       "      <td>2.6</td>\n",
       "      <td>1.4</td>\n",
       "      <td>0.20</td>\n",
       "    </tr>\n",
       "    <tr>\n",
       "      <th>99</th>\n",
       "      <td>60</td>\n",
       "      <td>2.6</td>\n",
       "      <td>1.4</td>\n",
       "      <td>0.25</td>\n",
       "    </tr>\n",
       "    <tr>\n",
       "      <th>112</th>\n",
       "      <td>60</td>\n",
       "      <td>2.8</td>\n",
       "      <td>1.4</td>\n",
       "      <td>0.10</td>\n",
       "    </tr>\n",
       "    <tr>\n",
       "      <th>113</th>\n",
       "      <td>60</td>\n",
       "      <td>2.8</td>\n",
       "      <td>1.4</td>\n",
       "      <td>0.15</td>\n",
       "    </tr>\n",
       "    <tr>\n",
       "      <th>114</th>\n",
       "      <td>60</td>\n",
       "      <td>2.8</td>\n",
       "      <td>1.4</td>\n",
       "      <td>0.20</td>\n",
       "    </tr>\n",
       "    <tr>\n",
       "      <th>115</th>\n",
       "      <td>60</td>\n",
       "      <td>2.8</td>\n",
       "      <td>1.4</td>\n",
       "      <td>0.25</td>\n",
       "    </tr>\n",
       "    <tr>\n",
       "      <th>128</th>\n",
       "      <td>60</td>\n",
       "      <td>3.0</td>\n",
       "      <td>1.4</td>\n",
       "      <td>0.10</td>\n",
       "    </tr>\n",
       "    <tr>\n",
       "      <th>129</th>\n",
       "      <td>60</td>\n",
       "      <td>3.0</td>\n",
       "      <td>1.4</td>\n",
       "      <td>0.15</td>\n",
       "    </tr>\n",
       "    <tr>\n",
       "      <th>130</th>\n",
       "      <td>60</td>\n",
       "      <td>3.0</td>\n",
       "      <td>1.4</td>\n",
       "      <td>0.20</td>\n",
       "    </tr>\n",
       "    <tr>\n",
       "      <th>131</th>\n",
       "      <td>60</td>\n",
       "      <td>3.0</td>\n",
       "      <td>1.4</td>\n",
       "      <td>0.25</td>\n",
       "    </tr>\n",
       "  </tbody>\n",
       "</table>\n",
       "</div>"
      ],
      "text/plain": [
       "     tr_l  tr_h  tr_w  bkp_w\n",
       "0      60   1.4   1.4   0.10\n",
       "1      60   1.4   1.4   0.15\n",
       "2      60   1.4   1.4   0.20\n",
       "3      60   1.4   1.4   0.25\n",
       "16     60   1.6   1.4   0.10\n",
       "17     60   1.6   1.4   0.15\n",
       "18     60   1.6   1.4   0.20\n",
       "19     60   1.6   1.4   0.25\n",
       "32     60   1.8   1.4   0.10\n",
       "33     60   1.8   1.4   0.15\n",
       "34     60   1.8   1.4   0.20\n",
       "35     60   1.8   1.4   0.25\n",
       "48     60   2.0   1.4   0.10\n",
       "49     60   2.0   1.4   0.15\n",
       "50     60   2.0   1.4   0.20\n",
       "51     60   2.0   1.4   0.25\n",
       "64     60   2.2   1.4   0.10\n",
       "65     60   2.2   1.4   0.15\n",
       "66     60   2.2   1.4   0.20\n",
       "67     60   2.2   1.4   0.25\n",
       "80     60   2.4   1.4   0.10\n",
       "81     60   2.4   1.4   0.15\n",
       "82     60   2.4   1.4   0.20\n",
       "83     60   2.4   1.4   0.25\n",
       "96     60   2.6   1.4   0.10\n",
       "97     60   2.6   1.4   0.15\n",
       "98     60   2.6   1.4   0.20\n",
       "99     60   2.6   1.4   0.25\n",
       "112    60   2.8   1.4   0.10\n",
       "113    60   2.8   1.4   0.15\n",
       "114    60   2.8   1.4   0.20\n",
       "115    60   2.8   1.4   0.25\n",
       "128    60   3.0   1.4   0.10\n",
       "129    60   3.0   1.4   0.15\n",
       "130    60   3.0   1.4   0.20\n",
       "131    60   3.0   1.4   0.25"
      ]
     },
     "execution_count": 22,
     "metadata": {},
     "output_type": "execute_result"
    }
   ],
   "source": [
    "suctionmm_runs.loc[suctionmm_runs.tr_w==1.4]"
   ]
  },
  {
   "cell_type": "code",
   "execution_count": null,
   "id": "d2d0b1c5-8e6a-462e-b4ba-b0445fbceade",
   "metadata": {},
   "outputs": [],
   "source": []
  }
 ],
 "metadata": {
  "kernelspec": {
   "display_name": "Python 3 (ipykernel)",
   "language": "python",
   "name": "python3"
  },
  "language_info": {
   "codemirror_mode": {
    "name": "ipython",
    "version": 3
   },
   "file_extension": ".py",
   "mimetype": "text/x-python",
   "name": "python",
   "nbconvert_exporter": "python",
   "pygments_lexer": "ipython3",
   "version": "3.9.15"
  }
 },
 "nbformat": 4,
 "nbformat_minor": 5
}
