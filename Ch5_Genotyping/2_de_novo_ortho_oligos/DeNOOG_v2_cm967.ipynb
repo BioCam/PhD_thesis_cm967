{
 "cells": [
  {
   "cell_type": "markdown",
   "id": "01dd1a9f-5d4e-46f5-8d81-7e88b7549284",
   "metadata": {},
   "source": [
    "# De Novo Orthogonal Oligo Generator (DeNOOG)\n",
    "author: Camillo Moschner | date: early 2022"
   ]
  },
  {
   "cell_type": "markdown",
   "id": "b0b6537c-c1ea-4993-ae88-6deac5731db0",
   "metadata": {},
   "source": [
    "## Import Statements"
   ]
  },
  {
   "cell_type": "code",
   "execution_count": 1,
   "id": "14788b28-8dac-4853-b8ca-806d7ca1fd2c",
   "metadata": {},
   "outputs": [],
   "source": [
    "import random\n",
    "import csv\n",
    "import pandas as pd\n",
    "\n",
    "import re\n",
    "import matplotlib.pyplot as plt\n",
    "import matplotlib.gridspec as gridspec\n",
    "\n",
    "import numpy as np\n",
    "from collections import Counter\n",
    "from tqdm.notebook import tqdm\n",
    "from random import randint, choice\n",
    "import networkx as nx\n",
    "\n",
    "from nupack import *\n",
    "from seqfold import dg, dg_cache, fold\n",
    "from Bio.SeqUtils import MeltingTemp as mt\n",
    "from Bio.Seq import Seq"
   ]
  },
  {
   "cell_type": "code",
   "execution_count": 2,
   "id": "454ada67-f9f4-484a-a126-936f7d43c784",
   "metadata": {},
   "outputs": [],
   "source": [
    "\n",
    "\n",
    "from Levenshtein import distance # https://maxbachmann.github.io/Levenshtein/levenshtein.html#distance\n",
    "\n",
    "import multiprocessing\n",
    "from joblib import Parallel, delayed\n",
    "\n",
    "from pylab import *\n",
    "from ipywidgets import interact\n",
    "from itertools import islice\n"
   ]
  },
  {
   "cell_type": "markdown",
   "id": "2c3a57b8-f0ae-4d97-8a8f-9b6aa09f5fe8",
   "metadata": {},
   "source": [
    "## Function Definitions"
   ]
  },
  {
   "cell_type": "code",
   "execution_count": 3,
   "id": "2cdbe6d9-922b-42be-99a2-1193a85229dd",
   "metadata": {},
   "outputs": [],
   "source": [
    "def generate_random_DNA_sequence(length):\n",
    "    \"\"\"\n",
    "        Generates a random sequence of DNA when given the length the sequence is supposed to be\n",
    "        :param path: number\n",
    "        :param: int\n",
    "        :return: DNA sequence\n",
    "        :return: str\n",
    "    \"\"\"\n",
    "    seq, random_sequence = ['A', 'T', 'G', 'C'], []\n",
    "    for i in range(0,length):\n",
    "        x = choice(seq)\n",
    "        random_sequence.append(str(x))\n",
    "    random_sequence = ''.join(random_sequence)\n",
    "    return random_sequence\n",
    "\n",
    "\n",
    "def create_substitution_list(DNA_sequence,position):\n",
    "    \"\"\"\n",
    "        Takes a DNA sequence string and generates a list of all DNA \n",
    "        substitutions possible at a SINGLE given position.\n",
    "        :param1: str of DNA sequence\n",
    "        :param2: int of sequence position that shall be substituted (starting with 0)\n",
    "        :return: list of DNA sequences\n",
    "    \"\"\"\n",
    "    DNA_sequence_list = list(DNA_sequence)\n",
    "    seq = ['A', 'T', 'G', 'C']\n",
    "    substitution_list = [DNA_sequence]\n",
    "    for base_i in range(0,len(seq)):\n",
    "        growing_list = ''\n",
    "        DNA_sequence_list[position] = seq[base_i]\n",
    "        for j in DNA_sequence_list:\n",
    "            growing_list = growing_list + j\n",
    "        if growing_list != DNA_sequence:\n",
    "            substitution_list.append(growing_list)\n",
    "    return substitution_list\n",
    "\n",
    "def create_substitution_combinations(DNA_sequence,position_list):\n",
    "    \"\"\"\n",
    "        Takes a DNA sequence string and generates a list of all DNA \n",
    "        substitutions possible at ALL given position.\n",
    "        :param1: str of DNA sequence\n",
    "        :param2: list of int of ALL sequence positions that shall  \n",
    "                 be substituted (starting with 0)\n",
    "        :return: list of DNA sequences\n",
    "    \"\"\"\n",
    "    # intialise the first substitution list:\n",
    "    entire_substitution_combination_list = create_substitution_list(DNA_sequence,position_list[0])\n",
    "    # loop through every position to substitute, generating a list of all \n",
    "    # substitutions, add them to the list and start looping again:\n",
    "    for i in range(1,len(position_list)):\n",
    "        for j in range(0,len(entire_substitution_combination_list)):\n",
    "            new_substitutions = create_substitution_list(entire_substitution_combination_list[j],position_list[i])\n",
    "            new_substitutions.remove(entire_substitution_combination_list[j])\n",
    "            entire_substitution_combination_list.extend(new_substitutions)     \n",
    "    # Proof-check that the programme generated the expected amount of unique sequences:\n",
    "    number_substitution_positions = len(position_list)\n",
    "    number_expected_substitutions = 4 ** number_substitution_positions\n",
    "    if number_expected_substitutions != len(set(entire_substitution_combination_list)):\n",
    "        print('WARNING: {:} substitutions have been expected. \\n{:} substitutions have been generated'.format(number_expected_substitutions,len(entire_substitution_combination_list)))\n",
    "    # return a list of all possible combinations:\n",
    "    return entire_substitution_combination_list\n",
    "\n",
    "\n",
    "\n",
    "def list_to_CSV(list_x,CSV_name):\n",
    "    \"\"\"\n",
    "        Takes a list and generates a CSV file with each \n",
    "        element of the list in a new indexed row.\n",
    "        :param1: list\n",
    "        :param2: str + '.csv'\n",
    "        :return: CSV\n",
    "    \"\"\"\n",
    "    with open(CSV_name, mode='w') as CSV_file:\n",
    "        filewriter = csv.writer(CSV_file, delimiter=',', quotechar='|', quoting=csv.QUOTE_MINIMAL)\n",
    "        for i in range(0,len(list_x)):\n",
    "            # index each row and append list element to column 1:\n",
    "            new_row = [i+1, list_x[i]]\n",
    "            filewriter.writerow(new_row)\n",
    "    return 'CSV file \\'{:}\\' has been generated in the directory.'.format(CSV_name)"
   ]
  },
  {
   "cell_type": "code",
   "execution_count": 4,
   "id": "f725bc65-7144-4787-bc7b-2b2c2d40d989",
   "metadata": {},
   "outputs": [],
   "source": [
    "def get_complexes(seq, temp, return_dimer_conc = True):\n",
    "    \"\"\"Gives concentration of homo-intermolecular self-annealing oligos when starting with c=500nM of oligo\n",
    "    \"\"\"\n",
    "    my_model = Model(material='dna', celsius=temp)\n",
    "    a = Strand(seq, name='a')\n",
    "    t1 = Tube(strands={a:5e-7}, complexes=SetSpec(max_size=2), name='')\n",
    "    tube_result = tube_analysis(tubes=[t1], compute=['pairs', 'mfe'], model=my_model)\n",
    "    if return_dimer_conc:\n",
    "        for i, (my_complex, conc) in enumerate(tube_result.tubes[t1].complex_concentrations.items()):\n",
    "            if i == 1: \n",
    "                return (conc), tube_result,tube_result[\"(a)\"].mfe[0].energy\n",
    "    return tube_result\n",
    "\n",
    "def sec_struct_matrix_diagonal(test_seq):\n",
    "    \"\"\"Calculates the sum of diagonal probalities in the intramolecular self-annealing matrix\n",
    "    \"\"\"\n",
    "    seq_array = test_seq['(a)'].pairs.to_array()\n",
    "    #plt.imshow(seq_array)\n",
    "    diag = 0\n",
    "    for x in range(len(seq_array)):\n",
    "        diag += seq_array[x,x]\n",
    "    return diag\n",
    "\n",
    "def reverse_compliment(query_seq):\n",
    "    \"\"\"Calculate reverse compliment of sequence in 5'->3' orientation\n",
    "    \"\"\"\n",
    "    comp_dic, rev_compliment, reverse_seq = {'A':'T', 'T':'A', 'G':'C', 'C':'G'}, [], list(query_seq)[::-1]\n",
    "    for rev_nt in reverse_seq:\n",
    "        rev_compliment.append(comp_dic[rev_nt])\n",
    "    return ''.join(rev_compliment)\n",
    "\n",
    "def create_color_list(number_needed):\n",
    "    color_list = []\n",
    "    for i in range(number_needed):\n",
    "        color_list.append('#%06X' % randint(0, 0xFFFFFF))\n",
    "    return color_list"
   ]
  },
  {
   "cell_type": "code",
   "execution_count": 5,
   "id": "6b333af4-4332-44cc-a597-ad3ef13053b4",
   "metadata": {},
   "outputs": [
    {
     "data": {
      "text/plain": [
       "'CTGTGTGGTGTTTAAGGTAAGGCGTCTCATGGAAATGGATTGGTGGTCCGCCCTTGACCGCATTTGTGGCGACCGTTTCAACATAATTGCTTGGCTGAATCCTGAAGTATTCTCCAACCAGACGAGGGCACTGGTAAATTTCTATCTTCTCCCGCCATGCTTTTTGGTCGTGGTGATTCCGCGCTCTTGCGGACCCATATAACCCATCGCCTCAGAGCTCGAACTTGGTCCCGTGTTTGACCCTACAGTTCGCTTTTCGTGAGACAGGAATGGTTGCAAACTACTGTTCGTGCGAGAGAGCACAGATAAAACACATGCTGGTTCGTTCGACAAATCCCGGACGGTGGCCGTACATGGACGGATACCCACGGCTATACAACAAGCAGATCCAGTTCGTTACGGCAAAACTAGTCTGTAGTACTAGGGTGTGGCGAGTGAGAAAGCTTCGGATAACTTGCTCGAGGTATATAAAGAGCGGCGACAGCAAGACACCTGTAGGATGTAAGCATGTAAATGCAGCCCACAGGCGCTTAAGAGTATGGGCTGAACAAACTCGCGTAACCCAAGAAAAGGGATGAGCTCAATGCCACCCATGCTTCAACCTACGGGAGCCAAAAAAAAATCTGCGCTTACCGACCGCAACGCGTTCAAGTGGGGAGTCTCTTTATAGACCTCCAAGGGCACCCCCGTTACAATCTGGCTGCCTGCACTCCAATACAGGGGTTTTGGGTCTCCTGCTTCGAAGAGTTCACAAGAGTATGGTAGATGCGCGTATAGAACGAGTCGCCCCAATTCTTGAGTTCGCGATTATCTCAGACCGAACCGTCAAAGGAATCTGCTTTCGTGATCAGTCAAAACCCCATCGCGAATCATTCTTATAGAGGAAGCTCCCGAACGTAAGGAGAGGTTCGCTTGTGATGGCTTCCTAATAAGCGTCGAACGATCGTCTGGCTGCATTCATGTCACTACACCTCATGGCGAACAAGCGGCTTGGTGGCTA'"
      ]
     },
     "execution_count": 5,
     "metadata": {},
     "output_type": "execute_result"
    }
   ],
   "source": [
    "generate_random_DNA_sequence(1_000)"
   ]
  },
  {
   "cell_type": "code",
   "execution_count": 6,
   "id": "6ee29896-3d4a-4d6b-978f-b45f5558a3f1",
   "metadata": {},
   "outputs": [],
   "source": [
    "def primer_primer_dimerisation(seq_one, seq_two, temp):\n",
    "    my_model = Model(material='dna', celsius=temp)\n",
    "    a = Strand(seq_one, name='a')\n",
    "    b = Strand(seq_two, name='b')\n",
    "    t1 = Tube(strands={a:5e-7,b:5e-7}, complexes=SetSpec(max_size=2), name='')\n",
    "    tube_result = tube_analysis(tubes=[t1], compute=['pairs', 'mfe'], model=my_model)\n",
    "    for i, (my_complex, conc) in enumerate(tube_result.tubes[t1].complex_concentrations.items()):\n",
    "        if i == 4:\n",
    "            return conc"
   ]
  },
  {
   "cell_type": "code",
   "execution_count": 7,
   "id": "1a18cee0-bd2a-45a9-862e-fc13f12e5f88",
   "metadata": {},
   "outputs": [],
   "source": [
    "def generate_random_primer(length):\n",
    "    \"\"\"Generates a primer sequence de novo that fulfills a range of criteria\n",
    "        :in1: int\n",
    "        :in2: list\n",
    "        :process: adds new str to in2\n",
    "        :out1: str\n",
    "    \"\"\"\n",
    "    seq = ['A', 'T', 'G', 'C']\n",
    "    good_primer = ['no']\n",
    "    iteration = 0\n",
    "    while all( [x == 'yes' for x in good_primer] ) != True:\n",
    "        iteration += 1\n",
    "        good_primer = ['no']\n",
    "        # create new random sequence:\n",
    "        random_sequence = []\n",
    "        for i in range(0,length):\n",
    "            x = choice(seq)\n",
    "            random_sequence.append(str(x))\n",
    "        random_sequence = ''.join(random_sequence)\n",
    "        # check new sequence:\n",
    "        # 1- AGT in seq\n",
    "        if 'ATG' not in random_sequence:\n",
    "            good_primer[0] = 'yes'\n",
    "        # 2- GC clamp\n",
    "        end_3prime = random_sequence[-5:]\n",
    "        GC_count_in_3prim_end = Counter(end_3prime)['G']+Counter(end_3prime)['C']\n",
    "        if (GC_count_in_3prim_end == 3):\n",
    "            good_primer.append('yes')\n",
    "        else:\n",
    "            good_primer.append('no')\n",
    "        # 3- overall GC% between 50-58%\n",
    "        GC_count_of_seq = Counter(random_sequence)['G']+Counter(random_sequence)['C']\n",
    "        if (GC_count_of_seq/len(random_sequence) > 0.5) and (GC_count_of_seq/len(random_sequence) < 0.58):\n",
    "            good_primer.append('yes')\n",
    "        else:\n",
    "            good_primer.append('no')\n",
    "        if all( [x == 'yes' for x in good_primer] ) == True:\n",
    "            # 4- exclude runs of 4+\n",
    "            if (len(re.findall(r'A{4}',random_sequence)) > 0) or (len(re.findall(r'T{4}',random_sequence)) > 0) or (len(re.findall(r'G{4}',random_sequence)) > 0) or (len(re.findall(r'C{4}',random_sequence)) > 0):\n",
    "                good_primer.append('no')\n",
    "            else:\n",
    "                good_primer.append('yes')\n",
    "            if all( [x == 'yes' for x in good_primer] ) == True:\n",
    "                # 5- include MFE (monomer ssDNA secondary structures) -> take only high values but not infinity\n",
    "                mfe = dg(random_sequence)\n",
    "                if (mfe > 4.) and (mfe < 5_000):\n",
    "                    good_primer.append('yes')\n",
    "                else:\n",
    "                    good_primer.append('no')\n",
    "                if all( [x == 'yes' for x in good_primer] ) == True:\n",
    "                    # 6- exclude Type IIS RE rec_seqs\n",
    "                    typeIISRE_rec_seqs = ['GGTCTC','GAGACC', #BsaI\n",
    "                                          'CGTCTC','GAGACG', #BsmBI\n",
    "                                          'GAAGAC','GTCTTC', #BpiI\n",
    "                                          'GCTCTTC','GAAGAGC' #SapI\n",
    "                                         ] \n",
    "                    for rec_seq in typeIISRE_rec_seqs:\n",
    "                        if (len(re.findall(rec_seq,random_sequence)) > 0):\n",
    "                            good_primer.append('no')\n",
    "                        else:\n",
    "                            good_primer.append('yes')\n",
    "                    if all( [x == 'yes' for x in good_primer] ) == True:\n",
    "                        # 7- self-annealing check (using NUPACK)\n",
    "                        NUPACK_data = get_complexes(random_sequence,37)\n",
    "                        if NUPACK_data[0] > 0.02:\n",
    "                            good_primer.append('no')\n",
    "                        else:\n",
    "                            good_primer.append('yes')\n",
    "                        if all( [x == 'yes' for x in good_primer] ) == True:\n",
    "                            # 8- secondary structure/hairpin check2 (using NUPACK)\n",
    "                            if sec_struct_matrix_diagonal(NUPACK_data[1]) < 19.5:\n",
    "                                good_primer.append('no')\n",
    "                            else:\n",
    "                                good_primer.append('yes')\n",
    "        #print(iteration, good_primer)\n",
    "    print(iteration)\n",
    "    return random_sequence"
   ]
  },
  {
   "cell_type": "code",
   "execution_count": 8,
   "id": "0fc88b12-296d-45fe-99ff-8bcf6af46d04",
   "metadata": {},
   "outputs": [
    {
     "name": "stdout",
     "output_type": "stream",
     "text": [
      "130845\n",
      "CPU times: user 18.3 s, sys: 194 ms, total: 18.5 s\n",
      "Wall time: 18.4 s\n"
     ]
    },
    {
     "data": {
      "text/plain": [
       "'TTCTCTCCCTTTCCGCACTC'"
      ]
     },
     "execution_count": 8,
     "metadata": {},
     "output_type": "execute_result"
    }
   ],
   "source": [
    "%%time\n",
    "generate_random_primer(20)"
   ]
  },
  {
   "cell_type": "markdown",
   "id": "e2b6a2e7-0bfd-4605-871e-c713b905989f",
   "metadata": {},
   "source": [
    "----\n",
    "## Execution"
   ]
  },
  {
   "cell_type": "markdown",
   "id": "eb583f9e-ce7d-4f33-a6c4-b6afe2b3ba55",
   "metadata": {},
   "source": [
    "### 1. De novo oligo design"
   ]
  },
  {
   "cell_type": "raw",
   "id": "7ee1b10b-4aa0-4bd5-86aa-55f9e5f03d98",
   "metadata": {},
   "source": [
    "[generate_random_primer(20) for iterator in tqdm(range(1_000)) ]"
   ]
  },
  {
   "cell_type": "code",
   "execution_count": null,
   "id": "19f27914-6df6-4978-be46-8ee738bacf0b",
   "metadata": {},
   "outputs": [],
   "source": [
    "num_cores = multiprocessing.cpu_count()"
   ]
  },
  {
   "cell_type": "code",
   "execution_count": null,
   "id": "6f50c9a6-34e2-4a6b-acb1-32cf126f0768",
   "metadata": {},
   "outputs": [],
   "source": [
    "if __name__ == \"__main__\":\n",
    "    potential_primer_list_parallel = Parallel(n_jobs=num_cores)(delayed (generate_random_primer) (20)\n",
    "                                                                for iterator in tqdm(range(12)) \n",
    "                                                               )"
   ]
  },
  {
   "cell_type": "code",
   "execution_count": null,
   "id": "907a743d-f95b-431c-b806-d110159c8deb",
   "metadata": {},
   "outputs": [],
   "source": [
    "potential_primer_list_parallel = pd.read_csv('master1000_DIY_primers.csv').primers"
   ]
  },
  {
   "cell_type": "code",
   "execution_count": null,
   "id": "db911b08-ccb5-44a1-8b95-3f77e157df8f",
   "metadata": {},
   "outputs": [],
   "source": [
    "len(potential_primer_list_parallel)"
   ]
  },
  {
   "cell_type": "code",
   "execution_count": null,
   "id": "1ca1c7b9-a47f-475e-9d63-aa87fc960d2c",
   "metadata": {},
   "outputs": [],
   "source": [
    "potential_primer_df = pd.DataFrame({'primers' : potential_primer_list_parallel})\n",
    "potential_primer_df['MFE'] = potential_primer_df.primers.apply(lambda p: dg(p))\n",
    "potential_primer_df['Tm_GC'] = potential_primer_df.primers.apply(lambda p: mt.Tm_GC(Seq(p)))\n",
    "potential_primer_df['Tm_NN'] = potential_primer_df.primers.apply(lambda p: mt.Tm_NN(Seq(p)))"
   ]
  },
  {
   "cell_type": "code",
   "execution_count": null,
   "id": "dc6e5252-0a3a-47e8-a0cf-89df063ea9bb",
   "metadata": {
    "tags": []
   },
   "outputs": [],
   "source": [
    "secondary_structure_complex_data_37 = [get_complexes(seq, 37) for seq in potential_primer_df.primers]\n",
    "potential_primer_df['dimer_c_37'] = [item[0] for item in secondary_structure_complex_data_37]\n",
    "potential_primer_df['dimer_c_72'] = potential_primer_df.primers.apply(lambda p: get_complexes(p, 72)[0])\n",
    "potential_primer_df['dimer_c_98'] = potential_primer_df.primers.apply(lambda p: get_complexes(p, 98)[0])\n",
    "potential_primer_df['secstruc_diag_37'] = [sec_struct_matrix_diagonal(item[1]) for item in secondary_structure_complex_data_37]"
   ]
  },
  {
   "cell_type": "code",
   "execution_count": null,
   "id": "22efb0e0-e066-40cc-b028-e89959c36041",
   "metadata": {},
   "outputs": [],
   "source": [
    "potential_primer_df['GC_clamp'] = potential_primer_df.primers.apply(lambda seq: Counter(seq[-5:])['G']+Counter(seq[-5:])['C'])#.to_csv('master1000_DIY_primers.csv')#.primers.unique()\n",
    "len(potential_primer_df.primers) == len(set(potential_primer_df.primers))"
   ]
  },
  {
   "cell_type": "code",
   "execution_count": null,
   "id": "42ae34fa-2535-4b58-91b3-546011389e67",
   "metadata": {},
   "outputs": [],
   "source": [
    "potential_primer_df#.to_csv(\"master1000_DIY_primers.csv\",index=False)  #.GC_clamp.describe()"
   ]
  },
  {
   "cell_type": "code",
   "execution_count": null,
   "id": "5796219a-bfb3-4ab6-a0b1-accb56abc25e",
   "metadata": {
    "tags": []
   },
   "outputs": [],
   "source": [
    "new_df = potential_primer_df.loc[(potential_primer_df.MFE>5) & \n",
    "                        (potential_primer_df.Tm_NN > 51) & \n",
    "                        (potential_primer_df.Tm_NN < 52)]\n",
    "new_df"
   ]
  },
  {
   "cell_type": "markdown",
   "id": "1a79c675-41df-40ef-80ca-172956bc388a",
   "metadata": {},
   "source": [
    "#### Primer-Primer Orthogonality 1: Primer Binding Site Competition -> Levenshtein Distance Matrix"
   ]
  },
  {
   "cell_type": "code",
   "execution_count": null,
   "id": "efe073c2-03fe-4bf6-b05b-ff0d81bd6e4d",
   "metadata": {},
   "outputs": [],
   "source": [
    "Levenshtein_list = []\n",
    "for idx1, seq1 in enumerate(potential_primer_df.primers):\n",
    "    for idx2, seq2 in enumerate(potential_primer_df.primers):\n",
    "        Levenshtein_list.append(({seq1:seq2}))\n",
    "Levenshtein_matrix_df = pd.DataFrame(np.array(Levenshtein_list).reshape(1_000,1_000), columns = list(potential_primer_df.primers))\n",
    "Levenshtein_matrix_df['axis2'] = potential_primer_df.primers\n",
    "Levenshtein_matrix_df.set_index('axis2',inplace=True)\n",
    "for column_idx in range(len(Levenshtein_matrix_df.columns)):\n",
    "    Levenshtein_matrix_df.iloc[:,column_idx] = (Levenshtein_matrix_df.iloc[:,column_idx].apply(lambda dictionary: list(dictionary.items())[0]))\n",
    "    for index_idx in range(len(Levenshtein_matrix_df.index)):\n",
    "        Levenshtein_matrix_df.iloc[index_idx,column_idx] = distance(Levenshtein_matrix_df.iloc[index_idx,column_idx][0], Levenshtein_matrix_df.iloc[index_idx,column_idx][1])"
   ]
  },
  {
   "cell_type": "code",
   "execution_count": null,
   "id": "2d7efd31-f84e-4342-9aa5-d36bff627ff7",
   "metadata": {},
   "outputs": [],
   "source": [
    "Levenshtein_matrix_df#.iloc[:,0]#.describe().loc['top',:].max()"
   ]
  },
  {
   "cell_type": "code",
   "execution_count": null,
   "id": "5d0ccd44-10be-4832-b364-68cf35f935f0",
   "metadata": {},
   "outputs": [],
   "source": [
    "dist = np.zeros((len(potential_primer_df.primers),len(potential_primer_df.primers)))\n",
    "for i, seq1 in enumerate(potential_primer_df.primers):\n",
    "    for j, seq2 in enumerate(potential_primer_df.primers):\n",
    "        dist[i,j] = distance (seq1,seq2)\n",
    "\n",
    "plt.imshow(dist)"
   ]
  },
  {
   "cell_type": "code",
   "execution_count": null,
   "id": "692a2ed3-7149-42a1-97db-741ec44796b1",
   "metadata": {},
   "outputs": [],
   "source": [
    "plt.hist(dist.flatten(),bins=20);"
   ]
  },
  {
   "cell_type": "code",
   "execution_count": null,
   "id": "429f2f0b-b6f1-4085-abfc-ecb30620cf98",
   "metadata": {},
   "outputs": [],
   "source": [
    "sorted_primers_only = potential_primer_df.sort_values(by=['primers']).primers\n",
    "dist_sorted = np.zeros((len(sorted_primers_only),len(sorted_primers_only)))\n",
    "for i, seq1 in enumerate(sorted_primers_only):\n",
    "    for j, seq2 in enumerate(sorted_primers_only):\n",
    "        dist_sorted[i,j] = distance (seq1,seq2)\n",
    "fig = plt.figure(figsize=(14,9))\n",
    "plt.imshow(dist_sorted);"
   ]
  },
  {
   "cell_type": "code",
   "execution_count": null,
   "id": "153d81ad-0d6c-4262-bc48-f5f32e504536",
   "metadata": {},
   "outputs": [],
   "source": [
    "dist_sorted"
   ]
  },
  {
   "cell_type": "code",
   "execution_count": null,
   "id": "09994ca5-0fbf-46d6-9118-87fea8ff3db4",
   "metadata": {},
   "outputs": [],
   "source": [
    "test_distances = [15, 16, 17, 18]\n",
    "plt.style.use('default')\n",
    "fig = plt.figure(figsize=(14,9))\n",
    "gs = gridspec.GridSpec(3,3,figure=fig)\n",
    "ax_15, ax_16 = fig.add_subplot(gs[0,0]), fig.add_subplot(gs[0,1])\n",
    "ax_15.set_title(f\"15\",size=10)\n",
    "ax_15.imshow(dist_sorted==15)\n",
    "ax_16.set_title(f\"16\",size=10)\n",
    "ax_16.imshow(dist_sorted==16)\n",
    "\n",
    "ax_17, ax_18 = fig.add_subplot(gs[1,0]), fig.add_subplot(gs[1,1])\n",
    "ax_17.set_title(f\"17\",size=10)\n",
    "ax_17.imshow(dist_sorted==17)\n",
    "ax_18.set_title(f\"18\",size=10)\n",
    "ax_18.imshow(dist_sorted==18)\n",
    "\n",
    "ax_19, ax_20 = fig.add_subplot(gs[2,0]), fig.add_subplot(gs[2,1])\n",
    "ax_19.set_title(f\"19\",size=10)\n",
    "ax_19.imshow(dist_sorted==19)\n",
    "ax_20.set_title(f\"20\",size=10)\n",
    "ax_20.imshow(dist_sorted==20)\n",
    "plt.show();"
   ]
  },
  {
   "cell_type": "markdown",
   "id": "8b724682-d2bb-414c-91ce-a93eeb410526",
   "metadata": {},
   "source": [
    "##### Network Approach Towards Cluster Identification"
   ]
  },
  {
   "cell_type": "code",
   "execution_count": null,
   "id": "6df24d76-65e9-4855-84c1-f091529f6718",
   "metadata": {},
   "outputs": [],
   "source": [
    "\"\"\"First, choose the degree of dissimilarity between primer pairs\n",
    "\"\"\"\n",
    "all_pairs_twenty = np.where(dist==20)\n",
    "\n",
    "twenty_pairs = []\n",
    "for idx, column_value in enumerate(all_pairs_twenty[0]):\n",
    "    column_seq = Levenshtein_matrix_df.columns[column_value]\n",
    "    index_seq = Levenshtein_matrix_df.index[all_pairs_twenty[1][idx]]\n",
    "    twenty_pairs.append((column_seq,index_seq))"
   ]
  },
  {
   "cell_type": "code",
   "execution_count": null,
   "id": "2d9fc86b-3477-47b4-80cc-532edcee9209",
   "metadata": {},
   "outputs": [],
   "source": [
    "# total number of primer pairs with that step distance\n",
    "len(twenty_pairs)\n",
    "twenties_df = pd.DataFrame(twenty_pairs,columns=['seq1','seq2'])\n",
    "twenties_df['seq1_counts'] = twenties_df.seq1.apply(lambda seq: Counter(seq))\n",
    "twenties_df['seq2_counts'] = twenties_df.seq2.apply(lambda seq: Counter(seq))\n",
    "twenties_df['seq1_count_length'] = twenties_df.seq1_counts.apply(lambda counts: len(counts))\n",
    "twenties_df['seq2_count_length'] = twenties_df.seq2_counts.apply(lambda counts: len(counts))\n"
   ]
  },
  {
   "cell_type": "code",
   "execution_count": null,
   "id": "e81a29e7-4ae1-4a49-a361-2410d0932be5",
   "metadata": {},
   "outputs": [],
   "source": [
    "twenties_df.loc[(twenties_df.seq1_count_length == 4) & (twenties_df.seq2_count_length == 4)]"
   ]
  },
  {
   "cell_type": "code",
   "execution_count": null,
   "id": "7f4c07e2-943b-4152-9471-3617039fdf9f",
   "metadata": {},
   "outputs": [],
   "source": []
  },
  {
   "cell_type": "code",
   "execution_count": null,
   "id": "e3c89dbd-7120-4550-bbf5-ab44fe745127",
   "metadata": {},
   "outputs": [],
   "source": []
  },
  {
   "cell_type": "code",
   "execution_count": null,
   "id": "49204709-3e74-44e4-9a53-c2faed661034",
   "metadata": {},
   "outputs": [],
   "source": [
    "subset = 200\n",
    "network_edge_list_df = pd.DataFrame(twenty_pairs[:subset], columns=['seq1','seq2'])\n",
    "network_edge_list_df['distance'] = [distance(x[0],x[1]) for x in twenty_pairs[:subset]]"
   ]
  },
  {
   "cell_type": "raw",
   "id": "7a094831-af55-40cd-bac9-fa3085c54b80",
   "metadata": {},
   "source": [
    "\"\"\"Check: no primer pair constitutes reverse compliments of each other (only interesting for step distance 20)\n",
    "\"\"\"\n",
    "network_edge_list_df['seq1_rev_comp'] = network_edge_list_df.seq1.apply(lambda seq: reverse_compliment(seq))\n",
    "network_edge_list_df['rev_comp_test'] = network_edge_list_df.seq2 == network_edge_list_df.seq1_rev_comp\n",
    "network_edge_list_df.loc[network_edge_list_df.rev_comp_test == True]"
   ]
  },
  {
   "cell_type": "code",
   "execution_count": null,
   "id": "ef63852e-85ea-4331-bf9e-d835ebd1e419",
   "metadata": {},
   "outputs": [],
   "source": [
    "\"\"\"Create first network graph of all primer pairs\n",
    "\"\"\"\n",
    "G = nx.MultiDiGraph()\n",
    "for row_idx in range(len(network_edge_list_df)):\n",
    "    G.add_edge(network_edge_list_df.iloc[row_idx,:].seq1,network_edge_list_df.iloc[row_idx,:].seq2,arrowstyle=\"-\") "
   ]
  },
  {
   "cell_type": "code",
   "execution_count": null,
   "id": "530f098a-0937-4f8a-94f6-0932a0bfb4df",
   "metadata": {},
   "outputs": [],
   "source": [
    "\"\"\"Update first primer with its degree information\n",
    "\"\"\"\n",
    "network_edge_list_df['seq1_degrees'] = network_edge_list_df.seq1.apply(lambda seq: G.degree()[seq])\n",
    "network_edge_list_df['seq2_degrees'] = network_edge_list_df.seq2.apply(lambda seq: G.degree()[seq])"
   ]
  },
  {
   "cell_type": "code",
   "execution_count": null,
   "id": "9225e2bb-ee5a-4fe5-a9b0-9737dcae4c1b",
   "metadata": {},
   "outputs": [],
   "source": [
    "from itertools import product, combinations"
   ]
  },
  {
   "cell_type": "code",
   "execution_count": null,
   "id": "6cbfbeb0-fd66-4395-8085-19e6f681f58b",
   "metadata": {},
   "outputs": [],
   "source": [
    "TAGAAAGGAGAGGGCGGGAT_combos = pd.DataFrame(list(combinations(Levenshtein_matrix_df['TAGAAAGGAGAGGGCGGGAT'].loc[\n",
    "    Levenshtein_matrix_df['TAGAAAGGAGAGGGCGGGAT']>18].index,2)),columns=['seq1','seq2'])"
   ]
  },
  {
   "cell_type": "code",
   "execution_count": null,
   "id": "ad45fd0a-3fdb-4a1a-91a9-46234f8e8ded",
   "metadata": {},
   "outputs": [],
   "source": [
    "TAGAAAGGAGAGGGCGGGAT_combos['distance'] = list(map(lambda duo: Levenshtein_matrix_df.loc[duo[0],duo[1]],list(zip(TAGAAAGGAGAGGGCGGGAT_combos.seq1,TAGAAAGGAGAGGGCGGGAT_combos.seq2))))"
   ]
  },
  {
   "cell_type": "code",
   "execution_count": null,
   "id": "4cc178d4-9b2e-46a3-938d-f00f4a4b0145",
   "metadata": {},
   "outputs": [],
   "source": [
    "TAGAAAGGAGAGGGCGGGAT_combos.nlargest(3,'distance')"
   ]
  },
  {
   "cell_type": "code",
   "execution_count": null,
   "id": "08ba03aa-092b-47cd-9d35-7fb17d3f916c",
   "metadata": {},
   "outputs": [],
   "source": [
    "combos = pd.DataFrame(list(combinations(['TAGAAAGGAGAGGGCGGGAT', 'ATAGGAGAGGAGGGAAAGGG', 'GCTCTCCTCCAACTAACACC', 'CCCGCTTCTTTCCTTCTCTG'],2)),columns=['seq1','seq2'])\n",
    "combos['distance'] = list(map(lambda duo: Levenshtein_matrix_df.loc[duo[0],duo[1]],list(zip(combos.seq1,combos.seq2))))\n",
    "combos['dimerisation_c'] = list(map(lambda duo: primer_primer_dimerisation(duo[0],duo[1],37),list(zip(combos.seq1,combos.seq2))))"
   ]
  },
  {
   "cell_type": "code",
   "execution_count": null,
   "id": "a53c0579-cfd7-435b-b7f1-46a841eeeaa4",
   "metadata": {},
   "outputs": [],
   "source": [
    "combos"
   ]
  },
  {
   "cell_type": "code",
   "execution_count": null,
   "id": "520103a9-d1dc-44d0-89b6-19ae682740c5",
   "metadata": {},
   "outputs": [],
   "source": [
    "distance('AGC','GTT'), distance('TAC','GTT'), distance('AGC','TAC')"
   ]
  },
  {
   "cell_type": "code",
   "execution_count": null,
   "id": "61b1d237-9693-4080-b9c0-635b8ecd45b0",
   "metadata": {},
   "outputs": [],
   "source": [
    "random"
   ]
  },
  {
   "cell_type": "code",
   "execution_count": null,
   "id": "eb51b0fe-2b2c-48d8-84cf-e775ea9d8ce8",
   "metadata": {},
   "outputs": [],
   "source": [
    "dist_selected_primers_df = pd.DataFrame({'primers' : pd.concat([network_edge_list_df.seq1, network_edge_list_df.seq2]).unique()})\n",
    "dist_selected_primers_df['degrees'] = dist_selected_primers_df.primers.apply(lambda seq: G.degree()[seq])"
   ]
  },
  {
   "cell_type": "code",
   "execution_count": null,
   "id": "751ef2a7-635e-423b-bd39-b713e74e3c22",
   "metadata": {},
   "outputs": [],
   "source": [
    "Levenshtein_matrix_df.loc[dist_selected_primers_df.loc[dist_selected_primers_df.degrees > 4].\n",
    "                          primers,dist_selected_primers_df.loc[dist_selected_primers_df.degrees > 4].primers] #).astype(int))"
   ]
  },
  {
   "cell_type": "code",
   "execution_count": null,
   "id": "d0924770-73c4-4ac1-847a-54cde9ea3801",
   "metadata": {},
   "outputs": [],
   "source": []
  },
  {
   "cell_type": "code",
   "execution_count": null,
   "id": "fa6baabe-a538-464e-b83a-6b043945524f",
   "metadata": {},
   "outputs": [],
   "source": [
    "hits = []\n",
    "for primer_seq in dist_selected_primers_df.primers:\n",
    "    #print(primer_seq)\n",
    "    current_primer_analysis_df = pd.concat([network_edge_list_df.loc[(network_edge_list_df.seq1 == primer_seq)], \n",
    "                                            network_edge_list_df.loc[(network_edge_list_df.seq2 == primer_seq)]\n",
    "                                           ])\n",
    "    if (current_primer_analysis_df.seq1_degrees.mean() > 5) and current_primer_analysis_df.seq2_degrees.mean() > 5:\n",
    "        hits.append(current_primer_analysis_df)"
   ]
  },
  {
   "cell_type": "code",
   "execution_count": null,
   "id": "1d6a1690-e8b3-495e-a794-bcae5cddd036",
   "metadata": {},
   "outputs": [],
   "source": [
    "@interact\n",
    "def show_hits(idx = (0,len(hits)-1)):\n",
    "    display(hits[idx])"
   ]
  },
  {
   "cell_type": "code",
   "execution_count": null,
   "id": "bb7debc5-9015-4ba5-a64c-6ece22c38917",
   "metadata": {},
   "outputs": [],
   "source": [
    "Levenshtein_matrix_df.loc[Levenshtein_matrix_df.loc['CTACCCAACCAACACCTCCT']==20]"
   ]
  },
  {
   "cell_type": "code",
   "execution_count": null,
   "id": "cacb81ba-c585-4dc6-a3e0-2dd16a8d8ebb",
   "metadata": {},
   "outputs": [],
   "source": []
  },
  {
   "cell_type": "code",
   "execution_count": null,
   "id": "b215f26e-619f-4c8d-9a91-a640a0ff7dd8",
   "metadata": {},
   "outputs": [],
   "source": [
    "dist_selected_primers_df.loc[dist_selected_primers_df.degrees > 10].primers.to_list()"
   ]
  },
  {
   "cell_type": "code",
   "execution_count": null,
   "id": "af274d5b-9237-42dd-a420-31eff24f32a1",
   "metadata": {},
   "outputs": [],
   "source": [
    "Levenshtein_matrix_df.loc[dist_selected_primers_df.loc[dist_selected_primers_df.degrees > 4].primers.to_list()].sort_values(by=['axis2']).to_a"
   ]
  },
  {
   "cell_type": "code",
   "execution_count": null,
   "id": "3da252ca-24b1-4100-82df-915bbf135efd",
   "metadata": {},
   "outputs": [],
   "source": []
  },
  {
   "cell_type": "code",
   "execution_count": null,
   "id": "80fec246-9495-46d3-ade1-8082d4a5a4cd",
   "metadata": {},
   "outputs": [],
   "source": []
  },
  {
   "cell_type": "code",
   "execution_count": null,
   "id": "b594bbde-065a-4e9d-9ca8-a1ddeef322ad",
   "metadata": {},
   "outputs": [],
   "source": []
  },
  {
   "cell_type": "code",
   "execution_count": null,
   "id": "d245b8bf-ad8f-4c8e-86e3-270429bb93b8",
   "metadata": {},
   "outputs": [],
   "source": [
    "node_degree_df = pd.DataFrame(G.degree(), columns=['node','degree'])"
   ]
  },
  {
   "cell_type": "raw",
   "id": "ac63fbd0-829c-4677-ad37-8ef7fea7f3aa",
   "metadata": {},
   "source": [
    "# get color list based on random color generation\n",
    "color_dic = {}\n",
    "for idx, hex_code in enumerate(create_color_list(node_degree_df.degree.max())):\n",
    "    color_dic[idx+1] = hex_code"
   ]
  },
  {
   "cell_type": "code",
   "execution_count": null,
   "id": "29e5e86e-4875-44e9-a477-0b43bf60d1af",
   "metadata": {},
   "outputs": [],
   "source": [
    "# get color list based on specific colormap\n",
    "cmap = cm.get_cmap('magma_r', node_degree_df.degree.max())    # PiYG\n",
    "color_dic = {}\n",
    "for i in range(cmap.N):\n",
    "    rgba = cmap(i)\n",
    "    color_dic[i+1] = matplotlib.colors.rgb2hex(rgba)\n",
    "f\"{len(color_dic)} colors for max. {len(color_dic)} connections\""
   ]
  },
  {
   "cell_type": "code",
   "execution_count": null,
   "id": "b60a8d17-bfdf-4500-bda1-b6f8d3901939",
   "metadata": {},
   "outputs": [],
   "source": [
    "color_map = []\n",
    "for node in G.degree():\n",
    "    color_map.append(color_dic[node[1]])"
   ]
  },
  {
   "cell_type": "code",
   "execution_count": null,
   "id": "29c0d87a-70a2-4aae-b497-fe056f2d0749",
   "metadata": {},
   "outputs": [],
   "source": [
    "options = {\n",
    "    \"font_size\": 2,\n",
    "    \"node_size\": 3000,\n",
    "    #\"node_color\": \"white\",\n",
    "    #\"edgecolors\": \"black\",\n",
    "    \"linewidths\": 5,\n",
    "    \"width\": 15,\n",
    "}\n",
    "plt.figure(figsize=(20,20))\n",
    "nx.draw_networkx(G,node_size = 800, node_color=color_map, with_labels = True)\n",
    "\n",
    "# Set margins for the axes so that nodes aren't clipped\n",
    "ax = plt.gca()\n",
    "ax.margins(0.20)\n",
    "plt.axis(\"off\")\n",
    "plt.show()"
   ]
  },
  {
   "cell_type": "raw",
   "id": "7ef9f1e8-fca8-4cd5-9f2a-c867c3e1e3ed",
   "metadata": {},
   "source": [
    "plt.figure(figsize=(20,20))\n",
    "\n",
    "# 3d spring layout\n",
    "pos = nx.spring_layout(G, dim=3, seed=779)\n",
    "# Extract node and edge positions from the layout\n",
    "node_xyz = np.array([pos[v] for v in sorted(G)])\n",
    "edge_xyz = np.array([(pos[u], pos[v]) for u, v in G.edges()])\n",
    "\n",
    "# Create the 3D figure\n",
    "fig = plt.figure()\n",
    "ax = fig.add_subplot(111, projection=\"3d\")\n",
    "\n",
    "# Plot the nodes - alpha is scaled by \"depth\" automatically\n",
    "ax.scatter(*node_xyz.T, s=100, ec=\"w\")\n",
    "\n",
    "# Plot the edges\n",
    "for vizedge in edge_xyz:\n",
    "    ax.plot(*vizedge.T, color=\"tab:gray\")\n",
    "\n",
    "\n",
    "def _format_axes(ax):\n",
    "    \"\"\"Visualization options for the 3D axes.\"\"\"\n",
    "    # Turn gridlines off\n",
    "    ax.grid(False)\n",
    "    # Suppress tick labels\n",
    "    for dim in (ax.xaxis, ax.yaxis, ax.zaxis):\n",
    "        dim.set_ticks([])\n",
    "    # Set axes labels\n",
    "    ax.set_xlabel(\"x\")\n",
    "    ax.set_ylabel(\"y\")\n",
    "    ax.set_zlabel(\"z\")\n",
    "\n",
    "\n",
    "_format_axes(ax)\n",
    "fig.tight_layout()\n",
    "plt.show()"
   ]
  },
  {
   "cell_type": "code",
   "execution_count": null,
   "id": "97713a70-c2d7-45ed-8849-fe30c44edac9",
   "metadata": {},
   "outputs": [],
   "source": []
  },
  {
   "cell_type": "markdown",
   "id": "94049f8c-306f-4046-81ef-c705b46023e9",
   "metadata": {
    "tags": []
   },
   "source": [
    "#### Primer-Primer Orthogonality 2: Primer-to-Primer Annealing/Dimerisation -> NUPACK Matrix"
   ]
  },
  {
   "cell_type": "code",
   "execution_count": null,
   "id": "baeac45f-b6c8-48ae-a296-60ebda42283b",
   "metadata": {},
   "outputs": [],
   "source": []
  },
  {
   "cell_type": "code",
   "execution_count": null,
   "id": "d965b219-7879-46d8-bc58-22e616929a3c",
   "metadata": {},
   "outputs": [],
   "source": [
    "primer_primer_dimerisation('AGAGUAGGUGGGAGAGGGAA',\n",
    "                           'CCUUCUCACACCCUUUCCUC', 37)"
   ]
  },
  {
   "cell_type": "code",
   "execution_count": null,
   "id": "305e0bff-451f-47c1-a755-a1228aeafba4",
   "metadata": {},
   "outputs": [],
   "source": [
    "my_model = Model(material='dna', celsius=37)\n",
    "a = Strand(\"AGAGUAGGUGGGAGAGGGAA\", name='a')\n",
    "b = Strand(\"CCTTCTCACACCCTTTCCTC\", name='b')\n",
    "t1 = Tube(strands={a:5e-7,b:5e-7}, complexes=SetSpec(max_size=2), name='')\n",
    "tube_result = tube_analysis(tubes=[t1], compute=['pairs', 'mfe'], model=my_model)\n",
    "for i, (my_complex, conc) in enumerate(tube_result.tubes[t1].complex_concentrations.items()):\n",
    "    if i == 4:\n",
    "        print(my_complex, conc)"
   ]
  },
  {
   "cell_type": "code",
   "execution_count": null,
   "id": "fba36f1d-9d4f-49b2-b953-2ba349379f39",
   "metadata": {},
   "outputs": [],
   "source": []
  },
  {
   "cell_type": "code",
   "execution_count": null,
   "id": "7231c8ac-2a28-4e26-a0a7-70071b991f36",
   "metadata": {},
   "outputs": [],
   "source": []
  },
  {
   "cell_type": "code",
   "execution_count": null,
   "id": "bc8ccebe-14ff-4ea1-b6f9-dc186b6161c4",
   "metadata": {},
   "outputs": [],
   "source": []
  },
  {
   "cell_type": "markdown",
   "id": "a93ac932-e13d-442b-a96a-0ad2d0f5de04",
   "metadata": {},
   "source": [
    "#### Guide Tree for the 1_000 Final Sequences"
   ]
  },
  {
   "cell_type": "code",
   "execution_count": null,
   "id": "396fde65-6a4a-48ba-a979-7fdf824bfcd9",
   "metadata": {},
   "outputs": [],
   "source": [
    "f = open('master1000_DIY_primers_guide_tree.txt','r')"
   ]
  },
  {
   "cell_type": "code",
   "execution_count": null,
   "id": "627aba46-4b55-49fd-9e67-a6869e9e97de",
   "metadata": {},
   "outputs": [],
   "source": [
    "with open('master1000_DIY_primers_guide_tree.txt', 'r') as file:\n",
    "    data = file.read().replace('\\n', '')"
   ]
  },
  {
   "cell_type": "raw",
   "id": "ebfa4669-8f3a-4d0f-bb36-877524bba40b",
   "metadata": {},
   "source": [
    "data"
   ]
  },
  {
   "cell_type": "code",
   "execution_count": null,
   "id": "41450d86-305b-4ea3-b18d-38f0b16f7255",
   "metadata": {},
   "outputs": [],
   "source": []
  },
  {
   "cell_type": "raw",
   "id": "a3ddcc9d-5bed-4d84-8bb3-03245475bf4a",
   "metadata": {},
   "source": [
    "\n",
    "%matplotlib inline"
   ]
  },
  {
   "cell_type": "raw",
   "id": "3d753bc2-68e8-47c9-91e1-8d90f350f0cb",
   "metadata": {},
   "source": [
    "@interact\n",
    "def show(idx=(0,len(new_df)-1)):\n",
    "    plt.imshow(get_complexes(new_df.primers.iloc[idx],37)[1]['(a)'].pairs.to_array())"
   ]
  },
  {
   "cell_type": "markdown",
   "id": "e45fa996-c7d0-4401-8307-c554c12c0986",
   "metadata": {},
   "source": [
    "##### Save de novo primer"
   ]
  },
  {
   "cell_type": "code",
   "execution_count": null,
   "id": "fd465fd5-f0a4-4569-be1a-a6396c4c4f3d",
   "metadata": {},
   "outputs": [],
   "source": [
    "fasta_string = []\n",
    "for primer_idx, seq in enumerate(new_df.primers):\n",
    "    fasta_string.append(f\">primer_{primer_idx}\\n{seq}\\n\")\n",
    "fasta_string = ''.join(fasta_string)"
   ]
  },
  {
   "cell_type": "code",
   "execution_count": null,
   "id": "35685667-07ef-49c7-8675-e41c676cd8cd",
   "metadata": {},
   "outputs": [],
   "source": [
    "text_file = open(\"diy_primers.fasta\", \"w\")\n",
    "n = text_file.write(fasta_string)\n",
    "text_file.close()"
   ]
  },
  {
   "cell_type": "code",
   "execution_count": null,
   "id": "820c5e4e-21bd-40c9-8c82-97451349132f",
   "metadata": {},
   "outputs": [],
   "source": [
    "potential_primer_df.to_csv('diy_primers.csv')"
   ]
  },
  {
   "cell_type": "code",
   "execution_count": null,
   "id": "3284ba64-e445-4004-a8ed-e08cb99067ea",
   "metadata": {},
   "outputs": [],
   "source": []
  },
  {
   "cell_type": "code",
   "execution_count": null,
   "id": "c6a3ada1-7e78-4b2a-9a26-5e860bca8625",
   "metadata": {},
   "outputs": [],
   "source": []
  },
  {
   "cell_type": "markdown",
   "id": "a407c6f1-5f54-469d-b1da-cda05fa368a0",
   "metadata": {},
   "source": [
    "---\n",
    "### 2. Template-based oligo design"
   ]
  },
  {
   "cell_type": "markdown",
   "id": "d85a6b64-858a-4511-810a-957409d73f39",
   "metadata": {},
   "source": [
    "#### 2.1 Homology regions"
   ]
  },
  {
   "cell_type": "code",
   "execution_count": null,
   "id": "0fb3ac14-4892-451e-8670-3071c645daf5",
   "metadata": {},
   "outputs": [],
   "source": [
    "def test_for_opt_primer(primer_list):\n",
    "    \"\"\"Generates a primer sequence de novo that fulfills a range of criteria\n",
    "        :in1: int\n",
    "        :in2: list\n",
    "        :process: adds new str to in2\n",
    "        :out1: str\n",
    "    \"\"\"\n",
    "    seq = ['A', 'T', 'G', 'C']\n",
    "    \n",
    "    iteration = 0\n",
    "    potential_primers = []\n",
    "    for random_sequence in primer_list:\n",
    "        iteration +=1\n",
    "        good_primer = ['no']\n",
    "        # check new sequence:\n",
    "        # 1- AGT in seq\n",
    "        #if 'ATG' not in random_sequence:\n",
    "         #   good_primer[0] = 'yes'\n",
    "        # 2- GC clamp\n",
    "        end_3prime = random_sequence[-5:]\n",
    "        GC_count_in_3prim_end = Counter(end_3prime)['G']+Counter(end_3prime)['C']\n",
    "        if (GC_count_in_3prim_end >1) & (GC_count_in_3prim_end < 4):\n",
    "            good_primer[0] = 'yes'\n",
    "        else:\n",
    "            good_primer.append('no')\n",
    "         # 3- overall GC% between 50-58%\n",
    "        GC_count_of_seq = Counter(random_sequence)['G']+Counter(random_sequence)['C']\n",
    "        if (GC_count_of_seq/len(random_sequence) > 0.45) and (GC_count_of_seq/len(random_sequence) < 0.58):\n",
    "            good_primer.append('yes')\n",
    "        else:\n",
    "            good_primer.append('no')\n",
    "        # 4- exclude runs of 4+\n",
    "        if (len(re.findall(r'A{4}',random_sequence)) > 0) or (len(re.findall(r'T{4}',random_sequence)) > 0) or (len(re.findall(r'G{4}',random_sequence)) > 0) or (len(re.findall(r'C{4}',random_sequence)) > 0):\n",
    "            good_primer.append('no')\n",
    "        else:\n",
    "            good_primer.append('yes')\n",
    "        if all( [x == 'yes' for x in good_primer] ) == True:\n",
    "            # 5- include MFE (monomer ssDNA secondary structures) -> take only high values but not infinity\n",
    "            mfe = dg(random_sequence)\n",
    "            if (mfe > 0.5) and (mfe < 5_000):\n",
    "                good_primer.append('yes')\n",
    "            else:\n",
    "                good_primer.append('no')\n",
    "#                 if all( x == 'yes' for x in good_primer ) == True:\n",
    "#                     # 6- exclude Type IIS RE rec_seqs\n",
    "#                     typeIISRE_rec_seqs = ['GGTCTC','GAGACC', #BsaI\n",
    "#                                           'CGTCTC','GAGACG', #BsmBI\n",
    "#                                           'GAAGAC','GTCTTC', #BpiI\n",
    "#                                           'GCTCTTC','GAAGAGC' #SapI\n",
    "#                                          ] \n",
    "#                     for rec_seq in typeIISRE_rec_seqs:\n",
    "#                         if (len(re.findall(rec_seq,random_sequence)) > 0):\n",
    "#                             good_primer.append('no')\n",
    "#                         else:\n",
    "#                             good_primer.append('yes')\n",
    "#             # 7- self-annealing check (using NUPACK)\n",
    "#             NUPACK_data = get_complexes(random_sequence,37)\n",
    "#             if NUPACK_data[0] > 0.02:\n",
    "#                 good_primer.append('no')\n",
    "#             else:\n",
    "#                 good_primer.append('yes')\n",
    "#             if all( x == 'yes' for x in good_primer ) == True:\n",
    "#                 # 8- secondary structure/hairpin check2 (using NUPACK)\n",
    "#                 if sec_struct_matrix_diagonal(NUPACK_data[1]) < 19.5:\n",
    "#                     good_primer.append('no')\n",
    "#                 else:\n",
    "#                     good_primer.append('yes')\n",
    "        #print(iteration,good_primer)\n",
    "        if all( [x == 'yes' for x in good_primer ]) == True:\n",
    "            potential_primers.append(random_sequence)\n",
    "            #print(iteration,good_primer)\n",
    "    print(iteration, len(potential_primers))\n",
    "    return potential_primers"
   ]
  },
  {
   "cell_type": "code",
   "execution_count": null,
   "id": "3504a8db-b912-43d8-8e7d-b190a6d168f2",
   "metadata": {},
   "outputs": [],
   "source": [
    "'atggtagcccgtaaaggcgaagagctgttcactggtgtcgtccctattctggtggaactggatggtgatgtcaacggtcataagttttccgtgcgtggcgagggtgaaggtgacgcaactaatggtaaactgacgctgaagttcatctgtactactggtaaactgccggtaccttggccgactctggtaacgacgctgacttatggtgttcagtgctttgctcgttatccggaccatatgaagcagcatgacttcttcaagtccgccatgccggaaggctatgtgcaggaacgcacgatttcctttaaggatgacggcacgtacaaaacgcgtgcggaagtgaaatttgaaggcgataccctggtaaaccgcattgagctgaaaggcattgactttaaagaagatggcaatatcctgggccataagctggaatacaattttaacagccacaatgtttacatcaccgccgataaacaaaaaaatggcattaaagcgaattttaaaattcgccacaacgtggaggatggcagcgtgcagctggctgatcactaccagcaaaacactccaatcggtgatggtcctgttctgctgccagacaatcactatctgagcacgcaaagcgttctgtctaaagatccgaacgagaaacgcgatcatatggttctgctggagttcgtaaccgcagcgggcatcacgcatggtatggatgaactgtacaaaggttcgtaa'[:310]"
   ]
  },
  {
   "cell_type": "code",
   "execution_count": null,
   "id": "ce3fa3b8-ccf9-4aff-8228-a482f3f2b7d1",
   "metadata": {},
   "outputs": [],
   "source": [
    "HL_primer_region = 'atggtagcccgtaaaggcgaagagctgttcactggtgtcgtccctattctggtggaactggatggtgatgtcaacggtcataagttttccgtgcgtggcgagggtgaaggtgacgcaactaatggtaaactgacgctgaagttcatctgtactactggtaaactgccggtaccttggccgactctggtaacgacgctgacttatggtgttcagtgctttgctcgttatccggaccatatgaagcagcatgacttcttcaagtccgccatgccggaaggctatgtgcaggaacgcacgatttcctttaaggatgacggcacgtacaaaacgcgtgcggaagtgaaatttgaaggcgataccctggtaaaccgcattgagctgaaaggcattgactttaaagaagatggcaatatcctgggccataagctggaatacaattttaacagccacaatgtttacatcaccgccgataaacaaaaaaatggcattaaagcgaattttaaaattcgccacaacgtggaggatggcagcgtgcagctggctgatcactaccagcaaaacactccaatcggtgatggtcctgttctgctgccagacaatcactatctgagcacgcaaagcgttctgtctaaagatccgaacgagaaacgcgatcatatggttctgctggagttcgtaaccgcagcgggcatcacgcatggtatggatgaactgtacaaaggttcgtaa'[:310]\n",
    "HR_primer_region = 'CGGAAAACTTACCCTTAAATTGATTTGCACTACTGGAAAACTACCTGTTCCATGGCCAACACTTGTCACTACTTTGGGTTATGGTGTTCAATGCTTTGCGAGATACCCAGATCATATGAAACAGCATGACTTTTTCAAGAGTGCCATGCCCGAAGGTTATGTACAGGAAAGAACTATATTTTTCAAAGATGACGGGAACTACAAGACACGTGCTGAAGTCAAGTTTGAAGGTGATACCCTTGTTAATAGAATCGAGTTAAAAGGTATTGATTTTAAAGAAGATGGAAACATTCTTGGACACAAATTGGAATACAACTATAACTCACACAATGTATACATCACGGCAGACAAACAAAAGAATGGAATCAAAGCGAACTTCAAAATTAGACACAACATTGAAGATGGAGGTGTTCAACTAGCAGACCATTATCAACAAAATACTCCAATTGGCGATGGCCCTGTCCTTTTACCAGACAACCATTACCTGTCCTACCAATCTAAGCTTTCGAAAGATCCCAACGAAAAGAGAGAtCACATGGTCCTTCTTGAGTTTGTA'"
   ]
  },
  {
   "cell_type": "code",
   "execution_count": null,
   "id": "d57379b2-dbc8-432a-95be-ee095f80acec",
   "metadata": {},
   "outputs": [],
   "source": [
    "def slice_into_chunks(seq_l, chunk_length):\n",
    "    \"\"\"\n",
    "    \"\"\"\n",
    "    return [seq_l[i:i+chunk_length] for i in range(0, len(seq_l), chunk_length)]\n",
    "\n",
    "def window(seq, n=2):\n",
    "    \"Returns a sliding window (of width n) over data from the iterable\"\n",
    "    \"   s -> (s0,s1,...s[n-1]), (s1,s2,...,sn), ...                   \"\n",
    "    it = iter(seq)\n",
    "    result = tuple(islice(it, n))\n",
    "    if len(result) == n:\n",
    "        yield result    \n",
    "    for elem in it:\n",
    "        result = result[1:] + (elem,)\n",
    "        yield result\n",
    "\n",
    "def moving_window(seq_l, window_length):\n",
    "    return [''.join(x) for x in list(window(seq_l,n=window_length))]"
   ]
  },
  {
   "cell_type": "code",
   "execution_count": null,
   "id": "40f93f58-d8ca-4013-a625-85d03085a7cb",
   "metadata": {},
   "outputs": [],
   "source": [
    "possible_HL_primers = moving_window(HL_primer_region,21)\n",
    "possible_HR_primers = moving_window(HR_primer_region,23)\n",
    "#possible_HL_primers.append('CCGTCCCTCTTCTTTCCCTT')\n",
    "#possible_HL_primers.append('ATAGGAGAGGAGGGAAAGGG')\n",
    "len(possible_HL_primers), len(possible_HR_primers)"
   ]
  },
  {
   "cell_type": "code",
   "execution_count": null,
   "id": "8a0d253c-6784-4e56-8655-8900667eb8db",
   "metadata": {
    "tags": []
   },
   "outputs": [],
   "source": [
    "possible_HR_primers"
   ]
  },
  {
   "cell_type": "code",
   "execution_count": null,
   "id": "80aec363-c293-4198-b7f8-0d088542c529",
   "metadata": {},
   "outputs": [],
   "source": [
    "test_for_opt_primer(possible_HR_primers)\n",
    "#possible_HL_primers"
   ]
  },
  {
   "cell_type": "code",
   "execution_count": null,
   "id": "deaff15f-acd0-4aaa-ad14-a8ee36048e84",
   "metadata": {},
   "outputs": [],
   "source": [
    "fasta_string = []\n",
    "for primer_idx, seq in enumerate(test_for_opt_primer(possible_HR_primers)):\n",
    "    fasta_string.append(f\">primer_{primer_idx}\\n{seq}\\n\")\n",
    "fasta_string = ''.join(fasta_string)\n",
    "text_file = open(\"primer_search_mVenus.fasta\", \"w\")\n",
    "n = text_file.write(fasta_string)\n",
    "text_file.close()"
   ]
  },
  {
   "cell_type": "code",
   "execution_count": null,
   "id": "22914d48-2991-4c68-9b7e-9970c31d222f",
   "metadata": {},
   "outputs": [],
   "source": [
    "distance('CAGTGGAAGGATGATGTCGTGCT','CCATCATTGCGGTCATAAAGTCG')"
   ]
  },
  {
   "cell_type": "markdown",
   "id": "c6a07c3c-1d6f-4787-a936-fa07ca4834b6",
   "metadata": {},
   "source": [
    "#### 2.2 Find good qPCR Primers"
   ]
  },
  {
   "cell_type": "code",
   "execution_count": null,
   "id": "5fa25e74-7c56-4dd0-8918-ff92be0365c7",
   "metadata": {},
   "outputs": [],
   "source": [
    "# State overall DNA sequence in which you want primers should bind:\n",
    "\n",
    "sfGFP_cds = 'TTATATGTTCAAGCCACGATGTTGCAGCATCGGCATAATCTTAGGTGCCTTACCGCGCCATTGTCGATACAGGCGTTCCAGATCTTCGCTGTTACCTCTGGAAAGGATCGCCTCGCGAAAACGCAGCCCATTTTCACGCGTTAATCCGCCCTGCTCAACAAACCACTGATAACCATCATCGGCCAACATTTGCGTCCACAGATAAGCGTAATAACCTGCAGCATATCCGCCACCAAAAATATGGGCGAAATAACTGCTGCGATAGCGTGGCGGTATAGCAGGAAGATCCATATTTTCCGCCACCAGCGCCCGCAATTCAAAATCATCGACATCCTGCATTGCTTCGTTTTCTTCCAGGCAATGCCAGCGCATATCGAGAAGTGCGGCGCTAAGCAGTTCGCTCATCTCATACCCTTTGTTGAACAGGCTGGCATTACGCATTTTCTGTTGCAGTTCGTCAGGCATTGCTGCCCCGCTCTGATAATGCCGGGCGTAGCGAGCGAATACCTGCGGATGCGTTGCCCAGTGTTCGTTGATTTGCGACGGAAATTCGACAAAATCACGCGGCGTGTTGGTGCCGGAAAGCGTGGCATAACGCTGGCGGGCAAAAAGGCCGTGCAGCGTATGACCAAATTCATGGAATAAGGTTATGACATCATCCCAGAGTAACAACGCAGGCTCACCGGCAGCGGGTTTCTGATAATTGCAGACGTTATAAATTACCGGATGTGTTTTATTAAGCGTTGATTGCTCAACAAAATTGCCCATCCATGCACCGCCGCTTTTTGAATCACGGGCGAAGAAATCACCGTAAAATAACGCCAGCCCCACGCCATTATGATCAAAAATTTCCCACACACGAACGTCAGGATGGTAGACAGGAATATCAAAACGTTCGACAAACTTAATACCGAAGAGCTGATTCGCGGTCCAGAATACACCTTCATTTAACACCGTGTTTAATTCAAAATATGGCTTGAGCTGCGCCTCATCAAGATCAAATTTCTCCCGCCGTACCTGTTCCGCATAAAATGCCCAGTCCCACGGCTGCGCGCTAAACCCGCCCTGCTGCTTATCGATAACCGCCTGTATGGAGGCTAATTCATCGCTCGCACGTTGACGCGCCGCTGGAACAATTTCCCGCATAAAGTTAAGTGCTGCTTCAGGTGTTTTTGCCATCTGATCGGCGATTTTCCATGCGGCATAATGAGGAAAACCAAGTAGTGTTGCCTGTTGTGCACGGATCTCCACCAGACGTTGAATGATAGCGCGGGTATCATTGGCATCATTTTTTTCCGCTCGCGTCCAGCCCGCAATAAACAGTTTTTCACGCGTCGCACGATCGCGCATTTCGGCAAGCGCCGGTTGTTGGGTGGTATTCAGCAGCGGAATCAGCCATTTGTTATCCAGACCTTTCTCGCGAGCCGCCTCTGCCGCCAGCGCAATCTCTTGCTCACTCATTCCTGCCAGCTGCGCGATATCGTTCACAACCAGACCGCCGGATTTATTTGCTGCCAGTAATCGCTGGTTAAACTGGCTGGTCAGGGTCGCAGCTTCTGTATTCAGTACTTTTAATTTTGCTTTATCAGCTTGCGCAAGTTTGGCTCCGGCAAGGACAAAACGTTGATGAATCACCTCCACCAGGCGGATGGATTCACTATCAAGCCCCAGGGATTCACGGCGCTGCCAGACAGCATCTACCCGCGCGAATAATTCACCGTTCAGATAGATATCATTAGCCAGTTCCGCCAGTTCAGCGGAAAACTGCTCGTCAAGACGCTGTAATTCATCATTGGTATGCGCCGCAGTCATCGCAAAAAAGACGCTGGTAACGCGGGTAAGTAATTCTCCGCTTTGTTCCAGTGCCAGAATAGTATTGTTGAAATCAGGCATTTGCGGGTTAAGCGCGATGGCAGCAATTTCTGCCCGCTTTTGCTGCATTCCCTCATCGAATGCCGGGCGATAGTGATGATTGGCAATTTGATCAAAATGGGGAGCCAGATACGGCAGTGTGCTTTGCACAAGGAAAGGATTCATTGTTGTCAT'\n",
    "#'atggtagcccgtaaaggcgaagagctgttcactggtgtcgtccctattctggtggaactggatggtgatgtcaacggtcataagttttccgtgcgtggcgagggtgaaggtgacgcaactaatggtaaactgacgctgaagttcatctgtactactggtaaactgccggtaccttggccgactctggtaacgacgctgacttatggtgttcagtgctttgctcgttatccggaccatatgaagcagcatgacttcttcaagtccgccatgccggaaggctatgtgcaggaacgcacgatttcctttaaggatgacggcacgtacaaaacgcgtgcggaagtgaaatttgaaggcgataccctggtaaaccgcattgagctgaaaggcattgactttaaagaagatggcaatatcctgggccataagctggaatacaattttaacagccacaatgtttacatcaccgccgataaacaaaaaaatggcattaaagcgaattttaaaattcgccacaacgtggaggatggcagcgtgcagctggctgatcactaccagcaaaacactccaatcggtgatggtcctgttctgctgccagacaatcactatctgagcacgcaaagcgttctgtctaaagatccgaacgagaaacgcgatcatatggttctgctggagttcgtaaccgcagcgggcatcacgcatggtatggatgaactgtacaaaggttcgtaa'"
   ]
  },
  {
   "cell_type": "code",
   "execution_count": null,
   "id": "15e15b19-c123-4c39-8f34-e757a20a0b64",
   "metadata": {},
   "outputs": [],
   "source": [
    "# Define length of PCR amplicon, and slice potential target area into chunks of that length for further analysis:\n",
    "\n",
    "target_seq_moved_windows = moving_window(sfGFP_cds,90)\n",
    "print(f\"{len(target_seq_moved_windows)} potential amplicons identified!\")"
   ]
  },
  {
   "cell_type": "code",
   "execution_count": null,
   "id": "289ecff5-4387-41c2-9952-8f4cf59ed81a",
   "metadata": {},
   "outputs": [],
   "source": [
    "fasta_string = []\n",
    "for primer_idx, primer_pair_n in enumerate([(x[:20],x[-20:]) for x in target_seq_moved_windows]):\n",
    "    fw_primer_sense, rv_primer_sense = primer_pair_n[0], primer_pair_n[1]\n",
    "    if (Counter(primer_pair_n[0])['G']+Counter(primer_pair_n[0])['C'] == int(len(fw_primer_sense)/2)) and (Counter(primer_pair_n[1])['G']+Counter(primer_pair_n[1])['C'] == int(len(fw_primer_sense)/2)):\n",
    "#         if (len(re.findall(r'A{4}',primer_pair[1])) > 0) or (len(re.findall(r'T{4}',primer_pair[1])) > 0) or (len(re.findall(r'G{4}',primer_pair[1])) > 0) or (len(re.findall(r'C{4}',primer_pair[1])) > 0):\n",
    "#             pass\n",
    "#         else:\n",
    "        # 2- GC clamp\n",
    "        end_3prime_fw, end_3prime_rv = primer_pair_n[0][-5:], primer_pair_n[1][:5]\n",
    "        GC_count_in_3prim_end_fw, GC_count_in_3prim_end_rv = Counter(end_3prime_fw)['G']+Counter(end_3prime_fw)['C'], Counter(end_3prime_rv)['G']+Counter(end_3prime_rv)['C']\n",
    "        if (GC_count_in_3prim_end_fw >1) & (GC_count_in_3prim_end_fw < 4) & (GC_count_in_3prim_end_rv >1) & (GC_count_in_3prim_end_rv < 4):\n",
    "            fasta_string.append(f\">primer_{primer_idx}_fw\\n{primer_pair_n[0]}\\n>primer_{primer_idx}_rv\\n{primer_pair_n[1]}\\n\")\n",
    "fasta_string = ''.join(fasta_string)\n",
    "text_file = open(\"primer_search_cdp_CDS.fasta\", \"w\")\n",
    "n = text_file.write(fasta_string)\n",
    "text_file.close()"
   ]
  },
  {
   "cell_type": "code",
   "execution_count": null,
   "id": "b9feedc6-1853-4a28-98a8-c9cef320f6dd",
   "metadata": {},
   "outputs": [],
   "source": [
    "len(fasta_string.split('>primer'))"
   ]
  },
  {
   "cell_type": "code",
   "execution_count": null,
   "id": "3bfd6c74-5cbd-4ed9-9171-d65f1b3e4617",
   "metadata": {},
   "outputs": [],
   "source": [
    "primer_pair_n[1]#[::-1]"
   ]
  },
  {
   "cell_type": "markdown",
   "id": "ac898e86-3e89-4cbd-a02b-0f583b8066a3",
   "metadata": {},
   "source": [
    "## Fully Factorial Substitution"
   ]
  },
  {
   "cell_type": "code",
   "execution_count": null,
   "id": "27f5b584-406a-422a-94e6-97be2053f3be",
   "metadata": {},
   "outputs": [],
   "source": [
    "p = list(range(0,3))#+list(range(7,9))\n",
    "\n",
    "x = 'AAA'\n",
    "\n",
    "k = create_substitution_combinations(x,p)\n",
    "print(k)\n",
    "print('#:',len(k))\n",
    "\n",
    "#print(list_to_CSV(k,'Test_substitution_4.csv'))\n",
    "\n",
    "\n",
    "print(p)"
   ]
  },
  {
   "cell_type": "code",
   "execution_count": null,
   "id": "db7b0512-df53-4032-822f-75037f6d7582",
   "metadata": {},
   "outputs": [],
   "source": [
    "64*64"
   ]
  },
  {
   "cell_type": "code",
   "execution_count": null,
   "id": "ea342a56-8e79-45e8-8601-8b1718cf6a6b",
   "metadata": {},
   "outputs": [],
   "source": [
    "dist_sorted = np.zeros((len(k),len(k)))\n",
    "for i, seq1 in enumerate(k):\n",
    "    for j, seq2 in enumerate(k):\n",
    "        dist_sorted[i,j] = distance (seq1,seq2)\n",
    "fig = plt.figure(figsize=(14,9))\n",
    "plt.imshow(dist_sorted);"
   ]
  },
  {
   "cell_type": "code",
   "execution_count": null,
   "id": "56159350-14f5-408f-a7f4-391566a50750",
   "metadata": {},
   "outputs": [],
   "source": [
    "np.where(dist_sorted==3)[0]\n"
   ]
  },
  {
   "cell_type": "code",
   "execution_count": null,
   "id": "7c3e9bc1-db6f-4f93-abf5-639d78590a9c",
   "metadata": {},
   "outputs": [],
   "source": [
    "\"\"\"First, choose the degree of dissimilarity between 3bp overhangs\n",
    "\"\"\"\n",
    "all_pairs_threes = np.where(dist_sorted==3)\n",
    "\n",
    "three_pairs = []\n",
    "three_pairs_df = []\n",
    "for idx, column_index_value in enumerate(list(zip(np.where(dist_sorted==3)[0],np.where(dist_sorted==3)[1]))):\n",
    "    #column_seq = k[column_value]\n",
    "    #index_seq = k[all_pairs_twenty[1][idx]]\n",
    "    \n",
    "    three_pairs_df.append((k[column_index_value[0]], k[column_index_value[1]], \n",
    "          distance(k[column_index_value[0]], k[column_index_value[1]]))\n",
    "         )\n",
    "                                               \n",
    "three_pairs_df = pd.DataFrame(three_pairs_df)"
   ]
  },
  {
   "cell_type": "code",
   "execution_count": null,
   "id": "f11a9196-52ca-475f-8450-ab1eaad7366f",
   "metadata": {},
   "outputs": [],
   "source": [
    "three_pairs_df.loc[(three_pairs_df[0]=='AGC') & (three_pairs_df[1]=='GTT')]"
   ]
  },
  {
   "cell_type": "code",
   "execution_count": null,
   "id": "6a886002-bd49-48b0-8d81-868c9a4ddd3d",
   "metadata": {},
   "outputs": [],
   "source": [
    "for x in three_pairs_df.loc[(three_pairs_df[0]=='AGC')][1]:\n",
    "    display(three_pairs_df.loc[(three_pairs_df[0]=='GTT') & (three_pairs_df[1]==x)])"
   ]
  },
  {
   "cell_type": "code",
   "execution_count": null,
   "id": "7c47c5a5-cb99-4afc-85d0-2f58b53ff8c5",
   "metadata": {},
   "outputs": [],
   "source": []
  }
 ],
 "metadata": {
  "kernelspec": {
   "display_name": "Python 3 (ipykernel)",
   "language": "python",
   "name": "python3"
  },
  "language_info": {
   "codemirror_mode": {
    "name": "ipython",
    "version": 3
   },
   "file_extension": ".py",
   "mimetype": "text/x-python",
   "name": "python",
   "nbconvert_exporter": "python",
   "pygments_lexer": "ipython3",
   "version": "3.10.11"
  }
 },
 "nbformat": 4,
 "nbformat_minor": 5
}
