{
 "cells": [
  {
   "cell_type": "markdown",
   "id": "7c659312-bd39-465b-a62b-3335cdd24c48",
   "metadata": {},
   "source": [
    "# cm967's Fluorophore Set Orthogonality Evaluator (FSOE) \n",
    "author: Camillo Moschner | start: Jan 2021 | last modified: 18.01.2023 (polished & uploaded to thesis GitHub)"
   ]
  },
  {
   "cell_type": "markdown",
   "id": "fe6b4477-eb2f-4a42-b7f8-cea9e6a7478b",
   "metadata": {},
   "source": [
    "## Import Statements"
   ]
  },
  {
   "cell_type": "code",
   "execution_count": 57,
   "id": "ed83a175-1791-4688-b932-c13323170779",
   "metadata": {
    "tags": []
   },
   "outputs": [],
   "source": [
    "import numpy as np\n",
    "import pandas as pd\n",
    "import os\n",
    "from itertools import product, combinations, chain\n",
    "from IPython.display import clear_output, Audio\n",
    "import re\n",
    "import math\n",
    "import random\n",
    "import pickle\n",
    "\n",
    "from joblib import Parallel, delayed\n",
    "from tqdm.notebook import tqdm\n",
    "import seaborn as sns\n",
    "from ipywidgets import interact\n",
    "\n",
    "import matplotlib as mpl\n",
    "import matplotlib.pyplot as plt\n",
    "import matplotlib.gridspec as gridspec\n",
    "import matplotlib.patches as patches"
   ]
  },
  {
   "cell_type": "markdown",
   "id": "a1e911f0-582f-49b2-ac7d-5b101f8f90c0",
   "metadata": {},
   "source": [
    "## Function Definitions"
   ]
  },
  {
   "cell_type": "code",
   "execution_count": 2,
   "id": "f5c5271e-f811-436e-a235-ab51f216d68b",
   "metadata": {},
   "outputs": [],
   "source": [
    "def wavelength_to_rgb(wavelength, gamma=0.8):\n",
    "    ''' taken from http://www.noah.org/wiki/Wavelength_to_RGB_in_Python\n",
    "    This converts a given wavelength of light to an approximate RGB color value. The wavelength must be given\n",
    "    in nanometers in the range from 380 nm to 750 nm(789 THz through 400 THz). Additionally alpha value set to \n",
    "    0.5 outside range. Based on code by Dan Bruton http://www.physics.sfasu.edu/astro/color/spectra.html\n",
    "    '''\n",
    "    wavelength = float(wavelength)\n",
    "    if wavelength >= 380 and wavelength <= 750:\n",
    "        A = 1.\n",
    "    else:\n",
    "        A=0.2\n",
    "    if wavelength < 380:\n",
    "        wavelength = 380.\n",
    "    if wavelength >750:\n",
    "        wavelength = 750.\n",
    "    if wavelength >= 380 and wavelength <= 440:\n",
    "        attenuation = 0.3 + 0.7 * (wavelength - 380) / (440 - 380)\n",
    "        R = ((-(wavelength - 440) / (440 - 380)) * attenuation) ** gamma\n",
    "        G, B = 0.0, (1.0 * attenuation) ** gamma\n",
    "    elif wavelength >= 440 and wavelength <= 490:\n",
    "        R = 0.0\n",
    "        G = ((wavelength - 440) / (490 - 440)) ** gamma\n",
    "        B = 1.0\n",
    "    elif wavelength >= 490 and wavelength <= 510:\n",
    "        R, G = 0.0, 1.0\n",
    "        B = (-(wavelength - 510) / (510 - 490)) ** gamma\n",
    "    elif wavelength >= 510 and wavelength <= 580:\n",
    "        R = ((wavelength - 510) / (580 - 510)) ** gamma\n",
    "        G, B = 1.0, 0.0\n",
    "    elif wavelength >= 580 and wavelength <= 645:\n",
    "        R = 1.0\n",
    "        G = (-(wavelength - 645) / (645 - 580)) ** gamma\n",
    "        B = 0.0\n",
    "    elif wavelength >= 645 and wavelength <= 750:\n",
    "        attenuation = 0.3 + 0.7 * (750 - wavelength) / (750 - 645)\n",
    "        R = (1.0 * attenuation) ** gamma\n",
    "        G, B = 0.0, 0.0\n",
    "    else:\n",
    "        R, G, B = 0.0, 0.0, 0.0\n",
    "    return (R,G,B,A)\n",
    "\n",
    "# special colourmaps\n",
    "YFP_cmap = mpl.colors.LinearSegmentedColormap.from_list(\"\", [\"black\",\"yellow\"])\n",
    "CFP_cmap = mpl.colors.LinearSegmentedColormap.from_list(\"\", [\"black\",\"cyan\"])\n",
    "RFP_cmap = mpl.colors.LinearSegmentedColormap.from_list(\"\", [\"black\",\"red\"])\n",
    "GFP_cmap = mpl.colors.LinearSegmentedColormap.from_list(\"\", [\"black\",\"lime\"])\n",
    "BFP_cmap = mpl.colors.LinearSegmentedColormap.from_list(\"\", [\"black\",\"dodgerblue\"])\n",
    "Cy5_cmap = mpl.colors.LinearSegmentedColormap.from_list(\"\", [\"black\",\"darkmagenta\"])\n",
    "ATTO550_cmap = mpl.colors.LinearSegmentedColormap.from_list(\"\", [\"black\",\"coral\"])\n",
    "\n",
    "def plot_spectrum(axis, df, column_name, f_type=''):\n",
    "    if ('em' in column_name) or ('EM' in column_name):\n",
    "        line = '-'\n",
    "    elif ('ex' in column_name) or ('EX' in column_name):\n",
    "        line = '--'\n",
    "    elif ('ab' in column_name) or ('AB' in column_name):\n",
    "        line = '--'\n",
    "        column_name = column_name.split(' ')+' ab'\n",
    "    try:\n",
    "        fluorophore_data = df[column_name]\n",
    "    except:\n",
    "        column_name = column_name.split(' ')[0] + ' ab'\n",
    "        fluorophore_data = df[column_name]\n",
    "    fluorophore_data = fluorophore_data.loc[pd.notna(fluorophore_data)]\n",
    "    axis.plot(fluorophore_data.index, fluorophore_data, linestyle=line, \n",
    "              color=wavelength_to_rgb(df.index[df[column_name] == df[column_name].max()].tolist()[0],gamma=1.8),\n",
    "              label = f\"{column_name} ({f_type})\")"
   ]
  },
  {
   "cell_type": "markdown",
   "id": "3688c768-3616-4eb4-96cd-0dfc6de19444",
   "metadata": {},
   "source": [
    "# Load Files"
   ]
  },
  {
   "cell_type": "code",
   "execution_count": 3,
   "id": "940af3b9-9347-4904-83f0-30e2be003c98",
   "metadata": {},
   "outputs": [
    {
     "name": "stdout",
     "output_type": "stream",
     "text": [
      "fp_spectra_df contains data located in a range of 1400 nm (visible spectrum of light = 500 nm).\n"
     ]
    }
   ],
   "source": [
    "fp_spectra_df = pd.read_csv(f\"spectra_data{os.path.sep}all_fp_spectra.csv\",index_col=0)\n",
    "print(f\"fp_spectra_df contains data located in a range of {len(fp_spectra_df)} nm (visible spectrum of light = 500 nm).\")\n",
    "avail_fluorophore_spectra_df = pd.read_csv(f\"spectra_data{os.path.sep}avail_fluorophore_spectra.csv\",index_col=0)\n",
    "avail_nuclear_dye_spectra_df = pd.read_csv(f\"spectra_data{os.path.sep}nuclear_dye_spectra.csv\",index_col=0)\n",
    "# LEDs\n",
    "LED_list = [365,440,488, 514,561,594, 640,730]\n",
    "all_LED_data_df = pd.read_csv(f\"spectra_data{os.path.sep}all_LED_data_SynBioLab.csv\",index_col=0)\n",
    "LED_active_lambda_df = pd.read_csv(f\"spectra_data{os.path.sep}LED_active_lambda_SynBioLab.csv\",index_col=0)\n",
    "LED_active_lambda_df.lambda_range = LED_active_lambda_df.lambda_range.apply(lambda cell: [int(x) for x in re.findall(r'\\d{3}', cell)])\n",
    "# Dichroic Cubes\n",
    "CFP_YFP_mCherry_A_filter_cube_data = pd.read_csv(f\"spectra_data{os.path.sep}LED-CFP_YFP_mCherry-A-000 Filter Cube (32mm).csv\",index_col=0)\n",
    "DA_FI_TR_Cy5_B_filter_cube_data = pd.read_csv(f\"spectra_data{os.path.sep}LED-DA_FI_TR_Cy5-B Filter Cube (32mm).csv\",index_col=0)\n",
    "dichroic_dic = {'CFP_YFP_mCherry': CFP_YFP_mCherry_A_filter_cube_data, \n",
    "                'DA_FI_TR_Cy5_B' : DA_FI_TR_Cy5_B_filter_cube_data}\n",
    "# Emission Filters\n",
    "em_filter_list = [{'center':435,'width':26}, {'center':475,'width':20},\n",
    "                  {'center':515,'width':30}, {'center':540,'width':21},\n",
    "                  {'center':595,'width':40}, {'center':632,'width':60},\n",
    "                  {'center':705,'width':72}]            "
   ]
  },
  {
   "cell_type": "raw",
   "id": "b5a3b68c-016e-46b9-92c9-4116062b336d",
   "metadata": {},
   "source": [
    "# If you want to add new fluorophore data: Download data from source of your choice, \n",
    "# and use this code to add it to the already available data. Manual merging will almost \n",
    "# certainly create errors as different fluorophores' data are almost never the same size!\n",
    "pd.concat([avail_fluorophore_spectra_df, pd.read_csv(\"FAM.csv\",index_col=0)],axis=1)#.to_csv(f\"spectra_data{os.path.sep}avail_fluorophore_spectra.csv\")"
   ]
  },
  {
   "cell_type": "markdown",
   "id": "18f1766d-f511-4360-b2c4-4bec81b35ee8",
   "metadata": {},
   "source": [
    "# Plot w/ Lists"
   ]
  },
  {
   "cell_type": "code",
   "execution_count": 4,
   "id": "f178fdfb-a6d4-4e62-bf58-5c6642a240ea",
   "metadata": {},
   "outputs": [
    {
     "name": "stdout",
     "output_type": "stream",
     "text": [
      " -> Is data available for all fluorophores to investigate? : True\n"
     ]
    }
   ],
   "source": [
    "fp_list = ['EBFP',\n",
    "   'T-Sapphire',\n",
    "   'iFP1.4',\n",
    "   'mTangerine',\n",
    "   'mGarnet2',\n",
    "   'mKillerOrange',\n",
    "   'efasCFP' #,'Superfolder GFP', 'mCerulean'\n",
    "          ]\n",
    "chem_fluorophore_list = [# '6-FAM'\n",
    "                         ]\n",
    "nuclear_dye_list = [] # 'DAPI'\n",
    "all_fluorophores = fp_list + chem_fluorophore_list + nuclear_dye_list\n",
    "all_fluorophores_df = pd.concat([fp_spectra_df, avail_fluorophore_spectra_df, avail_nuclear_dye_spectra_df])\n",
    "# Quick check that you have data for all fluorophores you want to investigate\n",
    "result = any( [ (f\"{fluo} ex\" in all_fluorophores_df.columns) for fluo in all_fluorophores] )\n",
    "print(f\" -> Is data available for all fluorophores to investigate? : { result }\")"
   ]
  },
  {
   "cell_type": "raw",
   "id": "805edb03-fe7f-403c-a08a-f33a22737192",
   "metadata": {},
   "source": [
    "@interact \n",
    "def show_plot(LED_no =(0,len(LED_list)-1),\n",
    "              dichroic = dichroic_dic.keys(),\n",
    "              all_EM = [True, False],\n",
    "              EM_filter = em_filter_list\n",
    "              ):\n",
    "    plt.style.use('default')\n",
    "    fig = plt.figure(figsize=(14,9))\n",
    "    gs = gridspec.GridSpec(2,1,figure=fig)\n",
    "    ax_fluo, ax_dichroic = fig.add_subplot(gs[0,0]), fig.add_subplot(gs[1,0])\n",
    "    fig.suptitle(\"\\nSpectra Viewer by Camillo Moschner\\n\",size=14)\n",
    "    fluorophore_names = ' - '.join([', '.join(fluo) for fluo in [fp_list, chem_fluorophore_list, nuclear_dye_list]])\n",
    "    # Fluorophores\n",
    "    if len(fp_list) != 0:\n",
    "        [(plot_spectrum(ax_fluo, fp_spectra_df, f\"{fluo} ex\", f_type='FP'), plot_spectrum(ax_fluo, fp_spectra_df, f\"{fluo} em\", f_type='FP')) for fluo in fp_list]\n",
    "    if len(chem_fluorophore_list) != 0:\n",
    "        [(plot_spectrum(ax_fluo, avail_fluorophore_spectra_df, f\"{fluo} ex\", f_type='s.c.'), plot_spectrum(ax_fluo, avail_fluorophore_spectra_df, f\"{fluo} em\", f_type='s.c.')) for fluo in chem_fluorophore_list]\n",
    "    if len(nuclear_dye_list) != 0:\n",
    "        [(plot_spectrum(ax_fluo, avail_nuclear_dye_spectra_df, f\"{fluo} EX\", f_type='s.c.'), plot_spectrum(ax_fluo, avail_nuclear_dye_spectra_df, f\"{fluo} EM\", f_type='s.c.')) for fluo in nuclear_dye_list]\n",
    "    # LEDs\n",
    "    [ax_fluo.vlines(LED_lambda, 0,1,linewidth=1.5,color= wavelength_to_rgb(LED_lambda, gamma=1.5)) for LED_lambda in LED_list]\n",
    "    [ax_fluo.vlines(wavelength, 1.05,1.14,linewidth=3,color= wavelength_to_rgb(wavelength, gamma=0.8)) for wavelength in range(300,800)]\n",
    "    ax_fluo.vlines(LED_list[LED_no], 0,1,linewidth=4.5,color= wavelength_to_rgb(LED_list[LED_no], gamma=0.9))\n",
    "    # Dichroic\n",
    "    [ax_dichroic.plot(dichroic_dic[dichroic][spectrum].index, dichroic_dic[dichroic][spectrum], \n",
    "                     '-', color = c_colour, alpha=0.5,linewidth=2, markersize=12,label=str(spectrum)) \n",
    "     for (spectrum,c_colour) in [('excitation','red'), ('dichroic','green'),('emission','blue')]]\n",
    "    # Emission Filters\n",
    "    if all_EM:\n",
    "        for em_data in em_filter_list:\n",
    "            em_filter_start = em_data['center']-em_data['width']/2\n",
    "            em_filter_end = em_data['center']+em_data['width']/2\n",
    "            plt.rcParams[\"hatch.linewidth\"] = 4\n",
    "            em_filter_patch = patches.Rectangle((em_filter_start, 0),em_data['width'], 1, \n",
    "                                                linewidth=1, edgecolor='black', alpha = 0.5,label=f\"{em_data['center']} EM filter\",\n",
    "                                                facecolor=wavelength_to_rgb(em_data['center']),hatch=r\"//\")\n",
    "            ax_fluo.add_patch(em_filter_patch)\n",
    "    else:\n",
    "        em_filter_start = EM_filter['center']-EM_filter['width']/2\n",
    "        em_filter_end = EM_filter['center']+EM_filter['width']/2\n",
    "        plt.rcParams[\"hatch.linewidth\"] = 4\n",
    "        em_filter_patch = patches.Rectangle((em_filter_start, 0),EM_filter['width'], 1, \n",
    "                                            linewidth=1, edgecolor='black', alpha = 0.5,label=f\"{EM_filter['center']} EM filter\",\n",
    "                                            facecolor=wavelength_to_rgb(EM_filter['center']),hatch=r\"//\")\n",
    "        ax_fluo.add_patch(em_filter_patch)\n",
    "    # Nikon-given Lumencore LED spectra:\n",
    "    for column_name in all_LED_data_df.columns:\n",
    "        current_LED_data = all_LED_data_df.loc[pd.notna(all_LED_data_df[column_name])][column_name]\n",
    "        normalised_LED_data = current_LED_data/all_LED_data_df.describe().loc['max'].max()\n",
    "        # sns.lineplot(current_LED_data.index, \n",
    "        #              normalised_LED_data,\n",
    "        #              ax=ax_dichroic,label=column_name, \n",
    "        #              linewidth=1,color= wavelength_to_rgb(current_LED_data.idxmax(), gamma=0.8))\n",
    "        plt.fill_between(current_LED_data.index, normalised_LED_data,color= wavelength_to_rgb(current_LED_data.idxmax(), gamma=0.4))\n",
    "\n",
    "    ax_fluo.legend(loc = 'center right'), ax_dichroic.legend(loc = 'center right')\n",
    "    # subplot modification\n",
    "    ax_fluo.set_title(f\"Fluorophores: {fluorophore_names}\\n| LED: {LED_list[LED_no]} | Dichroic: {dichroic} | EM Filter: {EM_filter} | \",size=12)\n",
    "    #ax_fluo.set_ylabel('Intensity'), ax_dichroic.set_ylabel('Transmittance')\n",
    "    [(subplot.set_ylim(0,1.15),subplot.set_xlim(300,801),\n",
    "      subplot.set_xticks(np.arange(300, 800+1, 25)), #subplot.set_xlabel('Wavelength (nm)'),\n",
    "      subplot.spines['right'].set_visible(False), subplot.spines['top'].set_visible(False),\n",
    "      subplot.grid(color='grey', linestyle='--', linewidth=0.5, alpha=0.25)) for subplot in [ax_fluo,ax_dichroic]]\n",
    "    ax_dichroic.set_xlabel('Wavelength (nm)')\n",
    "    #plt.savefig(f\"cam_spectra_viewer.pdf\", dpi=300)\n",
    "    plt.show(); \n",
    "    "
   ]
  },
  {
   "cell_type": "markdown",
   "id": "fe7338e5-bcbd-4fa9-812a-0291b90e4f6d",
   "metadata": {},
   "source": [
    "---\n",
    "# FP Investigation"
   ]
  },
  {
   "cell_type": "markdown",
   "id": "56dba9db-f93b-4107-85a7-a40574864e99",
   "metadata": {},
   "source": [
    "## Orthogonal fluorophore identification"
   ]
  },
  {
   "cell_type": "markdown",
   "id": "30b73279-7bd9-4e42-af36-b1c44b4c91ca",
   "metadata": {},
   "source": [
    "### 0. Final FP filter"
   ]
  },
  {
   "cell_type": "code",
   "execution_count": 5,
   "id": "66017c68-926f-4ca7-a424-aacb4b90f184",
   "metadata": {},
   "outputs": [],
   "source": [
    "fp_spectra_df.drop([x for x in fp_spectra_df if any(\n",
    "    ['On' in x, \n",
    "     'OFF' in x, \n",
    "     '(Green' in x, \n",
    "     '(Red)' in x,\n",
    "     '(Off)' in x,\n",
    "     '(off)' in x,\n",
    "     '(on)' in x,\n",
    "     '(Far-red' in x,\n",
    "     '(Orange)' in x, \n",
    "     '(CyRFP1)' in x, \n",
    "     '(calcium saturated)' in x, \n",
    "     '(In presence of Ca2+)' in x, \n",
    "     '(pre-conversion)' in x, \n",
    "     '(post-conversion)' in x, \n",
    "     '(Early)' in x, \n",
    "     '(Late)' in x, \n",
    "     '(calcium free)' in x, \n",
    "     '(calcium saturated)' in x, \n",
    "     '2p' in x, \n",
    "     '(Pr)' in x, \n",
    "     '(Fret)' in x, \n",
    "     '(Red' in x, \n",
    "     'A44-KR' in x,\n",
    "     'Montipora' in x\n",
    "                                 ])]\n",
    ",axis=1,inplace=True)"
   ]
  },
  {
   "cell_type": "code",
   "execution_count": 6,
   "id": "d691df4e-4d42-480b-b733-e7afef79f36e",
   "metadata": {},
   "outputs": [
    {
     "name": "stdout",
     "output_type": "stream",
     "text": [
      "ex_fps: 189 & ab_fps:49\n",
      "em_fps: 218\n",
      "Total unique excitation fp data available: 220\n",
      "Removing: AausFP3 ab\n",
      "Removing: AausFP2 ab\n"
     ]
    },
    {
     "data": {
      "text/plain": [
       "(218, 218)"
      ]
     },
     "execution_count": 6,
     "metadata": {},
     "output_type": "execute_result"
    }
   ],
   "source": [
    "# Problem: excitation can be given in terms of exciation OR and AND emission\n",
    "# Solution: remove fps that don't have both 1) an ex or ab label, and 2) an em label\n",
    "# 1- Calculate names of each category\n",
    "ex_fps = [x[:-3] for x in fp_spectra_df if 'ex' in x]\n",
    "ab_fps = [x[:-3] for x in fp_spectra_df if 'ab' in x]\n",
    "em_fps = [x[:-3] for x in fp_spectra_df if 'em' in x]\n",
    "print(f\"ex_fps: {len(ex_fps)} & ab_fps:{len(ab_fps)}\\nem_fps: {len(em_fps)}\")\n",
    "# 2- Use sets to identify a) all ex, b) choose ex if both ex and ab are available, c) choose ab if only ab available\n",
    "choose_ex_if_both_fps = [f\"{fp} ex\" for fp in set(ab_fps).intersection(set(ex_fps))]\n",
    "choose_ab = [f\"{fp} ab\" for fp in set(ab_fps).difference(set(ex_fps))]\n",
    "choose_ex = [f\"{fp} ex\" for fp in set(ex_fps).difference(set(ab_fps))]\n",
    "# 3- Combine all excitation FPs in one list\n",
    "all_excitation_fps = list(choose_ex) + list(choose_ex_if_both_fps) + list(choose_ab)\n",
    "print(f\"Total unique excitation fp data available: {len(all_excitation_fps)}\")\n",
    "# 4- Ensure you have excitation and emission data for each fp by identifying the ones who only have one\n",
    "# and remove them from the total list\n",
    "for fp_remove in set([x[:-3] for x in all_excitation_fps]).difference(set(em_fps)):\n",
    "    print(f\"Removing: {fp_remove} ab\")\n",
    "    all_excitation_fps.remove(f\"{fp_remove} ab\")\n",
    "# 5- combine excitation and emission fps back together\n",
    "usable_fps = all_excitation_fps + [f\"{fp} em\" for fp in em_fps]\n",
    "# 6- Select only usable FP data from the original, reduced FP spectral dataset\n",
    "fp_spectra_df = fp_spectra_df[usable_fps]\n",
    "len(all_excitation_fps), len([x[:-3] for x in fp_spectra_df if 'em' in x])"
   ]
  },
  {
   "cell_type": "markdown",
   "id": "23a6a63c-9312-4b07-ae96-1343fe0f4498",
   "metadata": {},
   "source": [
    "### 1. nth Optimal LED & EM_filter / FP"
   ]
  },
  {
   "cell_type": "code",
   "execution_count": 7,
   "id": "486cf781-3ca9-413b-b21b-d7c98d36c832",
   "metadata": {},
   "outputs": [],
   "source": [
    "def EX_spectrum(fluoro_name,spectra_df):\n",
    "    try:\n",
    "        return spectra_df[f\"{fluoro_name} ex\"]\n",
    "    except:\n",
    "        return spectra_df[f\"{fluoro_name} ab\"]\n",
    "def EM_spectrum(fluoro_name,spectra_df):\n",
    "    return spectra_df[f\"{fluoro_name} em\"]\n",
    "# ----------------------------------------------------------------------------------------------------------------------------------------------\n",
    "\n",
    "def fluorophore_EX_values_for_LEDs_df(fluoro_name,spectra_df, LED_data_df_l, LED_list_l):\n",
    "    \"\"\" Calculate all LEDs' excitation integral for a given fluorophore\n",
    "    \"\"\"\n",
    "    EX_val_dic = {}\n",
    "    for idx, LED_name in enumerate(LED_data_df_l.columns):#[all_LED_data_df.notna()]\n",
    "        mask = LED_data_df_l[LED_name].notna()\n",
    "        # Set LED intensity value threshold for OFF/ON cut (simplification)\n",
    "        LED_lambda_ON = list(set(LED_data_df_l[LED_name].loc[LED_data_df_l[LED_name] > 3].index.astype(int)))\n",
    "        EX_val_dic[idx] = {'LED': int(LED_list_l[idx]), \n",
    "                           'LED_name' : LED_name,\n",
    "                            fluoro_name : EX_spectrum(fluoro_name, spectra_df)[LED_lambda_ON].sum()\n",
    "                          } # 'excitation_integral'\n",
    "    return pd.DataFrame(EX_val_dic).T.set_index(['LED'])\n",
    "\n",
    "def fluoros_EM_filter_df(fluoro_name,spectra_df, em_filter_list_l):\n",
    "    \"\"\" Calculate all EM_filters' passthrough integral for a given fluorophore\n",
    "    \"\"\"\n",
    "    fluoro_EM_filter_data = []\n",
    "    for em_filter in em_filter_list_l:\n",
    "        em_filter_start = int(em_filter['center']-em_filter['width']/2)\n",
    "        em_filter_end = int(em_filter['center']+em_filter['width']/2)\n",
    "        fluoro_EM_filter_data.append((em_filter['center'],EM_spectrum(fluoro_name,fp_spectra_df).loc[em_filter_start:em_filter_end].sum()))\n",
    "    return pd.DataFrame(fluoro_EM_filter_data,columns=['EM_filter',fluoro_name]).set_index('EM_filter')\n",
    "# ----------------------------------------------------------------------------------------------------------------------------------------------\n",
    "\n",
    "def best_nth_LED_for_FP(fluoro_name,spectra_df, LED_active_lambda_df_l, LED_list_l, n_best=0):\n",
    "    \"\"\" Identify (1st, 2nd, 3rd, ..., nth) best LED for a given fluorophore\n",
    "    \"\"\"\n",
    "    current_fp_EX = EX_spectrum(fluoro_name,fp_spectra_df)\n",
    "    ranges = [x for x in LED_active_lambda_df.lambda_range]\n",
    "    local_LED_data = []\n",
    "    for idx, LED_range in enumerate(ranges):\n",
    "        local_LED_data.append((current_fp_EX.loc[LED_range].sum()))\n",
    "    results_df = pd.DataFrame(local_LED_data)\n",
    "    results_df.index = LED_list\n",
    "    results_df.sort_values(by=0, ascending=False, inplace=True)\n",
    "    return (results_df.index[n_best], round(results_df[0].iloc[n_best],4))\n",
    "\n",
    "def best_nth_EMfilter_for_FP(fluoro_name, spectra_df, em_filter_list_l, n_best=0):\n",
    "    \"\"\" Identify (1st, 2nd, 3rd, ..., nth) best EM_filter for a given fluorophore\n",
    "    \"\"\"\n",
    "    current_EM_data = fluoros_EM_filter_df(fluoro_name,spectra_df, em_filter_list_l).sort_values(by=fluoro_name, ascending=False)\n",
    "    return (current_EM_data.index[n_best], round(current_EM_data[fluoro_name].iloc[n_best],4))\n",
    "# ----------------------------------------------------------------------------------------------------------------------------------------------\n",
    "\n",
    "def slice_into_chunks(seq_l, chunk_length):\n",
    "    \"\"\"\n",
    "    \"\"\"\n",
    "    return [seq_l[i:i+chunk_length] for i in range(0, len(seq_l), chunk_length)]"
   ]
  },
  {
   "cell_type": "markdown",
   "id": "c6e83131-3c89-4ddf-994f-ff0e1f877526",
   "metadata": {
    "tags": []
   },
   "source": [
    "#### a.) All FPs' 1st & 2nd best LED"
   ]
  },
  {
   "cell_type": "code",
   "execution_count": 8,
   "id": "6944ba6b-2f4d-4ec9-b69e-e6c4cfb1b1a7",
   "metadata": {},
   "outputs": [
    {
     "data": {
      "text/html": [
       "<div>\n",
       "<style scoped>\n",
       "    .dataframe tbody tr th:only-of-type {\n",
       "        vertical-align: middle;\n",
       "    }\n",
       "\n",
       "    .dataframe tbody tr th {\n",
       "        vertical-align: top;\n",
       "    }\n",
       "\n",
       "    .dataframe thead th {\n",
       "        text-align: right;\n",
       "    }\n",
       "</style>\n",
       "<table border=\"1\" class=\"dataframe\">\n",
       "  <thead>\n",
       "    <tr style=\"text-align: right;\">\n",
       "      <th></th>\n",
       "      <th>Aquamarine</th>\n",
       "      <th>Citrine</th>\n",
       "      <th>CyOFP1</th>\n",
       "      <th>CyPet</th>\n",
       "      <th>DsRed</th>\n",
       "      <th>EBFP</th>\n",
       "      <th>EBFP2</th>\n",
       "      <th>ECFP</th>\n",
       "      <th>EGFP</th>\n",
       "      <th>EYFP</th>\n",
       "      <th>...</th>\n",
       "      <th>Lumazine binding protein</th>\n",
       "      <th>amFP486</th>\n",
       "      <th>dTFP0.2</th>\n",
       "      <th>meleCFP</th>\n",
       "      <th>meffCFP</th>\n",
       "      <th>efasCFP</th>\n",
       "      <th>dsFP483</th>\n",
       "      <th>KCY-G4219</th>\n",
       "      <th>SuperNova2 (SuperNova2)</th>\n",
       "      <th>FusionRed-MQV</th>\n",
       "    </tr>\n",
       "  </thead>\n",
       "  <tbody>\n",
       "    <tr>\n",
       "      <th>idx</th>\n",
       "      <td>218.0000</td>\n",
       "      <td>219.0000</td>\n",
       "      <td>220.0000</td>\n",
       "      <td>221.0000</td>\n",
       "      <td>222.0000</td>\n",
       "      <td>223.0000</td>\n",
       "      <td>224.0000</td>\n",
       "      <td>225.0000</td>\n",
       "      <td>226.0000</td>\n",
       "      <td>227.0000</td>\n",
       "      <td>...</td>\n",
       "      <td>426.0000</td>\n",
       "      <td>427.0000</td>\n",
       "      <td>428.0000</td>\n",
       "      <td>429.0000</td>\n",
       "      <td>430.0000</td>\n",
       "      <td>431.0000</td>\n",
       "      <td>432.0000</td>\n",
       "      <td>433.0000</td>\n",
       "      <td>434.0000</td>\n",
       "      <td>435.0000</td>\n",
       "    </tr>\n",
       "    <tr>\n",
       "      <th>best_LED</th>\n",
       "      <td>440.0000</td>\n",
       "      <td>514.0000</td>\n",
       "      <td>488.0000</td>\n",
       "      <td>440.0000</td>\n",
       "      <td>561.0000</td>\n",
       "      <td>365.0000</td>\n",
       "      <td>365.0000</td>\n",
       "      <td>440.0000</td>\n",
       "      <td>488.0000</td>\n",
       "      <td>514.0000</td>\n",
       "      <td>...</td>\n",
       "      <td>365.0000</td>\n",
       "      <td>440.0000</td>\n",
       "      <td>440.0000</td>\n",
       "      <td>440.0000</td>\n",
       "      <td>488.0000</td>\n",
       "      <td>440.0000</td>\n",
       "      <td>440.0000</td>\n",
       "      <td>440.0000</td>\n",
       "      <td>594.0000</td>\n",
       "      <td>561.0000</td>\n",
       "    </tr>\n",
       "    <tr>\n",
       "      <th>best_LED_exc_val</th>\n",
       "      <td>19.8527</td>\n",
       "      <td>17.6806</td>\n",
       "      <td>24.9980</td>\n",
       "      <td>20.5305</td>\n",
       "      <td>20.6072</td>\n",
       "      <td>20.7553</td>\n",
       "      <td>22.5845</td>\n",
       "      <td>20.5305</td>\n",
       "      <td>25.7896</td>\n",
       "      <td>18.0951</td>\n",
       "      <td>...</td>\n",
       "      <td>16.3909</td>\n",
       "      <td>19.6523</td>\n",
       "      <td>18.3897</td>\n",
       "      <td>20.4093</td>\n",
       "      <td>17.3351</td>\n",
       "      <td>17.8755</td>\n",
       "      <td>19.4192</td>\n",
       "      <td>19.1570</td>\n",
       "      <td>25.7916</td>\n",
       "      <td>20.6692</td>\n",
       "    </tr>\n",
       "    <tr>\n",
       "      <th>secondbest_LED</th>\n",
       "      <td>365.0000</td>\n",
       "      <td>488.0000</td>\n",
       "      <td>514.0000</td>\n",
       "      <td>488.0000</td>\n",
       "      <td>514.0000</td>\n",
       "      <td>440.0000</td>\n",
       "      <td>440.0000</td>\n",
       "      <td>488.0000</td>\n",
       "      <td>440.0000</td>\n",
       "      <td>488.0000</td>\n",
       "      <td>...</td>\n",
       "      <td>440.0000</td>\n",
       "      <td>488.0000</td>\n",
       "      <td>488.0000</td>\n",
       "      <td>488.0000</td>\n",
       "      <td>440.0000</td>\n",
       "      <td>488.0000</td>\n",
       "      <td>365.0000</td>\n",
       "      <td>488.0000</td>\n",
       "      <td>561.0000</td>\n",
       "      <td>594.0000</td>\n",
       "    </tr>\n",
       "    <tr>\n",
       "      <th>secondbest_LED_exc_val</th>\n",
       "      <td>9.3790</td>\n",
       "      <td>7.1625</td>\n",
       "      <td>21.7333</td>\n",
       "      <td>8.6867</td>\n",
       "      <td>14.9961</td>\n",
       "      <td>0.0000</td>\n",
       "      <td>0.1482</td>\n",
       "      <td>8.6867</td>\n",
       "      <td>7.0682</td>\n",
       "      <td>7.8926</td>\n",
       "      <td>...</td>\n",
       "      <td>14.1555</td>\n",
       "      <td>10.6064</td>\n",
       "      <td>15.8367</td>\n",
       "      <td>9.9529</td>\n",
       "      <td>15.7538</td>\n",
       "      <td>16.3736</td>\n",
       "      <td>12.7849</td>\n",
       "      <td>12.9615</td>\n",
       "      <td>20.1491</td>\n",
       "      <td>20.0415</td>\n",
       "    </tr>\n",
       "  </tbody>\n",
       "</table>\n",
       "<p>5 rows × 218 columns</p>\n",
       "</div>"
      ],
      "text/plain": [
       "                        Aquamarine   Citrine    CyOFP1     CyPet     DsRed  \\\n",
       "idx                       218.0000  219.0000  220.0000  221.0000  222.0000   \n",
       "best_LED                  440.0000  514.0000  488.0000  440.0000  561.0000   \n",
       "best_LED_exc_val           19.8527   17.6806   24.9980   20.5305   20.6072   \n",
       "secondbest_LED            365.0000  488.0000  514.0000  488.0000  514.0000   \n",
       "secondbest_LED_exc_val      9.3790    7.1625   21.7333    8.6867   14.9961   \n",
       "\n",
       "                            EBFP     EBFP2      ECFP      EGFP      EYFP  ...  \\\n",
       "idx                     223.0000  224.0000  225.0000  226.0000  227.0000  ...   \n",
       "best_LED                365.0000  365.0000  440.0000  488.0000  514.0000  ...   \n",
       "best_LED_exc_val         20.7553   22.5845   20.5305   25.7896   18.0951  ...   \n",
       "secondbest_LED          440.0000  440.0000  488.0000  440.0000  488.0000  ...   \n",
       "secondbest_LED_exc_val    0.0000    0.1482    8.6867    7.0682    7.8926  ...   \n",
       "\n",
       "                        Lumazine binding protein   amFP486   dTFP0.2  \\\n",
       "idx                                     426.0000  427.0000  428.0000   \n",
       "best_LED                                365.0000  440.0000  440.0000   \n",
       "best_LED_exc_val                         16.3909   19.6523   18.3897   \n",
       "secondbest_LED                          440.0000  488.0000  488.0000   \n",
       "secondbest_LED_exc_val                   14.1555   10.6064   15.8367   \n",
       "\n",
       "                         meleCFP   meffCFP   efasCFP   dsFP483  KCY-G4219  \\\n",
       "idx                     429.0000  430.0000  431.0000  432.0000   433.0000   \n",
       "best_LED                440.0000  488.0000  440.0000  440.0000   440.0000   \n",
       "best_LED_exc_val         20.4093   17.3351   17.8755   19.4192    19.1570   \n",
       "secondbest_LED          488.0000  440.0000  488.0000  365.0000   488.0000   \n",
       "secondbest_LED_exc_val    9.9529   15.7538   16.3736   12.7849    12.9615   \n",
       "\n",
       "                        SuperNova2 (SuperNova2)  FusionRed-MQV  \n",
       "idx                                    434.0000       435.0000  \n",
       "best_LED                               594.0000       561.0000  \n",
       "best_LED_exc_val                        25.7916        20.6692  \n",
       "secondbest_LED                         561.0000       594.0000  \n",
       "secondbest_LED_exc_val                  20.1491        20.0415  \n",
       "\n",
       "[5 rows x 218 columns]"
      ]
     },
     "execution_count": 8,
     "metadata": {},
     "output_type": "execute_result"
    }
   ],
   "source": [
    "best_LEDs = {}\n",
    "for idx, name in enumerate(fp_spectra_df.columns):\n",
    "    if all(['em' in name]):\n",
    "        results = best_nth_LED_for_FP(name[:-3],fp_spectra_df, LED_active_lambda_df, LED_list, n_best=0)\n",
    "        best_LEDs[name[:-3]] = {'idx': idx,\n",
    "                                      'best_LED' : int(results[0]),\n",
    "                                      'best_LED_exc_val' : results[1]\n",
    "                                     }\n",
    "secondbest_LEDs = {}\n",
    "for idx, name in enumerate(fp_spectra_df.columns):\n",
    "    if all(['em' in name]):\n",
    "        results = best_nth_LED_for_FP(name[:-3],fp_spectra_df, LED_active_lambda_df, LED_list, n_best=1)\n",
    "        secondbest_LEDs[name[:-3]] = {'idx': idx,\n",
    "                                      'secondbest_LED' : int(results[0]),\n",
    "                                      'secondbest_LED_exc_val' : results[1]\n",
    "                                     }\n",
    "twobest_LEDs_df = pd.concat([pd.DataFrame(best_LEDs),pd.DataFrame(secondbest_LEDs).drop(['idx'])])\n",
    "twobest_LEDs_df"
   ]
  },
  {
   "cell_type": "code",
   "execution_count": 9,
   "id": "846598c0-e0da-484b-9331-bbd033fe77e3",
   "metadata": {},
   "outputs": [
    {
     "data": {
      "application/vnd.jupyter.widget-view+json": {
       "model_id": "61eb98fc89fa42c0be872bb9ccdcad70",
       "version_major": 2,
       "version_minor": 0
      },
      "text/plain": [
       "  0%|          | 0/218 [00:00<?, ?it/s]"
      ]
     },
     "metadata": {},
     "output_type": "display_data"
    }
   ],
   "source": [
    "# calculate all fluorophores' EXCITATION data at all EM_filters \n",
    "FPs_excitationdata_to_LEDs = []\n",
    "for fp_name in tqdm([name[:-3] for name in fp_spectra_df.columns if 'em' in name]):\n",
    "    FPs_excitationdata_to_LEDs.append(fluorophore_EX_values_for_LEDs_df(fp_name,fp_spectra_df, all_LED_data_df, LED_list).drop(['LED_name'],axis=1))\n",
    "FPs_excitationdata_to_LEDs_df = pd.concat(FPs_excitationdata_to_LEDs,axis=1).T\n",
    "FPs_excitationdata_to_LEDs_df = FPs_excitationdata_to_LEDs_df.sort_values(by=FPs_excitationdata_to_LEDs_df.columns.to_list(), ascending=False).T"
   ]
  },
  {
   "cell_type": "markdown",
   "id": "283e648b-1013-4e76-a0ee-dbd0d5b5cfe1",
   "metadata": {},
   "source": [
    "#### b.) All FPs' 1st & 2nd best EM filter"
   ]
  },
  {
   "cell_type": "code",
   "execution_count": 10,
   "id": "76baec21-0a61-4be7-b052-d36943750612",
   "metadata": {},
   "outputs": [
    {
     "data": {
      "text/html": [
       "<div>\n",
       "<style scoped>\n",
       "    .dataframe tbody tr th:only-of-type {\n",
       "        vertical-align: middle;\n",
       "    }\n",
       "\n",
       "    .dataframe tbody tr th {\n",
       "        vertical-align: top;\n",
       "    }\n",
       "\n",
       "    .dataframe thead th {\n",
       "        text-align: right;\n",
       "    }\n",
       "</style>\n",
       "<table border=\"1\" class=\"dataframe\">\n",
       "  <thead>\n",
       "    <tr style=\"text-align: right;\">\n",
       "      <th></th>\n",
       "      <th>Aquamarine</th>\n",
       "      <th>Citrine</th>\n",
       "      <th>CyOFP1</th>\n",
       "      <th>CyPet</th>\n",
       "      <th>DsRed</th>\n",
       "      <th>EBFP</th>\n",
       "      <th>EBFP2</th>\n",
       "      <th>ECFP</th>\n",
       "      <th>EGFP</th>\n",
       "      <th>EYFP</th>\n",
       "      <th>...</th>\n",
       "      <th>Lumazine binding protein</th>\n",
       "      <th>amFP486</th>\n",
       "      <th>dTFP0.2</th>\n",
       "      <th>meleCFP</th>\n",
       "      <th>meffCFP</th>\n",
       "      <th>efasCFP</th>\n",
       "      <th>dsFP483</th>\n",
       "      <th>KCY-G4219</th>\n",
       "      <th>SuperNova2 (SuperNova2)</th>\n",
       "      <th>FusionRed-MQV</th>\n",
       "    </tr>\n",
       "  </thead>\n",
       "  <tbody>\n",
       "    <tr>\n",
       "      <th>idx</th>\n",
       "      <td>218.0000</td>\n",
       "      <td>219.0000</td>\n",
       "      <td>220.0000</td>\n",
       "      <td>221.0000</td>\n",
       "      <td>222.0000</td>\n",
       "      <td>223.0000</td>\n",
       "      <td>224.0000</td>\n",
       "      <td>225.0000</td>\n",
       "      <td>226.0000</td>\n",
       "      <td>227.0000</td>\n",
       "      <td>...</td>\n",
       "      <td>426.0000</td>\n",
       "      <td>427.0000</td>\n",
       "      <td>428.0000</td>\n",
       "      <td>429.0000</td>\n",
       "      <td>430.0000</td>\n",
       "      <td>431.0000</td>\n",
       "      <td>432.0000</td>\n",
       "      <td>433.0000</td>\n",
       "      <td>434.0000</td>\n",
       "      <td>435.0000</td>\n",
       "    </tr>\n",
       "    <tr>\n",
       "      <th>best_EM_filter</th>\n",
       "      <td>475.0000</td>\n",
       "      <td>540.0000</td>\n",
       "      <td>595.0000</td>\n",
       "      <td>515.0000</td>\n",
       "      <td>595.0000</td>\n",
       "      <td>435.0000</td>\n",
       "      <td>435.0000</td>\n",
       "      <td>515.0000</td>\n",
       "      <td>515.0000</td>\n",
       "      <td>540.0000</td>\n",
       "      <td>...</td>\n",
       "      <td>475.0000</td>\n",
       "      <td>515.0000</td>\n",
       "      <td>515.0000</td>\n",
       "      <td>515.0000</td>\n",
       "      <td>515.0000</td>\n",
       "      <td>515.0000</td>\n",
       "      <td>515.0000</td>\n",
       "      <td>515.0000</td>\n",
       "      <td>632.0000</td>\n",
       "      <td>595.0000</td>\n",
       "    </tr>\n",
       "    <tr>\n",
       "      <th>best_EM_passthrough_val</th>\n",
       "      <td>18.8489</td>\n",
       "      <td>16.2004</td>\n",
       "      <td>37.9134</td>\n",
       "      <td>22.0270</td>\n",
       "      <td>29.3436</td>\n",
       "      <td>25.2175</td>\n",
       "      <td>21.3354</td>\n",
       "      <td>22.0270</td>\n",
       "      <td>24.0535</td>\n",
       "      <td>16.2004</td>\n",
       "      <td>...</td>\n",
       "      <td>20.1995</td>\n",
       "      <td>23.2874</td>\n",
       "      <td>21.1893</td>\n",
       "      <td>20.7332</td>\n",
       "      <td>20.5995</td>\n",
       "      <td>20.0058</td>\n",
       "      <td>21.8632</td>\n",
       "      <td>20.8345</td>\n",
       "      <td>41.3502</td>\n",
       "      <td>31.3352</td>\n",
       "    </tr>\n",
       "    <tr>\n",
       "      <th>secondbest_EM_filter</th>\n",
       "      <td>515.0000</td>\n",
       "      <td>515.0000</td>\n",
       "      <td>632.0000</td>\n",
       "      <td>475.0000</td>\n",
       "      <td>632.0000</td>\n",
       "      <td>475.0000</td>\n",
       "      <td>475.0000</td>\n",
       "      <td>475.0000</td>\n",
       "      <td>540.0000</td>\n",
       "      <td>515.0000</td>\n",
       "      <td>...</td>\n",
       "      <td>515.0000</td>\n",
       "      <td>475.0000</td>\n",
       "      <td>475.0000</td>\n",
       "      <td>475.0000</td>\n",
       "      <td>475.0000</td>\n",
       "      <td>475.0000</td>\n",
       "      <td>475.0000</td>\n",
       "      <td>475.0000</td>\n",
       "      <td>595.0000</td>\n",
       "      <td>632.0000</td>\n",
       "    </tr>\n",
       "    <tr>\n",
       "      <th>secondbest_EM_passthrough_val</th>\n",
       "      <td>15.1479</td>\n",
       "      <td>13.3973</td>\n",
       "      <td>30.8600</td>\n",
       "      <td>18.4601</td>\n",
       "      <td>18.3467</td>\n",
       "      <td>11.1299</td>\n",
       "      <td>13.3635</td>\n",
       "      <td>18.4601</td>\n",
       "      <td>8.4748</td>\n",
       "      <td>13.3973</td>\n",
       "      <td>...</td>\n",
       "      <td>14.4264</td>\n",
       "      <td>13.1796</td>\n",
       "      <td>11.5636</td>\n",
       "      <td>14.8189</td>\n",
       "      <td>9.9187</td>\n",
       "      <td>10.6741</td>\n",
       "      <td>14.8600</td>\n",
       "      <td>12.6209</td>\n",
       "      <td>28.1231</td>\n",
       "      <td>18.2670</td>\n",
       "    </tr>\n",
       "  </tbody>\n",
       "</table>\n",
       "<p>5 rows × 218 columns</p>\n",
       "</div>"
      ],
      "text/plain": [
       "                               Aquamarine   Citrine    CyOFP1     CyPet  \\\n",
       "idx                              218.0000  219.0000  220.0000  221.0000   \n",
       "best_EM_filter                   475.0000  540.0000  595.0000  515.0000   \n",
       "best_EM_passthrough_val           18.8489   16.2004   37.9134   22.0270   \n",
       "secondbest_EM_filter             515.0000  515.0000  632.0000  475.0000   \n",
       "secondbest_EM_passthrough_val     15.1479   13.3973   30.8600   18.4601   \n",
       "\n",
       "                                  DsRed      EBFP     EBFP2      ECFP  \\\n",
       "idx                            222.0000  223.0000  224.0000  225.0000   \n",
       "best_EM_filter                 595.0000  435.0000  435.0000  515.0000   \n",
       "best_EM_passthrough_val         29.3436   25.2175   21.3354   22.0270   \n",
       "secondbest_EM_filter           632.0000  475.0000  475.0000  475.0000   \n",
       "secondbest_EM_passthrough_val   18.3467   11.1299   13.3635   18.4601   \n",
       "\n",
       "                                   EGFP      EYFP  ...  \\\n",
       "idx                            226.0000  227.0000  ...   \n",
       "best_EM_filter                 515.0000  540.0000  ...   \n",
       "best_EM_passthrough_val         24.0535   16.2004  ...   \n",
       "secondbest_EM_filter           540.0000  515.0000  ...   \n",
       "secondbest_EM_passthrough_val    8.4748   13.3973  ...   \n",
       "\n",
       "                               Lumazine binding protein   amFP486   dTFP0.2  \\\n",
       "idx                                            426.0000  427.0000  428.0000   \n",
       "best_EM_filter                                 475.0000  515.0000  515.0000   \n",
       "best_EM_passthrough_val                         20.1995   23.2874   21.1893   \n",
       "secondbest_EM_filter                           515.0000  475.0000  475.0000   \n",
       "secondbest_EM_passthrough_val                   14.4264   13.1796   11.5636   \n",
       "\n",
       "                                meleCFP   meffCFP   efasCFP   dsFP483  \\\n",
       "idx                            429.0000  430.0000  431.0000  432.0000   \n",
       "best_EM_filter                 515.0000  515.0000  515.0000  515.0000   \n",
       "best_EM_passthrough_val         20.7332   20.5995   20.0058   21.8632   \n",
       "secondbest_EM_filter           475.0000  475.0000  475.0000  475.0000   \n",
       "secondbest_EM_passthrough_val   14.8189    9.9187   10.6741   14.8600   \n",
       "\n",
       "                               KCY-G4219  SuperNova2 (SuperNova2)  \\\n",
       "idx                             433.0000                 434.0000   \n",
       "best_EM_filter                  515.0000                 632.0000   \n",
       "best_EM_passthrough_val          20.8345                  41.3502   \n",
       "secondbest_EM_filter            475.0000                 595.0000   \n",
       "secondbest_EM_passthrough_val    12.6209                  28.1231   \n",
       "\n",
       "                               FusionRed-MQV  \n",
       "idx                                 435.0000  \n",
       "best_EM_filter                      595.0000  \n",
       "best_EM_passthrough_val              31.3352  \n",
       "secondbest_EM_filter                632.0000  \n",
       "secondbest_EM_passthrough_val        18.2670  \n",
       "\n",
       "[5 rows x 218 columns]"
      ]
     },
     "execution_count": 10,
     "metadata": {},
     "output_type": "execute_result"
    }
   ],
   "source": [
    "best_EM_filters = {}\n",
    "for idx, name in enumerate(fp_spectra_df.columns):\n",
    "    if all(['em' in name]):\n",
    "        results = best_nth_EMfilter_for_FP(name[:-3], fp_spectra_df, em_filter_list, n_best=0)\n",
    "        best_EM_filters[name[:-3]] = {'idx': idx,\n",
    "                                      'best_EM_filter' : int(results[0]),\n",
    "                                      'best_EM_passthrough_val' : results[1]\n",
    "                                     }\n",
    "secondbest_EM_filters = {}\n",
    "for idx, name in enumerate(fp_spectra_df.columns):\n",
    "    if all(['em' in name]):\n",
    "        results = best_nth_EMfilter_for_FP(name[:-3], fp_spectra_df, em_filter_list, n_best=1)\n",
    "        secondbest_EM_filters[name[:-3]] = {'idx': idx,\n",
    "                                      'secondbest_EM_filter' : int(results[0]),\n",
    "                                      'secondbest_EM_passthrough_val' : results[1]\n",
    "                                     }\n",
    "twobest_EM_filters_df = pd.concat([pd.DataFrame(best_EM_filters),pd.DataFrame(secondbest_EM_filters).drop(['idx'])])\n",
    "twobest_EM_filters_df"
   ]
  },
  {
   "cell_type": "code",
   "execution_count": 11,
   "id": "1f81b2b2-88f7-490f-adc2-60f08bf7ce14",
   "metadata": {},
   "outputs": [
    {
     "data": {
      "text/plain": [
       "idx                       301.0000\n",
       "best_LED                  440.0000\n",
       "best_LED_exc_val           20.4844\n",
       "secondbest_LED            365.0000\n",
       "secondbest_LED_exc_val     12.3130\n",
       "Name: LSSmOrange, dtype: float64"
      ]
     },
     "execution_count": 11,
     "metadata": {},
     "output_type": "execute_result"
    }
   ],
   "source": [
    "twobest_LEDs_df['LSSmOrange']"
   ]
  },
  {
   "cell_type": "code",
   "execution_count": 12,
   "id": "6c718aee-0925-40c4-b118-a9d456b9eb7e",
   "metadata": {},
   "outputs": [
    {
     "data": {
      "text/plain": [
       "idx                              301.0000\n",
       "best_EM_filter                   595.0000\n",
       "best_EM_passthrough_val           27.3516\n",
       "secondbest_EM_filter             632.0000\n",
       "secondbest_EM_passthrough_val     19.3081\n",
       "Name: LSSmOrange, dtype: float64"
      ]
     },
     "execution_count": 12,
     "metadata": {},
     "output_type": "execute_result"
    }
   ],
   "source": [
    "twobest_EM_filters_df['LSSmOrange']"
   ]
  },
  {
   "cell_type": "code",
   "execution_count": 13,
   "id": "26d805f6-3614-4cff-a975-00f266b828a2",
   "metadata": {},
   "outputs": [
    {
     "data": {
      "application/vnd.jupyter.widget-view+json": {
       "model_id": "b8a4c958370d48d39c93b0d8e15a2fc2",
       "version_major": 2,
       "version_minor": 0
      },
      "text/plain": [
       "  0%|          | 0/218 [00:00<?, ?it/s]"
      ]
     },
     "metadata": {},
     "output_type": "display_data"
    }
   ],
   "source": [
    "# calculate all fluorophores' EXCITATION data at all EM_filters \n",
    "FPs_EMdata_to_EMfilters = []\n",
    "for fp_name in tqdm([name[:-3] for name in fp_spectra_df.columns if 'em' in name]):\n",
    "    FPs_EMdata_to_EMfilters.append(fluoros_EM_filter_df(fp_name,fp_spectra_df, em_filter_list))\n",
    "EM_passthrough_at_EMfilters_df = pd.concat(FPs_EMdata_to_EMfilters,axis=1).T\n",
    "EM_passthrough_at_EMfilters_df = EM_passthrough_at_EMfilters_df.sort_values(by=EM_passthrough_at_EMfilters_df.columns.to_list(), ascending=False).T"
   ]
  },
  {
   "cell_type": "markdown",
   "id": "4bcafcca-89ba-4652-9e3f-bb83e0e8cebe",
   "metadata": {},
   "source": [
    "### 2. Dichroic lookup table (i.e. allowed LED-EM combos)"
   ]
  },
  {
   "cell_type": "code",
   "execution_count": 14,
   "id": "e7b78c34-7a90-48ce-bd64-f883ec438ab8",
   "metadata": {},
   "outputs": [
    {
     "data": {
      "text/plain": [
       "34"
      ]
     },
     "execution_count": 14,
     "metadata": {},
     "output_type": "execute_result"
    }
   ],
   "source": [
    "# create master dictionary of dichroically-allowed LED-to-EMfilter combos\n",
    "allowed_LED_EMfilter_sets = []\n",
    "for dichroic_name in dichroic_dic.keys():\n",
    "    current_dichroic_data = dichroic_dic[dichroic_name]\n",
    "    # identify which LEDs can bu used with current dichroic\n",
    "    LED_per_dichroic = []\n",
    "    for LED in LED_list:\n",
    "        if current_dichroic_data.excitation[LED_active_lambda_df.loc[LED].lambda_range].max() > 0.7:\n",
    "            LED_per_dichroic.append(LED)\n",
    "    # identify which EM_filters can bu used with current dichroic\n",
    "    EMfilter_per_dichroic = []\n",
    "    for EM_filter in em_filter_list:\n",
    "        start, end = EM_filter['center']-int(EM_filter['width']/2), EM_filter['center']+int(EM_filter['width']/2)\n",
    "        current_EM_filter_range = list(range(start,end))\n",
    "        if current_dichroic_data.emission[current_EM_filter_range].mean() > 0.7:\n",
    "            EMfilter_per_dichroic.append(EM_filter['center'])\n",
    "    # create factorial combinations of LEDs and EM_filters that work together\n",
    "    allowed_LED_EMfilter_sets.extend(list(product(tuple(LED_per_dichroic), tuple(EMfilter_per_dichroic))))\n",
    "allowed_LED_EMfilter_sets = sorted(set(allowed_LED_EMfilter_sets))\n",
    "# allowed_LED_EMfilter_sets = set([combo for combo in allowed_LED_EMfilter_sets if combo[0] < combo[1]])\n",
    "len(allowed_LED_EMfilter_sets)"
   ]
  },
  {
   "cell_type": "code",
   "execution_count": 15,
   "id": "299521ec-4c6f-4eaa-ab2e-4fcda00eb95e",
   "metadata": {},
   "outputs": [
    {
     "data": {
      "text/plain": [
       "[(365, 435),\n",
       " (365, 515),\n",
       " (365, 595),\n",
       " (365, 705),\n",
       " (440, 475),\n",
       " (440, 540),\n",
       " (440, 632),\n",
       " (440, 705),\n",
       " (488, 435),\n",
       " (488, 515),\n",
       " (488, 595),\n",
       " (488, 705),\n",
       " (514, 475),\n",
       " (514, 540),\n",
       " (514, 632),\n",
       " (514, 705),\n",
       " (561, 435),\n",
       " (561, 475),\n",
       " (561, 515),\n",
       " (561, 540),\n",
       " (561, 595),\n",
       " (561, 632),\n",
       " (561, 705),\n",
       " (594, 435),\n",
       " (594, 475),\n",
       " (594, 515),\n",
       " (594, 540),\n",
       " (594, 595),\n",
       " (594, 632),\n",
       " (594, 705),\n",
       " (640, 435),\n",
       " (640, 515),\n",
       " (640, 595),\n",
       " (640, 705)]"
      ]
     },
     "execution_count": 15,
     "metadata": {},
     "output_type": "execute_result"
    }
   ],
   "source": [
    "allowed_LED_EMfilter_sets"
   ]
  },
  {
   "cell_type": "markdown",
   "id": "f4d23742-d9c0-48ae-ab75-3dd14b218971",
   "metadata": {},
   "source": [
    "### 3. Categorisation Visualisation (-)"
   ]
  },
  {
   "cell_type": "markdown",
   "id": "c2f918db-e15d-4b43-83d6-c6ded9c592ae",
   "metadata": {},
   "source": [
    "### 4. Reduce FP number by dichroic constraints"
   ]
  },
  {
   "cell_type": "code",
   "execution_count": 16,
   "id": "92393598-0e6c-45df-b47c-fea41e7161b5",
   "metadata": {},
   "outputs": [
    {
     "data": {
      "text/html": [
       "<div>\n",
       "<style scoped>\n",
       "    .dataframe tbody tr th:only-of-type {\n",
       "        vertical-align: middle;\n",
       "    }\n",
       "\n",
       "    .dataframe tbody tr th {\n",
       "        vertical-align: top;\n",
       "    }\n",
       "\n",
       "    .dataframe thead th {\n",
       "        text-align: right;\n",
       "    }\n",
       "</style>\n",
       "<table border=\"1\" class=\"dataframe\">\n",
       "  <thead>\n",
       "    <tr style=\"text-align: right;\">\n",
       "      <th></th>\n",
       "      <th>0</th>\n",
       "    </tr>\n",
       "  </thead>\n",
       "  <tbody>\n",
       "    <tr>\n",
       "      <th>count</th>\n",
       "      <td>218</td>\n",
       "    </tr>\n",
       "    <tr>\n",
       "      <th>unique</th>\n",
       "      <td>1</td>\n",
       "    </tr>\n",
       "    <tr>\n",
       "      <th>top</th>\n",
       "      <td>True</td>\n",
       "    </tr>\n",
       "    <tr>\n",
       "      <th>freq</th>\n",
       "      <td>218</td>\n",
       "    </tr>\n",
       "  </tbody>\n",
       "</table>\n",
       "</div>"
      ],
      "text/plain": [
       "           0\n",
       "count    218\n",
       "unique     1\n",
       "top     True\n",
       "freq     218"
      ]
     },
     "execution_count": 16,
     "metadata": {},
     "output_type": "execute_result"
    }
   ],
   "source": [
    "\"\"\" All best combinations are allowed ... unsurprisingly :D\n",
    "\"\"\"\n",
    "fps_LED_EMfilter_data_df = pd.concat([twobest_LEDs_df.drop(['idx']), twobest_EM_filters_df.drop(['idx'])],axis=0)\n",
    "\n",
    "dichroich_check_best_LED_and_best_EM_filter = []\n",
    "for fp_name in fps_LED_EMfilter_data_df.columns:\n",
    "    check = tuple(fps_LED_EMfilter_data_df.loc[['best_LED','best_EM_filter']]['mKalama1'].astype(int).to_list()) in allowed_LED_EMfilter_sets\n",
    "    dichroich_check_best_LED_and_best_EM_filter.append(check)\n",
    "dichroich_check_best_LED_and_best_EM_filter_df = pd.DataFrame(dichroich_check_best_LED_and_best_EM_filter)\n",
    "dichroich_check_best_LED_and_best_EM_filter_df.describe()"
   ]
  },
  {
   "cell_type": "markdown",
   "id": "7926aac7-91fe-4512-9cc3-9801638806a5",
   "metadata": {},
   "source": [
    "### 5. Reduce FP number by mVenus & mCherry similars removal"
   ]
  },
  {
   "cell_type": "code",
   "execution_count": 17,
   "id": "3acaced7-3931-4d59-ba5f-3022afa9e559",
   "metadata": {},
   "outputs": [],
   "source": [
    "def find_equivalent_fluorophores(f_name, f_EXsource_EMfilter_df, n_EXsource=0, n_EMfilter=0):\n",
    "    \"\"\" Identifies all fluorophores with equivalent excitation and emission spectra.\n",
    "    \"\"\"\n",
    "    if n_EXsource==0:\n",
    "        fs_best_LED = fps_LED_EMfilter_data_df.loc[['best_LED','best_EM_filter']][f_name].best_LED\n",
    "    if n_EMfilter==0:\n",
    "        fs_best_EMfilter = fps_LED_EMfilter_data_df.loc[['best_LED','best_EM_filter']][f_name].best_EM_filter\n",
    "    equivalent_fluorophores_df = f_EXsource_EMfilter_df.T.loc[(f_EXsource_EMfilter_df.T.best_LED == fs_best_LED) & \n",
    "                                                              (f_EXsource_EMfilter_df.T.best_EM_filter == fs_best_EMfilter) \n",
    "                                                             ]\n",
    "    return equivalent_fluorophores_df"
   ]
  },
  {
   "cell_type": "code",
   "execution_count": 18,
   "id": "95b43098-5b52-4bdb-b4b5-19163303ecc7",
   "metadata": {},
   "outputs": [
    {
     "data": {
      "text/plain": [
       "Index(['FusionRed', 'mRFP1', 'mApple', 'mCherry', 'mKate', 'mKate2',\n",
       "       'mNeptune', 'mPlum', 'mRFP1.2', 'mRaspberry', 'mScarlet', 'mScarlet-I',\n",
       "       'mStable', 'mCherry2', 'E2-Crimson', 'mKate S158A', 'RDSmCherry1',\n",
       "       'Maroon0.1', 'eqFP650', 'Katushka', 'mGrape3', 'Neptune', 'Katushka2S',\n",
       "       'Jred', 'KillerRed', 'SuperNova Red', 'AdRed', 'mKelly1', 'mKelly2',\n",
       "       'mGinger1', 'mGinger2', 'HcRed7', 'HcRed', 'pHuji', 'mKate S158C',\n",
       "       'mNeptune2.5', 'AzaleaB5', 'plobRFP', 'SuperNova2 (SuperNova2)'],\n",
       "      dtype='object')"
      ]
     },
     "execution_count": 18,
     "metadata": {},
     "output_type": "execute_result"
    }
   ],
   "source": [
    "find_equivalent_fluorophores('mCherry', fps_LED_EMfilter_data_df).T.columns"
   ]
  },
  {
   "cell_type": "code",
   "execution_count": 19,
   "id": "73443f8f-128b-41ce-bd74-89db1698e65c",
   "metadata": {},
   "outputs": [],
   "source": [
    "def remove_equivalent_fps_from_optimal_setup_data(fps_to_remove_from_calculations_l, fps_LED_EMfilter_data_df_l):\n",
    "    \"\"\" Takes list of already used FPs, finds their equivalents, and removes them from the spectral data & the \n",
    "    optimal LED & EM filter dataset.\n",
    "    Out: reduced fps_LED_EMfilter_data_df (equivalents removed)\n",
    "    \"\"\"\n",
    "    # Identify all FPs equivalent to the ones you are already using\n",
    "    equ_fp_to_remove_list = []\n",
    "    for fp_name in fps_to_remove_from_calculations_l:\n",
    "        equivalent_fp_names = list(find_equivalent_fluorophores(fp_name, fps_LED_EMfilter_data_df_l).T.columns)\n",
    "        equivalent_fp_names.remove(fp_name)\n",
    "        equ_fp_to_remove_list.extend(equivalent_fp_names)\n",
    "    # Remove the equivalent FPs from the full FP dataset\n",
    "    equ_fp_list = []\n",
    "    for equ_fp_name in equ_fp_to_remove_list:\n",
    "        for fp_name in fp_spectra_df.columns:\n",
    "            if equ_fp_name in fp_name:\n",
    "                equ_fp_list.extend([fp_name])\n",
    "        try:\n",
    "            equ_fp_list.remove(equ_fp_name)\n",
    "        except:\n",
    "            pass\n",
    "    # Remove the equivalent FPs from the optimal LED & EM filter-identified FP dataset\n",
    "    return  fps_LED_EMfilter_data_df_l.drop(equ_fp_to_remove_list, axis=1) # fp_spectra_df_l.drop(equ_fp_list ,axis=1),"
   ]
  },
  {
   "cell_type": "code",
   "execution_count": 20,
   "id": "bc9c3d82-11bd-46bb-8e3f-0f222282f689",
   "metadata": {},
   "outputs": [],
   "source": [
    "fp_spectra_df = pd.read_csv(f\"spectra_data{os.path.sep}all_fp_spectra.csv\",index_col=0)\n"
   ]
  },
  {
   "cell_type": "markdown",
   "id": "f9bf3485-1a1e-4aaa-ae90-8320873613c0",
   "metadata": {
    "tags": []
   },
   "source": [
    "### 6. Combination calculations and lazy (orthogonality) evaluation, threshold=7"
   ]
  },
  {
   "cell_type": "code",
   "execution_count": 21,
   "id": "55514194-4827-4fd3-934a-4ac8fcbec37d",
   "metadata": {},
   "outputs": [],
   "source": [
    "def powerset(iterable):\n",
    "    \"powerset([1,2,3]) --> () (1,) (2,) (3,) (1,2) (1,3) (2,3) (1,2,3)\"\n",
    "    s = list(iterable)\n",
    "    return chain.from_iterable(combinations(s, r) for r in range(len(s)+1))\n",
    "\n",
    "def allDone():\n",
    "    display(Audio(url='http://codeskulptor-demos.commondatastorage.googleapis.com/GalaxyInvaders/theme_01.mp3', autoplay=True))\n",
    "    # https://simpleguics2pygame.readthedocs.io/en/latest/_static/links/snd_links.html\n",
    "\n",
    "def assess_combo_orthogonality(combo_l,FPs_excitationdata_to_LEDs_df_l, EM_passthrough_at_EMfilters_df_l, fps_LED_EMfilter_data_df_l, threshold=10):\n",
    "    \"\"\" Check orthogonality of fluorophore combination by\n",
    "    1) assessing whether the best EXCITATION LED of each fluorophore significantly excites another fluorophore in the set\n",
    "    2) assessing whether the best EMISSION filter of each fluorophore allows significant passthrough of another fluorophore in the set\n",
    "    3) ONLY calls a set orthogonal if both 1) AND 2) is False! (either alone is fine)\n",
    "    \"\"\"\n",
    "    curr_EX_data_df = FPs_excitationdata_to_LEDs_df_l[combo_l].T\n",
    "    curr_EM_data_df = EM_passthrough_at_EMfilters_df_l[combo_l].T\n",
    "    combo_summary = []\n",
    "    for fp in combo_l:\n",
    "        current_LED, current_EM = fps_LED_EMfilter_data_df_l[combo_l].loc[['best_LED','best_EM_filter']][fp].to_list()\n",
    "        #print(fp, current_LED, current_EM)\n",
    "        fp_EX_EM_comparison_df = pd.concat([curr_EX_data_df[current_LED],curr_EM_data_df[current_EM]],axis=1).drop([fp])\n",
    "        #display(np.array(fp_EX_EM_comparison_df > 10))\n",
    "        fP_summary = []\n",
    "        for row in np.array(fp_EX_EM_comparison_df > threshold):\n",
    "            fP_summary.append(all(row))\n",
    "        combo_summary.extend(fP_summary)\n",
    "    return any(combo_summary) == False\n",
    "\n",
    "def assess_combo_orthogonality2(combo_l,FPs_excitationdata_to_LEDs_df_l, EM_passthrough_at_EMfilters_df_l, fps_LED_EMfilter_data_df_l, threshold=10):\n",
    "    \"\"\" Check orthogonality of fluorophore combination by\n",
    "    1) assessing whether the best EXCITATION LED of each fluorophore significantly excites another fluorophore in the set\n",
    "    2) assessing whether the best EMISSION filter of each fluorophore allows significant passthrough of another fluorophore in the set\n",
    "    3) ONLY calls a set orthogonal if both 1) AND 2) is False! (either alone is fine)\n",
    "    \"\"\"\n",
    "    curr_EX_data_df = FPs_excitationdata_to_LEDs_df_l[combo_l].T\n",
    "    curr_EM_data_df = EM_passthrough_at_EMfilters_df_l[combo_l].T\n",
    "    combo_summary = []\n",
    "    for fp in combo_l:\n",
    "        current_LED, current_EM = fps_LED_EMfilter_data_df_l[combo_l].loc[['best_LED','best_EM_filter']][fp].to_list()\n",
    "        #print(fp, current_LED, current_EM)\n",
    "        fp_EX_EM_comparison_df = pd.concat([curr_EX_data_df[current_LED],curr_EM_data_df[current_EM]],axis=1).drop([fp])\n",
    "        #display(np.array(fp_EX_EM_comparison_df > 10))\n",
    "        fP_summary = []\n",
    "        for row in np.array(fp_EX_EM_comparison_df > threshold):\n",
    "            fP_summary.append(all(row))\n",
    "        combo_summary.extend(fP_summary)\n",
    "    if any(combo_summary) == False:\n",
    "        return combo_l"
   ]
  },
  {
   "cell_type": "markdown",
   "id": "933fca76-50d5-4478-80e5-874f3ab5beeb",
   "metadata": {
    "tags": []
   },
   "source": [
    "----\n",
    "#### Choose 3"
   ]
  },
  {
   "cell_type": "code",
   "execution_count": 22,
   "id": "dd8f7984-e351-4ffd-8745-628ab900787b",
   "metadata": {},
   "outputs": [
    {
     "name": "stdout",
     "output_type": "stream",
     "text": [
      "Need to calculate combinations of size 1 -> 166:\n"
     ]
    },
    {
     "data": {
      "application/vnd.jupyter.widget-view+json": {
       "model_id": "85adf3ee85ed4040b232a82fbdbbdf12",
       "version_major": 2,
       "version_minor": 0
      },
      "text/plain": [
       "  0%|          | 0/166 [00:00<?, ?it/s]"
      ]
     },
     "metadata": {},
     "output_type": "display_data"
    },
    {
     "name": "stdout",
     "output_type": "stream",
     "text": [
      "\n",
      "threshold_chosen = 7\n",
      "Fluorophore#: 168\n",
      "Combinations#: 776216\n",
      "\n",
      "Orthog first set length: 66\n",
      "\n",
      "CPU times: user 293 ms, sys: 69 ms, total: 362 ms\n",
      "Wall time: 1.07 s\n"
     ]
    }
   ],
   "source": [
    "%%time\n",
    "set_size = 3\n",
    "first_selected_choose_3_combos = []\n",
    "mandatory_fps = ['mVenus','mCherry']\n",
    "combination_no_left_to_calculate = set_size - len(mandatory_fps)\n",
    "reduced_fps_LED_EMfilter_data_df = remove_equivalent_fps_from_optimal_setup_data(mandatory_fps, fps_LED_EMfilter_data_df)\n",
    "print(f\"Need to calculate combinations of size {combination_no_left_to_calculate} -> {math.comb(len(reduced_fps_LED_EMfilter_data_df.columns)- len(mandatory_fps), combination_no_left_to_calculate)}:\")\n",
    "names_for_combinations = [name for name in reduced_fps_LED_EMfilter_data_df.columns if name not in mandatory_fps]\n",
    "no_of_combinations = math.comb(len(reduced_fps_LED_EMfilter_data_df.columns), set_size)\n",
    "threshold_chosen=7\n",
    "counter = 0\n",
    "\n",
    "first_selected_choose_3_combos = Parallel(n_jobs=6)(delayed(assess_combo_orthogonality2)(list(fp_comb_list)+mandatory_fps,\n",
    "                                      FPs_excitationdata_to_LEDs_df, \n",
    "                                      EM_passthrough_at_EMfilters_df, \n",
    "                                      reduced_fps_LED_EMfilter_data_df,\n",
    "                                      threshold=threshold_chosen) \n",
    "                                               for fp_comb_list in tqdm(list(combinations(names_for_combinations, combination_no_left_to_calculate)))\n",
    "                                     )\n",
    "selected_first_selected_choose_3_combos = [x for x in first_selected_choose_3_combos if x != None]\n",
    "print(f\"\\nthreshold_chosen = {threshold_chosen}\")\n",
    "print(f\"Fluorophore#: {len(reduced_fps_LED_EMfilter_data_df.columns)}\\nCombinations#: {no_of_combinations}\")\n",
    "print(f\"\\nOrthog first set length: {len(selected_first_selected_choose_3_combos)}\\n\")\n",
    "# f = open('allinone_168_choose_5.p','wb')\n",
    "# pickle.dump(first_selected_choose_5_combos,f)"
   ]
  },
  {
   "cell_type": "code",
   "execution_count": 23,
   "id": "a90e4ce5-c509-4bd4-bd68-f879a5182a96",
   "metadata": {
    "tags": []
   },
   "outputs": [
    {
     "name": "stdout",
     "output_type": "stream",
     "text": [
      "\n",
      "threshold_chosen = 7\n",
      "Fluorophore#: 168\n",
      "Combinations#: 1703016\n",
      "\n",
      "Orthog first set length: 66\n",
      "\n",
      "CPU times: user 415 ms, sys: 19.2 ms, total: 434 ms\n",
      "Wall time: 425 ms\n"
     ]
    }
   ],
   "source": [
    "%%time\n",
    "set_size = 3\n",
    "first_selected_choose_3_combos = []\n",
    "mandatory_fps = ['mVenus','mCherry']\n",
    "combination_no_left_to_calculate = set_size - len(mandatory_fps)\n",
    "reduced_fps_LED_EMfilter_data_df = remove_equivalent_fps_from_optimal_setup_data(mandatory_fps, fps_LED_EMfilter_data_df)\n",
    "names_for_combinations = [name for name in reduced_fps_LED_EMfilter_data_df.columns if name not in mandatory_fps]\n",
    "no_of_combinations = math.comb(len(fps_LED_EMfilter_data_df.columns), set_size)\n",
    "threshold_chosen=7\n",
    "counter = 0\n",
    "\n",
    "for fp_comb_list in combinations(names_for_combinations, combination_no_left_to_calculate):\n",
    "    fp_comb_list = list(fp_comb_list)+mandatory_fps\n",
    "    if assess_combo_orthogonality(fp_comb_list,\n",
    "                                  FPs_excitationdata_to_LEDs_df, \n",
    "                                  EM_passthrough_at_EMfilters_df, \n",
    "                                  reduced_fps_LED_EMfilter_data_df,\n",
    "                                  threshold=threshold_chosen):\n",
    "        first_selected_choose_3_combos.append(fp_comb_list)\n",
    "        # if counter%10_000 ==0:\n",
    "        #     clear_output()\n",
    "        #     print(counter)\n",
    "    counter += 1\n",
    "    \n",
    "#print(counter)\n",
    "print(f\"\\nthreshold_chosen = {threshold_chosen}\")\n",
    "print(f\"Fluorophore#: {len(reduced_fps_LED_EMfilter_data_df.columns)}\\nCombinations#: {no_of_combinations}\")\n",
    "print(f\"\\nOrthog first set length: {len(first_selected_choose_3_combos)}\\n\")\n",
    "#f = open('allinone_168_choose_3.p','wb')\n",
    "#pickle.dump(first_selected_choose_3_combos,f)"
   ]
  },
  {
   "cell_type": "code",
   "execution_count": 28,
   "id": "6f8768ae-2f24-47ff-b2c7-937634c4c568",
   "metadata": {},
   "outputs": [],
   "source": [
    "# Choose 3\n",
    "with open('allinone_168_choose_3.p', 'rb') as file:\n",
    "    # Call load method to deserialze\n",
    "    first_selected_choose_3_combos = pickle.load(file)"
   ]
  },
  {
   "cell_type": "code",
   "execution_count": 29,
   "id": "ca39915b-b1dd-4c81-952f-14adef0f90de",
   "metadata": {},
   "outputs": [
    {
     "data": {
      "application/vnd.jupyter.widget-view+json": {
       "model_id": "1fbba1a62095495ea32c00b445f5940e",
       "version_major": 2,
       "version_minor": 0
      },
      "text/plain": [
       "  0%|          | 0/2 [00:00<?, ?it/s]"
      ]
     },
     "metadata": {},
     "output_type": "display_data"
    },
    {
     "data": {
      "application/vnd.jupyter.widget-view+json": {
       "model_id": "3ab0bffa7e8b41d5abebc1ef27123268",
       "version_major": 2,
       "version_minor": 0
      },
      "text/plain": [
       "  0%|          | 0/99 [00:00<?, ?it/s]"
      ]
     },
     "metadata": {},
     "output_type": "display_data"
    },
    {
     "name": "stdout",
     "output_type": "stream",
     "text": [
      "Threshold = 0 : \n",
      "   99 -> 0\n"
     ]
    },
    {
     "data": {
      "application/vnd.jupyter.widget-view+json": {
       "model_id": "86920166744e48e1bf0204555279a301",
       "version_major": 2,
       "version_minor": 0
      },
      "text/plain": [
       "  0%|          | 0/99 [00:00<?, ?it/s]"
      ]
     },
     "metadata": {},
     "output_type": "display_data"
    },
    {
     "name": "stdout",
     "output_type": "stream",
     "text": [
      "Threshold = 1 : \n",
      "   99 -> 52\n"
     ]
    }
   ],
   "source": [
    "orthogonal_choose3_combos_threshold_dict = {}\n",
    "for threshold_ in tqdm(range(0,2)):\n",
    "    orthogonal_choose3_combos = []\n",
    "    # \n",
    "    for combo in tqdm(first_selected_choose_3_combos):#brightness_filtered_combos_of_4_list_LED):\n",
    "        if assess_combo_orthogonality(list(combo),\n",
    "                                      FPs_excitationdata_to_LEDs_df, \n",
    "                                      EM_passthrough_at_EMfilters_df, \n",
    "                                      fps_LED_EMfilter_data_df,\n",
    "                                      threshold=threshold_):\n",
    "            orthogonal_choose3_combos.append(combo)\n",
    "            \n",
    "    orthogonal_choose3_combos_threshold_dict[threshold_] = orthogonal_choose3_combos\n",
    "    print(f\"Threshold = {threshold_} : \\n   {len(first_selected_choose_3_combos)} -> {len(orthogonal_choose3_combos_threshold_dict[threshold_])}\")"
   ]
  },
  {
   "cell_type": "markdown",
   "id": "0cd648e6-827f-41b5-ad42-03ccd1a505ce",
   "metadata": {
    "tags": []
   },
   "source": [
    "----\n",
    "#### Choose 4"
   ]
  },
  {
   "cell_type": "raw",
   "id": "f2fb30a3-d762-4317-90ef-fd41956b8332",
   "metadata": {},
   "source": [
    "%%time\n",
    "set_size = 4\n",
    "first_selected_choose_4_combos = []\n",
    "mandatory_fps = ['mVenus','mCherry']\n",
    "combination_no_left_to_calculate = set_size - len(mandatory_fps)\n",
    "reduced_fps_LED_EMfilter_data_df = remove_equivalent_fps_from_optimal_setup_data(mandatory_fps, fps_LED_EMfilter_data_df)\n",
    "names_for_combinations = [name for name in reduced_fps_LED_EMfilter_data_df.columns if name not in mandatory_fps]\n",
    "no_of_combinations = math.comb(len(fps_LED_EMfilter_data_df.columns), set_size)\n",
    "threshold_chosen=7\n",
    "counter = 0\n",
    "\n",
    "for fp_comb_list in combinations(names_for_combinations, combination_no_left_to_calculate):\n",
    "    fp_comb_list = list(fp_comb_list)+mandatory_fps\n",
    "    if assess_combo_orthogonality(fp_comb_list,\n",
    "                                  FPs_excitationdata_to_LEDs_df, \n",
    "                                  EM_passthrough_at_EMfilters_df, \n",
    "                                  reduced_fps_LED_EMfilter_data_df,\n",
    "                                  threshold=threshold_chosen):\n",
    "        first_selected_choose_4_combos.append(fp_comb_list)\n",
    "        # if counter%10_000 ==0:\n",
    "        #     clear_output()\n",
    "        #     print(counter)\n",
    "    counter += 1\n",
    "    \n",
    "#print(counter)\n",
    "print(f\"\\nthreshold_chosen = {threshold_chosen}\")\n",
    "print(f\"Fluorophore#: {len(reduced_fps_LED_EMfilter_data_df.columns)}\\nCombinations#: {no_of_combinations}\")\n",
    "print(f\"\\nOrthog first set length: {len(first_selected_choose_4_combos)}\\n\")\n",
    "#f = open('allinone_168_choose_4.p','wb')\n",
    "#pickle.dump(first_selected_choose_4_combos,f)"
   ]
  },
  {
   "cell_type": "code",
   "execution_count": 30,
   "id": "aa7c41f4-1922-4a00-9b33-8a05fb270353",
   "metadata": {},
   "outputs": [],
   "source": [
    "# Choose 4\n",
    "with open('allinone_168_choose_4.p', 'rb') as file:\n",
    "    # Call load method to deserialze\n",
    "    first_selected_choose_4_combos = pickle.load(file)"
   ]
  },
  {
   "cell_type": "code",
   "execution_count": 75,
   "id": "8059f69c-bd5e-4ccf-978f-c68eeb20d094",
   "metadata": {},
   "outputs": [
    {
     "data": {
      "application/vnd.jupyter.widget-view+json": {
       "model_id": "c2ae383d974c4a93bf463317f3104690",
       "version_major": 2,
       "version_minor": 0
      },
      "text/plain": [
       "  0%|          | 0/5 [00:00<?, ?it/s]"
      ]
     },
     "metadata": {},
     "output_type": "display_data"
    },
    {
     "data": {
      "application/vnd.jupyter.widget-view+json": {
       "model_id": "a6af920acf794f6db0e4796602e57700",
       "version_major": 2,
       "version_minor": 0
      },
      "text/plain": [
       "  0%|          | 0/3048 [00:00<?, ?it/s]"
      ]
     },
     "metadata": {},
     "output_type": "display_data"
    },
    {
     "name": "stdout",
     "output_type": "stream",
     "text": [
      "Threshold = 0 : \n",
      "   3048 -> 0\n"
     ]
    },
    {
     "data": {
      "application/vnd.jupyter.widget-view+json": {
       "model_id": "8ef5bf7adc4d41fe89c3654eb1fa40aa",
       "version_major": 2,
       "version_minor": 0
      },
      "text/plain": [
       "  0%|          | 0/3048 [00:00<?, ?it/s]"
      ]
     },
     "metadata": {},
     "output_type": "display_data"
    },
    {
     "name": "stdout",
     "output_type": "stream",
     "text": [
      "Threshold = 1 : \n",
      "   3048 -> 575\n"
     ]
    },
    {
     "data": {
      "application/vnd.jupyter.widget-view+json": {
       "model_id": "1cc456643b424565932b203002338cc8",
       "version_major": 2,
       "version_minor": 0
      },
      "text/plain": [
       "  0%|          | 0/3048 [00:00<?, ?it/s]"
      ]
     },
     "metadata": {},
     "output_type": "display_data"
    },
    {
     "name": "stdout",
     "output_type": "stream",
     "text": [
      "Threshold = 2 : \n",
      "   3048 -> 813\n"
     ]
    },
    {
     "data": {
      "application/vnd.jupyter.widget-view+json": {
       "model_id": "f3f023a49c924edfa05ff4531ad37a26",
       "version_major": 2,
       "version_minor": 0
      },
      "text/plain": [
       "  0%|          | 0/3048 [00:00<?, ?it/s]"
      ]
     },
     "metadata": {},
     "output_type": "display_data"
    },
    {
     "name": "stdout",
     "output_type": "stream",
     "text": [
      "Threshold = 3 : \n",
      "   3048 -> 1065\n"
     ]
    },
    {
     "data": {
      "application/vnd.jupyter.widget-view+json": {
       "model_id": "23886e34270b46b2bc545e3c5eae784b",
       "version_major": 2,
       "version_minor": 0
      },
      "text/plain": [
       "  0%|          | 0/3048 [00:00<?, ?it/s]"
      ]
     },
     "metadata": {},
     "output_type": "display_data"
    },
    {
     "name": "stdout",
     "output_type": "stream",
     "text": [
      "Threshold = 4 : \n",
      "   3048 -> 1091\n"
     ]
    }
   ],
   "source": [
    "# Threshold scan 4\n",
    "orthogonal_choose4_combos_threshold_dict = {}\n",
    "for threshold_ in tqdm(range(0,5)):\n",
    "    orthogonal_choose5_combos = []\n",
    "    results = Parallel(n_jobs=6)(delayed(assess_combo_orthogonality2)(list(combo),\n",
    "                                                                      FPs_excitationdata_to_LEDs_df, \n",
    "                                                                      EM_passthrough_at_EMfilters_df, \n",
    "                                                                      reduced_fps_LED_EMfilter_data_df,\n",
    "                                                                      threshold=threshold_) \n",
    "                                 for combo in tqdm(first_selected_choose_4_combos)\n",
    "                                )\n",
    "    orthogonal_choose4_combos_threshold_dict[threshold_] = [x for x in results if x != None]\n",
    "    print(f\"Threshold = {threshold_} : \\n   {len(first_selected_choose_4_combos)} -> {len(orthogonal_choose4_combos_threshold_dict[threshold_])}\")"
   ]
  },
  {
   "cell_type": "code",
   "execution_count": 32,
   "id": "7b494365-ac71-4819-8491-8c0fae73116a",
   "metadata": {},
   "outputs": [
    {
     "data": {
      "text/plain": [
       "[['EBFP', 'mCherry', 'mVenus', 'mCerulean'],\n",
       " ['EBFP2', 'mCherry', 'mVenus', 'mCerulean'],\n",
       " ['iFP2.0', 'mCherry', 'mVenus', 'mCerulean'],\n",
       " ['iRFP702', 'mCherry', 'mVenus', 'mCerulean'],\n",
       " ['iRFP713', 'mCherry', 'mVenus', 'mCerulean'],\n",
       " ['iRFP720', 'mCherry', 'mVenus', 'mCerulean'],\n",
       " ['mCherry', 'mKalama1', 'mVenus', 'mCerulean'],\n",
       " ['mCherry', 'Sirius', 'mVenus', 'mCerulean'],\n",
       " ['mCherry', 'P4-3E', 'mVenus', 'mCerulean'],\n",
       " ['mCherry', 'mVenus', 'miRFP720', 'mCerulean'],\n",
       " ['mCherry', 'mVenus', 'SNIFP', 'mCerulean'],\n",
       " ['mCherry', 'mVenus', 'oxBFP', 'mCerulean'],\n",
       " ['mCherry', 'mVenus', 'mCerulean', 'P4'],\n",
       " ['mCherry', 'mVenus', 'mCerulean', 'mIFP']]"
      ]
     },
     "execution_count": 32,
     "metadata": {},
     "output_type": "execute_result"
    }
   ],
   "source": [
    "[x for x in orthogonal_choose4_combos_threshold_dict[1] if all(['mCerulean' in x, ]) ]"
   ]
  },
  {
   "cell_type": "markdown",
   "id": "21b1bb97-160d-4680-b3eb-9e92a4a6f9b8",
   "metadata": {
    "tags": []
   },
   "source": [
    "----\n",
    "#### Choose 5"
   ]
  },
  {
   "cell_type": "code",
   "execution_count": 33,
   "id": "7a7c37f9-114d-4eb5-9c02-8ae228eb82c7",
   "metadata": {},
   "outputs": [
    {
     "name": "stdout",
     "output_type": "stream",
     "text": [
      "first_selected_choose_5_combos: 11482\n"
     ]
    }
   ],
   "source": [
    "# Choose 5\n",
    "with open('allinone_168_choose_5.p', 'rb') as file:\n",
    "    # Call load method to deserialze\n",
    "    first_selected_choose_5_combos = pickle.load(file)\n",
    "print(f\"first_selected_choose_5_combos: {len(first_selected_choose_5_combos)}\")"
   ]
  },
  {
   "cell_type": "code",
   "execution_count": 34,
   "id": "5dc05d39-1909-4628-b5c5-36048a060c28",
   "metadata": {},
   "outputs": [
    {
     "data": {
      "application/vnd.jupyter.widget-view+json": {
       "model_id": "59ca50b7a1314a7e933b64f1bf75ee1d",
       "version_major": 2,
       "version_minor": 0
      },
      "text/plain": [
       "  0%|          | 0/2 [00:00<?, ?it/s]"
      ]
     },
     "metadata": {},
     "output_type": "display_data"
    },
    {
     "data": {
      "application/vnd.jupyter.widget-view+json": {
       "model_id": "915ff44b71e54448ba4142a865be9a7d",
       "version_major": 2,
       "version_minor": 0
      },
      "text/plain": [
       "  0%|          | 0/11482 [00:00<?, ?it/s]"
      ]
     },
     "metadata": {},
     "output_type": "display_data"
    },
    {
     "name": "stdout",
     "output_type": "stream",
     "text": [
      "Threshold = 0 : \n",
      "   11482 -> 0\n"
     ]
    },
    {
     "data": {
      "application/vnd.jupyter.widget-view+json": {
       "model_id": "6e2ac1a47fff4dc6903da330ac777b22",
       "version_major": 2,
       "version_minor": 0
      },
      "text/plain": [
       "  0%|          | 0/11482 [00:00<?, ?it/s]"
      ]
     },
     "metadata": {},
     "output_type": "display_data"
    },
    {
     "name": "stdout",
     "output_type": "stream",
     "text": [
      "Threshold = 1 : \n",
      "   11482 -> 2072\n"
     ]
    }
   ],
   "source": [
    "# Threshold scan 5\n",
    "orthogonal_choose5_combos_threshold_dict = {}\n",
    "for threshold_ in tqdm(range(0,2)):\n",
    "    orthogonal_choose5_combos = []\n",
    "    results = Parallel(n_jobs=6)(delayed(assess_combo_orthogonality2)(list(combo),\n",
    "                                                                      FPs_excitationdata_to_LEDs_df, \n",
    "                                                                      EM_passthrough_at_EMfilters_df, \n",
    "                                                                      reduced_fps_LED_EMfilter_data_df,\n",
    "                                                                      threshold=threshold_) \n",
    "                                 for combo in tqdm(first_selected_choose_5_combos)\n",
    "                                )\n",
    "    orthogonal_choose5_combos_threshold_dict[threshold_] = [x for x in results if x != None]\n",
    "    print(f\"Threshold = {threshold_} : \\n   {len(first_selected_choose_5_combos)} -> {len(orthogonal_choose5_combos_threshold_dict[threshold_])}\")"
   ]
  },
  {
   "cell_type": "markdown",
   "id": "2d59a579-940b-47ea-bfeb-e610cbd01bb5",
   "metadata": {
    "tags": []
   },
   "source": [
    "----\n",
    "#### Choose 6"
   ]
  },
  {
   "cell_type": "raw",
   "id": "38efabca-3c87-4f0a-b592-0ea583b8893f",
   "metadata": {},
   "source": [
    "%%time\n",
    "set_size = 6\n",
    "first_selected_choose_6_combos = []\n",
    "mandatory_fps = ['mVenus','mCherry']\n",
    "combination_no_left_to_calculate = set_size - len(mandatory_fps)\n",
    "reduced_fps_LED_EMfilter_data_df = remove_equivalent_fps_from_optimal_setup_data(mandatory_fps, fps_LED_EMfilter_data_df)\n",
    "print(f\"Need to calculate combinations of size {combination_no_left_to_calculate} -> {math.comb(len(reduced_fps_LED_EMfilter_data_df.columns)- len(mandatory_fps), combination_no_left_to_calculate)}:\")\n",
    "names_for_combinations = [name for name in reduced_fps_LED_EMfilter_data_df.columns if name not in mandatory_fps]\n",
    "no_of_combinations = math.comb(len(reduced_fps_LED_EMfilter_data_df.columns), set_size)\n",
    "threshold_chosen=7\n",
    "counter = 0\n",
    "\n",
    "first_selected_choose_6_combos = Parallel(n_jobs=6)(delayed(assess_combo_orthogonality2)(list(fp_comb_list)+mandatory_fps,\n",
    "                                      FPs_excitationdata_to_LEDs_df, \n",
    "                                      EM_passthrough_at_EMfilters_df, \n",
    "                                      reduced_fps_LED_EMfilter_data_df,\n",
    "                                      threshold=threshold_chosen) \n",
    "                                               for fp_comb_list in tqdm(list(combinations(names_for_combinations, combination_no_left_to_calculate)))\n",
    "                                     )\n",
    "first_selected_choose_6_combos = [x for x in first_selected_choose_6_combos if x != None]\n",
    "print(f\"\\nthreshold_chosen = {threshold_chosen}\")\n",
    "print(f\"Fluorophore#: {len(reduced_fps_LED_EMfilter_data_df.columns)}\\nCombinations#: {no_of_combinations}\")\n",
    "print(f\"\\nOrthog first set length: {len(first_selected_choose_6_combos)}\\n\")\n",
    "# f = open('allinone_168_choose_5.p','wb')\n",
    "# pickle.dump(first_selected_choose_5_combos,f)"
   ]
  },
  {
   "cell_type": "code",
   "execution_count": 35,
   "id": "db09178f-83dc-437b-869a-5a209bfe75e1",
   "metadata": {},
   "outputs": [
    {
     "name": "stdout",
     "output_type": "stream",
     "text": [
      "first_selected_choose_6_combos: 34333\n"
     ]
    }
   ],
   "source": [
    "# Choose 6\n",
    "with open('allinone_168_choose_6.p', 'rb') as file:\n",
    "    # Call load method to deserialze\n",
    "    first_selected_choose_6_combos = pickle.load(file)\n",
    "print(f\"first_selected_choose_6_combos: {len(first_selected_choose_6_combos)}\")"
   ]
  },
  {
   "cell_type": "code",
   "execution_count": 36,
   "id": "eca885d2-bcf5-434f-8cdd-e34ff0b779d5",
   "metadata": {},
   "outputs": [
    {
     "data": {
      "application/vnd.jupyter.widget-view+json": {
       "model_id": "07f1fce7e1904b17b7ce635e8cc91f42",
       "version_major": 2,
       "version_minor": 0
      },
      "text/plain": [
       "  0%|          | 0/2 [00:00<?, ?it/s]"
      ]
     },
     "metadata": {},
     "output_type": "display_data"
    },
    {
     "data": {
      "application/vnd.jupyter.widget-view+json": {
       "model_id": "dd9a7ac5ba7747158d2c73370681f12b",
       "version_major": 2,
       "version_minor": 0
      },
      "text/plain": [
       "  0%|          | 0/34333 [00:00<?, ?it/s]"
      ]
     },
     "metadata": {},
     "output_type": "display_data"
    },
    {
     "name": "stdout",
     "output_type": "stream",
     "text": [
      "Threshold = 0 : \n",
      "   34333 -> 0\n"
     ]
    },
    {
     "data": {
      "application/vnd.jupyter.widget-view+json": {
       "model_id": "c0fe56c029f549d68d4bec8fada02abe",
       "version_major": 2,
       "version_minor": 0
      },
      "text/plain": [
       "  0%|          | 0/34333 [00:00<?, ?it/s]"
      ]
     },
     "metadata": {},
     "output_type": "display_data"
    },
    {
     "name": "stdout",
     "output_type": "stream",
     "text": [
      "Threshold = 1 : \n",
      "   34333 -> 1764\n"
     ]
    }
   ],
   "source": [
    "# Threshold scan\n",
    "orthogonal_choose6_combos_threshold_dict = {}\n",
    "for threshold_ in tqdm(range(0,2)):\n",
    "    orthogonal_choose6_combos = []\n",
    "    results = Parallel(n_jobs=6)(delayed(assess_combo_orthogonality2)(list(combo),\n",
    "                                                                      FPs_excitationdata_to_LEDs_df, \n",
    "                                                                      EM_passthrough_at_EMfilters_df, \n",
    "                                                                      reduced_fps_LED_EMfilter_data_df,\n",
    "                                                                      threshold=threshold_) \n",
    "                                 for combo in tqdm(first_selected_choose_6_combos)\n",
    "                                )\n",
    "    orthogonal_choose6_combos_threshold_dict[threshold_] = [x for x in results if x != None]\n",
    "    print(f\"Threshold = {threshold_} : \\n   {len(first_selected_choose_6_combos)} -> {len(orthogonal_choose6_combos_threshold_dict[threshold_])}\")"
   ]
  },
  {
   "cell_type": "markdown",
   "id": "6e988496-f66f-4559-a821-ac4a2f642877",
   "metadata": {},
   "source": [
    "----\n",
    "### 7. Filtering using experiment-specific heuristics"
   ]
  },
  {
   "cell_type": "markdown",
   "id": "3d3b2e27-52d3-4aa3-89d6-c45fe2375b53",
   "metadata": {
    "tags": []
   },
   "source": [
    "#### Opt. 1: Normalised brightness "
   ]
  },
  {
   "cell_type": "code",
   "execution_count": 37,
   "id": "8c64181d-1bcd-43f3-82bd-4d9717584e3b",
   "metadata": {},
   "outputs": [],
   "source": [
    "def EX_efficiency_score(fp_name_l, LED_name_l, FPs_excitationdata_to_LEDs_df_l):\n",
    "    ex_test_df = FPs_excitationdata_to_LEDs_df_l.T.sort_values(by=LED_name_l, ascending=False)\n",
    "    return list(ex_test_df.index).index(fp_name_l)\n",
    "\n",
    "def EM_passthrough_efficiency_score(fp_name_l, EMfilter_name_l, EM_passthrough_at_EMfilters_df_l):\n",
    "    em_test_df = EM_passthrough_at_EMfilters_df_l.T.sort_values(by=EMfilter_name_l, ascending=False)\n",
    "    return list(em_test_df.index).index(fp_name_l)"
   ]
  },
  {
   "cell_type": "markdown",
   "id": "98b1954f-86b7-4066-abc0-43ca84a893ff",
   "metadata": {},
   "source": [
    "##### Choose 3"
   ]
  },
  {
   "cell_type": "code",
   "execution_count": 38,
   "id": "d706c2e4-525d-4c74-b472-1dc4c64d1ed6",
   "metadata": {},
   "outputs": [
    {
     "data": {
      "application/vnd.jupyter.widget-view+json": {
       "model_id": "0dfd8934effe4349b9cb5426e098468a",
       "version_major": 2,
       "version_minor": 0
      },
      "text/plain": [
       "  0%|          | 0/52 [00:00<?, ?it/s]"
      ]
     },
     "metadata": {},
     "output_type": "display_data"
    }
   ],
   "source": [
    "minimal_threshold_choose3 = 1\n",
    "excitation_scores_choose3 = []\n",
    "emission_scores_choose3 = []\n",
    "# Iterate through every orthogonal combination & calculate exciation and emission scores for every combination\n",
    "for combo in tqdm(orthogonal_choose3_combos_threshold_dict[minimal_threshold_choose3]):\n",
    "    current_combo_excitation_scores = []\n",
    "    current_combo_emission_scores= []\n",
    "    for fp in combo:\n",
    "        current_LED, current_EM = fps_LED_EMfilter_data_df.loc[['best_LED','best_EM_filter']][fp].to_list()\n",
    "        current_combo_excitation_scores.append(EX_efficiency_score(fp, current_LED, FPs_excitationdata_to_LEDs_df))\n",
    "        current_combo_emission_scores.append(EM_passthrough_efficiency_score(fp, current_EM, EM_passthrough_at_EMfilters_df))\n",
    "    excitation_scores_choose3.append(sum(current_combo_excitation_scores))\n",
    "    emission_scores_choose3.append(sum(current_combo_emission_scores))\n",
    "choose3_orthogonal_fp_set = pd.concat([pd.DataFrame({\"fp_combo_choose3\" : orthogonal_choose3_combos_threshold_dict[minimal_threshold_choose3]}),#columns=['fp_combo_choose3']),#[f\"fp_{idx}\" for idx in range(len(orthogonal_choose3_combos_threshold_dict[minimal_threshold_choose3][0]))]), \n",
    "                                       pd.DataFrame({\"exc_score\": excitation_scores_choose3, \"em_score\" : emission_scores_choose3})], \n",
    "                                      axis=1)"
   ]
  },
  {
   "cell_type": "code",
   "execution_count": 39,
   "id": "37ac299d-a278-414e-83d9-7482ee02a73b",
   "metadata": {},
   "outputs": [
    {
     "data": {
      "text/html": [
       "<div>\n",
       "<style scoped>\n",
       "    .dataframe tbody tr th:only-of-type {\n",
       "        vertical-align: middle;\n",
       "    }\n",
       "\n",
       "    .dataframe tbody tr th {\n",
       "        vertical-align: top;\n",
       "    }\n",
       "\n",
       "    .dataframe thead th {\n",
       "        text-align: right;\n",
       "    }\n",
       "</style>\n",
       "<table border=\"1\" class=\"dataframe\">\n",
       "  <thead>\n",
       "    <tr style=\"text-align: right;\">\n",
       "      <th></th>\n",
       "      <th>fp_combo_choose3</th>\n",
       "      <th>exc_score</th>\n",
       "      <th>em_score</th>\n",
       "    </tr>\n",
       "  </thead>\n",
       "  <tbody>\n",
       "    <tr>\n",
       "      <th>43</th>\n",
       "      <td>(mCherry, mVenus, AausGFP)</td>\n",
       "      <td>71</td>\n",
       "      <td>76</td>\n",
       "    </tr>\n",
       "    <tr>\n",
       "      <th>20</th>\n",
       "      <td>(mCherry, Sirius, mVenus)</td>\n",
       "      <td>70</td>\n",
       "      <td>54</td>\n",
       "    </tr>\n",
       "    <tr>\n",
       "      <th>15</th>\n",
       "      <td>(mCherry, mTFP1, mVenus)</td>\n",
       "      <td>68</td>\n",
       "      <td>115</td>\n",
       "    </tr>\n",
       "    <tr>\n",
       "      <th>38</th>\n",
       "      <td>(mCherry, mVenus, miniSOG2)</td>\n",
       "      <td>66</td>\n",
       "      <td>58</td>\n",
       "    </tr>\n",
       "    <tr>\n",
       "      <th>29</th>\n",
       "      <td>(mCherry, mVenus, SNIFP)</td>\n",
       "      <td>65</td>\n",
       "      <td>73</td>\n",
       "    </tr>\n",
       "  </tbody>\n",
       "</table>\n",
       "</div>"
      ],
      "text/plain": [
       "               fp_combo_choose3  exc_score  em_score\n",
       "43   (mCherry, mVenus, AausGFP)         71        76\n",
       "20    (mCherry, Sirius, mVenus)         70        54\n",
       "15     (mCherry, mTFP1, mVenus)         68       115\n",
       "38  (mCherry, mVenus, miniSOG2)         66        58\n",
       "29     (mCherry, mVenus, SNIFP)         65        73"
      ]
     },
     "execution_count": 39,
     "metadata": {},
     "output_type": "execute_result"
    }
   ],
   "source": [
    "choose3_orthogonal_fp_set.loc[choose3_orthogonal_fp_set.exc_score.nlargest(5).index]"
   ]
  },
  {
   "cell_type": "code",
   "execution_count": 40,
   "id": "17903d7f-be59-4b65-a8a9-077d60d5ab72",
   "metadata": {},
   "outputs": [
    {
     "data": {
      "text/html": [
       "<div>\n",
       "<style scoped>\n",
       "    .dataframe tbody tr th:only-of-type {\n",
       "        vertical-align: middle;\n",
       "    }\n",
       "\n",
       "    .dataframe tbody tr th {\n",
       "        vertical-align: top;\n",
       "    }\n",
       "\n",
       "    .dataframe thead th {\n",
       "        text-align: right;\n",
       "    }\n",
       "</style>\n",
       "<table border=\"1\" class=\"dataframe\">\n",
       "  <thead>\n",
       "    <tr style=\"text-align: right;\">\n",
       "      <th></th>\n",
       "      <th>fp_combo_choose3</th>\n",
       "      <th>exc_score</th>\n",
       "      <th>em_score</th>\n",
       "    </tr>\n",
       "  </thead>\n",
       "  <tbody>\n",
       "    <tr>\n",
       "      <th>12</th>\n",
       "      <td>(mAmetrine, mCherry, mVenus)</td>\n",
       "      <td>47</td>\n",
       "      <td>130</td>\n",
       "    </tr>\n",
       "    <tr>\n",
       "      <th>17</th>\n",
       "      <td>(mCherry, amCyan1, mVenus)</td>\n",
       "      <td>58</td>\n",
       "      <td>129</td>\n",
       "    </tr>\n",
       "    <tr>\n",
       "      <th>7</th>\n",
       "      <td>(TagCFP, mCherry, mVenus)</td>\n",
       "      <td>59</td>\n",
       "      <td>121</td>\n",
       "    </tr>\n",
       "    <tr>\n",
       "      <th>15</th>\n",
       "      <td>(mCherry, mTFP1, mVenus)</td>\n",
       "      <td>68</td>\n",
       "      <td>115</td>\n",
       "    </tr>\n",
       "    <tr>\n",
       "      <th>49</th>\n",
       "      <td>(mCherry, mVenus, efasCFP)</td>\n",
       "      <td>65</td>\n",
       "      <td>112</td>\n",
       "    </tr>\n",
       "  </tbody>\n",
       "</table>\n",
       "</div>"
      ],
      "text/plain": [
       "                fp_combo_choose3  exc_score  em_score\n",
       "12  (mAmetrine, mCherry, mVenus)         47       130\n",
       "17    (mCherry, amCyan1, mVenus)         58       129\n",
       "7      (TagCFP, mCherry, mVenus)         59       121\n",
       "15      (mCherry, mTFP1, mVenus)         68       115\n",
       "49    (mCherry, mVenus, efasCFP)         65       112"
      ]
     },
     "execution_count": 40,
     "metadata": {},
     "output_type": "execute_result"
    }
   ],
   "source": [
    "choose3_orthogonal_fp_set.loc[choose3_orthogonal_fp_set.em_score.nlargest(5).index]"
   ]
  },
  {
   "cell_type": "code",
   "execution_count": 41,
   "id": "0d1fc988-c010-4fb0-a56e-db1f894ec811",
   "metadata": {},
   "outputs": [
    {
     "name": "stdout",
     "output_type": "stream",
     "text": [
      "5\n"
     ]
    },
    {
     "data": {
      "text/html": [
       "<div>\n",
       "<style scoped>\n",
       "    .dataframe tbody tr th:only-of-type {\n",
       "        vertical-align: middle;\n",
       "    }\n",
       "\n",
       "    .dataframe tbody tr th {\n",
       "        vertical-align: top;\n",
       "    }\n",
       "\n",
       "    .dataframe thead th {\n",
       "        text-align: right;\n",
       "    }\n",
       "</style>\n",
       "<table border=\"1\" class=\"dataframe\">\n",
       "  <thead>\n",
       "    <tr style=\"text-align: right;\">\n",
       "      <th></th>\n",
       "      <th>fp_combo_choose3</th>\n",
       "      <th>exc_score</th>\n",
       "      <th>em_score</th>\n",
       "    </tr>\n",
       "  </thead>\n",
       "  <tbody>\n",
       "    <tr>\n",
       "      <th>15</th>\n",
       "      <td>(mCherry, mTFP1, mVenus)</td>\n",
       "      <td>68</td>\n",
       "      <td>115</td>\n",
       "    </tr>\n",
       "  </tbody>\n",
       "</table>\n",
       "</div>"
      ],
      "text/plain": [
       "            fp_combo_choose3  exc_score  em_score\n",
       "15  (mCherry, mTFP1, mVenus)         68       115"
      ]
     },
     "execution_count": 41,
     "metadata": {},
     "output_type": "execute_result"
    }
   ],
   "source": [
    "overal_best_choose3 = []\n",
    "counter = 1\n",
    "while len(overal_best_choose3) == 0:\n",
    "    results = choose3_orthogonal_fp_set.loc[(choose3_orthogonal_fp_set.exc_score > choose3_orthogonal_fp_set.exc_score.nlargest(counter).iloc[-1]) &\n",
    "                                  (choose3_orthogonal_fp_set.em_score > choose3_orthogonal_fp_set.em_score.nlargest(counter).iloc[-1])\n",
    "                                 ]\n",
    "    if len(results) != 0:\n",
    "        overal_best_choose3.append(results)\n",
    "    counter += 1\n",
    "print(counter-1)\n",
    "overal_best_choose3[0]"
   ]
  },
  {
   "cell_type": "markdown",
   "id": "62bf8a98-589e-48eb-ab45-a8102a03773b",
   "metadata": {
    "tags": []
   },
   "source": [
    "##### Choose 4"
   ]
  },
  {
   "cell_type": "code",
   "execution_count": 42,
   "id": "9e75c58f-2c1a-4fd7-91c1-dcfa7f2634e6",
   "metadata": {},
   "outputs": [
    {
     "data": {
      "application/vnd.jupyter.widget-view+json": {
       "model_id": "d926181220d6407589218eb38ec0cdc1",
       "version_major": 2,
       "version_minor": 0
      },
      "text/plain": [
       "  0%|          | 0/575 [00:00<?, ?it/s]"
      ]
     },
     "metadata": {},
     "output_type": "display_data"
    }
   ],
   "source": [
    "minimal_threshold_choose4 = 1\n",
    "excitation_scores_choose4 = []\n",
    "emission_scores_choose4 = []\n",
    "# Iterate through every orthogonal combination & calculate exciation and emission scores for every combination\n",
    "for combo in tqdm(orthogonal_choose4_combos_threshold_dict[minimal_threshold_choose4]):\n",
    "    current_combo_excitation_scores = []\n",
    "    current_combo_emission_scores= []\n",
    "    for fp in combo:\n",
    "        current_LED, current_EM = fps_LED_EMfilter_data_df.loc[['best_LED','best_EM_filter']][fp].to_list()\n",
    "        current_combo_excitation_scores.append(EX_efficiency_score(fp, current_LED, FPs_excitationdata_to_LEDs_df))\n",
    "        current_combo_emission_scores.append(EM_passthrough_efficiency_score(fp, current_EM, EM_passthrough_at_EMfilters_df))\n",
    "    excitation_scores_choose4.append(sum(current_combo_excitation_scores))\n",
    "    emission_scores_choose4.append(sum(current_combo_emission_scores))\n",
    "choose4_orthogonal_fp_set = pd.concat([pd.DataFrame({\"fp_combo_choose4\" : orthogonal_choose4_combos_threshold_dict[minimal_threshold_choose4]}),#columns=['fp_combo_choose3']),#[f\"fp_{idx}\" for idx in range(len(orthogonal_choose3_combos_threshold_dict[minimal_threshold_choose3][0]))]), \n",
    "                                       pd.DataFrame({\"exc_score\": excitation_scores_choose4, \"em_score\" : emission_scores_choose4})], \n",
    "                                      axis=1)"
   ]
  },
  {
   "cell_type": "code",
   "execution_count": 43,
   "id": "8fd3a1fb-1fe1-4826-880f-ebb6d90b8647",
   "metadata": {},
   "outputs": [
    {
     "data": {
      "text/html": [
       "<div>\n",
       "<style scoped>\n",
       "    .dataframe tbody tr th:only-of-type {\n",
       "        vertical-align: middle;\n",
       "    }\n",
       "\n",
       "    .dataframe tbody tr th {\n",
       "        vertical-align: top;\n",
       "    }\n",
       "\n",
       "    .dataframe thead th {\n",
       "        text-align: right;\n",
       "    }\n",
       "</style>\n",
       "<table border=\"1\" class=\"dataframe\">\n",
       "  <thead>\n",
       "    <tr style=\"text-align: right;\">\n",
       "      <th></th>\n",
       "      <th>fp_combo_choose4</th>\n",
       "      <th>exc_score</th>\n",
       "      <th>em_score</th>\n",
       "    </tr>\n",
       "  </thead>\n",
       "  <tbody>\n",
       "    <tr>\n",
       "      <th>345</th>\n",
       "      <td>[mCherry, mTFP1, Sirius, mVenus]</td>\n",
       "      <td>104</td>\n",
       "      <td>115</td>\n",
       "    </tr>\n",
       "    <tr>\n",
       "      <th>398</th>\n",
       "      <td>[mCherry, Sirius, mVenus, miniSOG2]</td>\n",
       "      <td>102</td>\n",
       "      <td>58</td>\n",
       "    </tr>\n",
       "    <tr>\n",
       "      <th>494</th>\n",
       "      <td>[mCherry, mVenus, SNIFP, AausGFP]</td>\n",
       "      <td>102</td>\n",
       "      <td>95</td>\n",
       "    </tr>\n",
       "    <tr>\n",
       "      <th>392</th>\n",
       "      <td>[mCherry, Sirius, mVenus, SNIFP]</td>\n",
       "      <td>101</td>\n",
       "      <td>73</td>\n",
       "    </tr>\n",
       "    <tr>\n",
       "      <th>406</th>\n",
       "      <td>[mCherry, Sirius, mVenus, efasCFP]</td>\n",
       "      <td>101</td>\n",
       "      <td>112</td>\n",
       "    </tr>\n",
       "  </tbody>\n",
       "</table>\n",
       "</div>"
      ],
      "text/plain": [
       "                        fp_combo_choose4  exc_score  em_score\n",
       "345     [mCherry, mTFP1, Sirius, mVenus]        104       115\n",
       "398  [mCherry, Sirius, mVenus, miniSOG2]        102        58\n",
       "494    [mCherry, mVenus, SNIFP, AausGFP]        102        95\n",
       "392     [mCherry, Sirius, mVenus, SNIFP]        101        73\n",
       "406   [mCherry, Sirius, mVenus, efasCFP]        101       112"
      ]
     },
     "execution_count": 43,
     "metadata": {},
     "output_type": "execute_result"
    }
   ],
   "source": [
    "choose4_orthogonal_fp_set.loc[choose4_orthogonal_fp_set.exc_score.nlargest(5).index]"
   ]
  },
  {
   "cell_type": "code",
   "execution_count": 44,
   "id": "cbd86d01-d022-486c-96da-59f158326b39",
   "metadata": {},
   "outputs": [
    {
     "data": {
      "text/html": [
       "<div>\n",
       "<style scoped>\n",
       "    .dataframe tbody tr th:only-of-type {\n",
       "        vertical-align: middle;\n",
       "    }\n",
       "\n",
       "    .dataframe tbody tr th {\n",
       "        vertical-align: top;\n",
       "    }\n",
       "\n",
       "    .dataframe thead th {\n",
       "        text-align: right;\n",
       "    }\n",
       "</style>\n",
       "<table border=\"1\" class=\"dataframe\">\n",
       "  <thead>\n",
       "    <tr style=\"text-align: right;\">\n",
       "      <th></th>\n",
       "      <th>fp_combo_choose4</th>\n",
       "      <th>exc_score</th>\n",
       "      <th>em_score</th>\n",
       "    </tr>\n",
       "  </thead>\n",
       "  <tbody>\n",
       "    <tr>\n",
       "      <th>361</th>\n",
       "      <td>[mCherry, amCyan1, LSSmOrange, mVenus]</td>\n",
       "      <td>68</td>\n",
       "      <td>172</td>\n",
       "    </tr>\n",
       "    <tr>\n",
       "      <th>254</th>\n",
       "      <td>[iRFP720, mAmetrine, mCherry, mVenus]</td>\n",
       "      <td>67</td>\n",
       "      <td>161</td>\n",
       "    </tr>\n",
       "    <tr>\n",
       "      <th>259</th>\n",
       "      <td>[iRFP720, mCherry, amCyan1, mVenus]</td>\n",
       "      <td>78</td>\n",
       "      <td>160</td>\n",
       "    </tr>\n",
       "    <tr>\n",
       "      <th>344</th>\n",
       "      <td>[mCherry, mTFP1, LSSmOrange, mVenus]</td>\n",
       "      <td>78</td>\n",
       "      <td>158</td>\n",
       "    </tr>\n",
       "    <tr>\n",
       "      <th>291</th>\n",
       "      <td>[mAmetrine, mCherry, mVenus, miRFP720]</td>\n",
       "      <td>66</td>\n",
       "      <td>157</td>\n",
       "    </tr>\n",
       "  </tbody>\n",
       "</table>\n",
       "</div>"
      ],
      "text/plain": [
       "                           fp_combo_choose4  exc_score  em_score\n",
       "361  [mCherry, amCyan1, LSSmOrange, mVenus]         68       172\n",
       "254   [iRFP720, mAmetrine, mCherry, mVenus]         67       161\n",
       "259     [iRFP720, mCherry, amCyan1, mVenus]         78       160\n",
       "344    [mCherry, mTFP1, LSSmOrange, mVenus]         78       158\n",
       "291  [mAmetrine, mCherry, mVenus, miRFP720]         66       157"
      ]
     },
     "execution_count": 44,
     "metadata": {},
     "output_type": "execute_result"
    }
   ],
   "source": [
    "choose4_orthogonal_fp_set.loc[choose4_orthogonal_fp_set.em_score.nlargest(5).index]"
   ]
  },
  {
   "cell_type": "code",
   "execution_count": 45,
   "id": "18aed094-42b3-4840-9251-2d0545286fca",
   "metadata": {
    "tags": []
   },
   "outputs": [
    {
     "name": "stdout",
     "output_type": "stream",
     "text": [
      "22\n"
     ]
    },
    {
     "data": {
      "text/html": [
       "<div>\n",
       "<style scoped>\n",
       "    .dataframe tbody tr th:only-of-type {\n",
       "        vertical-align: middle;\n",
       "    }\n",
       "\n",
       "    .dataframe tbody tr th {\n",
       "        vertical-align: top;\n",
       "    }\n",
       "\n",
       "    .dataframe thead th {\n",
       "        text-align: right;\n",
       "    }\n",
       "</style>\n",
       "<table border=\"1\" class=\"dataframe\">\n",
       "  <thead>\n",
       "    <tr style=\"text-align: right;\">\n",
       "      <th></th>\n",
       "      <th>fp_combo_choose4</th>\n",
       "      <th>exc_score</th>\n",
       "      <th>em_score</th>\n",
       "    </tr>\n",
       "  </thead>\n",
       "  <tbody>\n",
       "    <tr>\n",
       "      <th>137</th>\n",
       "      <td>[TagCFP, mCherry, mVenus, SNIFP]</td>\n",
       "      <td>90</td>\n",
       "      <td>140</td>\n",
       "    </tr>\n",
       "  </tbody>\n",
       "</table>\n",
       "</div>"
      ],
      "text/plain": [
       "                     fp_combo_choose4  exc_score  em_score\n",
       "137  [TagCFP, mCherry, mVenus, SNIFP]         90       140"
      ]
     },
     "execution_count": 45,
     "metadata": {},
     "output_type": "execute_result"
    }
   ],
   "source": [
    "overal_best_choose4 = []\n",
    "counter = 1\n",
    "while len(overal_best_choose4) == 0:\n",
    "    results = choose4_orthogonal_fp_set.loc[(choose4_orthogonal_fp_set.exc_score > choose4_orthogonal_fp_set.exc_score.nlargest(counter).iloc[-1]) &\n",
    "                                  (choose4_orthogonal_fp_set.em_score > choose4_orthogonal_fp_set.em_score.nlargest(counter).iloc[-1])\n",
    "                                 ]\n",
    "    if len(results) != 0:\n",
    "        overal_best_choose4.append(results)\n",
    "    counter += 1\n",
    "print(counter-1)\n",
    "overal_best_choose4[0]"
   ]
  },
  {
   "cell_type": "markdown",
   "id": "4b27bb57-41de-41b2-9912-6eecd8a1399d",
   "metadata": {
    "tags": []
   },
   "source": [
    "##### Choose 5"
   ]
  },
  {
   "cell_type": "code",
   "execution_count": 46,
   "id": "89d14454-dc7e-473d-9ff4-33fa7be98318",
   "metadata": {},
   "outputs": [
    {
     "data": {
      "application/vnd.jupyter.widget-view+json": {
       "model_id": "9ac084eff96a4efdac37c949e34e75c7",
       "version_major": 2,
       "version_minor": 0
      },
      "text/plain": [
       "  0%|          | 0/2072 [00:00<?, ?it/s]"
      ]
     },
     "metadata": {},
     "output_type": "display_data"
    }
   ],
   "source": [
    "minimal_threshold_choose5 = 1\n",
    "excitation_scores_choose5 = []\n",
    "emission_scores_choose5 = []\n",
    "# Iterate through every orthogonal combination & calculate exciation and emission scores for every combination\n",
    "for combo in tqdm(orthogonal_choose5_combos_threshold_dict[minimal_threshold_choose5]):\n",
    "    current_combo_excitation_scores = []\n",
    "    current_combo_emission_scores= []\n",
    "    for fp in combo:\n",
    "        current_LED, current_EM = fps_LED_EMfilter_data_df.loc[['best_LED','best_EM_filter']][fp].to_list()\n",
    "        current_combo_excitation_scores.append(EX_efficiency_score(fp, current_LED, FPs_excitationdata_to_LEDs_df))\n",
    "        current_combo_emission_scores.append(EM_passthrough_efficiency_score(fp, current_EM, EM_passthrough_at_EMfilters_df))\n",
    "    excitation_scores_choose5.append(sum(current_combo_excitation_scores))\n",
    "    emission_scores_choose5.append(sum(current_combo_emission_scores))\n",
    "choose5_orthogonal_fp_set = pd.concat([pd.DataFrame({\"fp_combo_choose5\" : orthogonal_choose5_combos_threshold_dict[minimal_threshold_choose5]}),#columns=['fp_combo_choose3']),#[f\"fp_{idx}\" for idx in range(len(orthogonal_choose3_combos_threshold_dict[minimal_threshold_choose3][0]))]), \n",
    "                                       pd.DataFrame({\"exc_score\": excitation_scores_choose5, \"em_score\" : emission_scores_choose5})], \n",
    "                                      axis=1)"
   ]
  },
  {
   "cell_type": "code",
   "execution_count": 47,
   "id": "1b08253b-93bb-4437-97ed-84b659ae11bf",
   "metadata": {},
   "outputs": [
    {
     "data": {
      "text/html": [
       "<div>\n",
       "<style scoped>\n",
       "    .dataframe tbody tr th:only-of-type {\n",
       "        vertical-align: middle;\n",
       "    }\n",
       "\n",
       "    .dataframe tbody tr th {\n",
       "        vertical-align: top;\n",
       "    }\n",
       "\n",
       "    .dataframe thead th {\n",
       "        text-align: right;\n",
       "    }\n",
       "</style>\n",
       "<table border=\"1\" class=\"dataframe\">\n",
       "  <thead>\n",
       "    <tr style=\"text-align: right;\">\n",
       "      <th></th>\n",
       "      <th>fp_combo_choose5</th>\n",
       "      <th>exc_score</th>\n",
       "      <th>em_score</th>\n",
       "    </tr>\n",
       "  </thead>\n",
       "  <tbody>\n",
       "    <tr>\n",
       "      <th>1613</th>\n",
       "      <td>[mTFP1, Sirius, SNIFP, mVenus, mCherry]</td>\n",
       "      <td>135</td>\n",
       "      <td>134</td>\n",
       "    </tr>\n",
       "    <tr>\n",
       "      <th>1745</th>\n",
       "      <td>[Sirius, SNIFP, miniSOG2, mVenus, mCherry]</td>\n",
       "      <td>133</td>\n",
       "      <td>77</td>\n",
       "    </tr>\n",
       "    <tr>\n",
       "      <th>1752</th>\n",
       "      <td>[Sirius, SNIFP, efasCFP, mVenus, mCherry]</td>\n",
       "      <td>132</td>\n",
       "      <td>131</td>\n",
       "    </tr>\n",
       "    <tr>\n",
       "      <th>1750</th>\n",
       "      <td>[Sirius, SNIFP, dTFP0.2, mVenus, mCherry]</td>\n",
       "      <td>130</td>\n",
       "      <td>118</td>\n",
       "    </tr>\n",
       "    <tr>\n",
       "      <th>1747</th>\n",
       "      <td>[Sirius, SNIFP, CFP, mVenus, mCherry]</td>\n",
       "      <td>127</td>\n",
       "      <td>75</td>\n",
       "    </tr>\n",
       "  </tbody>\n",
       "</table>\n",
       "</div>"
      ],
      "text/plain": [
       "                                fp_combo_choose5  exc_score  em_score\n",
       "1613     [mTFP1, Sirius, SNIFP, mVenus, mCherry]        135       134\n",
       "1745  [Sirius, SNIFP, miniSOG2, mVenus, mCherry]        133        77\n",
       "1752   [Sirius, SNIFP, efasCFP, mVenus, mCherry]        132       131\n",
       "1750   [Sirius, SNIFP, dTFP0.2, mVenus, mCherry]        130       118\n",
       "1747       [Sirius, SNIFP, CFP, mVenus, mCherry]        127        75"
      ]
     },
     "execution_count": 47,
     "metadata": {},
     "output_type": "execute_result"
    }
   ],
   "source": [
    "choose5_orthogonal_fp_set.loc[choose5_orthogonal_fp_set.exc_score.nlargest(5).index]"
   ]
  },
  {
   "cell_type": "code",
   "execution_count": 48,
   "id": "5f0e31d5-0b0d-41ba-8109-cff12fbaff5c",
   "metadata": {},
   "outputs": [
    {
     "data": {
      "text/html": [
       "<div>\n",
       "<style scoped>\n",
       "    .dataframe tbody tr th:only-of-type {\n",
       "        vertical-align: middle;\n",
       "    }\n",
       "\n",
       "    .dataframe tbody tr th {\n",
       "        vertical-align: top;\n",
       "    }\n",
       "\n",
       "    .dataframe thead th {\n",
       "        text-align: right;\n",
       "    }\n",
       "</style>\n",
       "<table border=\"1\" class=\"dataframe\">\n",
       "  <thead>\n",
       "    <tr style=\"text-align: right;\">\n",
       "      <th></th>\n",
       "      <th>fp_combo_choose5</th>\n",
       "      <th>exc_score</th>\n",
       "      <th>em_score</th>\n",
       "    </tr>\n",
       "  </thead>\n",
       "  <tbody>\n",
       "    <tr>\n",
       "      <th>1290</th>\n",
       "      <td>[iRFP720, amCyan1, LSSmOrange, mVenus, mCherry]</td>\n",
       "      <td>88</td>\n",
       "      <td>203</td>\n",
       "    </tr>\n",
       "    <tr>\n",
       "      <th>1652</th>\n",
       "      <td>[amCyan1, LSSmOrange, miRFP720, mVenus, mCherry]</td>\n",
       "      <td>87</td>\n",
       "      <td>199</td>\n",
       "    </tr>\n",
       "    <tr>\n",
       "      <th>1117</th>\n",
       "      <td>[iRFP713, amCyan1, LSSmOrange, mVenus, mCherry]</td>\n",
       "      <td>82</td>\n",
       "      <td>196</td>\n",
       "    </tr>\n",
       "    <tr>\n",
       "      <th>1653</th>\n",
       "      <td>[amCyan1, LSSmOrange, SNIFP, mVenus, mCherry]</td>\n",
       "      <td>99</td>\n",
       "      <td>191</td>\n",
       "    </tr>\n",
       "    <tr>\n",
       "      <th>1279</th>\n",
       "      <td>[iRFP720, mTFP1, LSSmOrange, mVenus, mCherry]</td>\n",
       "      <td>98</td>\n",
       "      <td>189</td>\n",
       "    </tr>\n",
       "  </tbody>\n",
       "</table>\n",
       "</div>"
      ],
      "text/plain": [
       "                                      fp_combo_choose5  exc_score  em_score\n",
       "1290   [iRFP720, amCyan1, LSSmOrange, mVenus, mCherry]         88       203\n",
       "1652  [amCyan1, LSSmOrange, miRFP720, mVenus, mCherry]         87       199\n",
       "1117   [iRFP713, amCyan1, LSSmOrange, mVenus, mCherry]         82       196\n",
       "1653     [amCyan1, LSSmOrange, SNIFP, mVenus, mCherry]         99       191\n",
       "1279     [iRFP720, mTFP1, LSSmOrange, mVenus, mCherry]         98       189"
      ]
     },
     "execution_count": 48,
     "metadata": {},
     "output_type": "execute_result"
    }
   ],
   "source": [
    "choose5_orthogonal_fp_set.loc[choose5_orthogonal_fp_set.em_score.nlargest(5).index]"
   ]
  },
  {
   "cell_type": "code",
   "execution_count": 49,
   "id": "8a64adf5-f8e1-457a-98a5-c4dce6a3cbfc",
   "metadata": {
    "tags": []
   },
   "outputs": [
    {
     "name": "stdout",
     "output_type": "stream",
     "text": [
      "46\n"
     ]
    },
    {
     "data": {
      "text/html": [
       "<div>\n",
       "<style scoped>\n",
       "    .dataframe tbody tr th:only-of-type {\n",
       "        vertical-align: middle;\n",
       "    }\n",
       "\n",
       "    .dataframe tbody tr th {\n",
       "        vertical-align: top;\n",
       "    }\n",
       "\n",
       "    .dataframe thead th {\n",
       "        text-align: right;\n",
       "    }\n",
       "</style>\n",
       "<table border=\"1\" class=\"dataframe\">\n",
       "  <thead>\n",
       "    <tr style=\"text-align: right;\">\n",
       "      <th></th>\n",
       "      <th>fp_combo_choose5</th>\n",
       "      <th>exc_score</th>\n",
       "      <th>em_score</th>\n",
       "    </tr>\n",
       "  </thead>\n",
       "  <tbody>\n",
       "    <tr>\n",
       "      <th>1291</th>\n",
       "      <td>[iRFP720, amCyan1, Sirius, mVenus, mCherry]</td>\n",
       "      <td>114</td>\n",
       "      <td>160</td>\n",
       "    </tr>\n",
       "  </tbody>\n",
       "</table>\n",
       "</div>"
      ],
      "text/plain": [
       "                                 fp_combo_choose5  exc_score  em_score\n",
       "1291  [iRFP720, amCyan1, Sirius, mVenus, mCherry]        114       160"
      ]
     },
     "execution_count": 49,
     "metadata": {},
     "output_type": "execute_result"
    }
   ],
   "source": [
    "overal_best_choose5 = []\n",
    "counter = 1\n",
    "while len(overal_best_choose5) == 0:\n",
    "    results = choose5_orthogonal_fp_set.loc[(choose5_orthogonal_fp_set.exc_score > choose5_orthogonal_fp_set.exc_score.nlargest(counter).iloc[-1]) &\n",
    "                                  (choose5_orthogonal_fp_set.em_score > choose5_orthogonal_fp_set.em_score.nlargest(counter).iloc[-1])\n",
    "                                 ]\n",
    "    if len(results) != 0:\n",
    "        overal_best_choose5.append(results)\n",
    "    counter += 1\n",
    "print(counter-1)\n",
    "overal_best_choose5[0]"
   ]
  },
  {
   "cell_type": "markdown",
   "id": "980491c4-83fe-427f-978c-b0a9e53c12e9",
   "metadata": {
    "tags": []
   },
   "source": [
    "##### Choose 6"
   ]
  },
  {
   "cell_type": "code",
   "execution_count": 50,
   "id": "9c00eb1d-355d-4626-8d9a-3f3f225ad5f9",
   "metadata": {},
   "outputs": [
    {
     "data": {
      "application/vnd.jupyter.widget-view+json": {
       "model_id": "b545307bb56b4a239a3554ab38b44acd",
       "version_major": 2,
       "version_minor": 0
      },
      "text/plain": [
       "  0%|          | 0/1764 [00:00<?, ?it/s]"
      ]
     },
     "metadata": {},
     "output_type": "display_data"
    }
   ],
   "source": [
    "minimal_threshold_choose6 = 1\n",
    "excitation_scores_choose6 = []\n",
    "emission_scores_choose6 = []\n",
    "# Iterate through every orthogonal combination & calculate exciation and emission scores for every combination\n",
    "for combo in tqdm(orthogonal_choose6_combos_threshold_dict[minimal_threshold_choose6]):\n",
    "    current_combo_excitation_scores = []\n",
    "    current_combo_emission_scores= []\n",
    "    for fp in combo:\n",
    "        current_LED, current_EM = fps_LED_EMfilter_data_df.loc[['best_LED','best_EM_filter']][fp].to_list()\n",
    "        current_combo_excitation_scores.append(EX_efficiency_score(fp, current_LED, FPs_excitationdata_to_LEDs_df))\n",
    "        current_combo_emission_scores.append(EM_passthrough_efficiency_score(fp, current_EM, EM_passthrough_at_EMfilters_df))\n",
    "    excitation_scores_choose6.append(sum(current_combo_excitation_scores))\n",
    "    emission_scores_choose6.append(sum(current_combo_emission_scores))\n",
    "choose6_orthogonal_fp_set = pd.concat([pd.DataFrame({\"fp_combo_choose6\" : orthogonal_choose6_combos_threshold_dict[minimal_threshold_choose6]}),#columns=['fp_combo_choose3']),#[f\"fp_{idx}\" for idx in range(len(orthogonal_choose3_combos_threshold_dict[minimal_threshold_choose3][0]))]), \n",
    "                                       pd.DataFrame({\"exc_score\": excitation_scores_choose6, \"em_score\" : emission_scores_choose6})], \n",
    "                                      axis=1)"
   ]
  },
  {
   "cell_type": "code",
   "execution_count": 51,
   "id": "2fdbd8aa-2a3f-41ce-96d0-8f0379f8f830",
   "metadata": {},
   "outputs": [
    {
     "data": {
      "text/html": [
       "<div>\n",
       "<style scoped>\n",
       "    .dataframe tbody tr th:only-of-type {\n",
       "        vertical-align: middle;\n",
       "    }\n",
       "\n",
       "    .dataframe tbody tr th {\n",
       "        vertical-align: top;\n",
       "    }\n",
       "\n",
       "    .dataframe thead th {\n",
       "        text-align: right;\n",
       "    }\n",
       "</style>\n",
       "<table border=\"1\" class=\"dataframe\">\n",
       "  <thead>\n",
       "    <tr style=\"text-align: right;\">\n",
       "      <th></th>\n",
       "      <th>fp_combo_choose6</th>\n",
       "      <th>exc_score</th>\n",
       "      <th>em_score</th>\n",
       "    </tr>\n",
       "  </thead>\n",
       "  <tbody>\n",
       "    <tr>\n",
       "      <th>1525</th>\n",
       "      <td>[mCherry, mTFP1, LSSmOrange, Sirius, mVenus, S...</td>\n",
       "      <td>145</td>\n",
       "      <td>177</td>\n",
       "    </tr>\n",
       "    <tr>\n",
       "      <th>1417</th>\n",
       "      <td>[mCherry, mKeima, mTFP1, Sirius, mVenus, SNIFP]</td>\n",
       "      <td>139</td>\n",
       "      <td>136</td>\n",
       "    </tr>\n",
       "    <tr>\n",
       "      <th>1538</th>\n",
       "      <td>[mCherry, mTFP1, Sirius, mVenus, SNIFP, tKeima]</td>\n",
       "      <td>137</td>\n",
       "      <td>142</td>\n",
       "    </tr>\n",
       "    <tr>\n",
       "      <th>1452</th>\n",
       "      <td>[mCherry, mKeima, Sirius, mVenus, SNIFP, efasCFP]</td>\n",
       "      <td>136</td>\n",
       "      <td>133</td>\n",
       "    </tr>\n",
       "    <tr>\n",
       "      <th>1539</th>\n",
       "      <td>[mCherry, mTFP1, Sirius, mVenus, SNIFP, dKeima]</td>\n",
       "      <td>136</td>\n",
       "      <td>143</td>\n",
       "    </tr>\n",
       "  </tbody>\n",
       "</table>\n",
       "</div>"
      ],
      "text/plain": [
       "                                       fp_combo_choose6  exc_score  em_score\n",
       "1525  [mCherry, mTFP1, LSSmOrange, Sirius, mVenus, S...        145       177\n",
       "1417    [mCherry, mKeima, mTFP1, Sirius, mVenus, SNIFP]        139       136\n",
       "1538    [mCherry, mTFP1, Sirius, mVenus, SNIFP, tKeima]        137       142\n",
       "1452  [mCherry, mKeima, Sirius, mVenus, SNIFP, efasCFP]        136       133\n",
       "1539    [mCherry, mTFP1, Sirius, mVenus, SNIFP, dKeima]        136       143"
      ]
     },
     "execution_count": 51,
     "metadata": {},
     "output_type": "execute_result"
    }
   ],
   "source": [
    "choose6_orthogonal_fp_set.loc[choose6_orthogonal_fp_set.exc_score.nlargest(5).index]"
   ]
  },
  {
   "cell_type": "code",
   "execution_count": 52,
   "id": "dd5df95c-40c9-43f6-99a0-4ba4d2c10199",
   "metadata": {},
   "outputs": [
    {
     "data": {
      "text/html": [
       "<div>\n",
       "<style scoped>\n",
       "    .dataframe tbody tr th:only-of-type {\n",
       "        vertical-align: middle;\n",
       "    }\n",
       "\n",
       "    .dataframe tbody tr th {\n",
       "        vertical-align: top;\n",
       "    }\n",
       "\n",
       "    .dataframe thead th {\n",
       "        text-align: right;\n",
       "    }\n",
       "</style>\n",
       "<table border=\"1\" class=\"dataframe\">\n",
       "  <thead>\n",
       "    <tr style=\"text-align: right;\">\n",
       "      <th></th>\n",
       "      <th>fp_combo_choose6</th>\n",
       "      <th>exc_score</th>\n",
       "      <th>em_score</th>\n",
       "    </tr>\n",
       "  </thead>\n",
       "  <tbody>\n",
       "    <tr>\n",
       "      <th>1196</th>\n",
       "      <td>[iRFP720, mCherry, mKalama1, amCyan1, LSSmOran...</td>\n",
       "      <td>88</td>\n",
       "      <td>209</td>\n",
       "    </tr>\n",
       "    <tr>\n",
       "      <th>1263</th>\n",
       "      <td>[iRFP720, mCherry, amCyan1, LSSmOrange, mVenus...</td>\n",
       "      <td>94</td>\n",
       "      <td>208</td>\n",
       "    </tr>\n",
       "    <tr>\n",
       "      <th>540</th>\n",
       "      <td>[EBFP2, iRFP720, mCherry, amCyan1, LSSmOrange,...</td>\n",
       "      <td>93</td>\n",
       "      <td>207</td>\n",
       "    </tr>\n",
       "    <tr>\n",
       "      <th>1264</th>\n",
       "      <td>[iRFP720, mCherry, amCyan1, LSSmOrange, mVenus...</td>\n",
       "      <td>96</td>\n",
       "      <td>206</td>\n",
       "    </tr>\n",
       "    <tr>\n",
       "      <th>1262</th>\n",
       "      <td>[iRFP720, mCherry, amCyan1, LSSmOrange, P4-3E,...</td>\n",
       "      <td>102</td>\n",
       "      <td>205</td>\n",
       "    </tr>\n",
       "  </tbody>\n",
       "</table>\n",
       "</div>"
      ],
      "text/plain": [
       "                                       fp_combo_choose6  exc_score  em_score\n",
       "1196  [iRFP720, mCherry, mKalama1, amCyan1, LSSmOran...         88       209\n",
       "1263  [iRFP720, mCherry, amCyan1, LSSmOrange, mVenus...         94       208\n",
       "540   [EBFP2, iRFP720, mCherry, amCyan1, LSSmOrange,...         93       207\n",
       "1264  [iRFP720, mCherry, amCyan1, LSSmOrange, mVenus...         96       206\n",
       "1262  [iRFP720, mCherry, amCyan1, LSSmOrange, P4-3E,...        102       205"
      ]
     },
     "execution_count": 52,
     "metadata": {},
     "output_type": "execute_result"
    }
   ],
   "source": [
    "choose6_orthogonal_fp_set.loc[choose6_orthogonal_fp_set.em_score.nlargest(5).index]"
   ]
  },
  {
   "cell_type": "code",
   "execution_count": 53,
   "id": "eefb0b33-8a5d-48ba-b3a7-03e98543ce15",
   "metadata": {
    "tags": []
   },
   "outputs": [
    {
     "name": "stdout",
     "output_type": "stream",
     "text": [
      "36\n"
     ]
    },
    {
     "data": {
      "text/html": [
       "<div>\n",
       "<style scoped>\n",
       "    .dataframe tbody tr th:only-of-type {\n",
       "        vertical-align: middle;\n",
       "    }\n",
       "\n",
       "    .dataframe tbody tr th {\n",
       "        vertical-align: top;\n",
       "    }\n",
       "\n",
       "    .dataframe thead th {\n",
       "        text-align: right;\n",
       "    }\n",
       "</style>\n",
       "<table border=\"1\" class=\"dataframe\">\n",
       "  <thead>\n",
       "    <tr style=\"text-align: right;\">\n",
       "      <th></th>\n",
       "      <th>fp_combo_choose6</th>\n",
       "      <th>exc_score</th>\n",
       "      <th>em_score</th>\n",
       "    </tr>\n",
       "  </thead>\n",
       "  <tbody>\n",
       "    <tr>\n",
       "      <th>1561</th>\n",
       "      <td>[mCherry, amCyan1, LSSmOrange, Sirius, mVenus,...</td>\n",
       "      <td>135</td>\n",
       "      <td>191</td>\n",
       "    </tr>\n",
       "  </tbody>\n",
       "</table>\n",
       "</div>"
      ],
      "text/plain": [
       "                                       fp_combo_choose6  exc_score  em_score\n",
       "1561  [mCherry, amCyan1, LSSmOrange, Sirius, mVenus,...        135       191"
      ]
     },
     "execution_count": 53,
     "metadata": {},
     "output_type": "execute_result"
    }
   ],
   "source": [
    "overal_best_choose6 = []\n",
    "counter = 1\n",
    "while len(overal_best_choose6) == 0:\n",
    "    results = choose6_orthogonal_fp_set.loc[(choose6_orthogonal_fp_set.exc_score > choose6_orthogonal_fp_set.exc_score.nlargest(counter).iloc[-1]) &\n",
    "                                  (choose6_orthogonal_fp_set.em_score > choose6_orthogonal_fp_set.em_score.nlargest(counter).iloc[-1])\n",
    "                                 ]\n",
    "    if len(results) != 0:\n",
    "        overal_best_choose6.append(results)\n",
    "    counter += 1\n",
    "print(counter-1)\n",
    "overal_best_choose6[0]"
   ]
  },
  {
   "cell_type": "code",
   "execution_count": 54,
   "id": "4341c4da-54fd-47c7-a13a-48683599a21d",
   "metadata": {},
   "outputs": [
    {
     "data": {
      "text/plain": [
       "['mCherry', 'amCyan1', 'LSSmOrange', 'Sirius', 'mVenus', 'SNIFP']"
      ]
     },
     "execution_count": 54,
     "metadata": {},
     "output_type": "execute_result"
    }
   ],
   "source": [
    "overal_best_choose6[0].iloc[0,0]"
   ]
  },
  {
   "cell_type": "markdown",
   "id": "23091592-1dd5-4cb3-be10-248b151430c0",
   "metadata": {
    "tags": []
   },
   "source": [
    "---\n",
    "#### Opt. 2: Real, host brightness"
   ]
  },
  {
   "cell_type": "markdown",
   "id": "fce88381-1221-491c-83a2-fd5e06663386",
   "metadata": {},
   "source": [
    "Specialised function"
   ]
  },
  {
   "cell_type": "code",
   "execution_count": null,
   "id": "b4839b56-5311-4898-b262-49feb83a681a",
   "metadata": {},
   "outputs": [],
   "source": [
    "def random_combination(iterable, r):\n",
    "    \"Random selection from itertools.combinations(iterable, r)\"\n",
    "    pool = tuple(iterable)\n",
    "    n = len(pool)\n",
    "    indices = sorted(random.sample(range(n), r))\n",
    "    return tuple(pool[i] for i in indices)\n",
    "\n",
    "def create_and_assess_random_combo(set_size_l,FPs_excitationdata_to_LEDs_df_l, EM_passthrough_at_EMfilters_df_l, fps_LED_EMfilter_data_df_l, mandatory_fps = [], threshold=10):\n",
    "    \"\"\" Check orthogonality of fluorophore combination by\n",
    "    1) assessing whether the best EXCITATION LED of each fluorophore significantly excites another fluorophore in the set\n",
    "    2) assessing whether the best EMISSION filter of each fluorophore allows significant passthrough of another fluorophore in the set\n",
    "    3) ONLY calls a set orthogonal if both 1) AND 2) is False! (either alone is fine)\n",
    "    \"\"\"\n",
    "    combination_no_left_to_calculate = set_size_l - len(mandatory_fps)\n",
    "    names_for_combinations = [name for name in fps_LED_EMfilter_data_df_l.columns if name not in mandatory_fps]\n",
    "    while True:\n",
    "        new_fp_combo = list(random_combination(names_for_combinations, combination_no_left_to_calculate))+mandatory_fps \n",
    "        # Do not waste time calculating useless combinations!\n",
    "        if assess_combo_orthogonality(list(new_fp_combo),\n",
    "                                      FPs_excitationdata_to_LEDs_df_l, \n",
    "                                      EM_passthrough_at_EMfilters_df_l, \n",
    "                                      fps_LED_EMfilter_data_df_l,\n",
    "                                      threshold=threshold):\n",
    "            return new_fp_combo"
   ]
  },
  {
   "cell_type": "code",
   "execution_count": 58,
   "id": "7f23c3ac-6231-40e9-bae0-36bc3769e25f",
   "metadata": {},
   "outputs": [
    {
     "name": "stdout",
     "output_type": "stream",
     "text": [
      "FPs: 218 -> find 1 orthogonal sets of size 7 / 4212182115144\n",
      "\n"
     ]
    },
    {
     "ename": "KeyboardInterrupt",
     "evalue": "",
     "output_type": "error",
     "traceback": [
      "\u001b[0;31m---------------------------------------------------------------------------\u001b[0m",
      "\u001b[0;31mKeyboardInterrupt\u001b[0m                         Traceback (most recent call last)",
      "File \u001b[0;32m<timed exec>:15\u001b[0m\n",
      "Cell \u001b[0;32mIn[56], line 20\u001b[0m, in \u001b[0;36mcreate_and_assess_random_combo\u001b[0;34m(set_size_l, FPs_excitationdata_to_LEDs_df_l, EM_passthrough_at_EMfilters_df_l, fps_LED_EMfilter_data_df_l, mandatory_fps, threshold)\u001b[0m\n\u001b[1;32m     18\u001b[0m new_fp_combo \u001b[38;5;241m=\u001b[39m \u001b[38;5;28mlist\u001b[39m(random_combination(names_for_combinations, combination_no_left_to_calculate))\u001b[38;5;241m+\u001b[39mmandatory_fps \n\u001b[1;32m     19\u001b[0m \u001b[38;5;66;03m# Do not waste time calculating useless combinations!\u001b[39;00m\n\u001b[0;32m---> 20\u001b[0m \u001b[38;5;28;01mif\u001b[39;00m \u001b[43massess_combo_orthogonality\u001b[49m\u001b[43m(\u001b[49m\u001b[38;5;28;43mlist\u001b[39;49m\u001b[43m(\u001b[49m\u001b[43mnew_fp_combo\u001b[49m\u001b[43m)\u001b[49m\u001b[43m,\u001b[49m\n\u001b[1;32m     21\u001b[0m \u001b[43m                              \u001b[49m\u001b[43mFPs_excitationdata_to_LEDs_df_l\u001b[49m\u001b[43m,\u001b[49m\u001b[43m \u001b[49m\n\u001b[1;32m     22\u001b[0m \u001b[43m                              \u001b[49m\u001b[43mEM_passthrough_at_EMfilters_df_l\u001b[49m\u001b[43m,\u001b[49m\u001b[43m \u001b[49m\n\u001b[1;32m     23\u001b[0m \u001b[43m                              \u001b[49m\u001b[43mfps_LED_EMfilter_data_df_l\u001b[49m\u001b[43m,\u001b[49m\n\u001b[1;32m     24\u001b[0m \u001b[43m                              \u001b[49m\u001b[43mthreshold\u001b[49m\u001b[38;5;241;43m=\u001b[39;49m\u001b[43mthreshold\u001b[49m\u001b[43m)\u001b[49m:\n\u001b[1;32m     25\u001b[0m     \u001b[38;5;28;01mreturn\u001b[39;00m new_fp_combo\n",
      "Cell \u001b[0;32mIn[21], line 22\u001b[0m, in \u001b[0;36massess_combo_orthogonality\u001b[0;34m(combo_l, FPs_excitationdata_to_LEDs_df_l, EM_passthrough_at_EMfilters_df_l, fps_LED_EMfilter_data_df_l, threshold)\u001b[0m\n\u001b[1;32m     20\u001b[0m current_LED, current_EM \u001b[38;5;241m=\u001b[39m fps_LED_EMfilter_data_df_l[combo_l]\u001b[38;5;241m.\u001b[39mloc[[\u001b[38;5;124m'\u001b[39m\u001b[38;5;124mbest_LED\u001b[39m\u001b[38;5;124m'\u001b[39m,\u001b[38;5;124m'\u001b[39m\u001b[38;5;124mbest_EM_filter\u001b[39m\u001b[38;5;124m'\u001b[39m]][fp]\u001b[38;5;241m.\u001b[39mto_list()\n\u001b[1;32m     21\u001b[0m \u001b[38;5;66;03m#print(fp, current_LED, current_EM)\u001b[39;00m\n\u001b[0;32m---> 22\u001b[0m fp_EX_EM_comparison_df \u001b[38;5;241m=\u001b[39m \u001b[43mpd\u001b[49m\u001b[38;5;241;43m.\u001b[39;49m\u001b[43mconcat\u001b[49m\u001b[43m(\u001b[49m\u001b[43m[\u001b[49m\u001b[43mcurr_EX_data_df\u001b[49m\u001b[43m[\u001b[49m\u001b[43mcurrent_LED\u001b[49m\u001b[43m]\u001b[49m\u001b[43m,\u001b[49m\u001b[43mcurr_EM_data_df\u001b[49m\u001b[43m[\u001b[49m\u001b[43mcurrent_EM\u001b[49m\u001b[43m]\u001b[49m\u001b[43m]\u001b[49m\u001b[43m,\u001b[49m\u001b[43maxis\u001b[49m\u001b[38;5;241;43m=\u001b[39;49m\u001b[38;5;241;43m1\u001b[39;49m\u001b[43m)\u001b[49m\u001b[38;5;241m.\u001b[39mdrop([fp])\n\u001b[1;32m     23\u001b[0m \u001b[38;5;66;03m#display(np.array(fp_EX_EM_comparison_df > 10))\u001b[39;00m\n\u001b[1;32m     24\u001b[0m fP_summary \u001b[38;5;241m=\u001b[39m []\n",
      "File \u001b[0;32m~/opt/anaconda3/envs/napari/lib/python3.9/site-packages/pandas/util/_decorators.py:331\u001b[0m, in \u001b[0;36mdeprecate_nonkeyword_arguments.<locals>.decorate.<locals>.wrapper\u001b[0;34m(*args, **kwargs)\u001b[0m\n\u001b[1;32m    325\u001b[0m \u001b[38;5;28;01mif\u001b[39;00m \u001b[38;5;28mlen\u001b[39m(args) \u001b[38;5;241m>\u001b[39m num_allow_args:\n\u001b[1;32m    326\u001b[0m     warnings\u001b[38;5;241m.\u001b[39mwarn(\n\u001b[1;32m    327\u001b[0m         msg\u001b[38;5;241m.\u001b[39mformat(arguments\u001b[38;5;241m=\u001b[39m_format_argument_list(allow_args)),\n\u001b[1;32m    328\u001b[0m         \u001b[38;5;167;01mFutureWarning\u001b[39;00m,\n\u001b[1;32m    329\u001b[0m         stacklevel\u001b[38;5;241m=\u001b[39mfind_stack_level(),\n\u001b[1;32m    330\u001b[0m     )\n\u001b[0;32m--> 331\u001b[0m \u001b[38;5;28;01mreturn\u001b[39;00m \u001b[43mfunc\u001b[49m\u001b[43m(\u001b[49m\u001b[38;5;241;43m*\u001b[39;49m\u001b[43margs\u001b[49m\u001b[43m,\u001b[49m\u001b[43m \u001b[49m\u001b[38;5;241;43m*\u001b[39;49m\u001b[38;5;241;43m*\u001b[39;49m\u001b[43mkwargs\u001b[49m\u001b[43m)\u001b[49m\n",
      "File \u001b[0;32m~/opt/anaconda3/envs/napari/lib/python3.9/site-packages/pandas/core/reshape/concat.py:368\u001b[0m, in \u001b[0;36mconcat\u001b[0;34m(objs, axis, join, ignore_index, keys, levels, names, verify_integrity, sort, copy)\u001b[0m\n\u001b[1;32m    146\u001b[0m \u001b[38;5;129m@deprecate_nonkeyword_arguments\u001b[39m(version\u001b[38;5;241m=\u001b[39m\u001b[38;5;28;01mNone\u001b[39;00m, allowed_args\u001b[38;5;241m=\u001b[39m[\u001b[38;5;124m\"\u001b[39m\u001b[38;5;124mobjs\u001b[39m\u001b[38;5;124m\"\u001b[39m])\n\u001b[1;32m    147\u001b[0m \u001b[38;5;28;01mdef\u001b[39;00m \u001b[38;5;21mconcat\u001b[39m(\n\u001b[1;32m    148\u001b[0m     objs: Iterable[NDFrame] \u001b[38;5;241m|\u001b[39m Mapping[HashableT, NDFrame],\n\u001b[0;32m   (...)\u001b[0m\n\u001b[1;32m    157\u001b[0m     copy: \u001b[38;5;28mbool\u001b[39m \u001b[38;5;241m=\u001b[39m \u001b[38;5;28;01mTrue\u001b[39;00m,\n\u001b[1;32m    158\u001b[0m ) \u001b[38;5;241m-\u001b[39m\u001b[38;5;241m>\u001b[39m DataFrame \u001b[38;5;241m|\u001b[39m Series:\n\u001b[1;32m    159\u001b[0m \u001b[38;5;250m    \u001b[39m\u001b[38;5;124;03m\"\"\"\u001b[39;00m\n\u001b[1;32m    160\u001b[0m \u001b[38;5;124;03m    Concatenate pandas objects along a particular axis.\u001b[39;00m\n\u001b[1;32m    161\u001b[0m \n\u001b[0;32m   (...)\u001b[0m\n\u001b[1;32m    366\u001b[0m \u001b[38;5;124;03m    1   3   4\u001b[39;00m\n\u001b[1;32m    367\u001b[0m \u001b[38;5;124;03m    \"\"\"\u001b[39;00m\n\u001b[0;32m--> 368\u001b[0m     op \u001b[38;5;241m=\u001b[39m \u001b[43m_Concatenator\u001b[49m\u001b[43m(\u001b[49m\n\u001b[1;32m    369\u001b[0m \u001b[43m        \u001b[49m\u001b[43mobjs\u001b[49m\u001b[43m,\u001b[49m\n\u001b[1;32m    370\u001b[0m \u001b[43m        \u001b[49m\u001b[43maxis\u001b[49m\u001b[38;5;241;43m=\u001b[39;49m\u001b[43maxis\u001b[49m\u001b[43m,\u001b[49m\n\u001b[1;32m    371\u001b[0m \u001b[43m        \u001b[49m\u001b[43mignore_index\u001b[49m\u001b[38;5;241;43m=\u001b[39;49m\u001b[43mignore_index\u001b[49m\u001b[43m,\u001b[49m\n\u001b[1;32m    372\u001b[0m \u001b[43m        \u001b[49m\u001b[43mjoin\u001b[49m\u001b[38;5;241;43m=\u001b[39;49m\u001b[43mjoin\u001b[49m\u001b[43m,\u001b[49m\n\u001b[1;32m    373\u001b[0m \u001b[43m        \u001b[49m\u001b[43mkeys\u001b[49m\u001b[38;5;241;43m=\u001b[39;49m\u001b[43mkeys\u001b[49m\u001b[43m,\u001b[49m\n\u001b[1;32m    374\u001b[0m \u001b[43m        \u001b[49m\u001b[43mlevels\u001b[49m\u001b[38;5;241;43m=\u001b[39;49m\u001b[43mlevels\u001b[49m\u001b[43m,\u001b[49m\n\u001b[1;32m    375\u001b[0m \u001b[43m        \u001b[49m\u001b[43mnames\u001b[49m\u001b[38;5;241;43m=\u001b[39;49m\u001b[43mnames\u001b[49m\u001b[43m,\u001b[49m\n\u001b[1;32m    376\u001b[0m \u001b[43m        \u001b[49m\u001b[43mverify_integrity\u001b[49m\u001b[38;5;241;43m=\u001b[39;49m\u001b[43mverify_integrity\u001b[49m\u001b[43m,\u001b[49m\n\u001b[1;32m    377\u001b[0m \u001b[43m        \u001b[49m\u001b[43mcopy\u001b[49m\u001b[38;5;241;43m=\u001b[39;49m\u001b[43mcopy\u001b[49m\u001b[43m,\u001b[49m\n\u001b[1;32m    378\u001b[0m \u001b[43m        \u001b[49m\u001b[43msort\u001b[49m\u001b[38;5;241;43m=\u001b[39;49m\u001b[43msort\u001b[49m\u001b[43m,\u001b[49m\n\u001b[1;32m    379\u001b[0m \u001b[43m    \u001b[49m\u001b[43m)\u001b[49m\n\u001b[1;32m    381\u001b[0m     \u001b[38;5;28;01mreturn\u001b[39;00m op\u001b[38;5;241m.\u001b[39mget_result()\n",
      "File \u001b[0;32m~/opt/anaconda3/envs/napari/lib/python3.9/site-packages/pandas/core/reshape/concat.py:563\u001b[0m, in \u001b[0;36m_Concatenator.__init__\u001b[0;34m(self, objs, axis, join, keys, levels, names, ignore_index, verify_integrity, copy, sort)\u001b[0m\n\u001b[1;32m    560\u001b[0m \u001b[38;5;28mself\u001b[39m\u001b[38;5;241m.\u001b[39mverify_integrity \u001b[38;5;241m=\u001b[39m verify_integrity\n\u001b[1;32m    561\u001b[0m \u001b[38;5;28mself\u001b[39m\u001b[38;5;241m.\u001b[39mcopy \u001b[38;5;241m=\u001b[39m copy\n\u001b[0;32m--> 563\u001b[0m \u001b[38;5;28mself\u001b[39m\u001b[38;5;241m.\u001b[39mnew_axes \u001b[38;5;241m=\u001b[39m \u001b[38;5;28;43mself\u001b[39;49m\u001b[38;5;241;43m.\u001b[39;49m\u001b[43m_get_new_axes\u001b[49m\u001b[43m(\u001b[49m\u001b[43m)\u001b[49m\n",
      "File \u001b[0;32m~/opt/anaconda3/envs/napari/lib/python3.9/site-packages/pandas/core/reshape/concat.py:633\u001b[0m, in \u001b[0;36m_Concatenator._get_new_axes\u001b[0;34m(self)\u001b[0m\n\u001b[1;32m    631\u001b[0m \u001b[38;5;28;01mdef\u001b[39;00m \u001b[38;5;21m_get_new_axes\u001b[39m(\u001b[38;5;28mself\u001b[39m) \u001b[38;5;241m-\u001b[39m\u001b[38;5;241m>\u001b[39m \u001b[38;5;28mlist\u001b[39m[Index]:\n\u001b[1;32m    632\u001b[0m     ndim \u001b[38;5;241m=\u001b[39m \u001b[38;5;28mself\u001b[39m\u001b[38;5;241m.\u001b[39m_get_result_dim()\n\u001b[0;32m--> 633\u001b[0m     \u001b[38;5;28;01mreturn\u001b[39;00m [\n\u001b[1;32m    634\u001b[0m         \u001b[38;5;28mself\u001b[39m\u001b[38;5;241m.\u001b[39m_get_concat_axis \u001b[38;5;28;01mif\u001b[39;00m i \u001b[38;5;241m==\u001b[39m \u001b[38;5;28mself\u001b[39m\u001b[38;5;241m.\u001b[39mbm_axis \u001b[38;5;28;01melse\u001b[39;00m \u001b[38;5;28mself\u001b[39m\u001b[38;5;241m.\u001b[39m_get_comb_axis(i)\n\u001b[1;32m    635\u001b[0m         \u001b[38;5;28;01mfor\u001b[39;00m i \u001b[38;5;129;01min\u001b[39;00m \u001b[38;5;28mrange\u001b[39m(ndim)\n\u001b[1;32m    636\u001b[0m     ]\n",
      "File \u001b[0;32m~/opt/anaconda3/envs/napari/lib/python3.9/site-packages/pandas/core/reshape/concat.py:634\u001b[0m, in \u001b[0;36m<listcomp>\u001b[0;34m(.0)\u001b[0m\n\u001b[1;32m    631\u001b[0m \u001b[38;5;28;01mdef\u001b[39;00m \u001b[38;5;21m_get_new_axes\u001b[39m(\u001b[38;5;28mself\u001b[39m) \u001b[38;5;241m-\u001b[39m\u001b[38;5;241m>\u001b[39m \u001b[38;5;28mlist\u001b[39m[Index]:\n\u001b[1;32m    632\u001b[0m     ndim \u001b[38;5;241m=\u001b[39m \u001b[38;5;28mself\u001b[39m\u001b[38;5;241m.\u001b[39m_get_result_dim()\n\u001b[1;32m    633\u001b[0m     \u001b[38;5;28;01mreturn\u001b[39;00m [\n\u001b[0;32m--> 634\u001b[0m         \u001b[38;5;28mself\u001b[39m\u001b[38;5;241m.\u001b[39m_get_concat_axis \u001b[38;5;28;01mif\u001b[39;00m i \u001b[38;5;241m==\u001b[39m \u001b[38;5;28mself\u001b[39m\u001b[38;5;241m.\u001b[39mbm_axis \u001b[38;5;28;01melse\u001b[39;00m \u001b[38;5;28;43mself\u001b[39;49m\u001b[38;5;241;43m.\u001b[39;49m\u001b[43m_get_comb_axis\u001b[49m\u001b[43m(\u001b[49m\u001b[43mi\u001b[49m\u001b[43m)\u001b[49m\n\u001b[1;32m    635\u001b[0m         \u001b[38;5;28;01mfor\u001b[39;00m i \u001b[38;5;129;01min\u001b[39;00m \u001b[38;5;28mrange\u001b[39m(ndim)\n\u001b[1;32m    636\u001b[0m     ]\n",
      "File \u001b[0;32m~/opt/anaconda3/envs/napari/lib/python3.9/site-packages/pandas/core/reshape/concat.py:639\u001b[0m, in \u001b[0;36m_Concatenator._get_comb_axis\u001b[0;34m(self, i)\u001b[0m\n\u001b[1;32m    638\u001b[0m \u001b[38;5;28;01mdef\u001b[39;00m \u001b[38;5;21m_get_comb_axis\u001b[39m(\u001b[38;5;28mself\u001b[39m, i: \u001b[38;5;28mint\u001b[39m) \u001b[38;5;241m-\u001b[39m\u001b[38;5;241m>\u001b[39m Index:\n\u001b[0;32m--> 639\u001b[0m     data_axis \u001b[38;5;241m=\u001b[39m \u001b[38;5;28;43mself\u001b[39;49m\u001b[38;5;241;43m.\u001b[39;49m\u001b[43mobjs\u001b[49m\u001b[43m[\u001b[49m\u001b[38;5;241;43m0\u001b[39;49m\u001b[43m]\u001b[49m\u001b[38;5;241m.\u001b[39m_get_block_manager_axis(i)\n\u001b[1;32m    640\u001b[0m     \u001b[38;5;28;01mreturn\u001b[39;00m get_objs_combined_axis(\n\u001b[1;32m    641\u001b[0m         \u001b[38;5;28mself\u001b[39m\u001b[38;5;241m.\u001b[39mobjs,\n\u001b[1;32m    642\u001b[0m         axis\u001b[38;5;241m=\u001b[39mdata_axis,\n\u001b[0;32m   (...)\u001b[0m\n\u001b[1;32m    645\u001b[0m         copy\u001b[38;5;241m=\u001b[39m\u001b[38;5;28mself\u001b[39m\u001b[38;5;241m.\u001b[39mcopy,\n\u001b[1;32m    646\u001b[0m     )\n",
      "\u001b[0;31mKeyboardInterrupt\u001b[0m: "
     ]
    }
   ],
   "source": [
    "%%time\n",
    "set_size = 7\n",
    "CPU_cores = 1\n",
    "results_per_CPU = 1\n",
    "\n",
    "first_selected_choose_7_combos = []\n",
    "mandatory_fps_list = [ ] # 'mVenus'\n",
    "reduced_fps_LED_EMfilter_data_df = remove_equivalent_fps_from_optimal_setup_data(mandatory_fps_list, fps_LED_EMfilter_data_df)\n",
    "fp_size = len(reduced_fps_LED_EMfilter_data_df.columns)\n",
    "no_of_combinations = math.comb(len(reduced_fps_LED_EMfilter_data_df.columns)-len(mandatory_fps_list), set_size)\n",
    "threshold_chosen = 5\n",
    "result_size = CPU_cores*results_per_CPU\n",
    "print(f\"FPs: {fp_size} -> find {result_size} orthogonal sets of size {set_size} / {no_of_combinations}\\n\")\n",
    "counter = 0\n",
    "\n",
    "first_selected_choose_7_combos = create_and_assess_random_combo(set_size,FPs_excitationdata_to_LEDs_df,\n",
    "                                                                EM_passthrough_at_EMfilters_df,\n",
    "                                                                reduced_fps_LED_EMfilter_data_df,\n",
    "                                                                mandatory_fps = mandatory_fps_list,\n",
    "                                                                threshold = threshold_chosen) \n",
    "\n",
    "    \n",
    "print(counter)\n",
    "print(len(first_selected_choose_7_combos))\n",
    "first_selected_choose_7_combos"
   ]
  },
  {
   "cell_type": "markdown",
   "id": "9831c1d4-adc1-4965-a590-4dc834c197f9",
   "metadata": {},
   "source": [
    "##### *E.coli*"
   ]
  },
  {
   "cell_type": "code",
   "execution_count": 126,
   "id": "45e512f5-f1f9-43ef-8776-016d7d6f2654",
   "metadata": {},
   "outputs": [
    {
     "name": "stdout",
     "output_type": "stream",
     "text": [
      "FPs in Balleza study for which FPbase offers spectral data:\n",
      "{'TagRFP-T', 'mScarlet-I', 'mScarlet', 'mCerulean3', 'Clover', 'mRuby3', 'Sapphire', 'mEmerald', 'mEGFP', 'mNeptune2.5', 'mRFP1', 'mTurquoise', 'T-Sapphire', 'moxGFP', 'TagRFP', 'mCherry', 'mClover3', 'mVenus', 'moxCerulean3', 'mTurquoise2', 'mCerulean', 'mKate2', 'Katushka', 'TurboRFP', 'mNeonGreen'}\n"
     ]
    }
   ],
   "source": [
    "fp_spectra_df = pd.read_csv(f\"spectra_data{os.path.sep}all_fp_spectra.csv\",index_col=0)\n",
    "Balleza_2017_data_df = pd.read_csv(f\"spectra_data{os.path.sep}Balleza_2017_data.csv\", index_col=0)\n",
    "# Create sets for overlap identification\n",
    "Balleza_fps_set = set(Balleza_2017_data_df.index)\n",
    "FPbase_fps_set = set(list(fps_LED_EMfilter_data_df.columns)+['mVenus', 'mCherry'])\n",
    "# Trim Ballexa data for usability\n",
    "Balleza_2017_data_df = Balleza_2017_data_df.T[[x for x in Balleza_fps_set if '2nd' not in x]]\n",
    "Balleza_2017_data_df.rename(columns={\"mVenusNB\": \"mVenus\", \"mCherry-L\": \"mCherry\"}, inplace=True)\n",
    "Balleza_2017_data_df = Balleza_2017_data_df.T\n",
    "Balleza_fps_set = set(Balleza_2017_data_df.index)\n",
    "# Identify Intersection between published/Balleza data and FPbase database\n",
    "allowed_fps = Balleza_fps_set.intersection(FPbase_fps_set)\n",
    "print(f\"FPs in Balleza study for which FPbase offers spectral data:\\n{allowed_fps}\")"
   ]
  },
  {
   "cell_type": "code",
   "execution_count": 127,
   "id": "94240759-a7a9-44ff-993b-2964d33151a6",
   "metadata": {},
   "outputs": [
    {
     "name": "stdout",
     "output_type": "stream",
     "text": [
      "Choose 3 Results:\n"
     ]
    },
    {
     "data": {
      "text/plain": [
       "('Sapphire', 'mCherry', 'mVenus')"
      ]
     },
     "metadata": {},
     "output_type": "display_data"
    },
    {
     "data": {
      "text/plain": [
       "('T-Sapphire', 'mCherry', 'mVenus')"
      ]
     },
     "metadata": {},
     "output_type": "display_data"
    },
    {
     "data": {
      "text/plain": [
       "('mCherry', 'mVenus', 'mTurquoise')"
      ]
     },
     "metadata": {},
     "output_type": "display_data"
    },
    {
     "data": {
      "text/plain": [
       "('mCherry', 'mVenus', 'mTurquoise2')"
      ]
     },
     "metadata": {},
     "output_type": "display_data"
    },
    {
     "data": {
      "text/plain": [
       "('mCherry', 'mVenus', 'moxCerulean3')"
      ]
     },
     "metadata": {},
     "output_type": "display_data"
    },
    {
     "data": {
      "text/plain": [
       "('mCherry', 'mVenus', 'mCerulean')"
      ]
     },
     "metadata": {},
     "output_type": "display_data"
    },
    {
     "data": {
      "text/plain": [
       "('mCherry', 'mVenus', 'mCerulean3')"
      ]
     },
     "metadata": {},
     "output_type": "display_data"
    },
    {
     "name": "stdout",
     "output_type": "stream",
     "text": [
      "\n",
      "Choose 4 Results:\n",
      "\n",
      "Choose 5 Results:\n",
      "\n",
      "Choose 6 Results:\n"
     ]
    }
   ],
   "source": [
    "# Choose 3\n",
    "choose3_dict = {}\n",
    "counter=0\n",
    "print(f\"Choose 3 Results:\")\n",
    "for idx, fp_combo in enumerate(orthogonal_choose3_combos_threshold_dict[1]):\n",
    "    if all([x in allowed_fps for x in fp_combo]):\n",
    "        display(fp_combo)\n",
    "        choose3_dict[counter] = {'combo': fp_combo,\n",
    "                                 'brightness': Balleza_2017_data_df['Brightness(t_chlor)'].loc[list(fp_combo)].sum(),\n",
    "                                 'maturation_t50' :  Balleza_2017_data_df['t50'].loc[list(fp_combo)].sum(),\n",
    "                                 'maturation_t90' :  Balleza_2017_data_df['t90'].loc[list(fp_combo)].sum()\n",
    "                                }\n",
    "        counter+=1\n",
    "        \n",
    "# Choose 4\n",
    "print(f\"\\nChoose 4 Results:\")\n",
    "for fp_combo in orthogonal_choose4_combos_threshold_dict[1]:\n",
    "    if all([x in allowed_fps for x in fp_combo]):\n",
    "        print(fp_combo)\n",
    "\n",
    "# Choose 5\n",
    "print(f\"\\nChoose 5 Results:\")\n",
    "for fp_combo in orthogonal_choose5_combos_threshold_dict[1]:\n",
    "    if all([x in allowed_fps for x in fp_combo]):\n",
    "        print(fp_combo)\n",
    "\n",
    "# Choose 6\n",
    "print(f\"\\nChoose 6 Results:\")\n",
    "for fp_combo in orthogonal_choose6_combos_threshold_dict[1]:\n",
    "    if all([x in allowed_fps for x in fp_combo]):\n",
    "        print(fp_combo)"
   ]
  },
  {
   "cell_type": "code",
   "execution_count": 129,
   "id": "789d429e-baa5-4749-bdf4-d93c068a8320",
   "metadata": {},
   "outputs": [
    {
     "data": {
      "text/html": [
       "<div>\n",
       "<style scoped>\n",
       "    .dataframe tbody tr th:only-of-type {\n",
       "        vertical-align: middle;\n",
       "    }\n",
       "\n",
       "    .dataframe tbody tr th {\n",
       "        vertical-align: top;\n",
       "    }\n",
       "\n",
       "    .dataframe thead th {\n",
       "        text-align: right;\n",
       "    }\n",
       "</style>\n",
       "<table border=\"1\" class=\"dataframe\">\n",
       "  <thead>\n",
       "    <tr style=\"text-align: right;\">\n",
       "      <th></th>\n",
       "      <th>combo</th>\n",
       "      <th>brightness</th>\n",
       "      <th>maturation_t50</th>\n",
       "      <th>maturation_t90</th>\n",
       "    </tr>\n",
       "  </thead>\n",
       "  <tbody>\n",
       "    <tr>\n",
       "      <th>3</th>\n",
       "      <td>(mCherry, mVenus, mTurquoise2)</td>\n",
       "      <td>267638.130525</td>\n",
       "      <td>74.599653</td>\n",
       "      <td>196.977645</td>\n",
       "    </tr>\n",
       "    <tr>\n",
       "      <th>5</th>\n",
       "      <td>(mCherry, mVenus, mCerulean)</td>\n",
       "      <td>248681.700211</td>\n",
       "      <td>47.716347</td>\n",
       "      <td>125.007976</td>\n",
       "    </tr>\n",
       "    <tr>\n",
       "      <th>6</th>\n",
       "      <td>(mCherry, mVenus, mCerulean3)</td>\n",
       "      <td>185938.543896</td>\n",
       "      <td>110.851257</td>\n",
       "      <td>280.268028</td>\n",
       "    </tr>\n",
       "    <tr>\n",
       "      <th>2</th>\n",
       "      <td>(mCherry, mVenus, mTurquoise)</td>\n",
       "      <td>147891.18426</td>\n",
       "      <td>153.339594</td>\n",
       "      <td>423.431902</td>\n",
       "    </tr>\n",
       "    <tr>\n",
       "      <th>4</th>\n",
       "      <td>(mCherry, mVenus, moxCerulean3)</td>\n",
       "      <td>111404.974692</td>\n",
       "      <td>141.537054</td>\n",
       "      <td>339.474159</td>\n",
       "    </tr>\n",
       "    <tr>\n",
       "      <th>0</th>\n",
       "      <td>(Sapphire, mCherry, mVenus)</td>\n",
       "      <td>76039.766738</td>\n",
       "      <td>79.482778</td>\n",
       "      <td>204.685315</td>\n",
       "    </tr>\n",
       "    <tr>\n",
       "      <th>1</th>\n",
       "      <td>(T-Sapphire, mCherry, mVenus)</td>\n",
       "      <td>72669.716479</td>\n",
       "      <td>197.556847</td>\n",
       "      <td>583.340512</td>\n",
       "    </tr>\n",
       "  </tbody>\n",
       "</table>\n",
       "</div>"
      ],
      "text/plain": [
       "                             combo     brightness maturation_t50  \\\n",
       "3   (mCherry, mVenus, mTurquoise2)  267638.130525      74.599653   \n",
       "5     (mCherry, mVenus, mCerulean)  248681.700211      47.716347   \n",
       "6    (mCherry, mVenus, mCerulean3)  185938.543896     110.851257   \n",
       "2    (mCherry, mVenus, mTurquoise)   147891.18426     153.339594   \n",
       "4  (mCherry, mVenus, moxCerulean3)  111404.974692     141.537054   \n",
       "0      (Sapphire, mCherry, mVenus)   76039.766738      79.482778   \n",
       "1    (T-Sapphire, mCherry, mVenus)   72669.716479     197.556847   \n",
       "\n",
       "  maturation_t90  \n",
       "3     196.977645  \n",
       "5     125.007976  \n",
       "6     280.268028  \n",
       "2     423.431902  \n",
       "4     339.474159  \n",
       "0     204.685315  \n",
       "1     583.340512  "
      ]
     },
     "execution_count": 129,
     "metadata": {},
     "output_type": "execute_result"
    }
   ],
   "source": [
    "#Balleza_2017_data_df['Brightness(t_chlor)'].loc[list(fp_combo)].sum()\n",
    "Balleza_2017_data_df\n",
    "pd.DataFrame(choose3_dict).T.sort_values(by='brightness',ascending=False)"
   ]
  },
  {
   "cell_type": "markdown",
   "id": "a3ad59b0-fe88-47ca-9ee1-e655eb6c843a",
   "metadata": {},
   "source": [
    "---\n",
    "#### Opt. 3: Maturation times"
   ]
  },
  {
   "cell_type": "code",
   "execution_count": 130,
   "id": "66ae109a-6b27-442d-9f19-0eacb434333e",
   "metadata": {},
   "outputs": [
    {
     "data": {
      "text/html": [
       "<div>\n",
       "<style scoped>\n",
       "    .dataframe tbody tr th:only-of-type {\n",
       "        vertical-align: middle;\n",
       "    }\n",
       "\n",
       "    .dataframe tbody tr th {\n",
       "        vertical-align: top;\n",
       "    }\n",
       "\n",
       "    .dataframe thead th {\n",
       "        text-align: right;\n",
       "    }\n",
       "</style>\n",
       "<table border=\"1\" class=\"dataframe\">\n",
       "  <thead>\n",
       "    <tr style=\"text-align: right;\">\n",
       "      <th></th>\n",
       "      <th>combo</th>\n",
       "      <th>brightness</th>\n",
       "      <th>maturation_t50</th>\n",
       "      <th>maturation_t90</th>\n",
       "    </tr>\n",
       "  </thead>\n",
       "  <tbody>\n",
       "    <tr>\n",
       "      <th>5</th>\n",
       "      <td>(mCherry, mVenus, mCerulean)</td>\n",
       "      <td>248681.700211</td>\n",
       "      <td>47.716347</td>\n",
       "      <td>125.007976</td>\n",
       "    </tr>\n",
       "    <tr>\n",
       "      <th>3</th>\n",
       "      <td>(mCherry, mVenus, mTurquoise2)</td>\n",
       "      <td>267638.130525</td>\n",
       "      <td>74.599653</td>\n",
       "      <td>196.977645</td>\n",
       "    </tr>\n",
       "    <tr>\n",
       "      <th>0</th>\n",
       "      <td>(Sapphire, mCherry, mVenus)</td>\n",
       "      <td>76039.766738</td>\n",
       "      <td>79.482778</td>\n",
       "      <td>204.685315</td>\n",
       "    </tr>\n",
       "    <tr>\n",
       "      <th>6</th>\n",
       "      <td>(mCherry, mVenus, mCerulean3)</td>\n",
       "      <td>185938.543896</td>\n",
       "      <td>110.851257</td>\n",
       "      <td>280.268028</td>\n",
       "    </tr>\n",
       "    <tr>\n",
       "      <th>4</th>\n",
       "      <td>(mCherry, mVenus, moxCerulean3)</td>\n",
       "      <td>111404.974692</td>\n",
       "      <td>141.537054</td>\n",
       "      <td>339.474159</td>\n",
       "    </tr>\n",
       "    <tr>\n",
       "      <th>2</th>\n",
       "      <td>(mCherry, mVenus, mTurquoise)</td>\n",
       "      <td>147891.18426</td>\n",
       "      <td>153.339594</td>\n",
       "      <td>423.431902</td>\n",
       "    </tr>\n",
       "    <tr>\n",
       "      <th>1</th>\n",
       "      <td>(T-Sapphire, mCherry, mVenus)</td>\n",
       "      <td>72669.716479</td>\n",
       "      <td>197.556847</td>\n",
       "      <td>583.340512</td>\n",
       "    </tr>\n",
       "  </tbody>\n",
       "</table>\n",
       "</div>"
      ],
      "text/plain": [
       "                             combo     brightness maturation_t50  \\\n",
       "5     (mCherry, mVenus, mCerulean)  248681.700211      47.716347   \n",
       "3   (mCherry, mVenus, mTurquoise2)  267638.130525      74.599653   \n",
       "0      (Sapphire, mCherry, mVenus)   76039.766738      79.482778   \n",
       "6    (mCherry, mVenus, mCerulean3)  185938.543896     110.851257   \n",
       "4  (mCherry, mVenus, moxCerulean3)  111404.974692     141.537054   \n",
       "2    (mCherry, mVenus, mTurquoise)   147891.18426     153.339594   \n",
       "1    (T-Sapphire, mCherry, mVenus)   72669.716479     197.556847   \n",
       "\n",
       "  maturation_t90  \n",
       "5     125.007976  \n",
       "3     196.977645  \n",
       "0     204.685315  \n",
       "6     280.268028  \n",
       "4     339.474159  \n",
       "2     423.431902  \n",
       "1     583.340512  "
      ]
     },
     "execution_count": 130,
     "metadata": {},
     "output_type": "execute_result"
    }
   ],
   "source": [
    "pd.DataFrame(choose3_dict).T.sort_values(by='maturation_t50')"
   ]
  },
  {
   "cell_type": "code",
   "execution_count": 131,
   "id": "a37404d9-aae2-48ab-9a32-82a6b352e7cb",
   "metadata": {
    "tags": []
   },
   "outputs": [
    {
     "data": {
      "text/html": [
       "<div>\n",
       "<style scoped>\n",
       "    .dataframe tbody tr th:only-of-type {\n",
       "        vertical-align: middle;\n",
       "    }\n",
       "\n",
       "    .dataframe tbody tr th {\n",
       "        vertical-align: top;\n",
       "    }\n",
       "\n",
       "    .dataframe thead th {\n",
       "        text-align: right;\n",
       "    }\n",
       "</style>\n",
       "<table border=\"1\" class=\"dataframe\">\n",
       "  <thead>\n",
       "    <tr style=\"text-align: right;\">\n",
       "      <th></th>\n",
       "      <th>combo</th>\n",
       "      <th>brightness</th>\n",
       "      <th>maturation_t50</th>\n",
       "      <th>maturation_t90</th>\n",
       "    </tr>\n",
       "  </thead>\n",
       "  <tbody>\n",
       "    <tr>\n",
       "      <th>5</th>\n",
       "      <td>(mCherry, mVenus, mCerulean)</td>\n",
       "      <td>248681.700211</td>\n",
       "      <td>47.716347</td>\n",
       "      <td>125.007976</td>\n",
       "    </tr>\n",
       "    <tr>\n",
       "      <th>3</th>\n",
       "      <td>(mCherry, mVenus, mTurquoise2)</td>\n",
       "      <td>267638.130525</td>\n",
       "      <td>74.599653</td>\n",
       "      <td>196.977645</td>\n",
       "    </tr>\n",
       "    <tr>\n",
       "      <th>0</th>\n",
       "      <td>(Sapphire, mCherry, mVenus)</td>\n",
       "      <td>76039.766738</td>\n",
       "      <td>79.482778</td>\n",
       "      <td>204.685315</td>\n",
       "    </tr>\n",
       "    <tr>\n",
       "      <th>6</th>\n",
       "      <td>(mCherry, mVenus, mCerulean3)</td>\n",
       "      <td>185938.543896</td>\n",
       "      <td>110.851257</td>\n",
       "      <td>280.268028</td>\n",
       "    </tr>\n",
       "    <tr>\n",
       "      <th>4</th>\n",
       "      <td>(mCherry, mVenus, moxCerulean3)</td>\n",
       "      <td>111404.974692</td>\n",
       "      <td>141.537054</td>\n",
       "      <td>339.474159</td>\n",
       "    </tr>\n",
       "    <tr>\n",
       "      <th>2</th>\n",
       "      <td>(mCherry, mVenus, mTurquoise)</td>\n",
       "      <td>147891.18426</td>\n",
       "      <td>153.339594</td>\n",
       "      <td>423.431902</td>\n",
       "    </tr>\n",
       "    <tr>\n",
       "      <th>1</th>\n",
       "      <td>(T-Sapphire, mCherry, mVenus)</td>\n",
       "      <td>72669.716479</td>\n",
       "      <td>197.556847</td>\n",
       "      <td>583.340512</td>\n",
       "    </tr>\n",
       "  </tbody>\n",
       "</table>\n",
       "</div>"
      ],
      "text/plain": [
       "                             combo     brightness maturation_t50  \\\n",
       "5     (mCherry, mVenus, mCerulean)  248681.700211      47.716347   \n",
       "3   (mCherry, mVenus, mTurquoise2)  267638.130525      74.599653   \n",
       "0      (Sapphire, mCherry, mVenus)   76039.766738      79.482778   \n",
       "6    (mCherry, mVenus, mCerulean3)  185938.543896     110.851257   \n",
       "4  (mCherry, mVenus, moxCerulean3)  111404.974692     141.537054   \n",
       "2    (mCherry, mVenus, mTurquoise)   147891.18426     153.339594   \n",
       "1    (T-Sapphire, mCherry, mVenus)   72669.716479     197.556847   \n",
       "\n",
       "  maturation_t90  \n",
       "5     125.007976  \n",
       "3     196.977645  \n",
       "0     204.685315  \n",
       "6     280.268028  \n",
       "4     339.474159  \n",
       "2     423.431902  \n",
       "1     583.340512  "
      ]
     },
     "execution_count": 131,
     "metadata": {},
     "output_type": "execute_result"
    }
   ],
   "source": [
    "pd.DataFrame(choose3_dict).T.sort_values(by='maturation_t90')"
   ]
  },
  {
   "cell_type": "markdown",
   "id": "64eea383-db6d-4b7c-b860-b88aaa17441f",
   "metadata": {},
   "source": [
    "## Random search for optimal sets\n",
    "\n",
    "WARNING: can take multiple days to copmute"
   ]
  },
  {
   "cell_type": "code",
   "execution_count": null,
   "id": "ecd457d3-e2c0-4edb-8123-c63b2acef953",
   "metadata": {},
   "outputs": [
    {
     "name": "stdout",
     "output_type": "stream",
     "text": [
      "FPs: 217 -> find 1 orthogonal sets of size 8 / 103073959989495\n",
      "\n"
     ]
    }
   ],
   "source": [
    "%%time\n",
    "set_size = 8\n",
    "CPU_cores = 1\n",
    "results_per_CPU = 1\n",
    "\n",
    "first_selected_choose_7_combos = []\n",
    "mandatory_fps_list = ['LSSmOrange' ] # 'mVenus'\n",
    "reduced_fps_LED_EMfilter_data_df = remove_equivalent_fps_from_optimal_setup_data(mandatory_fps_list, fps_LED_EMfilter_data_df)\n",
    "fp_size = len(reduced_fps_LED_EMfilter_data_df.columns)\n",
    "no_of_combinations = math.comb(len(reduced_fps_LED_EMfilter_data_df.columns)-len(mandatory_fps_list), set_size)\n",
    "threshold_chosen = 4\n",
    "result_size = CPU_cores*results_per_CPU\n",
    "print(f\"FPs: {fp_size} -> find {result_size} orthogonal sets of size {set_size} / {no_of_combinations}\\n\")\n",
    "counter = 0\n",
    "\n",
    "first_selected_choose_7_combos = create_and_assess_random_combo(set_size,FPs_excitationdata_to_LEDs_df,\n",
    "                                                                EM_passthrough_at_EMfilters_df,\n",
    "                                                                reduced_fps_LED_EMfilter_data_df,\n",
    "                                                                mandatory_fps = mandatory_fps_list,\n",
    "                                                                threshold = threshold_chosen) \n",
    "\n",
    "    \n",
    "print(counter)\n",
    "print(len(first_selected_choose_7_combos))\n",
    "first_selected_choose_7_combos"
   ]
  },
  {
   "cell_type": "code",
   "execution_count": null,
   "id": "e9d72d93-aae5-41a8-8707-f9b9f41e7ded",
   "metadata": {},
   "outputs": [],
   "source": [
    "\"\"\" Sets of 8\n",
    "\"\"\"\n",
    "# threshold = 8 =>  min\n",
    "['EYFP', 'mKeima', 'mMaroon1', 'mTurquoise', 'oxBFP', 'mKO&kappa;', 'miniSOG', 'mIFP']\n",
    "\n",
    "# threshold = 7 =>  min\n",
    "['EBFP', 'T-Sapphire', 'LSSmOrange', 'amFP486', 'SYFP2', 'KO', 'mKelly2', 'miRFP709']\n",
    "\n",
    "# threshold = 6 =>  5h 40min 40s\n",
    "['Aquamarine', 'iFP1.4', 'mMiCy', 'Sirius', 'mCarmine', 'phiYFP', 'cgfTagRFP', 'LSSmOrange']\n",
    "\n",
    "# threshold = 5 => 1d 9h 9min 10s\n",
    "['P4-3E', 'dsFP483', 'LSSmOrange', 'NowGFP', 'mPapaya', 'mOrange', 'mKelly1',  'iRFP713']\n",
    "\n",
    "# threshold = 4 =>  min\n",
    "\n",
    "# threshold = 3\n",
    "\n",
    "# threshold = 2\n",
    "\n",
    "# threshold = 1 ?"
   ]
  },
  {
   "cell_type": "markdown",
   "id": "6657e3d6-b924-4535-a2c8-f9e8b31c33bc",
   "metadata": {},
   "source": [
    "## Visualis check for orthogonality"
   ]
  },
  {
   "cell_type": "code",
   "execution_count": 134,
   "id": "d7050748-0ab4-4353-a8a7-59cadfc1a2fb",
   "metadata": {},
   "outputs": [],
   "source": [
    "fp_list_global = ['P4-3E', 'dsFP483', 'LSSmOrange', 'NowGFP', 'mPapaya', 'mOrange', 'mKelly1',  'iRFP713']\n",
    "# ['mBanana', 'Cerulean', 'hmGFP', \n",
    "#                   'miRFP720', 'Neptune', 'dKeima', 'P4']\n",
    "#['Sapphire', 'mVenus', 'mCherry'] Sirius, Aquamarine, LSSmOrange, mMiCy, phiYFP, cgfTagRFP, mCarmine, iFP1.4]"
   ]
  },
  {
   "cell_type": "code",
   "execution_count": 135,
   "id": "ec334f1e-d67d-480c-aa70-2b9d902a4ccb",
   "metadata": {},
   "outputs": [
    {
     "data": {
      "application/vnd.jupyter.widget-view+json": {
       "model_id": "f1ac8dcec9cb4decb3614a9d1a2329ce",
       "version_major": 2,
       "version_minor": 0
      },
      "text/plain": [
       "interactive(children=(IntSlider(value=3, description='combo_no', max=6), Output()), _dom_classes=('widget-inte…"
      ]
     },
     "metadata": {},
     "output_type": "display_data"
    }
   ],
   "source": [
    "@interact\n",
    "def show(combo_no=(0,len(fp_list_global[1])-1)\n",
    "        ):\n",
    "    fp_list = fp_list_global\n",
    "    LED_no =(0,len(LED_list)-1),\n",
    "    all_EM = False,\n",
    "    EM_filter = em_filter_list\n",
    "    plt.style.use('default')\n",
    "    fig = plt.figure(figsize=(14,9), tight_layout=True)\n",
    "    gs = gridspec.GridSpec(2,1,figure=fig)\n",
    "    ax_fluo, ax_dichroic = fig.add_subplot(gs[0,0]), fig.add_subplot(gs[1,0])\n",
    "    fluorophore_names = ' - '.join([', '.join(fluo) for fluo in [fp_list, chem_fluorophore_list, nuclear_dye_list]])\n",
    "    # Fluorophores\n",
    "    if len(fp_list) != 0:\n",
    "        [(plot_spectrum(ax_fluo, fp_spectra_df, f\"{fluo} ex\", f_type=''), plot_spectrum(ax_dichroic, fp_spectra_df, f\"{fluo} em\", f_type='')) for fluo in fp_list]\n",
    "    # LEDs\n",
    "    [ax_fluo.vlines(wavelength, 1.05,1.14,linewidth=3,color= wavelength_to_rgb(wavelength, gamma=0.8)) for wavelength in range(300,800)]\n",
    "    # Dichroic\n",
    "    dichroic = 'CFP_YFP_mCherry' # 'CFP_YFP_mCherry', 'DA_FI_TR_Cy5_B'\n",
    "    [ax_fluo.plot(dichroic_dic[dichroic][spectrum].index, dichroic_dic[dichroic][spectrum], '-', color = c_colour, alpha=0.5,linewidth=2, markersize=12,label='dichroic 1') \n",
    "     for (spectrum,c_colour) in [('excitation','black'), ]]\n",
    "    [ax_dichroic.plot(dichroic_dic[dichroic][spectrum].index, dichroic_dic[dichroic][spectrum], '-', color = c_colour, alpha=0.5,linewidth=2, markersize=12,label='dichroic 1') \n",
    "     for (spectrum,c_colour) in [ ('emission','black')]]\n",
    "\n",
    "    dichroic =  'DA_FI_TR_Cy5_B'\n",
    "    [ax_fluo.plot(dichroic_dic[dichroic][spectrum].index, dichroic_dic[dichroic][spectrum], '-', color = c_colour, alpha=0.5,linewidth=2, markersize=12,label='dichroic 2') \n",
    "     for (spectrum,c_colour) in [('excitation','grey'), ]]\n",
    "    [ax_dichroic.plot(dichroic_dic[dichroic][spectrum].index, dichroic_dic[dichroic][spectrum], '-', color = c_colour, alpha=0.5,linewidth=2, markersize=12,label='dichroic 2') \n",
    "     for (spectrum,c_colour) in [ ('emission','grey')]]\n",
    "    # Emission Filters\n",
    "    for em_data in em_filter_list:\n",
    "        em_filter_start, em_filter_end = em_data['center']-em_data['width']/2, em_data['center']+em_data['width']/2                       \n",
    "        plt.rcParams[\"hatch.linewidth\"] = 4\n",
    "        em_filter_patch = patches.Rectangle((em_filter_start, 0),em_data['width'], 1, linewidth=1, alpha = 0.1, linestyle='--',\n",
    "                                            edgecolor=wavelength_to_rgb(em_data['center']), facecolor=wavelength_to_rgb(em_data['center']))\n",
    "        ax_dichroic.add_patch(em_filter_patch)\n",
    "    # Nikon-given Lumencore LED spectra:\n",
    "    for column_name in all_LED_data_df.columns:\n",
    "        current_LED_data = all_LED_data_df.loc[pd.notna(all_LED_data_df[column_name])][column_name]\n",
    "        normalised_LED_data = current_LED_data/all_LED_data_df.describe().loc['max'].max()\n",
    "        ax_fluo.fill_between(current_LED_data.index, normalised_LED_data,color= wavelength_to_rgb(current_LED_data.idxmax(), gamma=0.7))\n",
    "    ax_fluo.legend(loc = 'center right'), ax_dichroic.legend(loc = 'center left')\n",
    "    # subplot modification\n",
    "    #ax_fluo.set_title(f\"Fluorophores: {fluorophore_names}\",size=12)\n",
    "    [(subplot.set_ylim(0,1.15),subplot.set_xlim(300,801),\n",
    "      subplot.set_xticks(np.arange(300, 800+1, 25)), #subplot.set_xlabel('Wavelength (nm)'),\n",
    "      subplot.spines['right'].set_visible(False), subplot.spines['top'].set_visible(False),\n",
    "      subplot.grid(color='grey', linestyle='--', linewidth=0.5, alpha=0.25)) for subplot in [ax_fluo,ax_dichroic]]\n",
    "    ax_dichroic.set_xlabel('Wavelength (nm)')\n",
    "    #plt.savefig(f\"final_set8_thresh5.png\", dpi=300)\n",
    "    plt.show(); "
   ]
  },
  {
   "cell_type": "code",
   "execution_count": null,
   "id": "61d11369-2774-4290-accb-03c50987714e",
   "metadata": {},
   "outputs": [],
   "source": []
  }
 ],
 "metadata": {
  "kernelspec": {
   "display_name": "Python 3 (ipykernel)",
   "language": "python",
   "name": "python3"
  },
  "language_info": {
   "codemirror_mode": {
    "name": "ipython",
    "version": 3
   },
   "file_extension": ".py",
   "mimetype": "text/x-python",
   "name": "python",
   "nbconvert_exporter": "python",
   "pygments_lexer": "ipython3",
   "version": "3.9.15"
  }
 },
 "nbformat": 4,
 "nbformat_minor": 5
}
