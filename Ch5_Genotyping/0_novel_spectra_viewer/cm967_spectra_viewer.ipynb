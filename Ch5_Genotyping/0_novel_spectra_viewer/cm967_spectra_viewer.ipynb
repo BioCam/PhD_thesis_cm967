{
 "cells": [
  {
   "cell_type": "markdown",
   "id": "7c659312-bd39-465b-a62b-3335cdd24c48",
   "metadata": {},
   "source": [
    "# cm967's Spectra Calculator\n",
    "author: Camillo Moschner | start: December 2020 | last modified: 06.01.2023 (polished & uploaded to thesis GitHub)"
   ]
  },
  {
   "cell_type": "markdown",
   "id": "fe6b4477-eb2f-4a42-b7f8-cea9e6a7478b",
   "metadata": {},
   "source": [
    "## Import Statements"
   ]
  },
  {
   "cell_type": "code",
   "execution_count": 1,
   "id": "ed83a175-1791-4688-b932-c13323170779",
   "metadata": {
    "tags": []
   },
   "outputs": [
    {
     "name": "stderr",
     "output_type": "stream",
     "text": [
      "/Users/camillomoschner/opt/anaconda3/envs/ia-env/lib/python3.9/site-packages/scipy/__init__.py:146: UserWarning: A NumPy version >=1.16.5 and <1.23.0 is required for this version of SciPy (detected version 1.23.5\n",
      "  warnings.warn(f\"A NumPy version >={np_minversion} and <{np_maxversion}\"\n"
     ]
    }
   ],
   "source": [
    "import numpy as np\n",
    "import pandas as pd\n",
    "from ipywidgets import interact\n",
    "import seaborn as sns\n",
    "import os\n",
    "\n",
    "import matplotlib.pyplot as plt\n",
    "import matplotlib.gridspec as gridspec\n",
    "import matplotlib.patches as patches"
   ]
  },
  {
   "cell_type": "markdown",
   "id": "a1e911f0-582f-49b2-ac7d-5b101f8f90c0",
   "metadata": {},
   "source": [
    "## Function Definitions"
   ]
  },
  {
   "cell_type": "code",
   "execution_count": 2,
   "id": "f5c5271e-f811-436e-a235-ab51f216d68b",
   "metadata": {},
   "outputs": [],
   "source": [
    "def wavelength_to_rgb(wavelength, gamma=0.8):\n",
    "    ''' taken from http://www.noah.org/wiki/Wavelength_to_RGB_in_Python\n",
    "    This converts a given wavelength of light to an approximate RGB color value. The wavelength must be given\n",
    "    in nanometers in the range from 380 nm to 750 nm(789 THz through 400 THz). Additionally alpha value set to \n",
    "    0.5 outside range. Based on code by Dan Bruton http://www.physics.sfasu.edu/astro/color/spectra.html\n",
    "    '''\n",
    "    wavelength = float(wavelength)\n",
    "    if wavelength >= 380 and wavelength <= 750:\n",
    "        A = 1.\n",
    "    else:\n",
    "        A=0.2\n",
    "    if wavelength < 380:\n",
    "        wavelength = 380.\n",
    "    if wavelength >750:\n",
    "        wavelength = 750.\n",
    "    if wavelength >= 380 and wavelength <= 440:\n",
    "        attenuation = 0.3 + 0.7 * (wavelength - 380) / (440 - 380)\n",
    "        R = ((-(wavelength - 440) / (440 - 380)) * attenuation) ** gamma\n",
    "        G, B = 0.0, (1.0 * attenuation) ** gamma\n",
    "    elif wavelength >= 440 and wavelength <= 490:\n",
    "        R = 0.0\n",
    "        G = ((wavelength - 440) / (490 - 440)) ** gamma\n",
    "        B = 1.0\n",
    "    elif wavelength >= 490 and wavelength <= 510:\n",
    "        R, G = 0.0, 1.0\n",
    "        B = (-(wavelength - 510) / (510 - 490)) ** gamma\n",
    "    elif wavelength >= 510 and wavelength <= 580:\n",
    "        R = ((wavelength - 510) / (580 - 510)) ** gamma\n",
    "        G, B = 1.0, 0.0\n",
    "    elif wavelength >= 580 and wavelength <= 645:\n",
    "        R = 1.0\n",
    "        G = (-(wavelength - 645) / (645 - 580)) ** gamma\n",
    "        B = 0.0\n",
    "    elif wavelength >= 645 and wavelength <= 750:\n",
    "        attenuation = 0.3 + 0.7 * (750 - wavelength) / (750 - 645)\n",
    "        R = (1.0 * attenuation) ** gamma\n",
    "        G, B = 0.0, 0.0\n",
    "    else:\n",
    "        R, G, B = 0.0, 0.0, 0.0\n",
    "    return (R,G,B,A)\n",
    "\n",
    "def plot_spectrum(axis, df, column_name, f_type=''):\n",
    "    if ('em' in column_name) or ('EM' in column_name):\n",
    "        line = '-'\n",
    "    elif ('ex' in column_name) or ('EX' in column_name):\n",
    "        line = '--'\n",
    "    fluorophore_data = df[column_name]\n",
    "    fluorophore_data = fluorophore_data.loc[pd.notna(fluorophore_data)]\n",
    "    axis.plot(fluorophore_data.index, fluorophore_data, linestyle=line, \n",
    "              color=wavelength_to_rgb(df.index[df[column_name] == df[column_name].max()].tolist()[0],gamma=1.8),\n",
    "              label = f\"{column_name} ({f_type})\")"
   ]
  },
  {
   "cell_type": "markdown",
   "id": "3688c768-3616-4eb4-96cd-0dfc6de19444",
   "metadata": {},
   "source": [
    "# Load Files"
   ]
  },
  {
   "cell_type": "code",
   "execution_count": 3,
   "id": "940af3b9-9347-4904-83f0-30e2be003c98",
   "metadata": {},
   "outputs": [
    {
     "name": "stdout",
     "output_type": "stream",
     "text": [
      "fp_spectra_df contains data located in a range of 1400 nm (visible spectrum of light = 500 nm).\n"
     ]
    }
   ],
   "source": [
    "fp_spectra_df = pd.read_csv(f\"spectra_data{os.path.sep}all_fp_spectra.csv\",index_col=0)\n",
    "print(f\"fp_spectra_df contains data located in a range of {len(fp_spectra_df)} nm (visible spectrum of light = 500 nm).\")\n",
    "avail_fluorophore_spectra_df = pd.read_csv(f\"spectra_data{os.path.sep}avail_fluorophore_spectra.csv\",index_col=0)\n",
    "avail_nuclear_dye_spectra_df = pd.read_csv(f\"spectra_data{os.path.sep}nuclear_dye_spectra.csv\",index_col=0)\n",
    "# LEDs\n",
    "LED_list = [365,440,488, 514,561,594, 640,730]\n",
    "all_LED_data_df = pd.read_csv(f\"spectra_data{os.path.sep}all_LED_data_SynBioLab.csv\",index_col=0)\n",
    "# Dichroic Cubes\n",
    "CFP_YFP_mCherry_A_filter_cube_data = pd.read_csv(f\"spectra_data{os.path.sep}LED-CFP_YFP_mCherry-A-000 Filter Cube (32mm).csv\",index_col=0)\n",
    "DA_FI_TR_Cy5_B_filter_cube_data = pd.read_csv(f\"spectra_data{os.path.sep}LED-DA_FI_TR_Cy5-B Filter Cube (32mm).csv\",index_col=0)\n",
    "dichroic_dic = {'CFP_YFP_mCherry': CFP_YFP_mCherry_A_filter_cube_data, \n",
    "                'DA_FI_TR_Cy5_B' : DA_FI_TR_Cy5_B_filter_cube_data}\n",
    "# Emission Filters\n",
    "em_filter_list = [{'center':435,'width':26}, {'center':475,'width':20},\n",
    "                  {'center':515,'width':30}, {'center':540,'width':21},\n",
    "                  {'center':595,'width':40}, {'center':632,'width':60},\n",
    "                  {'center':705,'width':72}]            "
   ]
  },
  {
   "cell_type": "raw",
   "id": "b5a3b68c-016e-46b9-92c9-4116062b336d",
   "metadata": {},
   "source": [
    "# If you want to add new fluorophore data: Download data from source of your choice, \n",
    "# and use this code to add it to the already available data. Manual merging will almost \n",
    "# certainly create errors as different fluorophores' data are almost never the same size!\n",
    "pd.concat([avail_fluorophore_spectra_df, pd.read_csv(\"FAM.csv\",index_col=0)],axis=1)#.to_csv(f\"spectra_data{os.path.sep}avail_fluorophore_spectra.csv\")"
   ]
  },
  {
   "cell_type": "markdown",
   "id": "18f1766d-f511-4360-b2c4-4bec81b35ee8",
   "metadata": {},
   "source": [
    "# Plot w/ Lists"
   ]
  },
  {
   "cell_type": "code",
   "execution_count": 4,
   "id": "46795d79-30d1-4413-9a39-c7f4336ff532",
   "metadata": {},
   "outputs": [
    {
     "name": "stdout",
     "output_type": "stream",
     "text": [
      " -> Is data available for all fluorophores to investigate? : True\n"
     ]
    }
   ],
   "source": [
    "fp_list = [ # 'mVenus','Superfolder GFP', 'mCerulean'\n",
    "          ]\n",
    "chem_fluorophore_list = ['Cy3','Cy5' # '6-FAM'\n",
    "                         ]\n",
    "nuclear_dye_list = [] # 'DAPI'\n",
    "all_fluorophores = fp_list + chem_fluorophore_list + nuclear_dye_list\n",
    "all_fluorophores_df = pd.concat([fp_spectra_df, avail_fluorophore_spectra_df, avail_nuclear_dye_spectra_df])\n",
    "# Quick check that you have data for all fluorophores you want to investigate\n",
    "result = any( [ (f\"{fluo} ex\" in all_fluorophores_df.columns) for fluo in all_fluorophores] )\n",
    "print(f\" -> Is data available for all fluorophores to investigate? : { result }\")"
   ]
  },
  {
   "cell_type": "code",
   "execution_count": 5,
   "id": "90166396-5d5b-478a-a2e0-8352dd167d4a",
   "metadata": {},
   "outputs": [
    {
     "data": {
      "application/vnd.jupyter.widget-view+json": {
       "model_id": "209c36967263410894ceb4c85177c817",
       "version_major": 2,
       "version_minor": 0
      },
      "text/plain": [
       "interactive(children=(IntSlider(value=3, description='LED_no', max=7), Dropdown(description='dichroic', option…"
      ]
     },
     "metadata": {},
     "output_type": "display_data"
    }
   ],
   "source": [
    "@interact \n",
    "def show_plot(LED_no =(0,len(LED_list)-1),\n",
    "              dichroic = dichroic_dic.keys(),\n",
    "              all_EM = [True, False],\n",
    "              EM_filter = em_filter_list\n",
    "              ):\n",
    "    plt.style.use('default')\n",
    "    fig = plt.figure(figsize=(14,9))\n",
    "    gs = gridspec.GridSpec(2,1,figure=fig)\n",
    "    ax_fluo, ax_dichroic = fig.add_subplot(gs[0,0]), fig.add_subplot(gs[1,0])\n",
    "    fig.suptitle(\"\\nSpectra Viewer by Camillo Moschner\\n\",size=14)\n",
    "    fluorophore_names = ' - '.join([', '.join(fluo) for fluo in [fp_list, chem_fluorophore_list, nuclear_dye_list]])\n",
    "    # Fluorophores\n",
    "    if len(fp_list) != 0:\n",
    "        [(plot_spectrum(ax_fluo, fp_spectra_df, f\"{fluo} ex\", f_type='FP'), plot_spectrum(ax_fluo, fp_spectra_df, f\"{fluo} em\", f_type='FP')) for fluo in fp_list]\n",
    "    if len(chem_fluorophore_list) != 0:\n",
    "        [(plot_spectrum(ax_fluo, avail_fluorophore_spectra_df, f\"{fluo} ex\", f_type='s.c.'), plot_spectrum(ax_fluo, avail_fluorophore_spectra_df, f\"{fluo} em\", f_type='s.c.')) for fluo in chem_fluorophore_list]\n",
    "    if len(nuclear_dye_list) != 0:\n",
    "        [(plot_spectrum(ax_fluo, avail_nuclear_dye_spectra_df, f\"{fluo} EX\", f_type='s.c.'), plot_spectrum(ax_fluo, avail_nuclear_dye_spectra_df, f\"{fluo} EM\", f_type='s.c.')) for fluo in nuclear_dye_list]\n",
    "    # LEDs\n",
    "    [ax_fluo.vlines(LED_lambda, 0,1,linewidth=1.5,color= wavelength_to_rgb(LED_lambda, gamma=1.5)) for LED_lambda in LED_list]\n",
    "    [ax_fluo.vlines(wavelength, 1.05,1.14,linewidth=3,color= wavelength_to_rgb(wavelength, gamma=0.8)) for wavelength in range(300,800)]\n",
    "    ax_fluo.vlines(LED_list[LED_no], 0,1,linewidth=4.5,color= wavelength_to_rgb(LED_list[LED_no], gamma=0.9))\n",
    "    # Dichroic\n",
    "    [ax_dichroic.plot(dichroic_dic[dichroic][spectrum].index, dichroic_dic[dichroic][spectrum], \n",
    "                     '-', color = c_colour, alpha=0.5,linewidth=2, markersize=12,label=str(spectrum)) \n",
    "     for (spectrum,c_colour) in [('excitation','red'), ('dichroic','green'),('emission','blue')]]\n",
    "    # Emission Filters\n",
    "    if all_EM:\n",
    "        for em_data in em_filter_list:\n",
    "            em_filter_start = em_data['center']-em_data['width']/2\n",
    "            em_filter_end = em_data['center']+em_data['width']/2\n",
    "            plt.rcParams[\"hatch.linewidth\"] = 4\n",
    "            em_filter_patch = patches.Rectangle((em_filter_start, 0),em_data['width'], 1, \n",
    "                                                linewidth=1, edgecolor='black', alpha = 0.5,label=f\"{em_data['center']} EM filter\",\n",
    "                                                facecolor=wavelength_to_rgb(em_data['center']),hatch=r\"//\")\n",
    "            ax_fluo.add_patch(em_filter_patch)\n",
    "    else:\n",
    "        em_filter_start = EM_filter['center']-EM_filter['width']/2\n",
    "        em_filter_end = EM_filter['center']+EM_filter['width']/2\n",
    "        plt.rcParams[\"hatch.linewidth\"] = 4\n",
    "        em_filter_patch = patches.Rectangle((em_filter_start, 0),EM_filter['width'], 1, \n",
    "                                            linewidth=1, edgecolor='black', alpha = 0.5,label=f\"{EM_filter['center']} EM filter\",\n",
    "                                            facecolor=wavelength_to_rgb(EM_filter['center']),hatch=r\"//\")\n",
    "        ax_fluo.add_patch(em_filter_patch)\n",
    "    # Nikon-given Lumencore LED spectra:\n",
    "    for column_name in all_LED_data_df.columns:\n",
    "        current_LED_data = all_LED_data_df.loc[pd.notna(all_LED_data_df[column_name])][column_name]\n",
    "        normalised_LED_data = current_LED_data/all_LED_data_df.describe().loc['max'].max()\n",
    "        # sns.lineplot(current_LED_data.index, \n",
    "        #              normalised_LED_data,\n",
    "        #              ax=ax_dichroic,label=column_name, \n",
    "        #              linewidth=1,color= wavelength_to_rgb(current_LED_data.idxmax(), gamma=0.8))\n",
    "        plt.fill_between(current_LED_data.index, normalised_LED_data,color= wavelength_to_rgb(current_LED_data.idxmax(), gamma=0.4))\n",
    "\n",
    "    ax_fluo.legend(loc = 'center right'), ax_dichroic.legend(loc = 'center right')\n",
    "    # subplot modification\n",
    "    ax_fluo.set_title(f\"Fluorophores: {fluorophore_names}\\n| LED: {LED_list[LED_no]} | Dichroic: {dichroic} | EM Filter: {EM_filter} | \",size=12)\n",
    "    #ax_fluo.set_ylabel('Intensity'), ax_dichroic.set_ylabel('Transmittance')\n",
    "    [(subplot.set_ylim(0,1.15),subplot.set_xlim(300,801),\n",
    "      subplot.set_xticks(np.arange(300, 800+1, 25)), #subplot.set_xlabel('Wavelength (nm)'),\n",
    "      subplot.spines['right'].set_visible(False), subplot.spines['top'].set_visible(False),\n",
    "      subplot.grid(color='grey', linestyle='--', linewidth=0.5, alpha=0.25)) for subplot in [ax_fluo,ax_dichroic]]\n",
    "    ax_dichroic.set_xlabel('Wavelength (nm)')\n",
    "    #plt.savefig(f\"cam_spectra_viewer.pdf\", dpi=300)\n",
    "    plt.show(); \n",
    "    "
   ]
  },
  {
   "cell_type": "code",
   "execution_count": null,
   "id": "b713bfec-827a-40e1-b6c6-aa0e698582f9",
   "metadata": {},
   "outputs": [],
   "source": []
  }
 ],
 "metadata": {
  "kernelspec": {
   "display_name": "Python 3 (ipykernel)",
   "language": "python",
   "name": "python3"
  },
  "language_info": {
   "codemirror_mode": {
    "name": "ipython",
    "version": 3
   },
   "file_extension": ".py",
   "mimetype": "text/x-python",
   "name": "python",
   "nbconvert_exporter": "python",
   "pygments_lexer": "ipython3",
   "version": "3.9.15"
  }
 },
 "nbformat": 4,
 "nbformat_minor": 5
}
